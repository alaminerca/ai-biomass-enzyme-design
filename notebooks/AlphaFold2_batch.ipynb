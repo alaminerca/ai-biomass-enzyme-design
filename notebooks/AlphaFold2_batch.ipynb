{
  "nbformat": 4,
  "nbformat_minor": 0,
  "metadata": {
    "accelerator": "GPU",
    "colab": {
      "name": "AlphaFold2_batch.ipynb",
      "provenance": [],
      "machine_shape": "hm",
      "gpuType": "A100"
    },
    "kernelspec": {
      "name": "python3",
      "display_name": "Python 3"
    },
    "language_info": {
      "name": "python"
    }
  },
  "cells": [
    {
      "cell_type": "markdown",
      "metadata": {
        "id": "G4yBrceuFbf3"
      },
      "source": [
        "#ColabFold v1.5.5: AlphaFold2 w/ MMseqs2 BATCH\n",
        "\n",
        "<img src=\"https://raw.githubusercontent.com/sokrypton/ColabFold/main/.github/ColabFold_Marv_Logo_Small.png\" height=\"256\" align=\"right\" style=\"height:256px\">\n",
        "\n",
        "Easy to use AlphaFold2 protein structure [(Jumper et al. 2021)](https://www.nature.com/articles/s41586-021-03819-2) and complex [(Evans et al. 2021)](https://www.biorxiv.org/content/10.1101/2021.10.04.463034v1) prediction using multiple sequence alignments generated through MMseqs2. For details, refer to our manuscript:\n",
        "\n",
        "[Mirdita M, Schütze K, Moriwaki Y, Heo L, Ovchinnikov S, Steinegger M. ColabFold: Making protein folding accessible to all.\n",
        "*Nature Methods*, 2022](https://www.nature.com/articles/s41592-022-01488-1)\n",
        "\n",
        "**Usage**\n",
        "\n",
        "`input_dir` directory with only fasta files or MSAs stored in Google Drive. MSAs need to be A3M formatted and have an `.a3m` extention. For MSAs MMseqs2 will not be called.\n",
        "\n",
        "`result_dir` results will be written to the result directory in Google Drive\n",
        "\n",
        "Old versions: [v1.4](https://colab.research.google.com/github/sokrypton/ColabFold/blob/v1.4.0/batch/AlphaFold2_batch.ipynb), [v1.5.1](https://colab.research.google.com/github/sokrypton/ColabFold/blob/v1.5.1/batch/AlphaFold2_batch.ipynb), [v1.5.2](https://colab.research.google.com/github/sokrypton/ColabFold/blob/v1.5.2/batch/AlphaFold2_batch.ipynb), [v1.5.3-patch](https://colab.research.google.com/github/sokrypton/ColabFold/blob/56c72044c7d51a311ca99b953a71e552fdc042e1/batch/AlphaFold2_batch.ipynb)\n",
        "\n",
        "<strong>For more details, see <a href=\"#Instructions\">bottom</a> of the notebook and checkout the [ColabFold GitHub](https://github.com/sokrypton/ColabFold). </strong>\n",
        "\n",
        "-----------\n",
        "\n",
        "### News\n",
        "- <b><font color='green'>2023/07/31: The ColabFold MSA server is back to normal. It was using older DB (UniRef30 2202/PDB70 220313) from 27th ~8:30 AM CEST to 31st ~11:10 AM CEST.</font></b>\n",
        "- <b><font color='green'>2023/06/12: New databases! UniRef30 updated to 2023_02 and PDB to 230517. We now use PDB100 instead of PDB70 (see notes in the [main](https://colabfold.com) notebook).</font></b>\n",
        "- <b><font color='green'>2023/06/12: We introduced a new default pairing strategy: Previously, for multimer predictions with more than 2 chains, we only pair if all sequences taxonomically match (\"complete\" pairing). The new default \"greedy\" strategy pairs any taxonomically matching subsets.</font></b>"
      ]
    },
    {
      "cell_type": "code",
      "metadata": {
        "id": "AwvIWN3HDyUJ",
        "cellView": "form",
        "colab": {
          "base_uri": "https://localhost:8080/"
        },
        "outputId": "64ef1bee-0444-41e8-8152-96c496ee1d2f"
      },
      "source": [
        "#@title Mount google drive\n",
        "from google.colab import drive\n",
        "drive.mount('/content/drive')\n",
        "from sys import version_info\n",
        "python_version = f\"{version_info.major}.{version_info.minor}\""
      ],
      "execution_count": 1,
      "outputs": [
        {
          "output_type": "stream",
          "name": "stdout",
          "text": [
            "Mounted at /content/drive\n"
          ]
        }
      ]
    },
    {
      "cell_type": "code",
      "metadata": {
        "id": "kOblAo-xetgx",
        "cellView": "form"
      },
      "source": [
        "#@title Input protein sequence, then hit `Runtime` -> `Run all`\n",
        "\n",
        "input_dir = '/content/drive/MyDrive/input_fasta' #@param {type:\"string\"}\n",
        "result_dir = '/content/drive/MyDrive/result' #@param {type:\"string\"}\n",
        "\n",
        "# number of models to use\n",
        "#@markdown ---\n",
        "#@markdown ### Advanced settings\n",
        "msa_mode = \"MMseqs2 (UniRef only)\" #@param [\"MMseqs2 (UniRef+Environmental)\", \"MMseqs2 (UniRef only)\",\"single_sequence\",\"custom\"]\n",
        "num_models = 1 #@param [1,2,3,4,5] {type:\"raw\"}\n",
        "num_recycles = 3 #@param [1,3,6,12,24,48] {type:\"raw\"}\n",
        "stop_at_score = 100 #@param {type:\"string\"}\n",
        "#@markdown - early stop computing models once score > threshold (avg. plddt for \"structures\" and ptmscore for \"complexes\")\n",
        "use_custom_msa = False\n",
        "num_relax = 0 #@param [0, 1, 5] {type:\"raw\"}\n",
        "use_amber = num_relax > 0\n",
        "relax_max_iterations = 200 #@param [0,200,2000] {type:\"raw\"}\n",
        "use_templates = False #@param {type:\"boolean\"}\n",
        "do_not_overwrite_results = True #@param {type:\"boolean\"}\n",
        "zip_results = True #@param {type:\"boolean\"}"
      ],
      "execution_count": 2,
      "outputs": []
    },
    {
      "cell_type": "code",
      "metadata": {
        "id": "iccGdbe_Pmt9",
        "cellView": "form",
        "colab": {
          "base_uri": "https://localhost:8080/"
        },
        "outputId": "4f8950b6-b790-47bf-e280-67dec3b85eab"
      },
      "source": [
        "#@title Install dependencies\n",
        "%%bash -s $use_amber $use_templates $python_version\n",
        "\n",
        "set -e\n",
        "\n",
        "USE_AMBER=$1\n",
        "USE_TEMPLATES=$2\n",
        "PYTHON_VERSION=$3\n",
        "\n",
        "if [ ! -f COLABFOLD_READY ]; then\n",
        "  # install dependencies\n",
        "  # We have to use \"--no-warn-conflicts\" because colab already has a lot preinstalled with requirements different to ours\n",
        "  pip install -q --no-warn-conflicts \"colabfold[alphafold-minus-jax] @ git+https://github.com/sokrypton/ColabFold\"\n",
        "  if [ -n \"${TPU_NAME}\" ]; then\n",
        "    pip install -q --no-warn-conflicts -U dm-haiku==0.0.10 jax==0.3.25\n",
        "  fi\n",
        "  ln -s /usr/local/lib/python3.*/dist-packages/colabfold colabfold\n",
        "  ln -s /usr/local/lib/python3.*/dist-packages/alphafold alphafold\n",
        "  touch COLABFOLD_READY\n",
        "fi\n",
        "\n",
        "# Download params (~1min)\n",
        "python -m colabfold.download\n",
        "\n",
        "# setup conda\n",
        "if [ ${USE_AMBER} == \"True\" ] || [ ${USE_TEMPLATES} == \"True\" ]; then\n",
        "  if [ ! -f CONDA_READY ]; then\n",
        "    wget -qnc https://repo.anaconda.com/miniconda/Miniconda3-latest-Linux-x86_64.sh\n",
        "    bash Miniconda3-latest-Linux-x86_64.sh -bfp /usr/local 2>&1 1>/dev/null\n",
        "    rm Miniconda3-latest-Linux-x86_64.sh\n",
        "    conda config --set auto_update_conda false\n",
        "    touch CONDA_READY\n",
        "  fi\n",
        "fi\n",
        "# setup template search\n",
        "if [ ${USE_TEMPLATES} == \"True\" ] && [ ! -f HH_READY ]; then\n",
        "  conda install -y -q -c conda-forge -c bioconda kalign2=2.04 hhsuite=3.3.0 python=\"${PYTHON_VERSION}\" 2>&1 1>/dev/null\n",
        "  touch HH_READY\n",
        "fi\n",
        "# setup openmm for amber refinement\n",
        "if [ ${USE_AMBER} == \"True\" ] && [ ! -f AMBER_READY ]; then\n",
        "  conda install -y -q -c conda-forge openmm=8.2.0 python=\"${PYTHON_VERSION}\" pdbfixer 2>&1 1>/dev/null\n",
        "  touch AMBER_READY\n",
        "fi"
      ],
      "execution_count": 3,
      "outputs": [
        {
          "output_type": "stream",
          "name": "stdout",
          "text": [
            "   ━━━━━━━━━━━━━━━━━━━━━━━━━━━━━━━━━━━━━━━━ 248.2/248.2 kB 7.4 MB/s eta 0:00:00\n",
            "   ━━━━━━━━━━━━━━━━━━━━━━━━━━━━━━━━━━━━━━━━ 3.3/3.3 MB 60.3 MB/s eta 0:00:00\n",
            "   ━━━━━━━━━━━━━━━━━━━━━━━━━━━━━━━━━━━━━━━━ 373.9/373.9 kB 29.3 MB/s eta 0:00:00\n",
            "   ━━━━━━━━━━━━━━━━━━━━━━━━━━━━━━━━━━━━━━━━ 251.8/251.8 MB 9.9 MB/s eta 0:00:00\n",
            "   ━━━━━━━━━━━━━━━━━━━━━━━━━━━━━━━━━━━━━━━━ 4.7/4.7 MB 100.4 MB/s eta 0:00:00\n",
            "   ━━━━━━━━━━━━━━━━━━━━━━━━━━━━━━━━━━━━━━━━ 5.5/5.5 MB 89.7 MB/s eta 0:00:00\n",
            "   ━━━━━━━━━━━━━━━━━━━━━━━━━━━━━━━━━━━━━━━━ 76.7/76.7 kB 7.0 MB/s eta 0:00:00\n"
          ]
        },
        {
          "output_type": "stream",
          "name": "stderr",
          "text": [
            "\rDownloading alphafold2_multimer_v3 weights to /root/.cache/colabfold:   0%|          | 0/4099624960 [00:00<?, ?it/s]\rDownloading alphafold2_multimer_v3 weights to /root/.cache/colabfold:   0%|          | 19.0M/3.82G [00:00<00:20, 199MB/s]\rDownloading alphafold2_multimer_v3 weights to /root/.cache/colabfold:   1%|          | 48.5M/3.82G [00:00<00:15, 264MB/s]\rDownloading alphafold2_multimer_v3 weights to /root/.cache/colabfold:   2%|▏         | 75.6M/3.82G [00:00<00:14, 273MB/s]\rDownloading alphafold2_multimer_v3 weights to /root/.cache/colabfold:   3%|▎         | 104M/3.82G [00:00<00:14, 283MB/s] \rDownloading alphafold2_multimer_v3 weights to /root/.cache/colabfold:   3%|▎         | 133M/3.82G [00:00<00:13, 289MB/s]\rDownloading alphafold2_multimer_v3 weights to /root/.cache/colabfold:   4%|▍         | 161M/3.82G [00:00<00:13, 292MB/s]\rDownloading alphafold2_multimer_v3 weights to /root/.cache/colabfold:   5%|▍         | 189M/3.82G [00:00<00:13, 288MB/s]\rDownloading alphafold2_multimer_v3 weights to /root/.cache/colabfold:   6%|▌         | 218M/3.82G [00:00<00:13, 292MB/s]\rDownloading alphafold2_multimer_v3 weights to /root/.cache/colabfold:   6%|▋         | 247M/3.82G [00:00<00:12, 296MB/s]\rDownloading alphafold2_multimer_v3 weights to /root/.cache/colabfold:   7%|▋         | 275M/3.82G [00:01<00:12, 294MB/s]\rDownloading alphafold2_multimer_v3 weights to /root/.cache/colabfold:   8%|▊         | 304M/3.82G [00:01<00:12, 296MB/s]\rDownloading alphafold2_multimer_v3 weights to /root/.cache/colabfold:   8%|▊         | 332M/3.82G [00:01<00:12, 290MB/s]\rDownloading alphafold2_multimer_v3 weights to /root/.cache/colabfold:   9%|▉         | 360M/3.82G [00:01<00:12, 292MB/s]\rDownloading alphafold2_multimer_v3 weights to /root/.cache/colabfold:  10%|▉         | 388M/3.82G [00:01<00:15, 245MB/s]\rDownloading alphafold2_multimer_v3 weights to /root/.cache/colabfold:  11%|█         | 413M/3.82G [00:01<00:14, 245MB/s]\rDownloading alphafold2_multimer_v3 weights to /root/.cache/colabfold:  11%|█         | 437M/3.82G [00:01<00:14, 246MB/s]\rDownloading alphafold2_multimer_v3 weights to /root/.cache/colabfold:  12%|█▏        | 464M/3.82G [00:01<00:14, 256MB/s]\rDownloading alphafold2_multimer_v3 weights to /root/.cache/colabfold:  13%|█▎        | 494M/3.82G [00:01<00:13, 272MB/s]\rDownloading alphafold2_multimer_v3 weights to /root/.cache/colabfold:  13%|█▎        | 522M/3.82G [00:01<00:12, 280MB/s]\rDownloading alphafold2_multimer_v3 weights to /root/.cache/colabfold:  14%|█▍        | 549M/3.82G [00:02<00:12, 278MB/s]\rDownloading alphafold2_multimer_v3 weights to /root/.cache/colabfold:  15%|█▍        | 576M/3.82G [00:02<00:12, 277MB/s]\rDownloading alphafold2_multimer_v3 weights to /root/.cache/colabfold:  15%|█▌        | 604M/3.82G [00:02<00:12, 281MB/s]\rDownloading alphafold2_multimer_v3 weights to /root/.cache/colabfold:  16%|█▌        | 631M/3.82G [00:02<00:12, 273MB/s]\rDownloading alphafold2_multimer_v3 weights to /root/.cache/colabfold:  17%|█▋        | 658M/3.82G [00:02<00:12, 276MB/s]\rDownloading alphafold2_multimer_v3 weights to /root/.cache/colabfold:  18%|█▊        | 685M/3.82G [00:02<00:12, 278MB/s]\rDownloading alphafold2_multimer_v3 weights to /root/.cache/colabfold:  18%|█▊        | 712M/3.82G [00:02<00:12, 274MB/s]\rDownloading alphafold2_multimer_v3 weights to /root/.cache/colabfold:  19%|█▉        | 739M/3.82G [00:02<00:11, 278MB/s]\rDownloading alphafold2_multimer_v3 weights to /root/.cache/colabfold:  20%|█▉        | 767M/3.82G [00:02<00:11, 283MB/s]\rDownloading alphafold2_multimer_v3 weights to /root/.cache/colabfold:  20%|██        | 794M/3.82G [00:03<00:11, 283MB/s]\rDownloading alphafold2_multimer_v3 weights to /root/.cache/colabfold:  21%|██        | 821M/3.82G [00:03<00:11, 280MB/s]\rDownloading alphafold2_multimer_v3 weights to /root/.cache/colabfold:  22%|██▏       | 848M/3.82G [00:03<00:11, 281MB/s]\rDownloading alphafold2_multimer_v3 weights to /root/.cache/colabfold:  22%|██▏       | 876M/3.82G [00:03<00:11, 283MB/s]\rDownloading alphafold2_multimer_v3 weights to /root/.cache/colabfold:  23%|██▎       | 903M/3.82G [00:03<00:11, 284MB/s]\rDownloading alphafold2_multimer_v3 weights to /root/.cache/colabfold:  24%|██▍       | 930M/3.82G [00:03<00:11, 283MB/s]\rDownloading alphafold2_multimer_v3 weights to /root/.cache/colabfold:  25%|██▍       | 961M/3.82G [00:03<00:10, 293MB/s]\rDownloading alphafold2_multimer_v3 weights to /root/.cache/colabfold:  25%|██▌       | 990M/3.82G [00:03<00:10, 296MB/s]\rDownloading alphafold2_multimer_v3 weights to /root/.cache/colabfold:  26%|██▌       | 0.99G/3.82G [00:03<00:10, 295MB/s]\rDownloading alphafold2_multimer_v3 weights to /root/.cache/colabfold:  27%|██▋       | 1.02G/3.82G [00:03<00:10, 292MB/s]\rDownloading alphafold2_multimer_v3 weights to /root/.cache/colabfold:  27%|██▋       | 1.05G/3.82G [00:04<00:10, 290MB/s]\rDownloading alphafold2_multimer_v3 weights to /root/.cache/colabfold:  28%|██▊       | 1.08G/3.82G [00:04<00:10, 293MB/s]\rDownloading alphafold2_multimer_v3 weights to /root/.cache/colabfold:  29%|██▉       | 1.10G/3.82G [00:04<00:09, 297MB/s]\rDownloading alphafold2_multimer_v3 weights to /root/.cache/colabfold:  30%|██▉       | 1.13G/3.82G [00:04<00:09, 295MB/s]\rDownloading alphafold2_multimer_v3 weights to /root/.cache/colabfold:  30%|███       | 1.16G/3.82G [00:04<00:10, 284MB/s]\rDownloading alphafold2_multimer_v3 weights to /root/.cache/colabfold:  31%|███       | 1.19G/3.82G [00:04<00:09, 283MB/s]\rDownloading alphafold2_multimer_v3 weights to /root/.cache/colabfold:  32%|███▏      | 1.21G/3.82G [00:04<00:09, 284MB/s]\rDownloading alphafold2_multimer_v3 weights to /root/.cache/colabfold:  32%|███▏      | 1.24G/3.82G [00:04<00:09, 286MB/s]\rDownloading alphafold2_multimer_v3 weights to /root/.cache/colabfold:  33%|███▎      | 1.27G/3.82G [00:04<00:09, 287MB/s]\rDownloading alphafold2_multimer_v3 weights to /root/.cache/colabfold:  34%|███▍      | 1.30G/3.82G [00:04<00:09, 292MB/s]\rDownloading alphafold2_multimer_v3 weights to /root/.cache/colabfold:  35%|███▍      | 1.32G/3.82G [00:05<00:09, 289MB/s]\rDownloading alphafold2_multimer_v3 weights to /root/.cache/colabfold:  35%|███▌      | 1.35G/3.82G [00:05<00:09, 286MB/s]\rDownloading alphafold2_multimer_v3 weights to /root/.cache/colabfold:  36%|███▌      | 1.38G/3.82G [00:05<00:09, 287MB/s]\rDownloading alphafold2_multimer_v3 weights to /root/.cache/colabfold:  37%|███▋      | 1.40G/3.82G [00:05<00:08, 289MB/s]\rDownloading alphafold2_multimer_v3 weights to /root/.cache/colabfold:  38%|███▊      | 1.43G/3.82G [00:05<00:08, 291MB/s]\rDownloading alphafold2_multimer_v3 weights to /root/.cache/colabfold:  38%|███▊      | 1.46G/3.82G [00:05<00:08, 291MB/s]\rDownloading alphafold2_multimer_v3 weights to /root/.cache/colabfold:  39%|███▉      | 1.49G/3.82G [00:05<00:08, 291MB/s]\rDownloading alphafold2_multimer_v3 weights to /root/.cache/colabfold:  40%|███▉      | 1.51G/3.82G [00:05<00:08, 288MB/s]\rDownloading alphafold2_multimer_v3 weights to /root/.cache/colabfold:  40%|████      | 1.54G/3.82G [00:05<00:08, 295MB/s]\rDownloading alphafold2_multimer_v3 weights to /root/.cache/colabfold:  41%|████      | 1.57G/3.82G [00:05<00:08, 296MB/s]\rDownloading alphafold2_multimer_v3 weights to /root/.cache/colabfold:  42%|████▏     | 1.60G/3.82G [00:06<00:07, 303MB/s]\rDownloading alphafold2_multimer_v3 weights to /root/.cache/colabfold:  43%|████▎     | 1.63G/3.82G [00:06<00:07, 305MB/s]\rDownloading alphafold2_multimer_v3 weights to /root/.cache/colabfold:  43%|████▎     | 1.66G/3.82G [00:06<00:07, 304MB/s]\rDownloading alphafold2_multimer_v3 weights to /root/.cache/colabfold:  44%|████▍     | 1.69G/3.82G [00:06<00:07, 299MB/s]\rDownloading alphafold2_multimer_v3 weights to /root/.cache/colabfold:  45%|████▍     | 1.71G/3.82G [00:06<00:07, 296MB/s]\rDownloading alphafold2_multimer_v3 weights to /root/.cache/colabfold:  46%|████▌     | 1.74G/3.82G [00:06<00:07, 292MB/s]\rDownloading alphafold2_multimer_v3 weights to /root/.cache/colabfold:  46%|████▋     | 1.77G/3.82G [00:06<00:07, 289MB/s]\rDownloading alphafold2_multimer_v3 weights to /root/.cache/colabfold:  47%|████▋     | 1.79G/3.82G [00:06<00:07, 282MB/s]\rDownloading alphafold2_multimer_v3 weights to /root/.cache/colabfold:  48%|████▊     | 1.82G/3.82G [00:06<00:07, 281MB/s]\rDownloading alphafold2_multimer_v3 weights to /root/.cache/colabfold:  48%|████▊     | 1.85G/3.82G [00:06<00:07, 281MB/s]\rDownloading alphafold2_multimer_v3 weights to /root/.cache/colabfold:  49%|████▉     | 1.88G/3.82G [00:07<00:07, 289MB/s]\rDownloading alphafold2_multimer_v3 weights to /root/.cache/colabfold:  50%|████▉     | 1.91G/3.82G [00:07<00:06, 296MB/s]\rDownloading alphafold2_multimer_v3 weights to /root/.cache/colabfold:  51%|█████     | 1.93G/3.82G [00:07<00:08, 250MB/s]\rDownloading alphafold2_multimer_v3 weights to /root/.cache/colabfold:  51%|█████▏    | 1.96G/3.82G [00:07<00:08, 249MB/s]\rDownloading alphafold2_multimer_v3 weights to /root/.cache/colabfold:  52%|█████▏    | 1.98G/3.82G [00:07<00:07, 255MB/s]\rDownloading alphafold2_multimer_v3 weights to /root/.cache/colabfold:  53%|█████▎    | 2.01G/3.82G [00:07<00:07, 258MB/s]\rDownloading alphafold2_multimer_v3 weights to /root/.cache/colabfold:  53%|█████▎    | 2.03G/3.82G [00:07<00:07, 259MB/s]\rDownloading alphafold2_multimer_v3 weights to /root/.cache/colabfold:  54%|█████▍    | 2.06G/3.82G [00:07<00:07, 261MB/s]\rDownloading alphafold2_multimer_v3 weights to /root/.cache/colabfold:  55%|█████▍    | 2.08G/3.82G [00:08<00:08, 227MB/s]\rDownloading alphafold2_multimer_v3 weights to /root/.cache/colabfold:  55%|█████▌    | 2.11G/3.82G [00:08<00:07, 236MB/s]\rDownloading alphafold2_multimer_v3 weights to /root/.cache/colabfold:  56%|█████▌    | 2.13G/3.82G [00:08<00:07, 245MB/s]\rDownloading alphafold2_multimer_v3 weights to /root/.cache/colabfold:  56%|█████▋    | 2.16G/3.82G [00:08<00:07, 251MB/s]\rDownloading alphafold2_multimer_v3 weights to /root/.cache/colabfold:  57%|█████▋    | 2.18G/3.82G [00:08<00:06, 255MB/s]\rDownloading alphafold2_multimer_v3 weights to /root/.cache/colabfold:  58%|█████▊    | 2.20G/3.82G [00:08<00:06, 257MB/s]\rDownloading alphafold2_multimer_v3 weights to /root/.cache/colabfold:  58%|█████▊    | 2.23G/3.82G [00:08<00:06, 258MB/s]\rDownloading alphafold2_multimer_v3 weights to /root/.cache/colabfold:  59%|█████▉    | 2.25G/3.82G [00:08<00:06, 260MB/s]\rDownloading alphafold2_multimer_v3 weights to /root/.cache/colabfold:  60%|█████▉    | 2.28G/3.82G [00:08<00:06, 262MB/s]\rDownloading alphafold2_multimer_v3 weights to /root/.cache/colabfold:  60%|██████    | 2.30G/3.82G [00:08<00:06, 261MB/s]\rDownloading alphafold2_multimer_v3 weights to /root/.cache/colabfold:  61%|██████    | 2.33G/3.82G [00:09<00:06, 257MB/s]\rDownloading alphafold2_multimer_v3 weights to /root/.cache/colabfold:  62%|██████▏   | 2.35G/3.82G [00:09<00:06, 256MB/s]\rDownloading alphafold2_multimer_v3 weights to /root/.cache/colabfold:  62%|██████▏   | 2.38G/3.82G [00:09<00:05, 260MB/s]\rDownloading alphafold2_multimer_v3 weights to /root/.cache/colabfold:  63%|██████▎   | 2.40G/3.82G [00:09<00:05, 260MB/s]\rDownloading alphafold2_multimer_v3 weights to /root/.cache/colabfold:  64%|██████▎   | 2.42G/3.82G [00:09<00:05, 252MB/s]\rDownloading alphafold2_multimer_v3 weights to /root/.cache/colabfold:  64%|██████▍   | 2.45G/3.82G [00:09<00:05, 245MB/s]\rDownloading alphafold2_multimer_v3 weights to /root/.cache/colabfold:  65%|██████▍   | 2.47G/3.82G [00:09<00:05, 245MB/s]\rDownloading alphafold2_multimer_v3 weights to /root/.cache/colabfold:  65%|██████▌   | 2.50G/3.82G [00:09<00:05, 249MB/s]\rDownloading alphafold2_multimer_v3 weights to /root/.cache/colabfold:  66%|██████▌   | 2.52G/3.82G [00:09<00:05, 249MB/s]\rDownloading alphafold2_multimer_v3 weights to /root/.cache/colabfold:  67%|██████▋   | 2.54G/3.82G [00:09<00:05, 247MB/s]\rDownloading alphafold2_multimer_v3 weights to /root/.cache/colabfold:  67%|██████▋   | 2.56G/3.82G [00:10<00:05, 248MB/s]\rDownloading alphafold2_multimer_v3 weights to /root/.cache/colabfold:  68%|██████▊   | 2.59G/3.82G [00:10<00:05, 251MB/s]\rDownloading alphafold2_multimer_v3 weights to /root/.cache/colabfold:  68%|██████▊   | 2.61G/3.82G [00:10<00:05, 254MB/s]\rDownloading alphafold2_multimer_v3 weights to /root/.cache/colabfold:  69%|██████▉   | 2.64G/3.82G [00:10<00:04, 257MB/s]\rDownloading alphafold2_multimer_v3 weights to /root/.cache/colabfold:  70%|██████▉   | 2.66G/3.82G [00:10<00:04, 266MB/s]\rDownloading alphafold2_multimer_v3 weights to /root/.cache/colabfold:  70%|███████   | 2.69G/3.82G [00:10<00:04, 274MB/s]\rDownloading alphafold2_multimer_v3 weights to /root/.cache/colabfold:  71%|███████   | 2.72G/3.82G [00:10<00:04, 277MB/s]\rDownloading alphafold2_multimer_v3 weights to /root/.cache/colabfold:  72%|███████▏  | 2.74G/3.82G [00:10<00:04, 279MB/s]\rDownloading alphafold2_multimer_v3 weights to /root/.cache/colabfold:  73%|███████▎  | 2.77G/3.82G [00:10<00:03, 283MB/s]\rDownloading alphafold2_multimer_v3 weights to /root/.cache/colabfold:  73%|███████▎  | 2.80G/3.82G [00:10<00:03, 277MB/s]\rDownloading alphafold2_multimer_v3 weights to /root/.cache/colabfold:  74%|███████▍  | 2.82G/3.82G [00:11<00:03, 279MB/s]\rDownloading alphafold2_multimer_v3 weights to /root/.cache/colabfold:  75%|███████▍  | 2.85G/3.82G [00:11<00:03, 281MB/s]\rDownloading alphafold2_multimer_v3 weights to /root/.cache/colabfold:  75%|███████▌  | 2.88G/3.82G [00:11<00:03, 282MB/s]\rDownloading alphafold2_multimer_v3 weights to /root/.cache/colabfold:  76%|███████▌  | 2.91G/3.82G [00:11<00:03, 287MB/s]\rDownloading alphafold2_multimer_v3 weights to /root/.cache/colabfold:  77%|███████▋  | 2.93G/3.82G [00:11<00:03, 290MB/s]\rDownloading alphafold2_multimer_v3 weights to /root/.cache/colabfold:  78%|███████▊  | 2.96G/3.82G [00:11<00:03, 293MB/s]\rDownloading alphafold2_multimer_v3 weights to /root/.cache/colabfold:  78%|███████▊  | 2.99G/3.82G [00:11<00:03, 274MB/s]\rDownloading alphafold2_multimer_v3 weights to /root/.cache/colabfold:  79%|███████▉  | 3.01G/3.82G [00:11<00:03, 275MB/s]\rDownloading alphafold2_multimer_v3 weights to /root/.cache/colabfold:  80%|███████▉  | 3.04G/3.82G [00:11<00:03, 277MB/s]\rDownloading alphafold2_multimer_v3 weights to /root/.cache/colabfold:  80%|████████  | 3.07G/3.82G [00:11<00:02, 282MB/s]\rDownloading alphafold2_multimer_v3 weights to /root/.cache/colabfold:  81%|████████  | 3.09G/3.82G [00:12<00:02, 285MB/s]\rDownloading alphafold2_multimer_v3 weights to /root/.cache/colabfold:  82%|████████▏ | 3.12G/3.82G [00:12<00:02, 286MB/s]\rDownloading alphafold2_multimer_v3 weights to /root/.cache/colabfold:  82%|████████▏ | 3.15G/3.82G [00:12<00:02, 289MB/s]\rDownloading alphafold2_multimer_v3 weights to /root/.cache/colabfold:  83%|████████▎ | 3.18G/3.82G [00:12<00:02, 289MB/s]\rDownloading alphafold2_multimer_v3 weights to /root/.cache/colabfold:  84%|████████▍ | 3.20G/3.82G [00:12<00:02, 281MB/s]\rDownloading alphafold2_multimer_v3 weights to /root/.cache/colabfold:  85%|████████▍ | 3.23G/3.82G [00:12<00:02, 280MB/s]\rDownloading alphafold2_multimer_v3 weights to /root/.cache/colabfold:  85%|████████▌ | 3.26G/3.82G [00:12<00:02, 283MB/s]\rDownloading alphafold2_multimer_v3 weights to /root/.cache/colabfold:  86%|████████▌ | 3.28G/3.82G [00:12<00:01, 290MB/s]\rDownloading alphafold2_multimer_v3 weights to /root/.cache/colabfold:  87%|████████▋ | 3.31G/3.82G [00:12<00:01, 298MB/s]\rDownloading alphafold2_multimer_v3 weights to /root/.cache/colabfold:  88%|████████▊ | 3.35G/3.82G [00:12<00:01, 308MB/s]\rDownloading alphafold2_multimer_v3 weights to /root/.cache/colabfold:  88%|████████▊ | 3.38G/3.82G [00:13<00:01, 311MB/s]\rDownloading alphafold2_multimer_v3 weights to /root/.cache/colabfold:  89%|████████▉ | 3.40G/3.82G [00:13<00:01, 309MB/s]\rDownloading alphafold2_multimer_v3 weights to /root/.cache/colabfold:  90%|████████▉ | 3.43G/3.82G [00:13<00:01, 308MB/s]\rDownloading alphafold2_multimer_v3 weights to /root/.cache/colabfold:  91%|█████████ | 3.46G/3.82G [00:13<00:01, 302MB/s]\rDownloading alphafold2_multimer_v3 weights to /root/.cache/colabfold:  91%|█████████▏| 3.49G/3.82G [00:13<00:01, 304MB/s]\rDownloading alphafold2_multimer_v3 weights to /root/.cache/colabfold:  92%|█████████▏| 3.52G/3.82G [00:13<00:01, 301MB/s]\rDownloading alphafold2_multimer_v3 weights to /root/.cache/colabfold:  93%|█████████▎| 3.55G/3.82G [00:13<00:00, 303MB/s]\rDownloading alphafold2_multimer_v3 weights to /root/.cache/colabfold:  94%|█████████▎| 3.58G/3.82G [00:13<00:00, 309MB/s]\rDownloading alphafold2_multimer_v3 weights to /root/.cache/colabfold:  94%|█████████▍| 3.61G/3.82G [00:13<00:00, 309MB/s]\rDownloading alphafold2_multimer_v3 weights to /root/.cache/colabfold:  95%|█████████▌| 3.63G/3.82G [00:13<00:00, 306MB/s]\rDownloading alphafold2_multimer_v3 weights to /root/.cache/colabfold:  96%|█████████▌| 3.66G/3.82G [00:14<00:00, 310MB/s]\rDownloading alphafold2_multimer_v3 weights to /root/.cache/colabfold:  97%|█████████▋| 3.69G/3.82G [00:14<00:00, 314MB/s]\rDownloading alphafold2_multimer_v3 weights to /root/.cache/colabfold:  98%|█████████▊| 3.73G/3.82G [00:14<00:00, 318MB/s]\rDownloading alphafold2_multimer_v3 weights to /root/.cache/colabfold:  98%|█████████▊| 3.76G/3.82G [00:14<00:00, 319MB/s]\rDownloading alphafold2_multimer_v3 weights to /root/.cache/colabfold:  99%|█████████▉| 3.78G/3.82G [00:14<00:00, 315MB/s]\rDownloading alphafold2_multimer_v3 weights to /root/.cache/colabfold: 100%|█████████▉| 3.81G/3.82G [00:14<00:00, 315MB/s]\rDownloading alphafold2_multimer_v3 weights to /root/.cache/colabfold: 100%|██████████| 3.82G/3.82G [00:14<00:00, 281MB/s]\n",
            "\rDownloading AlphaFold2-ptm weights to /root/.cache/colabfold:   0%|          | 0/3722752000 [00:00<?, ?it/s]\rDownloading AlphaFold2-ptm weights to /root/.cache/colabfold:   0%|          | 11.6M/3.47G [00:00<00:30, 122MB/s]\rDownloading AlphaFold2-ptm weights to /root/.cache/colabfold:   1%|          | 38.6M/3.47G [00:00<00:17, 217MB/s]\rDownloading AlphaFold2-ptm weights to /root/.cache/colabfold:   2%|▏         | 61.8M/3.47G [00:00<00:16, 229MB/s]\rDownloading AlphaFold2-ptm weights to /root/.cache/colabfold:   2%|▏         | 83.6M/3.47G [00:00<00:17, 205MB/s]\rDownloading AlphaFold2-ptm weights to /root/.cache/colabfold:   3%|▎         | 111M/3.47G [00:00<00:15, 231MB/s] \rDownloading AlphaFold2-ptm weights to /root/.cache/colabfold:   4%|▎         | 133M/3.47G [00:03<02:31, 23.6MB/s]\rDownloading AlphaFold2-ptm weights to /root/.cache/colabfold:   4%|▍         | 158M/3.47G [00:03<01:43, 34.5MB/s]\rDownloading AlphaFold2-ptm weights to /root/.cache/colabfold:   5%|▌         | 184M/3.47G [00:03<01:12, 48.4MB/s]\rDownloading AlphaFold2-ptm weights to /root/.cache/colabfold:   6%|▌         | 204M/3.47G [00:03<00:58, 59.7MB/s]\rDownloading AlphaFold2-ptm weights to /root/.cache/colabfold:   6%|▋         | 223M/3.47G [00:03<00:50, 68.7MB/s]\rDownloading AlphaFold2-ptm weights to /root/.cache/colabfold:   7%|▋         | 247M/3.47G [00:03<00:38, 89.7MB/s]\rDownloading AlphaFold2-ptm weights to /root/.cache/colabfold:   8%|▊         | 273M/3.47G [00:04<00:29, 116MB/s] \rDownloading AlphaFold2-ptm weights to /root/.cache/colabfold:   8%|▊         | 301M/3.47G [00:04<00:23, 147MB/s]\rDownloading AlphaFold2-ptm weights to /root/.cache/colabfold:   9%|▉         | 327M/3.47G [00:04<00:19, 170MB/s]\rDownloading AlphaFold2-ptm weights to /root/.cache/colabfold:  10%|▉         | 350M/3.47G [00:04<00:19, 168MB/s]\rDownloading AlphaFold2-ptm weights to /root/.cache/colabfold:  10%|█         | 372M/3.47G [00:04<00:24, 137MB/s]\rDownloading AlphaFold2-ptm weights to /root/.cache/colabfold:  11%|█▏        | 401M/3.47G [00:04<00:19, 169MB/s]\rDownloading AlphaFold2-ptm weights to /root/.cache/colabfold:  12%|█▏        | 428M/3.47G [00:04<00:16, 194MB/s]\rDownloading AlphaFold2-ptm weights to /root/.cache/colabfold:  13%|█▎        | 457M/3.47G [00:04<00:14, 220MB/s]\rDownloading AlphaFold2-ptm weights to /root/.cache/colabfold:  14%|█▎        | 486M/3.47G [00:05<00:13, 241MB/s]\rDownloading AlphaFold2-ptm weights to /root/.cache/colabfold:  15%|█▍        | 515M/3.47G [00:05<00:12, 256MB/s]\rDownloading AlphaFold2-ptm weights to /root/.cache/colabfold:  15%|█▌        | 543M/3.47G [00:05<00:11, 266MB/s]\rDownloading AlphaFold2-ptm weights to /root/.cache/colabfold:  16%|█▌        | 573M/3.47G [00:05<00:11, 280MB/s]\rDownloading AlphaFold2-ptm weights to /root/.cache/colabfold:  17%|█▋        | 603M/3.47G [00:05<00:10, 289MB/s]\rDownloading AlphaFold2-ptm weights to /root/.cache/colabfold:  18%|█▊        | 632M/3.47G [00:05<00:10, 296MB/s]\rDownloading AlphaFold2-ptm weights to /root/.cache/colabfold:  19%|█▊        | 662M/3.47G [00:05<00:10, 299MB/s]\rDownloading AlphaFold2-ptm weights to /root/.cache/colabfold:  19%|█▉        | 691M/3.47G [00:05<00:10, 297MB/s]\rDownloading AlphaFold2-ptm weights to /root/.cache/colabfold:  20%|██        | 719M/3.47G [00:05<00:13, 225MB/s]\rDownloading AlphaFold2-ptm weights to /root/.cache/colabfold:  21%|██        | 752M/3.47G [00:06<00:11, 253MB/s]\rDownloading AlphaFold2-ptm weights to /root/.cache/colabfold:  22%|██▏       | 784M/3.47G [00:06<00:10, 273MB/s]\rDownloading AlphaFold2-ptm weights to /root/.cache/colabfold:  23%|██▎       | 812M/3.47G [00:06<00:10, 272MB/s]\rDownloading AlphaFold2-ptm weights to /root/.cache/colabfold:  24%|██▎       | 840M/3.47G [00:06<00:10, 278MB/s]\rDownloading AlphaFold2-ptm weights to /root/.cache/colabfold:  24%|██▍       | 869M/3.47G [00:06<00:09, 286MB/s]\rDownloading AlphaFold2-ptm weights to /root/.cache/colabfold:  25%|██▌       | 901M/3.47G [00:06<00:09, 298MB/s]\rDownloading AlphaFold2-ptm weights to /root/.cache/colabfold:  26%|██▋       | 933M/3.47G [00:06<00:08, 310MB/s]\rDownloading AlphaFold2-ptm weights to /root/.cache/colabfold:  27%|██▋       | 966M/3.47G [00:06<00:08, 320MB/s]\rDownloading AlphaFold2-ptm weights to /root/.cache/colabfold:  28%|██▊       | 998M/3.47G [00:06<00:08, 326MB/s]\rDownloading AlphaFold2-ptm weights to /root/.cache/colabfold:  29%|██▉       | 1.01G/3.47G [00:07<00:09, 283MB/s]\rDownloading AlphaFold2-ptm weights to /root/.cache/colabfold:  30%|██▉       | 1.03G/3.47G [00:07<00:09, 283MB/s]\rDownloading AlphaFold2-ptm weights to /root/.cache/colabfold:  31%|███       | 1.06G/3.47G [00:07<00:09, 281MB/s]\rDownloading AlphaFold2-ptm weights to /root/.cache/colabfold:  31%|███▏      | 1.09G/3.47G [00:07<00:09, 283MB/s]\rDownloading AlphaFold2-ptm weights to /root/.cache/colabfold:  32%|███▏      | 1.12G/3.47G [00:07<00:08, 294MB/s]\rDownloading AlphaFold2-ptm weights to /root/.cache/colabfold:  33%|███▎      | 1.15G/3.47G [00:07<00:08, 308MB/s]\rDownloading AlphaFold2-ptm weights to /root/.cache/colabfold:  34%|███▍      | 1.19G/3.47G [00:07<00:07, 319MB/s]\rDownloading AlphaFold2-ptm weights to /root/.cache/colabfold:  35%|███▌      | 1.22G/3.47G [00:07<00:07, 327MB/s]\rDownloading AlphaFold2-ptm weights to /root/.cache/colabfold:  36%|███▌      | 1.25G/3.47G [00:07<00:07, 326MB/s]\rDownloading AlphaFold2-ptm weights to /root/.cache/colabfold:  37%|███▋      | 1.28G/3.47G [00:07<00:07, 324MB/s]\rDownloading AlphaFold2-ptm weights to /root/.cache/colabfold:  38%|███▊      | 1.31G/3.47G [00:08<00:07, 328MB/s]\rDownloading AlphaFold2-ptm weights to /root/.cache/colabfold:  39%|███▊      | 1.34G/3.47G [00:08<00:06, 332MB/s]\rDownloading AlphaFold2-ptm weights to /root/.cache/colabfold:  40%|███▉      | 1.37G/3.47G [00:08<00:06, 336MB/s]\rDownloading AlphaFold2-ptm weights to /root/.cache/colabfold:  41%|████      | 1.41G/3.47G [00:08<00:07, 294MB/s]\rDownloading AlphaFold2-ptm weights to /root/.cache/colabfold:  41%|████▏     | 1.44G/3.47G [00:08<00:07, 305MB/s]\rDownloading AlphaFold2-ptm weights to /root/.cache/colabfold:  42%|████▏     | 1.47G/3.47G [00:08<00:06, 316MB/s]\rDownloading AlphaFold2-ptm weights to /root/.cache/colabfold:  43%|████▎     | 1.50G/3.47G [00:08<00:06, 311MB/s]\rDownloading AlphaFold2-ptm weights to /root/.cache/colabfold:  44%|████▍     | 1.53G/3.47G [00:08<00:06, 303MB/s]\rDownloading AlphaFold2-ptm weights to /root/.cache/colabfold:  45%|████▍     | 1.56G/3.47G [00:08<00:06, 304MB/s]\rDownloading AlphaFold2-ptm weights to /root/.cache/colabfold:  46%|████▌     | 1.59G/3.47G [00:09<00:06, 304MB/s]\rDownloading AlphaFold2-ptm weights to /root/.cache/colabfold:  47%|████▋     | 1.62G/3.47G [00:09<00:06, 313MB/s]\rDownloading AlphaFold2-ptm weights to /root/.cache/colabfold:  48%|████▊     | 1.65G/3.47G [00:09<00:06, 312MB/s]\rDownloading AlphaFold2-ptm weights to /root/.cache/colabfold:  48%|████▊     | 1.68G/3.47G [00:09<00:06, 316MB/s]\rDownloading AlphaFold2-ptm weights to /root/.cache/colabfold:  49%|████▉     | 1.71G/3.47G [00:09<00:05, 323MB/s]\rDownloading AlphaFold2-ptm weights to /root/.cache/colabfold:  50%|█████     | 1.74G/3.47G [00:09<00:05, 327MB/s]\rDownloading AlphaFold2-ptm weights to /root/.cache/colabfold:  51%|█████     | 1.77G/3.47G [00:09<00:05, 332MB/s]\rDownloading AlphaFold2-ptm weights to /root/.cache/colabfold:  52%|█████▏    | 1.80G/3.47G [00:09<00:05, 335MB/s]\rDownloading AlphaFold2-ptm weights to /root/.cache/colabfold:  53%|█████▎    | 1.84G/3.47G [00:09<00:05, 337MB/s]\rDownloading AlphaFold2-ptm weights to /root/.cache/colabfold:  54%|█████▍    | 1.87G/3.47G [00:09<00:05, 327MB/s]\rDownloading AlphaFold2-ptm weights to /root/.cache/colabfold:  55%|█████▍    | 1.90G/3.47G [00:10<00:05, 319MB/s]\rDownloading AlphaFold2-ptm weights to /root/.cache/colabfold:  56%|█████▌    | 1.93G/3.47G [00:10<00:05, 314MB/s]\rDownloading AlphaFold2-ptm weights to /root/.cache/colabfold:  56%|█████▋    | 1.96G/3.47G [00:10<00:05, 308MB/s]\rDownloading AlphaFold2-ptm weights to /root/.cache/colabfold:  57%|█████▋    | 1.99G/3.47G [00:10<00:05, 309MB/s]\rDownloading AlphaFold2-ptm weights to /root/.cache/colabfold:  58%|█████▊    | 2.02G/3.47G [00:10<00:04, 318MB/s]\rDownloading AlphaFold2-ptm weights to /root/.cache/colabfold:  59%|█████▉    | 2.05G/3.47G [00:10<00:04, 326MB/s]\rDownloading AlphaFold2-ptm weights to /root/.cache/colabfold:  60%|██████    | 2.08G/3.47G [00:10<00:06, 223MB/s]\rDownloading AlphaFold2-ptm weights to /root/.cache/colabfold:  61%|██████    | 2.11G/3.47G [00:10<00:06, 241MB/s]\rDownloading AlphaFold2-ptm weights to /root/.cache/colabfold:  62%|██████▏   | 2.14G/3.47G [00:11<00:05, 260MB/s]\rDownloading AlphaFold2-ptm weights to /root/.cache/colabfold:  63%|██████▎   | 2.17G/3.47G [00:11<00:05, 274MB/s]\rDownloading AlphaFold2-ptm weights to /root/.cache/colabfold:  63%|██████▎   | 2.20G/3.47G [00:11<00:04, 287MB/s]\rDownloading AlphaFold2-ptm weights to /root/.cache/colabfold:  64%|██████▍   | 2.23G/3.47G [00:11<00:04, 297MB/s]\rDownloading AlphaFold2-ptm weights to /root/.cache/colabfold:  65%|██████▌   | 2.26G/3.47G [00:11<00:04, 299MB/s]\rDownloading AlphaFold2-ptm weights to /root/.cache/colabfold:  66%|██████▌   | 2.29G/3.47G [00:11<00:04, 306MB/s]\rDownloading AlphaFold2-ptm weights to /root/.cache/colabfold:  67%|██████▋   | 2.32G/3.47G [00:11<00:04, 302MB/s]\rDownloading AlphaFold2-ptm weights to /root/.cache/colabfold:  68%|██████▊   | 2.34G/3.47G [00:11<00:04, 288MB/s]\rDownloading AlphaFold2-ptm weights to /root/.cache/colabfold:  68%|██████▊   | 2.37G/3.47G [00:11<00:04, 284MB/s]\rDownloading AlphaFold2-ptm weights to /root/.cache/colabfold:  69%|██████▉   | 2.40G/3.47G [00:11<00:04, 277MB/s]\rDownloading AlphaFold2-ptm weights to /root/.cache/colabfold:  70%|███████   | 2.43G/3.47G [00:12<00:03, 291MB/s]\rDownloading AlphaFold2-ptm weights to /root/.cache/colabfold:  71%|███████   | 2.46G/3.47G [00:12<00:03, 301MB/s]\rDownloading AlphaFold2-ptm weights to /root/.cache/colabfold:  72%|███████▏  | 2.49G/3.47G [00:12<00:03, 305MB/s]\rDownloading AlphaFold2-ptm weights to /root/.cache/colabfold:  73%|███████▎  | 2.52G/3.47G [00:12<00:03, 261MB/s]\rDownloading AlphaFold2-ptm weights to /root/.cache/colabfold:  73%|███████▎  | 2.54G/3.47G [00:12<00:03, 269MB/s]\rDownloading AlphaFold2-ptm weights to /root/.cache/colabfold:  74%|███████▍  | 2.57G/3.47G [00:12<00:03, 277MB/s]\rDownloading AlphaFold2-ptm weights to /root/.cache/colabfold:  75%|███████▍  | 2.60G/3.47G [00:12<00:03, 283MB/s]\rDownloading AlphaFold2-ptm weights to /root/.cache/colabfold:  76%|███████▌  | 2.63G/3.47G [00:12<00:03, 294MB/s]\rDownloading AlphaFold2-ptm weights to /root/.cache/colabfold:  77%|███████▋  | 2.66G/3.47G [00:12<00:02, 300MB/s]\rDownloading AlphaFold2-ptm weights to /root/.cache/colabfold:  78%|███████▊  | 2.69G/3.47G [00:13<00:02, 302MB/s]\rDownloading AlphaFold2-ptm weights to /root/.cache/colabfold:  78%|███████▊  | 2.72G/3.47G [00:13<00:02, 303MB/s]\rDownloading AlphaFold2-ptm weights to /root/.cache/colabfold:  79%|███████▉  | 2.74G/3.47G [00:13<00:02, 304MB/s]\rDownloading AlphaFold2-ptm weights to /root/.cache/colabfold:  80%|███████▉  | 2.77G/3.47G [00:13<00:02, 270MB/s]\rDownloading AlphaFold2-ptm weights to /root/.cache/colabfold:  81%|████████  | 2.80G/3.47G [00:13<00:02, 289MB/s]\rDownloading AlphaFold2-ptm weights to /root/.cache/colabfold:  82%|████████▏ | 2.84G/3.47G [00:13<00:02, 300MB/s]\rDownloading AlphaFold2-ptm weights to /root/.cache/colabfold:  83%|████████▎ | 2.87G/3.47G [00:13<00:02, 310MB/s]\rDownloading AlphaFold2-ptm weights to /root/.cache/colabfold:  84%|████████▎ | 2.90G/3.47G [00:13<00:01, 316MB/s]\rDownloading AlphaFold2-ptm weights to /root/.cache/colabfold:  84%|████████▍ | 2.93G/3.47G [00:13<00:01, 322MB/s]\rDownloading AlphaFold2-ptm weights to /root/.cache/colabfold:  85%|████████▌ | 2.96G/3.47G [00:14<00:01, 306MB/s]\rDownloading AlphaFold2-ptm weights to /root/.cache/colabfold:  86%|████████▋ | 2.99G/3.47G [00:14<00:01, 315MB/s]\rDownloading AlphaFold2-ptm weights to /root/.cache/colabfold:  87%|████████▋ | 3.02G/3.47G [00:14<00:01, 321MB/s]\rDownloading AlphaFold2-ptm weights to /root/.cache/colabfold:  88%|████████▊ | 3.05G/3.47G [00:14<00:01, 322MB/s]\rDownloading AlphaFold2-ptm weights to /root/.cache/colabfold:  89%|████████▉ | 3.08G/3.47G [00:14<00:01, 313MB/s]\rDownloading AlphaFold2-ptm weights to /root/.cache/colabfold:  90%|████████▉ | 3.11G/3.47G [00:14<00:01, 316MB/s]\rDownloading AlphaFold2-ptm weights to /root/.cache/colabfold:  91%|█████████ | 3.14G/3.47G [00:14<00:01, 278MB/s]\rDownloading AlphaFold2-ptm weights to /root/.cache/colabfold:  91%|█████████▏| 3.17G/3.47G [00:14<00:01, 288MB/s]\rDownloading AlphaFold2-ptm weights to /root/.cache/colabfold:  92%|█████████▏| 3.20G/3.47G [00:14<00:01, 283MB/s]\rDownloading AlphaFold2-ptm weights to /root/.cache/colabfold:  93%|█████████▎| 3.23G/3.47G [00:14<00:00, 295MB/s]\rDownloading AlphaFold2-ptm weights to /root/.cache/colabfold:  94%|█████████▍| 3.26G/3.47G [00:15<00:00, 296MB/s]\rDownloading AlphaFold2-ptm weights to /root/.cache/colabfold:  95%|█████████▍| 3.28G/3.47G [00:15<00:00, 292MB/s]\rDownloading AlphaFold2-ptm weights to /root/.cache/colabfold:  96%|█████████▌| 3.31G/3.47G [00:15<00:00, 294MB/s]\rDownloading AlphaFold2-ptm weights to /root/.cache/colabfold:  96%|█████████▋| 3.34G/3.47G [00:15<00:00, 304MB/s]\rDownloading AlphaFold2-ptm weights to /root/.cache/colabfold:  97%|█████████▋| 3.37G/3.47G [00:15<00:00, 311MB/s]\rDownloading AlphaFold2-ptm weights to /root/.cache/colabfold:  98%|█████████▊| 3.40G/3.47G [00:15<00:00, 285MB/s]\rDownloading AlphaFold2-ptm weights to /root/.cache/colabfold:  99%|█████████▉| 3.43G/3.47G [00:15<00:00, 299MB/s]\rDownloading AlphaFold2-ptm weights to /root/.cache/colabfold: 100%|█████████▉| 3.46G/3.47G [00:15<00:00, 267MB/s]\rDownloading AlphaFold2-ptm weights to /root/.cache/colabfold: 100%|██████████| 3.47G/3.47G [00:16<00:00, 232MB/s]\n"
          ]
        }
      ]
    },
    {
      "cell_type": "code",
      "metadata": {
        "id": "hUYApPElB30u",
        "cellView": "form",
        "colab": {
          "base_uri": "https://localhost:8080/"
        },
        "outputId": "41f3a1db-cd66-443f-fbe6-a76bf08b1836"
      },
      "source": [
        "#@title Run Prediction\n",
        "\n",
        "import sys\n",
        "\n",
        "from colabfold.batch import get_queries, run\n",
        "from colabfold.download import default_data_dir\n",
        "from colabfold.utils import setup_logging\n",
        "from pathlib import Path\n",
        "\n",
        "# For some reason we need that to get pdbfixer to import\n",
        "if use_amber and f\"/usr/local/lib/python{python_version}/site-packages/\" not in sys.path:\n",
        "    sys.path.insert(0, f\"/usr/local/lib/python{python_version}/site-packages/\")\n",
        "\n",
        "setup_logging(Path(result_dir).joinpath(\"log.txt\"))\n",
        "\n",
        "queries, is_complex = get_queries(input_dir)\n",
        "run(\n",
        "    queries=queries,\n",
        "    result_dir=result_dir,\n",
        "    use_templates=use_templates,\n",
        "    num_relax=num_relax,\n",
        "    relax_max_iterations=relax_max_iterations,\n",
        "    msa_mode=msa_mode,\n",
        "    model_type=\"auto\",\n",
        "    num_models=num_models,\n",
        "    num_recycles=num_recycles,\n",
        "    model_order=[1, 2, 3, 4, 5],\n",
        "    is_complex=is_complex,\n",
        "    data_dir=default_data_dir,\n",
        "    keep_existing_results=do_not_overwrite_results,\n",
        "    rank_by=\"auto\",\n",
        "    pair_mode=\"unpaired+paired\",\n",
        "    stop_at_score=stop_at_score,\n",
        "    zip_results=zip_results,\n",
        "    user_agent=\"colabfold/google-colab-batch\",\n",
        ")"
      ],
      "execution_count": 3,
      "outputs": [
        {
          "output_type": "stream",
          "name": "stdout",
          "text": [
            "2025-07-27 20:17:59,776 More than one sequence in /content/drive/MyDrive/input_fasta/input.fasta, ignoring all but the first sequence\n",
            "2025-07-27 20:18:06,458 Running on GPU\n",
            "2025-07-27 20:18:06,750 Found 4 citations for tools or databases\n",
            "2025-07-27 20:18:06,750 Query 1/15: GH10_sample_1 (length 237)\n"
          ]
        },
        {
          "output_type": "stream",
          "name": "stderr",
          "text": [
            "PENDING:   0%|          | 0/150 [elapsed: 00:00 remaining: ?]"
          ]
        },
        {
          "output_type": "stream",
          "name": "stdout",
          "text": [
            "2025-07-27 20:18:07,146 Sleeping for 5s. Reason: PENDING\n"
          ]
        },
        {
          "output_type": "stream",
          "name": "stderr",
          "text": [
            "RUNNING:   3%|▎         | 5/150 [elapsed: 00:05 remaining: 02:47]"
          ]
        },
        {
          "output_type": "stream",
          "name": "stdout",
          "text": [
            "2025-07-27 20:18:12,521 Sleeping for 5s. Reason: RUNNING\n"
          ]
        },
        {
          "output_type": "stream",
          "name": "stderr",
          "text": [
            "RUNNING:   7%|▋         | 10/150 [elapsed: 00:11 remaining: 02:34]"
          ]
        },
        {
          "output_type": "stream",
          "name": "stdout",
          "text": [
            "2025-07-27 20:18:17,891 Sleeping for 8s. Reason: RUNNING\n"
          ]
        },
        {
          "output_type": "stream",
          "name": "stderr",
          "text": [
            "RUNNING:  12%|█▏        | 18/150 [elapsed: 00:19 remaining: 02:21]"
          ]
        },
        {
          "output_type": "stream",
          "name": "stdout",
          "text": [
            "2025-07-27 20:18:26,245 Sleeping for 8s. Reason: RUNNING\n"
          ]
        },
        {
          "output_type": "stream",
          "name": "stderr",
          "text": [
            "RUNNING:  17%|█▋        | 26/150 [elapsed: 00:27 remaining: 02:11]"
          ]
        },
        {
          "output_type": "stream",
          "name": "stdout",
          "text": [
            "2025-07-27 20:18:34,614 Sleeping for 10s. Reason: RUNNING\n"
          ]
        },
        {
          "output_type": "stream",
          "name": "stderr",
          "text": [
            "COMPLETE: 100%|██████████| 150/150 [elapsed: 00:38 remaining: 00:00]\n"
          ]
        },
        {
          "output_type": "stream",
          "name": "stdout",
          "text": [
            "2025-07-27 20:19:03,005 Padding length to 245\n",
            "2025-07-27 20:20:14,644 alphafold2_ptm_model_1_seed_000 recycle=0 pLDDT=29.4 pTM=0.185\n",
            "2025-07-27 20:20:51,842 alphafold2_ptm_model_1_seed_000 recycle=1 pLDDT=30.2 pTM=0.233 tol=7.32\n",
            "2025-07-27 20:20:54,240 alphafold2_ptm_model_1_seed_000 recycle=2 pLDDT=30.7 pTM=0.239 tol=7.17\n",
            "2025-07-27 20:20:56,653 alphafold2_ptm_model_1_seed_000 recycle=3 pLDDT=31.2 pTM=0.247 tol=3.45\n",
            "2025-07-27 20:20:56,654 alphafold2_ptm_model_1_seed_000 took 113.6s (3 recycles)\n",
            "2025-07-27 20:20:56,729 reranking models by 'plddt' metric\n",
            "2025-07-27 20:20:56,729 rank_001_alphafold2_ptm_model_1_seed_000 pLDDT=31.2 pTM=0.247\n",
            "2025-07-27 20:20:57,240 Query 2/15: GH48_sample_1 (length 238)\n"
          ]
        },
        {
          "output_type": "stream",
          "name": "stderr",
          "text": [
            "PENDING:   0%|          | 0/150 [elapsed: 00:00 remaining: ?]"
          ]
        },
        {
          "output_type": "stream",
          "name": "stdout",
          "text": [
            "2025-07-27 20:20:57,618 Sleeping for 6s. Reason: PENDING\n"
          ]
        },
        {
          "output_type": "stream",
          "name": "stderr",
          "text": [
            "PENDING:   0%|          | 0/150 [elapsed: 00:06 remaining: ?]"
          ]
        },
        {
          "output_type": "stream",
          "name": "stdout",
          "text": [
            "2025-07-27 20:21:03,991 Sleeping for 8s. Reason: PENDING\n"
          ]
        },
        {
          "output_type": "stream",
          "name": "stderr",
          "text": [
            "PENDING:   0%|          | 0/150 [elapsed: 00:15 remaining: ?]"
          ]
        },
        {
          "output_type": "stream",
          "name": "stdout",
          "text": [
            "2025-07-27 20:21:12,351 Sleeping for 8s. Reason: PENDING\n"
          ]
        },
        {
          "output_type": "stream",
          "name": "stderr",
          "text": [
            "RUNNING:   5%|▌         | 8/150 [elapsed: 00:23 remaining: 06:56]"
          ]
        },
        {
          "output_type": "stream",
          "name": "stdout",
          "text": [
            "2025-07-27 20:21:20,710 Sleeping for 6s. Reason: RUNNING\n"
          ]
        },
        {
          "output_type": "stream",
          "name": "stderr",
          "text": [
            "RUNNING:   9%|▉         | 14/150 [elapsed: 00:29 remaining: 04:27]"
          ]
        },
        {
          "output_type": "stream",
          "name": "stdout",
          "text": [
            "2025-07-27 20:21:27,077 Sleeping for 5s. Reason: RUNNING\n"
          ]
        },
        {
          "output_type": "stream",
          "name": "stderr",
          "text": [
            "RUNNING:  13%|█▎        | 19/150 [elapsed: 00:35 remaining: 03:32]"
          ]
        },
        {
          "output_type": "stream",
          "name": "stdout",
          "text": [
            "2025-07-27 20:21:32,446 Sleeping for 8s. Reason: RUNNING\n"
          ]
        },
        {
          "output_type": "stream",
          "name": "stderr",
          "text": [
            "COMPLETE: 100%|██████████| 150/150 [elapsed: 00:43 remaining: 00:00]\n"
          ]
        },
        {
          "output_type": "stream",
          "name": "stdout",
          "text": [
            "2025-07-27 20:21:43,027 Padding length to 245\n",
            "2025-07-27 20:21:45,502 alphafold2_ptm_model_1_seed_000 recycle=0 pLDDT=28.5 pTM=0.162\n",
            "2025-07-27 20:21:47,915 alphafold2_ptm_model_1_seed_000 recycle=1 pLDDT=26.3 pTM=0.169 tol=4.71\n",
            "2025-07-27 20:21:50,312 alphafold2_ptm_model_1_seed_000 recycle=2 pLDDT=26.3 pTM=0.177 tol=5.31\n",
            "2025-07-27 20:21:52,709 alphafold2_ptm_model_1_seed_000 recycle=3 pLDDT=26 pTM=0.182 tol=3\n",
            "2025-07-27 20:21:52,710 alphafold2_ptm_model_1_seed_000 took 9.7s (3 recycles)\n",
            "2025-07-27 20:21:52,777 reranking models by 'plddt' metric\n",
            "2025-07-27 20:21:52,777 rank_001_alphafold2_ptm_model_1_seed_000 pLDDT=26 pTM=0.182\n",
            "2025-07-27 20:21:53,263 Query 3/15: PL7_sample_1 (length 239)\n"
          ]
        },
        {
          "output_type": "stream",
          "name": "stderr",
          "text": [
            "PENDING:   0%|          | 0/150 [elapsed: 00:00 remaining: ?]"
          ]
        },
        {
          "output_type": "stream",
          "name": "stdout",
          "text": [
            "2025-07-27 20:21:53,637 Sleeping for 8s. Reason: PENDING\n"
          ]
        },
        {
          "output_type": "stream",
          "name": "stderr",
          "text": [
            "RUNNING:   5%|▌         | 8/150 [elapsed: 00:08 remaining: 02:35]"
          ]
        },
        {
          "output_type": "stream",
          "name": "stdout",
          "text": [
            "2025-07-27 20:22:02,001 Sleeping for 10s. Reason: RUNNING\n"
          ]
        },
        {
          "output_type": "stream",
          "name": "stderr",
          "text": [
            "RUNNING:  12%|█▏        | 18/150 [elapsed: 00:19 remaining: 02:19]"
          ]
        },
        {
          "output_type": "stream",
          "name": "stdout",
          "text": [
            "2025-07-27 20:22:12,364 Sleeping for 8s. Reason: RUNNING\n"
          ]
        },
        {
          "output_type": "stream",
          "name": "stderr",
          "text": [
            "COMPLETE: 100%|██████████| 150/150 [elapsed: 00:27 remaining: 00:00]\n"
          ]
        },
        {
          "output_type": "stream",
          "name": "stdout",
          "text": [
            "2025-07-27 20:22:22,870 Padding length to 245\n",
            "2025-07-27 20:22:25,326 alphafold2_ptm_model_1_seed_000 recycle=0 pLDDT=34.4 pTM=0.253\n",
            "2025-07-27 20:22:27,726 alphafold2_ptm_model_1_seed_000 recycle=1 pLDDT=33.1 pTM=0.265 tol=8.4\n",
            "2025-07-27 20:22:30,122 alphafold2_ptm_model_1_seed_000 recycle=2 pLDDT=34.8 pTM=0.255 tol=7.18\n",
            "2025-07-27 20:22:32,518 alphafold2_ptm_model_1_seed_000 recycle=3 pLDDT=36 pTM=0.273 tol=1.96\n",
            "2025-07-27 20:22:32,519 alphafold2_ptm_model_1_seed_000 took 9.6s (3 recycles)\n",
            "2025-07-27 20:22:32,599 reranking models by 'plddt' metric\n",
            "2025-07-27 20:22:32,599 rank_001_alphafold2_ptm_model_1_seed_000 pLDDT=36 pTM=0.273\n",
            "2025-07-27 20:22:33,080 Query 4/15: GH5_sample_1 (length 241)\n"
          ]
        },
        {
          "output_type": "stream",
          "name": "stderr",
          "text": [
            "PENDING:   0%|          | 0/150 [elapsed: 00:00 remaining: ?]"
          ]
        },
        {
          "output_type": "stream",
          "name": "stdout",
          "text": [
            "2025-07-27 20:22:33,468 Sleeping for 5s. Reason: PENDING\n"
          ]
        },
        {
          "output_type": "stream",
          "name": "stderr",
          "text": [
            "RUNNING:   3%|▎         | 5/150 [elapsed: 00:05 remaining: 02:47]"
          ]
        },
        {
          "output_type": "stream",
          "name": "stdout",
          "text": [
            "2025-07-27 20:22:38,843 Sleeping for 8s. Reason: RUNNING\n"
          ]
        },
        {
          "output_type": "stream",
          "name": "stderr",
          "text": [
            "RUNNING:   9%|▊         | 13/150 [elapsed: 00:14 remaining: 02:27]"
          ]
        },
        {
          "output_type": "stream",
          "name": "stdout",
          "text": [
            "2025-07-27 20:22:47,202 Sleeping for 6s. Reason: RUNNING\n"
          ]
        },
        {
          "output_type": "stream",
          "name": "stderr",
          "text": [
            "RUNNING:  13%|█▎        | 19/150 [elapsed: 00:20 remaining: 02:20]"
          ]
        },
        {
          "output_type": "stream",
          "name": "stdout",
          "text": [
            "2025-07-27 20:22:53,573 Sleeping for 10s. Reason: RUNNING\n"
          ]
        },
        {
          "output_type": "stream",
          "name": "stderr",
          "text": [
            "RUNNING:  19%|█▉        | 29/150 [elapsed: 00:30 remaining: 02:07]"
          ]
        },
        {
          "output_type": "stream",
          "name": "stdout",
          "text": [
            "2025-07-27 20:23:03,942 Sleeping for 5s. Reason: RUNNING\n"
          ]
        },
        {
          "output_type": "stream",
          "name": "stderr",
          "text": [
            "RUNNING:  23%|██▎       | 34/150 [elapsed: 00:36 remaining: 02:02]"
          ]
        },
        {
          "output_type": "stream",
          "name": "stdout",
          "text": [
            "2025-07-27 20:23:09,312 Sleeping for 5s. Reason: RUNNING\n"
          ]
        },
        {
          "output_type": "stream",
          "name": "stderr",
          "text": [
            "RUNNING:  26%|██▌       | 39/150 [elapsed: 00:41 remaining: 01:58]"
          ]
        },
        {
          "output_type": "stream",
          "name": "stdout",
          "text": [
            "2025-07-27 20:23:14,686 Sleeping for 8s. Reason: RUNNING\n"
          ]
        },
        {
          "output_type": "stream",
          "name": "stderr",
          "text": [
            "RUNNING:  31%|███▏      | 47/150 [elapsed: 00:49 remaining: 01:48]"
          ]
        },
        {
          "output_type": "stream",
          "name": "stdout",
          "text": [
            "2025-07-27 20:23:23,055 Sleeping for 7s. Reason: RUNNING\n"
          ]
        },
        {
          "output_type": "stream",
          "name": "stderr",
          "text": [
            "RUNNING:  36%|███▌      | 54/150 [elapsed: 00:57 remaining: 01:41]"
          ]
        },
        {
          "output_type": "stream",
          "name": "stdout",
          "text": [
            "2025-07-27 20:23:30,413 Sleeping for 10s. Reason: RUNNING\n"
          ]
        },
        {
          "output_type": "stream",
          "name": "stderr",
          "text": [
            "RUNNING:  43%|████▎     | 64/150 [elapsed: 01:07 remaining: 01:30]"
          ]
        },
        {
          "output_type": "stream",
          "name": "stdout",
          "text": [
            "2025-07-27 20:23:40,827 Sleeping for 10s. Reason: RUNNING\n"
          ]
        },
        {
          "output_type": "stream",
          "name": "stderr",
          "text": [
            "RUNNING:  49%|████▉     | 74/150 [elapsed: 01:18 remaining: 01:19]"
          ]
        },
        {
          "output_type": "stream",
          "name": "stdout",
          "text": [
            "2025-07-27 20:23:51,191 Sleeping for 8s. Reason: RUNNING\n"
          ]
        },
        {
          "output_type": "stream",
          "name": "stderr",
          "text": [
            "RUNNING:  55%|█████▍    | 82/150 [elapsed: 01:26 remaining: 01:11]"
          ]
        },
        {
          "output_type": "stream",
          "name": "stdout",
          "text": [
            "2025-07-27 20:23:59,570 Sleeping for 5s. Reason: RUNNING\n"
          ]
        },
        {
          "output_type": "stream",
          "name": "stderr",
          "text": [
            "COMPLETE: 100%|██████████| 150/150 [elapsed: 01:32 remaining: 00:00]\n"
          ]
        },
        {
          "output_type": "stream",
          "name": "stdout",
          "text": [
            "2025-07-27 20:24:08,835 Padding length to 245\n",
            "2025-07-27 20:24:11,317 alphafold2_ptm_model_1_seed_000 recycle=0 pLDDT=61.7 pTM=0.569\n",
            "2025-07-27 20:24:13,742 alphafold2_ptm_model_1_seed_000 recycle=1 pLDDT=64.9 pTM=0.577 tol=9.52\n",
            "2025-07-27 20:24:16,155 alphafold2_ptm_model_1_seed_000 recycle=2 pLDDT=65.1 pTM=0.577 tol=0.854\n",
            "2025-07-27 20:24:18,567 alphafold2_ptm_model_1_seed_000 recycle=3 pLDDT=65.2 pTM=0.583 tol=3.03\n",
            "2025-07-27 20:24:18,567 alphafold2_ptm_model_1_seed_000 took 9.7s (3 recycles)\n",
            "2025-07-27 20:24:18,639 reranking models by 'plddt' metric\n",
            "2025-07-27 20:24:18,639 rank_001_alphafold2_ptm_model_1_seed_000 pLDDT=65.2 pTM=0.583\n",
            "2025-07-27 20:24:19,160 Query 5/15: PL1_sample_1 (length 241)\n"
          ]
        },
        {
          "output_type": "stream",
          "name": "stderr",
          "text": [
            "PENDING:   0%|          | 0/150 [elapsed: 00:00 remaining: ?]"
          ]
        },
        {
          "output_type": "stream",
          "name": "stdout",
          "text": [
            "2025-07-27 20:24:19,592 Sleeping for 10s. Reason: PENDING\n"
          ]
        },
        {
          "output_type": "stream",
          "name": "stderr",
          "text": [
            "RUNNING:   7%|▋         | 10/150 [elapsed: 00:10 remaining: 02:30]"
          ]
        },
        {
          "output_type": "stream",
          "name": "stdout",
          "text": [
            "2025-07-27 20:24:29,950 Sleeping for 6s. Reason: RUNNING\n"
          ]
        },
        {
          "output_type": "stream",
          "name": "stderr",
          "text": [
            "RUNNING:  11%|█         | 16/150 [elapsed: 00:17 remaining: 02:23]"
          ]
        },
        {
          "output_type": "stream",
          "name": "stdout",
          "text": [
            "2025-07-27 20:24:36,323 Sleeping for 10s. Reason: RUNNING\n"
          ]
        },
        {
          "output_type": "stream",
          "name": "stderr",
          "text": [
            "COMPLETE: 100%|██████████| 150/150 [elapsed: 00:27 remaining: 00:00]\n"
          ]
        },
        {
          "output_type": "stream",
          "name": "stdout",
          "text": [
            "2025-07-27 20:24:48,829 Padding length to 245\n",
            "2025-07-27 20:24:51,296 alphafold2_ptm_model_1_seed_000 recycle=0 pLDDT=31.1 pTM=0.164\n",
            "2025-07-27 20:24:53,707 alphafold2_ptm_model_1_seed_000 recycle=1 pLDDT=29 pTM=0.155 tol=15.7\n",
            "2025-07-27 20:24:56,102 alphafold2_ptm_model_1_seed_000 recycle=2 pLDDT=28.5 pTM=0.176 tol=5.6\n",
            "2025-07-27 20:24:58,498 alphafold2_ptm_model_1_seed_000 recycle=3 pLDDT=28.9 pTM=0.194 tol=4.25\n",
            "2025-07-27 20:24:58,499 alphafold2_ptm_model_1_seed_000 took 9.7s (3 recycles)\n",
            "2025-07-27 20:24:58,568 reranking models by 'plddt' metric\n",
            "2025-07-27 20:24:58,568 rank_001_alphafold2_ptm_model_1_seed_000 pLDDT=28.9 pTM=0.194\n",
            "2025-07-27 20:24:59,075 Query 6/15: PL7_sample_2 (length 241)\n"
          ]
        },
        {
          "output_type": "stream",
          "name": "stderr",
          "text": [
            "PENDING:   0%|          | 0/150 [elapsed: 00:00 remaining: ?]"
          ]
        },
        {
          "output_type": "stream",
          "name": "stdout",
          "text": [
            "2025-07-27 20:24:59,492 Sleeping for 6s. Reason: PENDING\n"
          ]
        },
        {
          "output_type": "stream",
          "name": "stderr",
          "text": [
            "RUNNING:   4%|▍         | 6/150 [elapsed: 00:06 remaining: 02:42]"
          ]
        },
        {
          "output_type": "stream",
          "name": "stdout",
          "text": [
            "2025-07-27 20:25:05,859 Sleeping for 6s. Reason: RUNNING\n"
          ]
        },
        {
          "output_type": "stream",
          "name": "stderr",
          "text": [
            "RUNNING:   8%|▊         | 12/150 [elapsed: 00:13 remaining: 02:30]"
          ]
        },
        {
          "output_type": "stream",
          "name": "stdout",
          "text": [
            "2025-07-27 20:25:12,216 Sleeping for 8s. Reason: RUNNING\n"
          ]
        },
        {
          "output_type": "stream",
          "name": "stderr",
          "text": [
            "COMPLETE: 100%|██████████| 150/150 [elapsed: 00:21 remaining: 00:00]\n"
          ]
        },
        {
          "output_type": "stream",
          "name": "stdout",
          "text": [
            "2025-07-27 20:25:22,692 Padding length to 245\n",
            "2025-07-27 20:25:25,136 alphafold2_ptm_model_1_seed_000 recycle=0 pLDDT=35.6 pTM=0.229\n",
            "2025-07-27 20:25:27,548 alphafold2_ptm_model_1_seed_000 recycle=1 pLDDT=33 pTM=0.239 tol=12.3\n",
            "2025-07-27 20:25:29,946 alphafold2_ptm_model_1_seed_000 recycle=2 pLDDT=33.6 pTM=0.243 tol=3.06\n",
            "2025-07-27 20:25:32,343 alphafold2_ptm_model_1_seed_000 recycle=3 pLDDT=34.2 pTM=0.249 tol=2.65\n",
            "2025-07-27 20:25:32,344 alphafold2_ptm_model_1_seed_000 took 9.7s (3 recycles)\n",
            "2025-07-27 20:25:32,412 reranking models by 'plddt' metric\n",
            "2025-07-27 20:25:32,412 rank_001_alphafold2_ptm_model_1_seed_000 pLDDT=34.2 pTM=0.249\n",
            "2025-07-27 20:25:32,923 Query 7/15: CE1_sample_2 (length 242)\n"
          ]
        },
        {
          "output_type": "stream",
          "name": "stderr",
          "text": [
            "PENDING:   0%|          | 0/150 [elapsed: 00:00 remaining: ?]"
          ]
        },
        {
          "output_type": "stream",
          "name": "stdout",
          "text": [
            "2025-07-27 20:25:33,299 Sleeping for 8s. Reason: PENDING\n"
          ]
        },
        {
          "output_type": "stream",
          "name": "stderr",
          "text": [
            "PENDING:   0%|          | 0/150 [elapsed: 00:08 remaining: ?]"
          ]
        },
        {
          "output_type": "stream",
          "name": "stdout",
          "text": [
            "2025-07-27 20:25:41,713 Sleeping for 10s. Reason: PENDING\n"
          ]
        },
        {
          "output_type": "stream",
          "name": "stderr",
          "text": [
            "PENDING:   0%|          | 0/150 [elapsed: 00:19 remaining: ?]"
          ]
        },
        {
          "output_type": "stream",
          "name": "stdout",
          "text": [
            "2025-07-27 20:25:52,078 Sleeping for 10s. Reason: PENDING\n"
          ]
        },
        {
          "output_type": "stream",
          "name": "stderr",
          "text": [
            "PENDING:   0%|          | 0/150 [elapsed: 00:29 remaining: ?]"
          ]
        },
        {
          "output_type": "stream",
          "name": "stdout",
          "text": [
            "2025-07-27 20:26:02,445 Sleeping for 10s. Reason: PENDING\n"
          ]
        },
        {
          "output_type": "stream",
          "name": "stderr",
          "text": [
            "PENDING:   0%|          | 0/150 [elapsed: 00:40 remaining: ?]"
          ]
        },
        {
          "output_type": "stream",
          "name": "stdout",
          "text": [
            "2025-07-27 20:26:13,010 Sleeping for 5s. Reason: PENDING\n"
          ]
        },
        {
          "output_type": "stream",
          "name": "stderr",
          "text": [
            "PENDING:   0%|          | 0/150 [elapsed: 00:45 remaining: ?]"
          ]
        },
        {
          "output_type": "stream",
          "name": "stdout",
          "text": [
            "2025-07-27 20:26:18,377 Sleeping for 10s. Reason: PENDING\n"
          ]
        },
        {
          "output_type": "stream",
          "name": "stderr",
          "text": [
            "PENDING:   0%|          | 0/150 [elapsed: 00:55 remaining: ?]"
          ]
        },
        {
          "output_type": "stream",
          "name": "stdout",
          "text": [
            "2025-07-27 20:26:28,753 Sleeping for 7s. Reason: PENDING\n"
          ]
        },
        {
          "output_type": "stream",
          "name": "stderr",
          "text": [
            "RUNNING:   5%|▍         | 7/150 [elapsed: 01:03 remaining: 21:30]"
          ]
        },
        {
          "output_type": "stream",
          "name": "stdout",
          "text": [
            "2025-07-27 20:26:36,116 Sleeping for 5s. Reason: RUNNING\n"
          ]
        },
        {
          "output_type": "stream",
          "name": "stderr",
          "text": [
            "RUNNING:   8%|▊         | 12/150 [elapsed: 01:08 remaining: 11:31]"
          ]
        },
        {
          "output_type": "stream",
          "name": "stdout",
          "text": [
            "2025-07-27 20:26:41,473 Sleeping for 8s. Reason: RUNNING\n"
          ]
        },
        {
          "output_type": "stream",
          "name": "stderr",
          "text": [
            "RUNNING:  13%|█▎        | 20/150 [elapsed: 01:16 remaining: 06:15]"
          ]
        },
        {
          "output_type": "stream",
          "name": "stdout",
          "text": [
            "2025-07-27 20:26:49,874 Sleeping for 7s. Reason: RUNNING\n"
          ]
        },
        {
          "output_type": "stream",
          "name": "stderr",
          "text": [
            "COMPLETE: 100%|██████████| 150/150 [elapsed: 01:24 remaining: 00:00]\n"
          ]
        },
        {
          "output_type": "stream",
          "name": "stdout",
          "text": [
            "2025-07-27 20:26:59,355 Padding length to 245\n",
            "2025-07-27 20:27:01,813 alphafold2_ptm_model_1_seed_000 recycle=0 pLDDT=40.3 pTM=0.23\n",
            "2025-07-27 20:27:04,223 alphafold2_ptm_model_1_seed_000 recycle=1 pLDDT=36.8 pTM=0.222 tol=5.48\n",
            "2025-07-27 20:27:06,619 alphafold2_ptm_model_1_seed_000 recycle=2 pLDDT=36 pTM=0.219 tol=3.09\n",
            "2025-07-27 20:27:09,015 alphafold2_ptm_model_1_seed_000 recycle=3 pLDDT=35.9 pTM=0.217 tol=1.66\n",
            "2025-07-27 20:27:09,016 alphafold2_ptm_model_1_seed_000 took 9.7s (3 recycles)\n",
            "2025-07-27 20:27:09,083 reranking models by 'plddt' metric\n",
            "2025-07-27 20:27:09,083 rank_001_alphafold2_ptm_model_1_seed_000 pLDDT=35.9 pTM=0.217\n",
            "2025-07-27 20:27:09,574 Query 8/15: GH5_sample_2 (length 242)\n"
          ]
        },
        {
          "output_type": "stream",
          "name": "stderr",
          "text": [
            "PENDING:   0%|          | 0/150 [elapsed: 00:00 remaining: ?]"
          ]
        },
        {
          "output_type": "stream",
          "name": "stdout",
          "text": [
            "2025-07-27 20:27:09,948 Sleeping for 8s. Reason: PENDING\n"
          ]
        },
        {
          "output_type": "stream",
          "name": "stderr",
          "text": [
            "RUNNING:   5%|▌         | 8/150 [elapsed: 00:08 remaining: 02:35]"
          ]
        },
        {
          "output_type": "stream",
          "name": "stdout",
          "text": [
            "2025-07-27 20:27:18,312 Sleeping for 9s. Reason: RUNNING\n"
          ]
        },
        {
          "output_type": "stream",
          "name": "stderr",
          "text": [
            "RUNNING:  11%|█▏        | 17/150 [elapsed: 00:18 remaining: 02:21]"
          ]
        },
        {
          "output_type": "stream",
          "name": "stdout",
          "text": [
            "2025-07-27 20:27:27,694 Sleeping for 9s. Reason: RUNNING\n"
          ]
        },
        {
          "output_type": "stream",
          "name": "stderr",
          "text": [
            "RUNNING:  17%|█▋        | 26/150 [elapsed: 00:27 remaining: 02:10]"
          ]
        },
        {
          "output_type": "stream",
          "name": "stdout",
          "text": [
            "2025-07-27 20:27:37,062 Sleeping for 7s. Reason: RUNNING\n"
          ]
        },
        {
          "output_type": "stream",
          "name": "stderr",
          "text": [
            "RUNNING:  22%|██▏       | 33/150 [elapsed: 00:34 remaining: 02:03]"
          ]
        },
        {
          "output_type": "stream",
          "name": "stdout",
          "text": [
            "2025-07-27 20:27:44,425 Sleeping for 7s. Reason: RUNNING\n"
          ]
        },
        {
          "output_type": "stream",
          "name": "stderr",
          "text": [
            "COMPLETE: 100%|██████████| 150/150 [elapsed: 00:43 remaining: 00:00]\n"
          ]
        },
        {
          "output_type": "stream",
          "name": "stdout",
          "text": [
            "2025-07-27 20:27:55,750 Padding length to 245\n",
            "2025-07-27 20:27:58,191 alphafold2_ptm_model_1_seed_000 recycle=0 pLDDT=61.1 pTM=0.308\n",
            "2025-07-27 20:28:00,601 alphafold2_ptm_model_1_seed_000 recycle=1 pLDDT=60.1 pTM=0.36 tol=4.29\n",
            "2025-07-27 20:28:02,997 alphafold2_ptm_model_1_seed_000 recycle=2 pLDDT=60.9 pTM=0.347 tol=3.44\n",
            "2025-07-27 20:28:05,393 alphafold2_ptm_model_1_seed_000 recycle=3 pLDDT=60.5 pTM=0.347 tol=1.27\n",
            "2025-07-27 20:28:05,394 alphafold2_ptm_model_1_seed_000 took 9.6s (3 recycles)\n",
            "2025-07-27 20:28:05,461 reranking models by 'plddt' metric\n",
            "2025-07-27 20:28:05,461 rank_001_alphafold2_ptm_model_1_seed_000 pLDDT=60.5 pTM=0.347\n",
            "2025-07-27 20:28:05,962 Query 9/15: GH11_sample_1 (length 243)\n"
          ]
        },
        {
          "output_type": "stream",
          "name": "stderr",
          "text": [
            "PENDING:   0%|          | 0/150 [elapsed: 00:00 remaining: ?]"
          ]
        },
        {
          "output_type": "stream",
          "name": "stdout",
          "text": [
            "2025-07-27 20:28:06,339 Sleeping for 5s. Reason: PENDING\n"
          ]
        },
        {
          "output_type": "stream",
          "name": "stderr",
          "text": [
            "RUNNING:   3%|▎         | 5/150 [elapsed: 00:05 remaining: 02:46]"
          ]
        },
        {
          "output_type": "stream",
          "name": "stdout",
          "text": [
            "2025-07-27 20:28:11,714 Sleeping for 10s. Reason: RUNNING\n"
          ]
        },
        {
          "output_type": "stream",
          "name": "stderr",
          "text": [
            "RUNNING:  10%|█         | 15/150 [elapsed: 00:16 remaining: 02:23]"
          ]
        },
        {
          "output_type": "stream",
          "name": "stdout",
          "text": [
            "2025-07-27 20:28:22,078 Sleeping for 9s. Reason: RUNNING\n"
          ]
        },
        {
          "output_type": "stream",
          "name": "stderr",
          "text": [
            "COMPLETE: 100%|██████████| 150/150 [elapsed: 00:25 remaining: 00:00]\n"
          ]
        },
        {
          "output_type": "stream",
          "name": "stdout",
          "text": [
            "2025-07-27 20:28:33,558 Padding length to 245\n",
            "2025-07-27 20:28:35,998 alphafold2_ptm_model_1_seed_000 recycle=0 pLDDT=32 pTM=0.188\n",
            "2025-07-27 20:28:38,406 alphafold2_ptm_model_1_seed_000 recycle=1 pLDDT=29.7 pTM=0.201 tol=4.05\n",
            "2025-07-27 20:28:40,800 alphafold2_ptm_model_1_seed_000 recycle=2 pLDDT=30.6 pTM=0.215 tol=2.96\n",
            "2025-07-27 20:28:43,192 alphafold2_ptm_model_1_seed_000 recycle=3 pLDDT=30.5 pTM=0.226 tol=1.31\n",
            "2025-07-27 20:28:43,192 alphafold2_ptm_model_1_seed_000 took 9.6s (3 recycles)\n",
            "2025-07-27 20:28:43,262 reranking models by 'plddt' metric\n",
            "2025-07-27 20:28:43,262 rank_001_alphafold2_ptm_model_1_seed_000 pLDDT=30.5 pTM=0.226\n",
            "2025-07-27 20:28:43,776 Query 10/15: GH11_sample_2 (length 243)\n"
          ]
        },
        {
          "output_type": "stream",
          "name": "stderr",
          "text": [
            "PENDING:   0%|          | 0/150 [elapsed: 00:00 remaining: ?]"
          ]
        },
        {
          "output_type": "stream",
          "name": "stdout",
          "text": [
            "2025-07-27 20:28:44,187 Sleeping for 10s. Reason: PENDING\n"
          ]
        },
        {
          "output_type": "stream",
          "name": "stderr",
          "text": [
            "RUNNING:   7%|▋         | 10/150 [elapsed: 00:10 remaining: 02:31]"
          ]
        },
        {
          "output_type": "stream",
          "name": "stdout",
          "text": [
            "2025-07-27 20:28:54,566 Sleeping for 6s. Reason: RUNNING\n"
          ]
        },
        {
          "output_type": "stream",
          "name": "stderr",
          "text": [
            "RUNNING:  11%|█         | 16/150 [elapsed: 00:17 remaining: 02:23]"
          ]
        },
        {
          "output_type": "stream",
          "name": "stdout",
          "text": [
            "2025-07-27 20:29:00,933 Sleeping for 5s. Reason: RUNNING\n"
          ]
        },
        {
          "output_type": "stream",
          "name": "stderr",
          "text": [
            "RUNNING:  14%|█▍        | 21/150 [elapsed: 00:22 remaining: 02:18]"
          ]
        },
        {
          "output_type": "stream",
          "name": "stdout",
          "text": [
            "2025-07-27 20:29:06,294 Sleeping for 5s. Reason: RUNNING\n"
          ]
        },
        {
          "output_type": "stream",
          "name": "stderr",
          "text": [
            "RUNNING:  17%|█▋        | 26/150 [elapsed: 00:27 remaining: 02:12]"
          ]
        },
        {
          "output_type": "stream",
          "name": "stdout",
          "text": [
            "2025-07-27 20:29:11,649 Sleeping for 5s. Reason: RUNNING\n"
          ]
        },
        {
          "output_type": "stream",
          "name": "stderr",
          "text": [
            "COMPLETE: 100%|██████████| 150/150 [elapsed: 00:33 remaining: 00:00]\n"
          ]
        },
        {
          "output_type": "stream",
          "name": "stdout",
          "text": [
            "2025-07-27 20:29:19,159 Padding length to 245\n",
            "2025-07-27 20:29:21,593 alphafold2_ptm_model_1_seed_000 recycle=0 pLDDT=28.9 pTM=0.151\n",
            "2025-07-27 20:29:24,000 alphafold2_ptm_model_1_seed_000 recycle=1 pLDDT=27.2 pTM=0.169 tol=12.1\n",
            "2025-07-27 20:29:26,394 alphafold2_ptm_model_1_seed_000 recycle=2 pLDDT=26.9 pTM=0.182 tol=7.36\n",
            "2025-07-27 20:29:28,787 alphafold2_ptm_model_1_seed_000 recycle=3 pLDDT=27.1 pTM=0.185 tol=8.21\n",
            "2025-07-27 20:29:28,788 alphafold2_ptm_model_1_seed_000 took 9.6s (3 recycles)\n",
            "2025-07-27 20:29:28,857 reranking models by 'plddt' metric\n",
            "2025-07-27 20:29:28,858 rank_001_alphafold2_ptm_model_1_seed_000 pLDDT=27.1 pTM=0.185\n",
            "2025-07-27 20:29:29,369 Query 11/15: input (length 243)\n",
            "2025-07-27 20:29:31,083 Could not generate input features input: Invalid character in the sequence: 2\n",
            "Traceback (most recent call last):\n",
            "  File \"/content/colabfold/batch.py\", line 1405, in run\n",
            "    = generate_input_feature(query_seqs_unique, query_seqs_cardinality, unpaired_msa, paired_msa,\n",
            "      ^^^^^^^^^^^^^^^^^^^^^^^^^^^^^^^^^^^^^^^^^^^^^^^^^^^^^^^^^^^^^^^^^^^^^^^^^^^^^^^^^^^^^^^^^^^\n",
            "  File \"/content/colabfold/batch.py\", line 930, in generate_input_feature\n",
            "    feature_dict = build_monomer_feature(\n",
            "                   ^^^^^^^^^^^^^^^^^^^^^^\n",
            "  File \"/content/colabfold/batch.py\", line 807, in build_monomer_feature\n",
            "    **pipeline.make_sequence_features(\n",
            "      ^^^^^^^^^^^^^^^^^^^^^^^^^^^^^^^^\n",
            "  File \"/content/alphafold/data/pipeline.py\", line 40, in make_sequence_features\n",
            "    features['aatype'] = residue_constants.sequence_to_onehot(\n",
            "                         ^^^^^^^^^^^^^^^^^^^^^^^^^^^^^^^^^^^^^\n",
            "  File \"/content/alphafold/common/residue_constants.py\", line 581, in sequence_to_onehot\n",
            "    raise ValueError(f'Invalid character in the sequence: {aa_type}')\n",
            "ValueError: Invalid character in the sequence: 2\n",
            "2025-07-27 20:29:31,146 Query 12/15: CE1_sample_1 (length 244)\n"
          ]
        },
        {
          "output_type": "stream",
          "name": "stderr",
          "text": [
            "PENDING:   0%|          | 0/150 [elapsed: 00:00 remaining: ?]"
          ]
        },
        {
          "output_type": "stream",
          "name": "stdout",
          "text": [
            "2025-07-27 20:29:31,520 Sleeping for 7s. Reason: PENDING\n"
          ]
        },
        {
          "output_type": "stream",
          "name": "stderr",
          "text": [
            "PENDING:   0%|          | 0/150 [elapsed: 00:07 remaining: ?]"
          ]
        },
        {
          "output_type": "stream",
          "name": "stdout",
          "text": [
            "2025-07-27 20:29:38,890 Sleeping for 6s. Reason: PENDING\n"
          ]
        },
        {
          "output_type": "stream",
          "name": "stderr",
          "text": [
            "RUNNING:   4%|▍         | 6/150 [elapsed: 00:14 remaining: 05:38]"
          ]
        },
        {
          "output_type": "stream",
          "name": "stdout",
          "text": [
            "2025-07-27 20:29:45,251 Sleeping for 9s. Reason: RUNNING\n"
          ]
        },
        {
          "output_type": "stream",
          "name": "stderr",
          "text": [
            "RUNNING:  10%|█         | 15/150 [elapsed: 00:23 remaining: 03:16]"
          ]
        },
        {
          "output_type": "stream",
          "name": "stdout",
          "text": [
            "2025-07-27 20:29:54,633 Sleeping for 5s. Reason: RUNNING\n"
          ]
        },
        {
          "output_type": "stream",
          "name": "stderr",
          "text": [
            "COMPLETE: 100%|██████████| 150/150 [elapsed: 00:29 remaining: 00:00]\n"
          ]
        },
        {
          "output_type": "stream",
          "name": "stdout",
          "text": [
            "2025-07-27 20:30:02,160 Padding length to 245\n",
            "2025-07-27 20:30:04,626 alphafold2_ptm_model_1_seed_000 recycle=0 pLDDT=32.4 pTM=0.2\n",
            "2025-07-27 20:30:07,020 alphafold2_ptm_model_1_seed_000 recycle=1 pLDDT=31.7 pTM=0.219 tol=9.73\n",
            "2025-07-27 20:30:09,412 alphafold2_ptm_model_1_seed_000 recycle=2 pLDDT=31.9 pTM=0.235 tol=3.31\n",
            "2025-07-27 20:30:11,806 alphafold2_ptm_model_1_seed_000 recycle=3 pLDDT=32 pTM=0.209 tol=6.84\n",
            "2025-07-27 20:30:11,807 alphafold2_ptm_model_1_seed_000 took 9.6s (3 recycles)\n",
            "2025-07-27 20:30:11,877 reranking models by 'plddt' metric\n",
            "2025-07-27 20:30:11,877 rank_001_alphafold2_ptm_model_1_seed_000 pLDDT=32 pTM=0.209\n",
            "2025-07-27 20:30:12,888 Query 13/15: GH10_sample_2 (length 244)\n"
          ]
        },
        {
          "output_type": "stream",
          "name": "stderr",
          "text": [
            "PENDING:   0%|          | 0/150 [elapsed: 00:00 remaining: ?]"
          ]
        },
        {
          "output_type": "stream",
          "name": "stdout",
          "text": [
            "2025-07-27 20:30:13,265 Sleeping for 10s. Reason: PENDING\n"
          ]
        },
        {
          "output_type": "stream",
          "name": "stderr",
          "text": [
            "RUNNING:   7%|▋         | 10/150 [elapsed: 00:10 remaining: 02:30]"
          ]
        },
        {
          "output_type": "stream",
          "name": "stdout",
          "text": [
            "2025-07-27 20:30:23,625 Sleeping for 8s. Reason: RUNNING\n"
          ]
        },
        {
          "output_type": "stream",
          "name": "stderr",
          "text": [
            "COMPLETE: 100%|██████████| 150/150 [elapsed: 00:19 remaining: 00:00]\n"
          ]
        },
        {
          "output_type": "stream",
          "name": "stdout",
          "text": [
            "2025-07-27 20:30:34,190 Padding length to 245\n",
            "2025-07-27 20:30:36,666 alphafold2_ptm_model_1_seed_000 recycle=0 pLDDT=26.6 pTM=0.18\n",
            "2025-07-27 20:30:39,062 alphafold2_ptm_model_1_seed_000 recycle=1 pLDDT=25.2 pTM=0.176 tol=11.8\n",
            "2025-07-27 20:30:41,453 alphafold2_ptm_model_1_seed_000 recycle=2 pLDDT=25.2 pTM=0.182 tol=7.34\n",
            "2025-07-27 20:30:43,850 alphafold2_ptm_model_1_seed_000 recycle=3 pLDDT=25.7 pTM=0.188 tol=3.96\n",
            "2025-07-27 20:30:43,851 alphafold2_ptm_model_1_seed_000 took 9.7s (3 recycles)\n",
            "2025-07-27 20:30:43,920 reranking models by 'plddt' metric\n",
            "2025-07-27 20:30:43,920 rank_001_alphafold2_ptm_model_1_seed_000 pLDDT=25.7 pTM=0.188\n",
            "2025-07-27 20:30:44,435 Query 14/15: PL1_sample_2 (length 244)\n"
          ]
        },
        {
          "output_type": "stream",
          "name": "stderr",
          "text": [
            "PENDING:   0%|          | 0/150 [elapsed: 00:00 remaining: ?]"
          ]
        },
        {
          "output_type": "stream",
          "name": "stdout",
          "text": [
            "2025-07-27 20:30:44,808 Sleeping for 8s. Reason: PENDING\n"
          ]
        },
        {
          "output_type": "stream",
          "name": "stderr",
          "text": [
            "PENDING:   0%|          | 0/150 [elapsed: 00:08 remaining: ?]"
          ]
        },
        {
          "output_type": "stream",
          "name": "stdout",
          "text": [
            "2025-07-27 20:30:53,162 Sleeping for 10s. Reason: PENDING\n"
          ]
        },
        {
          "output_type": "stream",
          "name": "stderr",
          "text": [
            "RUNNING:   7%|▋         | 10/150 [elapsed: 00:19 remaining: 04:27]"
          ]
        },
        {
          "output_type": "stream",
          "name": "stdout",
          "text": [
            "2025-07-27 20:31:03,563 Sleeping for 6s. Reason: RUNNING\n"
          ]
        },
        {
          "output_type": "stream",
          "name": "stderr",
          "text": [
            "RUNNING:  11%|█         | 16/150 [elapsed: 00:25 remaining: 03:23]"
          ]
        },
        {
          "output_type": "stream",
          "name": "stdout",
          "text": [
            "2025-07-27 20:31:09,928 Sleeping for 7s. Reason: RUNNING\n"
          ]
        },
        {
          "output_type": "stream",
          "name": "stderr",
          "text": [
            "RUNNING:  15%|█▌        | 23/150 [elapsed: 00:32 remaining: 02:47]"
          ]
        },
        {
          "output_type": "stream",
          "name": "stdout",
          "text": [
            "2025-07-27 20:31:17,296 Sleeping for 8s. Reason: RUNNING\n"
          ]
        },
        {
          "output_type": "stream",
          "name": "stderr",
          "text": [
            "RUNNING:  21%|██        | 31/150 [elapsed: 00:41 remaining: 02:23]"
          ]
        },
        {
          "output_type": "stream",
          "name": "stdout",
          "text": [
            "2025-07-27 20:31:25,661 Sleeping for 9s. Reason: RUNNING\n"
          ]
        },
        {
          "output_type": "stream",
          "name": "stderr",
          "text": [
            "RUNNING:  27%|██▋       | 40/150 [elapsed: 00:50 remaining: 02:05]"
          ]
        },
        {
          "output_type": "stream",
          "name": "stdout",
          "text": [
            "2025-07-27 20:31:35,057 Sleeping for 9s. Reason: RUNNING\n"
          ]
        },
        {
          "output_type": "stream",
          "name": "stderr",
          "text": [
            "RUNNING:  33%|███▎      | 49/150 [elapsed: 00:59 remaining: 01:51]"
          ]
        },
        {
          "output_type": "stream",
          "name": "stdout",
          "text": [
            "2025-07-27 20:31:44,431 Sleeping for 9s. Reason: RUNNING\n"
          ]
        },
        {
          "output_type": "stream",
          "name": "stderr",
          "text": [
            "RUNNING:  39%|███▊      | 58/150 [elapsed: 01:09 remaining: 01:39]"
          ]
        },
        {
          "output_type": "stream",
          "name": "stdout",
          "text": [
            "2025-07-27 20:31:53,793 Sleeping for 7s. Reason: RUNNING\n"
          ]
        },
        {
          "output_type": "stream",
          "name": "stderr",
          "text": [
            "COMPLETE: 100%|██████████| 150/150 [elapsed: 01:17 remaining: 00:00]\n"
          ]
        },
        {
          "output_type": "stream",
          "name": "stdout",
          "text": [
            "2025-07-27 20:32:04,060 Padding length to 245\n",
            "2025-07-27 20:32:06,517 alphafold2_ptm_model_1_seed_000 recycle=0 pLDDT=48.6 pTM=0.515\n",
            "2025-07-27 20:32:08,915 alphafold2_ptm_model_1_seed_000 recycle=1 pLDDT=48.9 pTM=0.54 tol=4.71\n",
            "2025-07-27 20:32:11,310 alphafold2_ptm_model_1_seed_000 recycle=2 pLDDT=49.6 pTM=0.549 tol=4.54\n",
            "2025-07-27 20:32:13,704 alphafold2_ptm_model_1_seed_000 recycle=3 pLDDT=49.5 pTM=0.552 tol=1.07\n",
            "2025-07-27 20:32:13,705 alphafold2_ptm_model_1_seed_000 took 9.6s (3 recycles)\n",
            "2025-07-27 20:32:13,774 reranking models by 'plddt' metric\n",
            "2025-07-27 20:32:13,774 rank_001_alphafold2_ptm_model_1_seed_000 pLDDT=49.5 pTM=0.552\n",
            "2025-07-27 20:32:14,297 Query 15/15: GH48_sample_2 (length 245)\n"
          ]
        },
        {
          "output_type": "stream",
          "name": "stderr",
          "text": [
            "PENDING:   0%|          | 0/150 [elapsed: 00:00 remaining: ?]"
          ]
        },
        {
          "output_type": "stream",
          "name": "stdout",
          "text": [
            "2025-07-27 20:32:14,674 Sleeping for 6s. Reason: PENDING\n"
          ]
        },
        {
          "output_type": "stream",
          "name": "stderr",
          "text": [
            "RUNNING:   4%|▍         | 6/150 [elapsed: 00:06 remaining: 02:41]"
          ]
        },
        {
          "output_type": "stream",
          "name": "stdout",
          "text": [
            "2025-07-27 20:32:21,041 Sleeping for 9s. Reason: RUNNING\n"
          ]
        },
        {
          "output_type": "stream",
          "name": "stderr",
          "text": [
            "RUNNING:  10%|█         | 15/150 [elapsed: 00:16 remaining: 02:24]"
          ]
        },
        {
          "output_type": "stream",
          "name": "stdout",
          "text": [
            "2025-07-27 20:32:30,407 Sleeping for 5s. Reason: RUNNING\n"
          ]
        },
        {
          "output_type": "stream",
          "name": "stderr",
          "text": [
            "RUNNING:  13%|█▎        | 20/150 [elapsed: 00:21 remaining: 02:18]"
          ]
        },
        {
          "output_type": "stream",
          "name": "stdout",
          "text": [
            "2025-07-27 20:32:35,773 Sleeping for 7s. Reason: RUNNING\n"
          ]
        },
        {
          "output_type": "stream",
          "name": "stderr",
          "text": [
            "RUNNING:  18%|█▊        | 27/150 [elapsed: 00:28 remaining: 02:10]"
          ]
        },
        {
          "output_type": "stream",
          "name": "stdout",
          "text": [
            "2025-07-27 20:32:43,143 Sleeping for 6s. Reason: RUNNING\n"
          ]
        },
        {
          "output_type": "stream",
          "name": "stderr",
          "text": [
            "RUNNING:  22%|██▏       | 33/150 [elapsed: 00:35 remaining: 02:04]"
          ]
        },
        {
          "output_type": "stream",
          "name": "stdout",
          "text": [
            "2025-07-27 20:32:49,558 Sleeping for 9s. Reason: RUNNING\n"
          ]
        },
        {
          "output_type": "stream",
          "name": "stderr",
          "text": [
            "RUNNING:  28%|██▊       | 42/150 [elapsed: 00:44 remaining: 01:53]"
          ]
        },
        {
          "output_type": "stream",
          "name": "stdout",
          "text": [
            "2025-07-27 20:32:58,914 Sleeping for 7s. Reason: RUNNING\n"
          ]
        },
        {
          "output_type": "stream",
          "name": "stderr",
          "text": [
            "RUNNING:  33%|███▎      | 49/150 [elapsed: 00:51 remaining: 01:46]"
          ]
        },
        {
          "output_type": "stream",
          "name": "stdout",
          "text": [
            "2025-07-27 20:33:06,276 Sleeping for 7s. Reason: RUNNING\n"
          ]
        },
        {
          "output_type": "stream",
          "name": "stderr",
          "text": [
            "RUNNING:  37%|███▋      | 56/150 [elapsed: 00:59 remaining: 01:39]"
          ]
        },
        {
          "output_type": "stream",
          "name": "stdout",
          "text": [
            "2025-07-27 20:33:13,647 Sleeping for 8s. Reason: RUNNING\n"
          ]
        },
        {
          "output_type": "stream",
          "name": "stderr",
          "text": [
            "COMPLETE: 100%|██████████| 150/150 [elapsed: 01:08 remaining: 00:00]\n"
          ]
        },
        {
          "output_type": "stream",
          "name": "stdout",
          "text": [
            "2025-07-27 20:33:27,583 alphafold2_ptm_model_1_seed_000 recycle=0 pLDDT=76.9 pTM=0.735\n",
            "2025-07-27 20:33:29,997 alphafold2_ptm_model_1_seed_000 recycle=1 pLDDT=79.9 pTM=0.761 tol=1.17\n",
            "2025-07-27 20:33:32,408 alphafold2_ptm_model_1_seed_000 recycle=2 pLDDT=78.9 pTM=0.747 tol=0.761\n",
            "2025-07-27 20:33:34,822 alphafold2_ptm_model_1_seed_000 recycle=3 pLDDT=80.2 pTM=0.764 tol=0.305\n",
            "2025-07-27 20:33:34,823 alphafold2_ptm_model_1_seed_000 took 9.7s (3 recycles)\n",
            "2025-07-27 20:33:34,905 reranking models by 'plddt' metric\n",
            "2025-07-27 20:33:34,905 rank_001_alphafold2_ptm_model_1_seed_000 pLDDT=80.2 pTM=0.764\n",
            "2025-07-27 20:33:35,409 Done\n"
          ]
        },
        {
          "output_type": "execute_result",
          "data": {
            "text/plain": [
              "{'rank': [['rank_001_alphafold2_ptm_model_1_seed_000'],\n",
              "  ['rank_001_alphafold2_ptm_model_1_seed_000'],\n",
              "  ['rank_001_alphafold2_ptm_model_1_seed_000'],\n",
              "  ['rank_001_alphafold2_ptm_model_1_seed_000'],\n",
              "  ['rank_001_alphafold2_ptm_model_1_seed_000'],\n",
              "  ['rank_001_alphafold2_ptm_model_1_seed_000'],\n",
              "  ['rank_001_alphafold2_ptm_model_1_seed_000'],\n",
              "  ['rank_001_alphafold2_ptm_model_1_seed_000'],\n",
              "  ['rank_001_alphafold2_ptm_model_1_seed_000'],\n",
              "  ['rank_001_alphafold2_ptm_model_1_seed_000'],\n",
              "  ['rank_001_alphafold2_ptm_model_1_seed_000'],\n",
              "  ['rank_001_alphafold2_ptm_model_1_seed_000'],\n",
              "  ['rank_001_alphafold2_ptm_model_1_seed_000'],\n",
              "  ['rank_001_alphafold2_ptm_model_1_seed_000']],\n",
              " 'metric': [[{'mean_plddt': 31.234375,\n",
              "    'ptm': 0.2471923828125,\n",
              "    'print_line': ' pLDDT=31.2 pTM=0.247'}],\n",
              "  [{'mean_plddt': 26.046875,\n",
              "    'ptm': 0.1822509765625,\n",
              "    'print_line': ' pLDDT=26 pTM=0.182'}],\n",
              "  [{'mean_plddt': 36.0,\n",
              "    'ptm': 0.273193359375,\n",
              "    'print_line': ' pLDDT=36 pTM=0.273'}],\n",
              "  [{'mean_plddt': 65.25,\n",
              "    'ptm': 0.58349609375,\n",
              "    'print_line': ' pLDDT=65.2 pTM=0.583'}],\n",
              "  [{'mean_plddt': 28.875,\n",
              "    'ptm': 0.193603515625,\n",
              "    'print_line': ' pLDDT=28.9 pTM=0.194'}],\n",
              "  [{'mean_plddt': 34.25,\n",
              "    'ptm': 0.2491455078125,\n",
              "    'print_line': ' pLDDT=34.2 pTM=0.249'}],\n",
              "  [{'mean_plddt': 35.90625,\n",
              "    'ptm': 0.2169189453125,\n",
              "    'print_line': ' pLDDT=35.9 pTM=0.217'}],\n",
              "  [{'mean_plddt': 60.53125,\n",
              "    'ptm': 0.347412109375,\n",
              "    'print_line': ' pLDDT=60.5 pTM=0.347'}],\n",
              "  [{'mean_plddt': 30.53125,\n",
              "    'ptm': 0.2259521484375,\n",
              "    'print_line': ' pLDDT=30.5 pTM=0.226'}],\n",
              "  [{'mean_plddt': 27.125,\n",
              "    'ptm': 0.1846923828125,\n",
              "    'print_line': ' pLDDT=27.1 pTM=0.185'}],\n",
              "  [{'mean_plddt': 32.03125,\n",
              "    'ptm': 0.2091064453125,\n",
              "    'print_line': ' pLDDT=32 pTM=0.209'}],\n",
              "  [{'mean_plddt': 25.6875,\n",
              "    'ptm': 0.187744140625,\n",
              "    'print_line': ' pLDDT=25.7 pTM=0.188'}],\n",
              "  [{'mean_plddt': 49.5,\n",
              "    'ptm': 0.5517578125,\n",
              "    'print_line': ' pLDDT=49.5 pTM=0.552'}],\n",
              "  [{'mean_plddt': 80.25,\n",
              "    'ptm': 0.76416015625,\n",
              "    'print_line': ' pLDDT=80.2 pTM=0.764'}]]}"
            ]
          },
          "metadata": {},
          "execution_count": 3
        }
      ]
    },
    {
      "cell_type": "markdown",
      "metadata": {
        "id": "UGUBLzB3C6WN"
      },
      "source": [
        "# Instructions <a name=\"Instructions\"></a>\n",
        "**Quick start**\n",
        "1. Upload your single fasta files to a folder in your Google Drive\n",
        "2. Define path to the fold containing the fasta files (`input_dir`) define an outdir (`output_dir`)\n",
        "3. Press \"Runtime\" -> \"Run all\".\n",
        "\n",
        "**Result zip file contents**\n",
        "\n",
        "At the end of the job a all results `jobname.result.zip` will be uploaded to your (`output_dir`) Google Drive. Each zip contains one protein.\n",
        "\n",
        "1. PDB formatted structures sorted by avg. pIDDT. (unrelaxed and relaxed if `use_amber` is enabled).\n",
        "2. Plots of the model quality.\n",
        "3. Plots of the MSA coverage.\n",
        "4. Parameter log file.\n",
        "5. A3M formatted input MSA.\n",
        "6. BibTeX file with citations for all used tools and databases.\n",
        "\n",
        "\n",
        "**Troubleshooting**\n",
        "* Check that the runtime type is set to GPU at \"Runtime\" -> \"Change runtime type\".\n",
        "* Try to restart the session \"Runtime\" -> \"Factory reset runtime\".\n",
        "* Check your input sequence.\n",
        "\n",
        "**Known issues**\n",
        "* Google Colab assigns different types of GPUs with varying amount of memory. Some might not have enough memory to predict the structure for a long sequence.\n",
        "* Google Colab assigns different types of GPUs with varying amount of memory. Some might not have enough memory to predict the structure for a long sequence.\n",
        "* Your browser can block the pop-up for downloading the result file. You can choose the `save_to_google_drive` option to upload to Google Drive instead or manually download the result file: Click on the little folder icon to the left, navigate to file: `jobname.result.zip`, right-click and select \\\"Download\\\" (see [screenshot](https://pbs.twimg.com/media/E6wRW2lWUAEOuoe?format=jpg&name=small)).\n",
        "\n",
        "**Limitations**\n",
        "* Computing resources: Our MMseqs2 API can handle ~20-50k requests per day.\n",
        "* MSAs: MMseqs2 is very precise and sensitive but might find less hits compared to HHblits/HMMer searched against BFD or Mgnify.\n",
        "* We recommend to additionally use the full [AlphaFold2 pipeline](https://github.com/deepmind/alphafold).\n",
        "\n",
        "**Description of the plots**\n",
        "*   **Number of sequences per position** - We want to see at least 30 sequences per position, for best performance, ideally 100 sequences.\n",
        "*   **Predicted lDDT per position** - model confidence (out of 100) at each position. The higher the better.\n",
        "*   **Predicted Alignment Error** - For homooligomers, this could be a useful metric to assess how confident the model is about the interface. The lower the better.\n",
        "\n",
        "**Bugs**\n",
        "- If you encounter any bugs, please report the issue to https://github.com/sokrypton/ColabFold/issues\n",
        "\n",
        "**License**\n",
        "\n",
        "The source code of ColabFold is licensed under [MIT](https://raw.githubusercontent.com/sokrypton/ColabFold/main/LICENSE). Additionally, this notebook uses AlphaFold2 source code and its parameters licensed under [Apache 2.0](https://raw.githubusercontent.com/deepmind/alphafold/main/LICENSE) and  [CC BY 4.0](https://creativecommons.org/licenses/by-sa/4.0/) respectively. Read more about the AlphaFold license [here](https://github.com/deepmind/alphafold).\n",
        "\n",
        "**Acknowledgments**\n",
        "- We thank the AlphaFold team for developing an excellent model and open sourcing the software.\n",
        "\n",
        "- Do-Yoon Kim for creating the ColabFold logo.\n",
        "\n",
        "- A colab by Sergey Ovchinnikov ([@sokrypton](https://twitter.com/sokrypton)), Milot Mirdita ([@milot_mirdita](https://twitter.com/milot_mirdita)) and Martin Steinegger ([@thesteinegger](https://twitter.com/thesteinegger)).\n"
      ]
    },
    {
      "cell_type": "code",
      "metadata": {
        "id": "5f15b812"
      },
      "source": [
        "import os\n",
        "\n",
        "input_dir = '/content/drive/MyDrive/input_fasta'\n",
        "os.makedirs(input_dir, exist_ok=True)"
      ],
      "execution_count": 5,
      "outputs": []
    },
    {
      "cell_type": "code",
      "source": [],
      "metadata": {
        "id": "mwCWjAoVZJu7"
      },
      "execution_count": null,
      "outputs": []
    },
    {
      "cell_type": "code",
      "metadata": {
        "colab": {
          "base_uri": "https://localhost:8080/"
        },
        "id": "b850e764",
        "outputId": "e97dfe4f-7ca7-4507-ef67-78fe345da31d"
      },
      "source": [
        "import os\n",
        "import re\n",
        "\n",
        "# --- Configuration ---\n",
        "# The single FASTA file you uploaded with all 14 sequences.\n",
        "input_fasta_path = '/content/drive/MyDrive/input_fasta/input.fasta'\n",
        "\n",
        "# The directory where the separate, cleaned FASTA files will be saved.\n",
        "output_dir = '/content/drive/MyDrive/input_fasta'\n",
        "# -------------------\n",
        "\n",
        "print(f\"Reading and processing {input_fasta_path}...\")\n",
        "\n",
        "try:\n",
        "    with open(input_fasta_path, 'r') as f:\n",
        "        content = f.read()\n",
        "except FileNotFoundError:\n",
        "    print(f\"ERROR: The file was not found at {input_fasta_path}\")\n",
        "    print(\"Please make sure you have uploaded the file to the correct location.\")\n",
        "else:\n",
        "    # Split the file content by the FASTA header delimiter '>'\n",
        "    # The first element will be empty if the file starts with '>', so we skip it.\n",
        "    sequences = content.split('>')[1:]\n",
        "\n",
        "    if not sequences:\n",
        "        print(\"No sequences found in the file. Make sure it is a valid FASTA format.\")\n",
        "    else:\n",
        "        num_sequences_found = len(sequences)\n",
        "        print(f\"Found {num_sequences_found} sequences. Cleaning and splitting them now...\")\n",
        "\n",
        "        for i, seq_block in enumerate(sequences):\n",
        "            # Split each block into header and sequence parts\n",
        "            try:\n",
        "                header, sequence_data = seq_block.split('\\n', 1)\n",
        "                header = header.strip()\n",
        "\n",
        "                # Clean the sequence: remove newlines and non-amino acid characters\n",
        "                sequence_clean = re.sub(r'[^ACDEFGHIKLMNPQRSTVWY]', '', sequence_data, flags=re.IGNORECASE).upper()\n",
        "\n",
        "                # Create a safe filename from the header\n",
        "                safe_filename = re.sub(r'[^a-zA-Z0-9_.-]', '_', header.split()[0]) + '.fasta'\n",
        "                output_path = os.path.join(output_dir, safe_filename)\n",
        "\n",
        "                # Write the cleaned sequence to its new file\n",
        "                with open(output_path, 'w') as f_out:\n",
        "                    f_out.write(f\">{header}\\n\")\n",
        "                    f_out.write(sequence_clean + '\\n')\n",
        "\n",
        "                print(f\"  ({i+1}/{num_sequences_found}) Saved cleaned sequence to: {output_path}\")\n",
        "\n",
        "            except ValueError:\n",
        "                print(f\"  - Warning: Could not parse a block of text. It might be malformed:\\n{seq_block[:100]}...\")\n",
        "\n",
        "        print(\"\\nProcess complete.\")\n",
        "        print(f\"You should now have {num_sequences_found} separate FASTA files in your '{output_dir}' directory.\")\n",
        "        print(\"You can now proceed to the 'Run Prediction' cell.\")"
      ],
      "execution_count": 1,
      "outputs": [
        {
          "output_type": "stream",
          "name": "stdout",
          "text": [
            "Reading and processing /content/drive/MyDrive/input_fasta/input.fasta...\n",
            "Found 14 sequences. Cleaning and splitting them now...\n",
            "  (1/14) Saved cleaned sequence to: /content/drive/MyDrive/input_fasta/CE1_sample_2.fasta\n",
            "  (2/14) Saved cleaned sequence to: /content/drive/MyDrive/input_fasta/CE1_sample_1.fasta\n",
            "  (3/14) Saved cleaned sequence to: /content/drive/MyDrive/input_fasta/GH10_sample_2.fasta\n",
            "  (4/14) Saved cleaned sequence to: /content/drive/MyDrive/input_fasta/GH10_sample_1.fasta\n",
            "  (5/14) Saved cleaned sequence to: /content/drive/MyDrive/input_fasta/GH11_sample_2.fasta\n",
            "  (6/14) Saved cleaned sequence to: /content/drive/MyDrive/input_fasta/GH11_sample_1.fasta\n",
            "  (7/14) Saved cleaned sequence to: /content/drive/MyDrive/input_fasta/GH48_sample_1.fasta\n",
            "  (8/14) Saved cleaned sequence to: /content/drive/MyDrive/input_fasta/GH48_sample_2.fasta\n",
            "  (9/14) Saved cleaned sequence to: /content/drive/MyDrive/input_fasta/GH5_sample_2.fasta\n",
            "  (10/14) Saved cleaned sequence to: /content/drive/MyDrive/input_fasta/GH5_sample_1.fasta\n",
            "  (11/14) Saved cleaned sequence to: /content/drive/MyDrive/input_fasta/PL1_sample_1.fasta\n",
            "  (12/14) Saved cleaned sequence to: /content/drive/MyDrive/input_fasta/PL1_sample_2.fasta\n",
            "  (13/14) Saved cleaned sequence to: /content/drive/MyDrive/input_fasta/PL7_sample_2.fasta\n",
            "  (14/14) Saved cleaned sequence to: /content/drive/MyDrive/input_fasta/PL7_sample_1.fasta\n",
            "\n",
            "Process complete.\n",
            "You should now have 14 separate FASTA files in your '/content/drive/MyDrive/input_fasta' directory.\n",
            "You can now proceed to the 'Run Prediction' cell.\n"
          ]
        }
      ]
    },
    {
      "cell_type": "code",
      "metadata": {
        "colab": {
          "base_uri": "https://localhost:8080/",
          "height": 1000
        },
        "id": "c7cf4c2b",
        "outputId": "09d21860-7937-440d-9be5-54bb42613b1d"
      },
      "source": [
        "import os\n",
        "import zipfile\n",
        "from IPython.display import Image, display\n",
        "import glob\n",
        "\n",
        "# --- Configuration ---\n",
        "result_dir = '/content/drive/MyDrive/result'\n",
        "# -------------------\n",
        "\n",
        "print(f\"Searching for result files in: {result_dir}\")\n",
        "\n",
        "# Use glob to find all zip files in the result directory and its subdirectories\n",
        "zip_files = glob.glob(os.path.join(result_dir, '**', '*.zip'), recursive=True)\n",
        "\n",
        "if not zip_files:\n",
        "    print(\"Error: No .zip files found in the result directory.\")\n",
        "    print(\"Please make sure the predictions have finished and the zip files are present.\")\n",
        "else:\n",
        "    # Get the first zip file found\n",
        "    zip_path = zip_files[0]\n",
        "    print(f\"\\nFound result file: {zip_path}\")\n",
        "\n",
        "    plot_displayed = False\n",
        "    # Open the zip file to find and display a plot\n",
        "    with zipfile.ZipFile(zip_path, 'r') as zip_ref:\n",
        "        # Look for the pLDDT plot, which is a key quality metric\n",
        "        for member in zip_ref.namelist():\n",
        "            if \"plddt.png\" in member:\n",
        "                print(f\"Found plot file inside: {member}\")\n",
        "\n",
        "                # Extract the plot to a temporary directory\n",
        "                extract_dir = \"/tmp/colabfold_plots\"\n",
        "                os.makedirs(extract_dir, exist_ok=True)\n",
        "                zip_ref.extract(member, path=extract_dir)\n",
        "                image_path = os.path.join(extract_dir, member)\n",
        "\n",
        "                # Display the image\n",
        "                print(\"\\nHere is an example of the pLDDT (model confidence) plot from one of your results:\")\n",
        "                print(\"It shows the confidence score (0-100) for each position in the protein.\")\n",
        "                display(Image(filename=image_path))\n",
        "                plot_displayed = True\n",
        "                break  # Stop after displaying the first plddt plot\n",
        "\n",
        "    if not plot_displayed:\n",
        "        print(f\"Could not find a 'plddt.png' plot inside {os.path.basename(zip_path)}.\")"
      ],
      "execution_count": 4,
      "outputs": [
        {
          "output_type": "stream",
          "name": "stdout",
          "text": [
            "Searching for result files in: /content/drive/MyDrive/result\n",
            "\n",
            "Found result file: /content/drive/MyDrive/result/GH10_sample_1.result.zip\n",
            "Found plot file inside: GH10_sample_1_plddt.png\n",
            "\n",
            "Here is an example of the pLDDT (model confidence) plot from one of your results:\n",
            "It shows the confidence score (0-100) for each position in the protein.\n"
          ]
        },
        {
          "output_type": "display_data",
          "data": {
            "image/png": "[encoded data removed]",
            "text/plain": [
              "<IPython.core.display.Image object>"
            ]
          },
          "metadata": {}
        }
      ]
    }
  ]
}