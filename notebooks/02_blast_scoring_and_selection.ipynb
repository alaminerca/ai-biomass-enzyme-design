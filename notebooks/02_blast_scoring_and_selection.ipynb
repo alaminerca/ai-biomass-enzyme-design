{
  "nbformat": 4,
  "nbformat_minor": 0,
  "metadata": {
    "colab": {
      "provenance": [],
      "gpuType": "T4"
    },
    "kernelspec": {
      "name": "python3",
      "display_name": "Python 3"
    },
    "language_info": {
      "name": "python"
    },
    "accelerator": "GPU"
  },
  "cells": [
    {
      "cell_type": "code",
      "source": [
        "!pip install biopython"
      ],
      "metadata": {
        "colab": {
          "base_uri": "https://localhost:8080/"
        },
        "id": "iTYrOrmDtwJM",
        "outputId": "96bcebc0-6cad-42f9-fd0f-2f13ef0433d3"
      },
      "execution_count": 2,
      "outputs": [
        {
          "output_type": "stream",
          "name": "stdout",
          "text": [
            "Collecting biopython\n",
            "  Downloading biopython-1.85-cp311-cp311-manylinux_2_17_x86_64.manylinux2014_x86_64.whl.metadata (13 kB)\n",
            "Requirement already satisfied: numpy in /usr/local/lib/python3.11/dist-packages (from biopython) (2.0.2)\n",
            "Downloading biopython-1.85-cp311-cp311-manylinux_2_17_x86_64.manylinux2014_x86_64.whl (3.3 MB)\n",
            "\u001b[2K   \u001b[90m━━━━━━━━━━━━━━━━━━━━━━━━━━━━━━━━━━━━━━━━\u001b[0m \u001b[32m3.3/3.3 MB\u001b[0m \u001b[31m42.0 MB/s\u001b[0m eta \u001b[36m0:00:00\u001b[0m\n",
            "\u001b[?25hInstalling collected packages: biopython\n",
            "Successfully installed biopython-1.85\n"
          ]
        }
      ]
    },
    {
      "cell_type": "code",
      "metadata": {
        "colab": {
          "base_uri": "https://localhost:8080/"
        },
        "id": "20cba8fc",
        "outputId": "bb7d64b7-72d5-4528-a642-58261c3d619c"
      },
      "source": [
        "# 02_blast_scoring_and_selection.ipynb\n",
        "# Step-by-step scoring pipeline for generated enzyme sequences using BLAST\n",
        "\n",
        "import os\n",
        "import pandas as pd\n",
        "import matplotlib.pyplot as plt\n",
        "from Bio import SeqIO\n",
        "from collections import Counter\n",
        "import re\n",
        "\n",
        "# ----------------------------\n",
        "# Step 1: Preprocess Sequences\n",
        "# ----------------------------\n",
        "INPUT_FASTA = \"generated_sequences.fasta\"\n",
        "CLEAN_FASTA = \"cleaned_sequences.fasta\"\n",
        "os.makedirs(\"plots\", exist_ok=True)\n",
        "\n",
        "cleaned_records = []\n",
        "for record in SeqIO.parse(INPUT_FASTA, \"fasta\"):\n",
        "    clean_seq = re.sub(r\"MASK_START|<\\|.*?\\|>\", \"\", str(record.seq)).strip()\n",
        "    record.seq = clean_seq\n",
        "    cleaned_records.append(record)\n",
        "\n",
        "SeqIO.write(cleaned_records, CLEAN_FASTA, \"fasta\")\n",
        "print(f\"✅ Cleaned sequences saved to {CLEAN_FASTA}\")"
      ],
      "execution_count": 3,
      "outputs": [
        {
          "output_type": "stream",
          "name": "stdout",
          "text": [
            "✅ Cleaned sequences saved to cleaned_sequences.fasta\n"
          ]
        },
        {
          "output_type": "stream",
          "name": "stderr",
          "text": [
            "/usr/local/lib/python3.11/dist-packages/Bio/SeqRecord.py:354: BiopythonDeprecationWarning: Using a string as the sequence is deprecated and will raise a TypeError in future. It has been converted to a Seq object.\n",
            "  warnings.warn(\n"
          ]
        }
      ]
    },
    {
      "cell_type": "code",
      "metadata": {
        "colab": {
          "base_uri": "https://localhost:8080/"
        },
        "collapsed": true,
        "id": "31c6f3ba",
        "outputId": "2c891fda-b085-4d0b-e02e-5c307bc6f369"
      },
      "source": [
        "# ----------------------------------\n",
        "# Step 2: Stats and Visualizations\n",
        "# ----------------------------------\n",
        "lengths = [len(r.seq) for r in cleaned_records]\n",
        "families = [r.id.split(\"_\")[0] for r in cleaned_records]\n",
        "amino_acids = Counter(\"\".join(str(r.seq) for r in cleaned_records))\n",
        "\n",
        "# Plot: Sequence length distribution\n",
        "plt.hist(lengths, bins=30, color=\"skyblue\")\n",
        "plt.title(\"Sequence Length Distribution\")\n",
        "plt.xlabel(\"Length\")\n",
        "plt.ylabel(\"Frequency\")\n",
        "plt.savefig(\"plots/length_distribution.png\")\n",
        "plt.close()\n",
        "\n",
        "# Plot: Count per enzyme family\n",
        "pd.Series(families).value_counts().plot(kind=\"bar\", color=\"lightgreen\")\n",
        "plt.title(\"Number of Sequences per Family\")\n",
        "plt.xlabel(\"Family\")\n",
        "plt.ylabel(\"Count\")\n",
        "plt.savefig(\"plots/family_counts.png\")\n",
        "plt.close()\n",
        "\n",
        "# Plot: Amino acid distribution\n",
        "aa_df = pd.DataFrame.from_dict(amino_acids, orient=\"index\").sort_index()\n",
        "aa_df.columns = [\"Count\"]\n",
        "aa_df.plot(kind=\"bar\", legend=False, color=\"salmon\")\n",
        "plt.title(\"Amino Acid Distribution in Generated Sequences\")\n",
        "plt.xlabel(\"Residue\")\n",
        "plt.ylabel(\"Count\")\n",
        "plt.savefig(\"plots/amino_acid_distribution.png\")\n",
        "plt.close()\n",
        "\n",
        "print(\"✅ Plots saved to plots/ directory\")"
      ],
      "execution_count": 4,
      "outputs": [
        {
          "output_type": "stream",
          "name": "stdout",
          "text": [
            "✅ Plots saved to plots/ directory\n"
          ]
        }
      ]
    },
    {
      "cell_type": "markdown",
      "source": [
        "NExt"
      ],
      "metadata": {
        "id": "TGInBwCXucAB"
      }
    },
    {
      "cell_type": "code",
      "source": [
        "# Install BLAST+ in Colab\n",
        "!apt-get install ncbi-blast+ -y\n"
      ],
      "metadata": {
        "colab": {
          "base_uri": "https://localhost:8080/"
        },
        "id": "hW6sX688497e",
        "outputId": "735e50f4-d508-4043-c247-f9d324dcd4e9"
      },
      "execution_count": 9,
      "outputs": [
        {
          "output_type": "stream",
          "name": "stdout",
          "text": [
            "Reading package lists... Done\n",
            "Building dependency tree... Done\n",
            "Reading state information... Done\n",
            "The following additional packages will be installed:\n",
            "  ncbi-data\n",
            "The following NEW packages will be installed:\n",
            "  ncbi-blast+ ncbi-data\n",
            "0 upgraded, 2 newly installed, 0 to remove and 35 not upgraded.\n",
            "Need to get 15.8 MB of archives.\n",
            "After this operation, 71.8 MB of additional disk space will be used.\n",
            "Get:1 http://archive.ubuntu.com/ubuntu jammy/universe amd64 ncbi-data all 6.1.20170106+dfsg1-9 [3,519 kB]\n",
            "Get:2 http://archive.ubuntu.com/ubuntu jammy/universe amd64 ncbi-blast+ amd64 2.12.0+ds-3build1 [12.3 MB]\n",
            "Fetched 15.8 MB in 1s (14.2 MB/s)\n",
            "Selecting previously unselected package ncbi-data.\n",
            "(Reading database ... 126284 files and directories currently installed.)\n",
            "Preparing to unpack .../ncbi-data_6.1.20170106+dfsg1-9_all.deb ...\n",
            "Unpacking ncbi-data (6.1.20170106+dfsg1-9) ...\n",
            "Selecting previously unselected package ncbi-blast+.\n",
            "Preparing to unpack .../ncbi-blast+_2.12.0+ds-3build1_amd64.deb ...\n",
            "Unpacking ncbi-blast+ (2.12.0+ds-3build1) ...\n",
            "Setting up ncbi-data (6.1.20170106+dfsg1-9) ...\n",
            "Setting up ncbi-blast+ (2.12.0+ds-3build1) ...\n",
            "Processing triggers for man-db (2.10.2-1) ...\n",
            "Processing triggers for hicolor-icon-theme (0.17-2) ...\n"
          ]
        }
      ]
    },
    {
      "cell_type": "code",
      "source": [
        "# Cell 2: Python imports and path setup\n",
        "import os\n",
        "import pandas as pd\n",
        "from Bio import SeqIO\n",
        "from Bio.Blast import NCBIXML\n",
        "from Bio.Seq import Seq\n",
        "from Bio.SeqRecord import SeqRecord\n",
        "\n",
        "os.makedirs(\"scores\", exist_ok=True)\n"
      ],
      "metadata": {
        "id": "hedsYCes5jXI"
      },
      "execution_count": 10,
      "outputs": []
    },
    {
      "cell_type": "code",
      "source": [
        "import requests\n",
        "\n",
        "# Corrected query using protein_name instead of name\n",
        "query = '(reviewed:true) AND (family:\"GH5\" OR family:\"GH10\" OR family:\"GH48\" OR family:\"PL1\" OR family:\"PL7\" OR family:\"CE1\" OR protein_name:\"xylanase\" OR protein_name:\"alginate lyase\" OR protein_name:\"mannanase\" OR protein_name:\"cellulase\" OR protein_name:\"beta-glucosidase\" OR protein_name:\"esterase\")'\n",
        "\n",
        "url = 'https://rest.uniprot.org/uniprotkb/search'\n",
        "\n",
        "params = {\n",
        "    'query': query,\n",
        "    'format': 'fasta',\n",
        "    'size': '500'\n",
        "}\n",
        "\n",
        "print(\"Sending request to UniProt...\")\n",
        "\n",
        "response = requests.get(url, params=params)\n",
        "\n",
        "if response.status_code == 200:\n",
        "    fasta_data = response.text\n",
        "    with open('proteins.fasta', 'w') as f:\n",
        "        f.write(fasta_data)\n",
        "    print(f\"Downloaded {len(fasta_data)} characters and saved to proteins.fasta\")\n",
        "else:\n",
        "    print(f\"Failed to retrieve data, status code: {response.status_code}\")\n",
        "    print(\"Response content:\", response.text)\n"
      ],
      "metadata": {
        "colab": {
          "base_uri": "https://localhost:8080/"
        },
        "id": "FL01Lbe99buy",
        "outputId": "bd5a30bf-dc17-4bab-a643-1522e2251bed"
      },
      "execution_count": 13,
      "outputs": [
        {
          "output_type": "stream",
          "name": "stdout",
          "text": [
            "Sending request to UniProt...\n",
            "Downloaded 309004 characters and saved to proteins.fasta\n"
          ]
        }
      ]
    },
    {
      "cell_type": "code",
      "source": [
        "# Cell 3: Upload enzyme DB (manual action)\n",
        "from google.colab import files\n",
        "uploaded = files.upload()  # Upload `enzymes.fasta` here\n"
      ],
      "metadata": {
        "colab": {
          "base_uri": "https://localhost:8080/",
          "height": 73
        },
        "id": "FsYiB7dq5leW",
        "outputId": "10eb3fbd-dd2e-4506-92af-25a4b46c5ece"
      },
      "execution_count": 14,
      "outputs": [
        {
          "output_type": "display_data",
          "data": {
            "text/plain": [
              "<IPython.core.display.HTML object>"
            ],
            "text/html": [
              "\n",
              "     <input type=\"file\" id=\"files-dfbd5147-4cb0-4b9e-90b9-4f579ef74c76\" name=\"files[]\" multiple disabled\n",
              "        style=\"border:none\" />\n",
              "     <output id=\"result-dfbd5147-4cb0-4b9e-90b9-4f579ef74c76\">\n",
              "      Upload widget is only available when the cell has been executed in the\n",
              "      current browser session. Please rerun this cell to enable.\n",
              "      </output>\n",
              "      <script>// Copyright 2017 Google LLC\n",
              "//\n",
              "// Licensed under the Apache License, Version 2.0 (the \"License\");\n",
              "// you may not use this file except in compliance with the License.\n",
              "// You may obtain a copy of the License at\n",
              "//\n",
              "//      http://www.apache.org/licenses/LICENSE-2.0\n",
              "//\n",
              "// Unless required by applicable law or agreed to in writing, software\n",
              "// distributed under the License is distributed on an \"AS IS\" BASIS,\n",
              "// WITHOUT WARRANTIES OR CONDITIONS OF ANY KIND, either express or implied.\n",
              "// See the License for the specific language governing permissions and\n",
              "// limitations under the License.\n",
              "\n",
              "/**\n",
              " * @fileoverview Helpers for google.colab Python module.\n",
              " */\n",
              "(function(scope) {\n",
              "function span(text, styleAttributes = {}) {\n",
              "  const element = document.createElement('span');\n",
              "  element.textContent = text;\n",
              "  for (const key of Object.keys(styleAttributes)) {\n",
              "    element.style[key] = styleAttributes[key];\n",
              "  }\n",
              "  return element;\n",
              "}\n",
              "\n",
              "// Max number of bytes which will be uploaded at a time.\n",
              "const MAX_PAYLOAD_SIZE = 100 * 1024;\n",
              "\n",
              "function _uploadFiles(inputId, outputId) {\n",
              "  const steps = uploadFilesStep(inputId, outputId);\n",
              "  const outputElement = document.getElementById(outputId);\n",
              "  // Cache steps on the outputElement to make it available for the next call\n",
              "  // to uploadFilesContinue from Python.\n",
              "  outputElement.steps = steps;\n",
              "\n",
              "  return _uploadFilesContinue(outputId);\n",
              "}\n",
              "\n",
              "// This is roughly an async generator (not supported in the browser yet),\n",
              "// where there are multiple asynchronous steps and the Python side is going\n",
              "// to poll for completion of each step.\n",
              "// This uses a Promise to block the python side on completion of each step,\n",
              "// then passes the result of the previous step as the input to the next step.\n",
              "function _uploadFilesContinue(outputId) {\n",
              "  const outputElement = document.getElementById(outputId);\n",
              "  const steps = outputElement.steps;\n",
              "\n",
              "  const next = steps.next(outputElement.lastPromiseValue);\n",
              "  return Promise.resolve(next.value.promise).then((value) => {\n",
              "    // Cache the last promise value to make it available to the next\n",
              "    // step of the generator.\n",
              "    outputElement.lastPromiseValue = value;\n",
              "    return next.value.response;\n",
              "  });\n",
              "}\n",
              "\n",
              "/**\n",
              " * Generator function which is called between each async step of the upload\n",
              " * process.\n",
              " * @param {string} inputId Element ID of the input file picker element.\n",
              " * @param {string} outputId Element ID of the output display.\n",
              " * @return {!Iterable<!Object>} Iterable of next steps.\n",
              " */\n",
              "function* uploadFilesStep(inputId, outputId) {\n",
              "  const inputElement = document.getElementById(inputId);\n",
              "  inputElement.disabled = false;\n",
              "\n",
              "  const outputElement = document.getElementById(outputId);\n",
              "  outputElement.innerHTML = '';\n",
              "\n",
              "  const pickedPromise = new Promise((resolve) => {\n",
              "    inputElement.addEventListener('change', (e) => {\n",
              "      resolve(e.target.files);\n",
              "    });\n",
              "  });\n",
              "\n",
              "  const cancel = document.createElement('button');\n",
              "  inputElement.parentElement.appendChild(cancel);\n",
              "  cancel.textContent = 'Cancel upload';\n",
              "  const cancelPromise = new Promise((resolve) => {\n",
              "    cancel.onclick = () => {\n",
              "      resolve(null);\n",
              "    };\n",
              "  });\n",
              "\n",
              "  // Wait for the user to pick the files.\n",
              "  const files = yield {\n",
              "    promise: Promise.race([pickedPromise, cancelPromise]),\n",
              "    response: {\n",
              "      action: 'starting',\n",
              "    }\n",
              "  };\n",
              "\n",
              "  cancel.remove();\n",
              "\n",
              "  // Disable the input element since further picks are not allowed.\n",
              "  inputElement.disabled = true;\n",
              "\n",
              "  if (!files) {\n",
              "    return {\n",
              "      response: {\n",
              "        action: 'complete',\n",
              "      }\n",
              "    };\n",
              "  }\n",
              "\n",
              "  for (const file of files) {\n",
              "    const li = document.createElement('li');\n",
              "    li.append(span(file.name, {fontWeight: 'bold'}));\n",
              "    li.append(span(\n",
              "        `(${file.type || 'n/a'}) - ${file.size} bytes, ` +\n",
              "        `last modified: ${\n",
              "            file.lastModifiedDate ? file.lastModifiedDate.toLocaleDateString() :\n",
              "                                    'n/a'} - `));\n",
              "    const percent = span('0% done');\n",
              "    li.appendChild(percent);\n",
              "\n",
              "    outputElement.appendChild(li);\n",
              "\n",
              "    const fileDataPromise = new Promise((resolve) => {\n",
              "      const reader = new FileReader();\n",
              "      reader.onload = (e) => {\n",
              "        resolve(e.target.result);\n",
              "      };\n",
              "      reader.readAsArrayBuffer(file);\n",
              "    });\n",
              "    // Wait for the data to be ready.\n",
              "    let fileData = yield {\n",
              "      promise: fileDataPromise,\n",
              "      response: {\n",
              "        action: 'continue',\n",
              "      }\n",
              "    };\n",
              "\n",
              "    // Use a chunked sending to avoid message size limits. See b/62115660.\n",
              "    let position = 0;\n",
              "    do {\n",
              "      const length = Math.min(fileData.byteLength - position, MAX_PAYLOAD_SIZE);\n",
              "      const chunk = new Uint8Array(fileData, position, length);\n",
              "      position += length;\n",
              "\n",
              "      const base64 = btoa(String.fromCharCode.apply(null, chunk));\n",
              "      yield {\n",
              "        response: {\n",
              "          action: 'append',\n",
              "          file: file.name,\n",
              "          data: base64,\n",
              "        },\n",
              "      };\n",
              "\n",
              "      let percentDone = fileData.byteLength === 0 ?\n",
              "          100 :\n",
              "          Math.round((position / fileData.byteLength) * 100);\n",
              "      percent.textContent = `${percentDone}% done`;\n",
              "\n",
              "    } while (position < fileData.byteLength);\n",
              "  }\n",
              "\n",
              "  // All done.\n",
              "  yield {\n",
              "    response: {\n",
              "      action: 'complete',\n",
              "    }\n",
              "  };\n",
              "}\n",
              "\n",
              "scope.google = scope.google || {};\n",
              "scope.google.colab = scope.google.colab || {};\n",
              "scope.google.colab._files = {\n",
              "  _uploadFiles,\n",
              "  _uploadFilesContinue,\n",
              "};\n",
              "})(self);\n",
              "</script> "
            ]
          },
          "metadata": {}
        },
        {
          "output_type": "stream",
          "name": "stdout",
          "text": [
            "Saving enzymes.fasta to enzymes (1).fasta\n"
          ]
        }
      ]
    },
    {
      "cell_type": "code",
      "source": [
        "# Cell 4: Create a protein BLAST database from enzymes.fasta\n",
        "!makeblastdb -in enzymes.fasta -dbtype prot -out enzymes_db\n",
        "print(\"✅ Local BLAST database created.\")\n"
      ],
      "metadata": {
        "colab": {
          "base_uri": "https://localhost:8080/"
        },
        "id": "foq00cfB5yPG",
        "outputId": "40dee739-34fb-4dc2-e627-9120d20aceff"
      },
      "execution_count": 15,
      "outputs": [
        {
          "output_type": "stream",
          "name": "stdout",
          "text": [
            "\n",
            "\n",
            "Building a new DB, current time: 07/26/2025 18:24:33\n",
            "New DB name:   /content/enzymes_db\n",
            "New DB title:  enzymes.fasta\n",
            "Sequence type: Protein\n",
            "Keep MBits: T\n",
            "Maximum file size: 1000000000B\n",
            "Adding sequences from FASTA; added 500 sequences in 0.0247669 seconds.\n",
            "\n",
            "\n",
            "✅ Local BLAST database created.\n"
          ]
        }
      ]
    },
    {
      "cell_type": "code",
      "source": [
        "# Cell 5: Upload generated enzyme sequences\n",
        "uploaded = files.upload()  # Upload `cleaned_sequences.fasta`\n"
      ],
      "metadata": {
        "colab": {
          "base_uri": "https://localhost:8080/",
          "height": 73
        },
        "id": "nv8PSkYh5zqQ",
        "outputId": "0a0d7072-9078-4226-e40e-46a351e8cad2"
      },
      "execution_count": 16,
      "outputs": [
        {
          "output_type": "display_data",
          "data": {
            "text/plain": [
              "<IPython.core.display.HTML object>"
            ],
            "text/html": [
              "\n",
              "     <input type=\"file\" id=\"files-9336af37-57ad-4bbd-a33b-0d1baf6a7aac\" name=\"files[]\" multiple disabled\n",
              "        style=\"border:none\" />\n",
              "     <output id=\"result-9336af37-57ad-4bbd-a33b-0d1baf6a7aac\">\n",
              "      Upload widget is only available when the cell has been executed in the\n",
              "      current browser session. Please rerun this cell to enable.\n",
              "      </output>\n",
              "      <script>// Copyright 2017 Google LLC\n",
              "//\n",
              "// Licensed under the Apache License, Version 2.0 (the \"License\");\n",
              "// you may not use this file except in compliance with the License.\n",
              "// You may obtain a copy of the License at\n",
              "//\n",
              "//      http://www.apache.org/licenses/LICENSE-2.0\n",
              "//\n",
              "// Unless required by applicable law or agreed to in writing, software\n",
              "// distributed under the License is distributed on an \"AS IS\" BASIS,\n",
              "// WITHOUT WARRANTIES OR CONDITIONS OF ANY KIND, either express or implied.\n",
              "// See the License for the specific language governing permissions and\n",
              "// limitations under the License.\n",
              "\n",
              "/**\n",
              " * @fileoverview Helpers for google.colab Python module.\n",
              " */\n",
              "(function(scope) {\n",
              "function span(text, styleAttributes = {}) {\n",
              "  const element = document.createElement('span');\n",
              "  element.textContent = text;\n",
              "  for (const key of Object.keys(styleAttributes)) {\n",
              "    element.style[key] = styleAttributes[key];\n",
              "  }\n",
              "  return element;\n",
              "}\n",
              "\n",
              "// Max number of bytes which will be uploaded at a time.\n",
              "const MAX_PAYLOAD_SIZE = 100 * 1024;\n",
              "\n",
              "function _uploadFiles(inputId, outputId) {\n",
              "  const steps = uploadFilesStep(inputId, outputId);\n",
              "  const outputElement = document.getElementById(outputId);\n",
              "  // Cache steps on the outputElement to make it available for the next call\n",
              "  // to uploadFilesContinue from Python.\n",
              "  outputElement.steps = steps;\n",
              "\n",
              "  return _uploadFilesContinue(outputId);\n",
              "}\n",
              "\n",
              "// This is roughly an async generator (not supported in the browser yet),\n",
              "// where there are multiple asynchronous steps and the Python side is going\n",
              "// to poll for completion of each step.\n",
              "// This uses a Promise to block the python side on completion of each step,\n",
              "// then passes the result of the previous step as the input to the next step.\n",
              "function _uploadFilesContinue(outputId) {\n",
              "  const outputElement = document.getElementById(outputId);\n",
              "  const steps = outputElement.steps;\n",
              "\n",
              "  const next = steps.next(outputElement.lastPromiseValue);\n",
              "  return Promise.resolve(next.value.promise).then((value) => {\n",
              "    // Cache the last promise value to make it available to the next\n",
              "    // step of the generator.\n",
              "    outputElement.lastPromiseValue = value;\n",
              "    return next.value.response;\n",
              "  });\n",
              "}\n",
              "\n",
              "/**\n",
              " * Generator function which is called between each async step of the upload\n",
              " * process.\n",
              " * @param {string} inputId Element ID of the input file picker element.\n",
              " * @param {string} outputId Element ID of the output display.\n",
              " * @return {!Iterable<!Object>} Iterable of next steps.\n",
              " */\n",
              "function* uploadFilesStep(inputId, outputId) {\n",
              "  const inputElement = document.getElementById(inputId);\n",
              "  inputElement.disabled = false;\n",
              "\n",
              "  const outputElement = document.getElementById(outputId);\n",
              "  outputElement.innerHTML = '';\n",
              "\n",
              "  const pickedPromise = new Promise((resolve) => {\n",
              "    inputElement.addEventListener('change', (e) => {\n",
              "      resolve(e.target.files);\n",
              "    });\n",
              "  });\n",
              "\n",
              "  const cancel = document.createElement('button');\n",
              "  inputElement.parentElement.appendChild(cancel);\n",
              "  cancel.textContent = 'Cancel upload';\n",
              "  const cancelPromise = new Promise((resolve) => {\n",
              "    cancel.onclick = () => {\n",
              "      resolve(null);\n",
              "    };\n",
              "  });\n",
              "\n",
              "  // Wait for the user to pick the files.\n",
              "  const files = yield {\n",
              "    promise: Promise.race([pickedPromise, cancelPromise]),\n",
              "    response: {\n",
              "      action: 'starting',\n",
              "    }\n",
              "  };\n",
              "\n",
              "  cancel.remove();\n",
              "\n",
              "  // Disable the input element since further picks are not allowed.\n",
              "  inputElement.disabled = true;\n",
              "\n",
              "  if (!files) {\n",
              "    return {\n",
              "      response: {\n",
              "        action: 'complete',\n",
              "      }\n",
              "    };\n",
              "  }\n",
              "\n",
              "  for (const file of files) {\n",
              "    const li = document.createElement('li');\n",
              "    li.append(span(file.name, {fontWeight: 'bold'}));\n",
              "    li.append(span(\n",
              "        `(${file.type || 'n/a'}) - ${file.size} bytes, ` +\n",
              "        `last modified: ${\n",
              "            file.lastModifiedDate ? file.lastModifiedDate.toLocaleDateString() :\n",
              "                                    'n/a'} - `));\n",
              "    const percent = span('0% done');\n",
              "    li.appendChild(percent);\n",
              "\n",
              "    outputElement.appendChild(li);\n",
              "\n",
              "    const fileDataPromise = new Promise((resolve) => {\n",
              "      const reader = new FileReader();\n",
              "      reader.onload = (e) => {\n",
              "        resolve(e.target.result);\n",
              "      };\n",
              "      reader.readAsArrayBuffer(file);\n",
              "    });\n",
              "    // Wait for the data to be ready.\n",
              "    let fileData = yield {\n",
              "      promise: fileDataPromise,\n",
              "      response: {\n",
              "        action: 'continue',\n",
              "      }\n",
              "    };\n",
              "\n",
              "    // Use a chunked sending to avoid message size limits. See b/62115660.\n",
              "    let position = 0;\n",
              "    do {\n",
              "      const length = Math.min(fileData.byteLength - position, MAX_PAYLOAD_SIZE);\n",
              "      const chunk = new Uint8Array(fileData, position, length);\n",
              "      position += length;\n",
              "\n",
              "      const base64 = btoa(String.fromCharCode.apply(null, chunk));\n",
              "      yield {\n",
              "        response: {\n",
              "          action: 'append',\n",
              "          file: file.name,\n",
              "          data: base64,\n",
              "        },\n",
              "      };\n",
              "\n",
              "      let percentDone = fileData.byteLength === 0 ?\n",
              "          100 :\n",
              "          Math.round((position / fileData.byteLength) * 100);\n",
              "      percent.textContent = `${percentDone}% done`;\n",
              "\n",
              "    } while (position < fileData.byteLength);\n",
              "  }\n",
              "\n",
              "  // All done.\n",
              "  yield {\n",
              "    response: {\n",
              "      action: 'complete',\n",
              "    }\n",
              "  };\n",
              "}\n",
              "\n",
              "scope.google = scope.google || {};\n",
              "scope.google.colab = scope.google.colab || {};\n",
              "scope.google.colab._files = {\n",
              "  _uploadFiles,\n",
              "  _uploadFilesContinue,\n",
              "};\n",
              "})(self);\n",
              "</script> "
            ]
          },
          "metadata": {}
        },
        {
          "output_type": "stream",
          "name": "stdout",
          "text": [
            "Saving cleaned_sequences.fasta to cleaned_sequences (1).fasta\n"
          ]
        }
      ]
    },
    {
      "cell_type": "code",
      "source": [
        "# Cell 6: Run BLASTP with local DB\n",
        "!blastp -query cleaned_sequences.fasta -db enzymes_db -out scores/results.xml -outfmt 5\n",
        "print(\"✅ Local BLASTP completed and saved to scores/results.xml\")\n"
      ],
      "metadata": {
        "colab": {
          "base_uri": "https://localhost:8080/"
        },
        "id": "SfZ0WfWU58Fe",
        "outputId": "15c3037b-5c79-4b38-d5f7-400352059858"
      },
      "execution_count": 17,
      "outputs": [
        {
          "output_type": "stream",
          "name": "stdout",
          "text": [
            "FASTA-Reader: Ignoring invalid residues at position(s): On line 2: 12\n",
            "FASTA-Reader: Ignoring invalid residues at position(s): On line 7: 36-37\n",
            "FASTA-Reader: Ignoring invalid residues at position(s): On line 9: 58-59\n",
            "FASTA-Reader: Ignoring invalid residues at position(s): On line 13: 5-6\n",
            "FASTA-Reader: Ignoring invalid residues at position(s): On line 15: 18-19\n",
            "FASTA-Reader: Ignoring invalid residues at position(s): On line 16: 15-16\n",
            "FASTA-Reader: Ignoring invalid residues at position(s): On line 20: 12\n",
            "FASTA-Reader: Ignoring invalid residues at position(s): On line 25: 43-44\n",
            "FASTA-Reader: Ignoring invalid residues at position(s): On line 28: 31-32\n",
            "FASTA-Reader: Ignoring invalid residues at position(s): On line 36: 5-6\n",
            "FASTA-Reader: Ignoring invalid residues at position(s): On line 39: 12\n",
            "FASTA-Reader: Ignoring invalid residues at position(s): On line 40: 33-34\n",
            "FASTA-Reader: Ignoring invalid residues at position(s): On line 41: 20-21\n",
            "FASTA-Reader: Ignoring invalid residues at position(s): On line 44: 58-59\n",
            "FASTA-Reader: Ignoring invalid residues at position(s): On line 46: 1-2\n",
            "FASTA-Reader: Ignoring invalid residues at position(s): On line 49: 8-9\n",
            "FASTA-Reader: Ignoring invalid residues at position(s): On line 52: 24-25\n",
            "FASTA-Reader: Ignoring invalid residues at position(s): On line 53: 57-58\n",
            "FASTA-Reader: Ignoring invalid residues at position(s): On line 57: 12\n",
            "FASTA-Reader: Ignoring invalid residues at position(s): On line 58: 44-45\n",
            "FASTA-Reader: Ignoring invalid residues at position(s): On line 61: 40-41\n",
            "FASTA-Reader: Ignoring invalid residues at position(s): On line 63: 54-55\n",
            "FASTA-Reader: Ignoring invalid residues at position(s): On line 76: 12\n",
            "FASTA-Reader: Ignoring invalid residues at position(s): On line 84: 7-8\n",
            "FASTA-Reader: Ignoring invalid residues at position(s): On line 89: 46-47\n",
            "FASTA-Reader: Ignoring invalid residues at position(s): On line 92: 42-43\n",
            "FASTA-Reader: Ignoring invalid residues at position(s): On line 95: 12-13\n",
            "FASTA-Reader: Ignoring invalid residues at position(s): On line 104: 39-40\n",
            "FASTA-Reader: Ignoring invalid residues at position(s): On line 109: 32-33\n",
            "FASTA-Reader: Ignoring invalid residues at position(s): On line 114: 12-13\n",
            "FASTA-Reader: Ignoring invalid residues at position(s): On line 124: 13-14\n",
            "FASTA-Reader: Ignoring invalid residues at position(s): On line 133: 12-13\n",
            "FASTA-Reader: Ignoring invalid residues at position(s): On line 139: 31-32\n",
            "FASTA-Reader: Ignoring invalid residues at position(s): On line 141: 23-24\n",
            "FASTA-Reader: Ignoring invalid residues at position(s): On line 148: 12-13\n",
            "FASTA-Reader: Ignoring invalid residues at position(s): On line 152: 12-13\n",
            "FASTA-Reader: Ignoring invalid residues at position(s): On line 154: 24-25, 52-53\n",
            "FASTA-Reader: Ignoring invalid residues at position(s): On line 161: 11-12\n",
            "FASTA-Reader: Ignoring invalid residues at position(s): On line 162: 19-20\n",
            "FASTA-Reader: Ignoring invalid residues at position(s): On line 163: 47-48\n",
            "FASTA-Reader: Ignoring invalid residues at position(s): On line 170: 12-13\n",
            "FASTA-Reader: Ignoring invalid residues at position(s): On line 173: 40-41\n",
            "FASTA-Reader: Ignoring invalid residues at position(s): On line 175: 60\n",
            "FASTA-Reader: Ignoring invalid residues at position(s): On line 176: 1\n",
            "FASTA-Reader: Ignoring invalid residues at position(s): On line 181: 32-33\n",
            "FASTA-Reader: Ignoring invalid residues at position(s): On line 185: 37-38\n",
            "FASTA-Reader: Ignoring invalid residues at position(s): On line 191: 58-59\n",
            "FASTA-Reader: Ignoring invalid residues at position(s): On line 193: 55-56\n",
            "FASTA-Reader: Ignoring invalid residues at position(s): On line 196: 39-40\n",
            "FASTA-Reader: Ignoring invalid residues at position(s): On line 197: 51-52\n",
            "FASTA-Reader: Ignoring invalid residues at position(s): On line 199: 41-42\n",
            "FASTA-Reader: Ignoring invalid residues at position(s): On line 201: 6-7\n",
            "FASTA-Reader: Ignoring invalid residues at position(s): On line 202: 32-33\n",
            "FASTA-Reader: Ignoring invalid residues at position(s): On line 209: 40-41\n",
            "FASTA-Reader: Ignoring invalid residues at position(s): On line 211: 50-51\n",
            "FASTA-Reader: Ignoring invalid residues at position(s): On line 220: 10-11\n",
            "FASTA-Reader: Ignoring invalid residues at position(s): On line 227: 17-18\n",
            "FASTA-Reader: Ignoring invalid residues at position(s): On line 229: 42-43\n",
            "FASTA-Reader: Ignoring invalid residues at position(s): On line 234: 35-36\n",
            "FASTA-Reader: Ignoring invalid residues at position(s): On line 245: 44-45\n",
            "FASTA-Reader: Ignoring invalid residues at position(s): On line 252: 1-2\n",
            "FASTA-Reader: Ignoring invalid residues at position(s): On line 259: 22-23\n",
            "FASTA-Reader: Ignoring invalid residues at position(s): On line 268: 35-36\n",
            "FASTA-Reader: Ignoring invalid residues at position(s): On line 271: 26-27\n",
            "FASTA-Reader: Ignoring invalid residues at position(s): On line 273: 10-11\n",
            "FASTA-Reader: Ignoring invalid residues at position(s): On line 277: 17-18\n",
            "FASTA-Reader: Ignoring invalid residues at position(s): On line 285: 52-53\n",
            "FASTA-Reader: Ignoring invalid residues at position(s): On line 288: 2-3\n",
            "FASTA-Reader: Ignoring invalid residues at position(s): On line 294: 2-3\n",
            "FASTA-Reader: Ignoring invalid residues at position(s): On line 297: 37-38\n",
            "FASTA-Reader: Ignoring invalid residues at position(s): On line 303: 19-20\n",
            "FASTA-Reader: Ignoring invalid residues at position(s): On line 308: 29-30\n",
            "FASTA-Reader: Ignoring invalid residues at position(s): On line 309: 60\n",
            "FASTA-Reader: Ignoring invalid residues at position(s): On line 310: 1\n",
            "FASTA-Reader: Ignoring invalid residues at position(s): On line 311: 48-49\n",
            "FASTA-Reader: Ignoring invalid residues at position(s): On line 312: 47-48\n",
            "FASTA-Reader: Ignoring invalid residues at position(s): On line 314: 50-51\n",
            "FASTA-Reader: Ignoring invalid residues at position(s): On line 325: 15-16\n",
            "FASTA-Reader: Ignoring invalid residues at position(s): On line 329: 17-18\n",
            "FASTA-Reader: Ignoring invalid residues at position(s): On line 342: 58-59\n",
            "FASTA-Reader: Ignoring invalid residues at position(s): On line 345: 29-30\n",
            "FASTA-Reader: Ignoring invalid residues at position(s): On line 361: 22-23\n",
            "FASTA-Reader: Ignoring invalid residues at position(s): On line 368: 30-31\n",
            "FASTA-Reader: Ignoring invalid residues at position(s): On line 370: 48-49\n",
            "FASTA-Reader: Ignoring invalid residues at position(s): On line 371: 56-57\n",
            "FASTA-Reader: Ignoring invalid residues at position(s): On line 373: 12\n",
            "FASTA-Reader: Ignoring invalid residues at position(s): On line 378: 52-53\n",
            "FASTA-Reader: Ignoring invalid residues at position(s): On line 384: 35-36\n",
            "FASTA-Reader: Ignoring invalid residues at position(s): On line 387: 53-54\n",
            "FASTA-Reader: Ignoring invalid residues at position(s): On line 392: 12\n",
            "FASTA-Reader: Ignoring invalid residues at position(s): On line 411: 12\n",
            "FASTA-Reader: Ignoring invalid residues at position(s): On line 417: 23-24\n",
            "FASTA-Reader: Ignoring invalid residues at position(s): On line 421: 33\n",
            "FASTA-Reader: Ignoring invalid residues at position(s): On line 430: 12\n",
            "FASTA-Reader: Ignoring invalid residues at position(s): On line 437: 3-4\n",
            "FASTA-Reader: Ignoring invalid residues at position(s): On line 439: 56-57\n",
            "FASTA-Reader: Ignoring invalid residues at position(s): On line 445: 9-10\n",
            "FASTA-Reader: Ignoring invalid residues at position(s): On line 449: 12\n",
            "FASTA-Reader: Ignoring invalid residues at position(s): On line 450: 48-49\n",
            "FASTA-Reader: Ignoring invalid residues at position(s): On line 457: 32-33\n",
            "FASTA-Reader: Ignoring invalid residues at position(s): On line 462: 27-28\n",
            "FASTA-Reader: Ignoring invalid residues at position(s): On line 468: 12\n",
            "FASTA-Reader: Ignoring invalid residues at position(s): On line 473: 39-40\n",
            "FASTA-Reader: Ignoring invalid residues at position(s): On line 478: 19-20\n",
            "FASTA-Reader: Ignoring invalid residues at position(s): On line 487: 12\n",
            "FASTA-Reader: Ignoring invalid residues at position(s): On line 492: 48-49\n",
            "FASTA-Reader: Ignoring invalid residues at position(s): On line 495: 22-23\n",
            "FASTA-Reader: Ignoring invalid residues at position(s): On line 497: 21-22\n",
            "FASTA-Reader: Ignoring invalid residues at position(s): On line 500: 52-53\n",
            "FASTA-Reader: Ignoring invalid residues at position(s): On line 502: 25-26\n",
            "FASTA-Reader: Ignoring invalid residues at position(s): On line 505: 12\n",
            "FASTA-Reader: Ignoring invalid residues at position(s): On line 511: 60\n",
            "FASTA-Reader: Ignoring invalid residues at position(s): On line 512: 1, 52-53\n",
            "FASTA-Reader: Ignoring invalid residues at position(s): On line 514: 57-58\n",
            "FASTA-Reader: Ignoring invalid residues at position(s): On line 517: 26-27\n",
            "FASTA-Reader: Ignoring invalid residues at position(s): On line 523: 12\n",
            "FASTA-Reader: Ignoring invalid residues at position(s): On line 528: 39-40\n",
            "FASTA-Reader: Ignoring invalid residues at position(s): On line 537: 47-48\n",
            "FASTA-Reader: Ignoring invalid residues at position(s): On line 542: 12\n",
            "FASTA-Reader: Ignoring invalid residues at position(s): On line 549: 16-17\n",
            "FASTA-Reader: Ignoring invalid residues at position(s): On line 561: 56-57\n",
            "FASTA-Reader: Ignoring invalid residues at position(s): On line 570: 50-51\n",
            "FASTA-Reader: Ignoring invalid residues at position(s): On line 572: 59-60\n",
            "FASTA-Reader: Ignoring invalid residues at position(s): On line 576: 21-22\n",
            "FASTA-Reader: Ignoring invalid residues at position(s): On line 586: 42-43\n",
            "FASTA-Reader: Ignoring invalid residues at position(s): On line 589: 56-57\n",
            "FASTA-Reader: Ignoring invalid residues at position(s): On line 594: 14-15\n",
            "FASTA-Reader: Ignoring invalid residues at position(s): On line 600: 35-36\n",
            "FASTA-Reader: Ignoring invalid residues at position(s): On line 613: 2-3\n",
            "FASTA-Reader: Ignoring invalid residues at position(s): On line 618: 12-13\n",
            "FASTA-Reader: Ignoring invalid residues at position(s): On line 624: 7-8\n",
            "FASTA-Reader: Ignoring invalid residues at position(s): On line 626: 34-35\n",
            "FASTA-Reader: Ignoring invalid residues at position(s): On line 630: 32-33\n",
            "FASTA-Reader: Ignoring invalid residues at position(s): On line 632: 8-9\n",
            "FASTA-Reader: Ignoring invalid residues at position(s): On line 638: 26-27\n",
            "FASTA-Reader: Ignoring invalid residues at position(s): On line 648: 50-51\n",
            "✅ Local BLASTP completed and saved to scores/results.xml\n"
          ]
        }
      ]
    },
    {
      "cell_type": "code",
      "source": [
        "# Cell 7: Parse BLAST XML and extract identity, evalue, top hit\n",
        "blast_records = NCBIXML.parse(open(\"scores/results.xml\"))\n",
        "records = list(SeqIO.parse(\"cleaned_sequences.fasta\", \"fasta\"))\n",
        "results = []\n",
        "\n",
        "for record, blast_record in zip(records, blast_records):\n",
        "    try:\n",
        "        if blast_record.alignments:\n",
        "            hit = blast_record.alignments[0]\n",
        "            hsp = hit.hsps[0]\n",
        "            results.append({\n",
        "                \"family\": record.id.split(\"_\")[0],\n",
        "                \"sample_id\": record.id,\n",
        "                \"sequence\": str(record.seq),\n",
        "                \"identity\": (hsp.identities / hsp.align_length) * 100,\n",
        "                \"evalue\": hsp.expect,\n",
        "                \"hit_id\": hit.hit_id,\n",
        "                \"hit_def\": hit.hit_def,\n",
        "            })\n",
        "    except Exception as e:\n",
        "        print(f\"❌ Error for {record.id}: {e}\")\n",
        "\n",
        "df = pd.DataFrame(results)\n",
        "df.to_csv(\"scores/blast_results.csv\", index=False)\n",
        "print(\"✅ BLAST results saved to scores/blast_results.csv\")\n"
      ],
      "metadata": {
        "colab": {
          "base_uri": "https://localhost:8080/"
        },
        "id": "8YMb7v6O59mY",
        "outputId": "40167a53-4691-4f87-9c4f-d18b5f8d9a25"
      },
      "execution_count": 18,
      "outputs": [
        {
          "output_type": "stream",
          "name": "stdout",
          "text": [
            "✅ BLAST results saved to scores/blast_results.csv\n"
          ]
        }
      ]
    },
    {
      "cell_type": "code",
      "source": [
        "# Cell 8: Select the top 2 hits per enzyme family\n",
        "top_df = df.sort_values(by=[\"family\", \"identity\"], ascending=[True, False])\n",
        "top2_df = top_df.groupby(\"family\").head(2).reset_index(drop=True)\n",
        "top2_df.to_csv(\"scores/top2_summary.csv\", index=False)\n",
        "print(\"✅ Top 2 sequences per family saved to scores/top2_summary.csv\")\n"
      ],
      "metadata": {
        "colab": {
          "base_uri": "https://localhost:8080/"
        },
        "id": "ffd3nxNf6BWh",
        "outputId": "826fb171-bd0d-492d-8dcb-89870708652d"
      },
      "execution_count": 19,
      "outputs": [
        {
          "output_type": "stream",
          "name": "stdout",
          "text": [
            "✅ Top 2 sequences per family saved to scores/top2_summary.csv\n"
          ]
        }
      ]
    },
    {
      "cell_type": "code",
      "source": [
        "# Cell 9: Export selected top 2 sequences to a FASTA file\n",
        "top2_records = []\n",
        "\n",
        "for _, row in top2_df.iterrows():\n",
        "    rec = SeqRecord(Seq(row[\"sequence\"]), id=row[\"sample_id\"], description=row[\"hit_def\"])\n",
        "    top2_records.append(rec)\n",
        "\n",
        "SeqIO.write(top2_records, \"top2_sequences.fasta\", \"fasta\")\n",
        "print(\"✅ FASTA of top 2 sequences saved as top2_sequences.fasta\")\n"
      ],
      "metadata": {
        "colab": {
          "base_uri": "https://localhost:8080/"
        },
        "id": "MjWv_4LO6Fmr",
        "outputId": "4a26d68c-535a-4346-adf0-8bd2dbb40944"
      },
      "execution_count": 20,
      "outputs": [
        {
          "output_type": "stream",
          "name": "stdout",
          "text": [
            "✅ FASTA of top 2 sequences saved as top2_sequences.fasta\n"
          ]
        }
      ]
    }
  ]
}