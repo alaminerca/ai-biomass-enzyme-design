{
  "nbformat": 4,
  "nbformat_minor": 0,
  "metadata": {
    "colab": {
      "name": "AlphaFold2_batch.ipynb",
      "provenance": []
    },
    "kernelspec": {
      "name": "python3",
      "display_name": "Python 3"
    },
    "language_info": {
      "name": "python"
    }
  },
  "cells": [
    {
      "cell_type": "markdown",
      "metadata": {
        "id": "G4yBrceuFbf3"
      },
      "source": [
        "#ColabFold v1.5.5: AlphaFold2 w/ MMseqs2 BATCH\n",
        "\n",
        "<img src=\"https://raw.githubusercontent.com/sokrypton/ColabFold/main/.github/ColabFold_Marv_Logo_Small.png\" height=\"256\" align=\"right\" style=\"height:256px\">\n",
        "\n",
        "Easy to use AlphaFold2 protein structure [(Jumper et al. 2021)](https://www.nature.com/articles/s41586-021-03819-2) and complex [(Evans et al. 2021)](https://www.biorxiv.org/content/10.1101/2021.10.04.463034v1) prediction using multiple sequence alignments generated through MMseqs2. For details, refer to our manuscript:\n",
        "\n",
        "[Mirdita M, Schütze K, Moriwaki Y, Heo L, Ovchinnikov S, Steinegger M. ColabFold: Making protein folding accessible to all.\n",
        "*Nature Methods*, 2022](https://www.nature.com/articles/s41592-022-01488-1)\n",
        "\n",
        "**Usage**\n",
        "\n",
        "`input_dir` directory with only fasta files or MSAs stored in Google Drive. MSAs need to be A3M formatted and have an `.a3m` extention. For MSAs MMseqs2 will not be called.\n",
        "\n",
        "`result_dir` results will be written to the result directory in Google Drive\n",
        "\n",
        "Old versions: [v1.4](https://colab.research.google.com/github/sokrypton/ColabFold/blob/v1.4.0/batch/AlphaFold2_batch.ipynb), [v1.5.1](https://colab.research.google.com/github/sokrypton/ColabFold/blob/v1.5.1/batch/AlphaFold2_batch.ipynb), [v1.5.2](https://colab.research.google.com/github/sokrypton/ColabFold/blob/v1.5.2/batch/AlphaFold2_batch.ipynb), [v1.5.3-patch](https://colab.research.google.com/github/sokrypton/ColabFold/blob/56c72044c7d51a311ca99b953a71e552fdc042e1/batch/AlphaFold2_batch.ipynb)\n",
        "\n",
        "<strong>For more details, see <a href=\"#Instructions\">bottom</a> of the notebook and checkout the [ColabFold GitHub](https://github.com/sokrypton/ColabFold). </strong>\n",
        "\n",
        "-----------\n",
        "\n",
        "### News\n",
        "- <b><font color='green'>2023/07/31: The ColabFold MSA server is back to normal. It was using older DB (UniRef30 2202/PDB70 220313) from 27th ~8:30 AM CEST to 31st ~11:10 AM CEST.</font></b>\n",
        "- <b><font color='green'>2023/06/12: New databases! UniRef30 updated to 2023_02 and PDB to 230517. We now use PDB100 instead of PDB70 (see notes in the [main](https://colabfold.com) notebook).</font></b>\n",
        "- <b><font color='green'>2023/06/12: We introduced a new default pairing strategy: Previously, for multimer predictions with more than 2 chains, we only pair if all sequences taxonomically match (\"complete\" pairing). The new default \"greedy\" strategy pairs any taxonomically matching subsets.</font></b>"
      ]
    },
    {
      "cell_type": "code",
      "metadata": {
        "id": "AwvIWN3HDyUJ",
        "cellView": "form",
        "outputId": "14e97280-6b0d-4dde-8db4-78cb51e17a61",
        "colab": {
          "base_uri": "https://localhost:8080/"
        }
      },
      "source": [
        "#@title Mount google drive\n",
        "from google.colab import drive\n",
        "drive.mount('/content/drive')\n",
        "from sys import version_info\n",
        "python_version = f\"{version_info.major}.{version_info.minor}\""
      ],
      "execution_count": 1,
      "outputs": [
        {
          "output_type": "stream",
          "name": "stdout",
          "text": [
            "Mounted at /content/drive\n"
          ]
        }
      ]
    },
    {
      "cell_type": "code",
      "metadata": {
        "id": "kOblAo-xetgx",
        "cellView": "form"
      },
      "source": [
        "#@title Input protein sequence, then hit `Runtime` -> `Run all`\n",
        "\n",
        "input_dir = '/content/drive/MyDrive/input_fasta' #@param {type:\"string\"}\n",
        "result_dir = '/content/drive/MyDrive/result' #@param {type:\"string\"}\n",
        "\n",
        "# number of models to use\n",
        "#@markdown ---\n",
        "#@markdown ### Advanced settings\n",
        "msa_mode = \"MMseqs2 (UniRef+Environmental)\" #@param [\"MMseqs2 (UniRef+Environmental)\", \"MMseqs2 (UniRef only)\",\"single_sequence\",\"custom\"]\n",
        "num_models = 5 #@param [1,2,3,4,5] {type:\"raw\"}\n",
        "num_recycles = 3 #@param [1,3,6,12,24,48] {type:\"raw\"}\n",
        "stop_at_score = 100 #@param {type:\"string\"}\n",
        "#@markdown - early stop computing models once score > threshold (avg. plddt for \"structures\" and ptmscore for \"complexes\")\n",
        "use_custom_msa = False\n",
        "num_relax = 0 #@param [0, 1, 5] {type:\"raw\"}\n",
        "use_amber = num_relax > 0\n",
        "relax_max_iterations = 200 #@param [0,200,2000] {type:\"raw\"}\n",
        "use_templates = False #@param {type:\"boolean\"}\n",
        "do_not_overwrite_results = True #@param {type:\"boolean\"}\n",
        "zip_results = False #@param {type:\"boolean\"}\n"
      ],
      "execution_count": 2,
      "outputs": []
    },
    {
      "cell_type": "code",
      "metadata": {
        "id": "iccGdbe_Pmt9",
        "cellView": "form",
        "outputId": "df8cf68d-0252-4398-da80-f34bdb4a56bd",
        "colab": {
          "base_uri": "https://localhost:8080/"
        }
      },
      "source": [
        "#@title Install dependencies\n",
        "%%bash -s $use_amber $use_templates $python_version\n",
        "\n",
        "set -e\n",
        "\n",
        "USE_AMBER=$1\n",
        "USE_TEMPLATES=$2\n",
        "PYTHON_VERSION=$3\n",
        "\n",
        "if [ ! -f COLABFOLD_READY ]; then\n",
        "  # install dependencies\n",
        "  # We have to use \"--no-warn-conflicts\" because colab already has a lot preinstalled with requirements different to ours\n",
        "  pip install -q --no-warn-conflicts \"colabfold[alphafold-minus-jax] @ git+https://github.com/sokrypton/ColabFold\"\n",
        "  if [ -n \"${TPU_NAME}\" ]; then\n",
        "    pip install -q --no-warn-conflicts -U dm-haiku==0.0.10 jax==0.3.25\n",
        "  fi\n",
        "  ln -s /usr/local/lib/python3.*/dist-packages/colabfold colabfold\n",
        "  ln -s /usr/local/lib/python3.*/dist-packages/alphafold alphafold\n",
        "  touch COLABFOLD_READY\n",
        "fi\n",
        "\n",
        "# Download params (~1min)\n",
        "python -m colabfold.download\n",
        "\n",
        "# setup conda\n",
        "if [ ${USE_AMBER} == \"True\" ] || [ ${USE_TEMPLATES} == \"True\" ]; then\n",
        "  if [ ! -f CONDA_READY ]; then\n",
        "    wget -qnc https://github.com/conda-forge/miniforge/releases/download/25.3.1-0/Miniforge3-25.3.1-0-Linux-x86_64.sh\n",
        "    bash Miniforge3-25.3.1-0-Linux-x86_64.sh -bfp /usr/local 2>&1 1>/dev/null\n",
        "    rm Miniforge3-25.3.1-0-Linux-x86_64.sh\n",
        "    conda config --set auto_update_conda false\n",
        "    touch CONDA_READY\n",
        "  fi\n",
        "fi\n",
        "# setup template search\n",
        "if [ ${USE_TEMPLATES} == \"True\" ] && [ ! -f HH_READY ]; then\n",
        "  conda install -y -q -c conda-forge -c bioconda kalign2=2.04 hhsuite=3.3.0 python=\"${PYTHON_VERSION}\" 2>&1 1>/dev/null\n",
        "  touch HH_READY\n",
        "fi\n",
        "# setup openmm for amber refinement\n",
        "if [ ${USE_AMBER} == \"True\" ] && [ ! -f AMBER_READY ]; then\n",
        "  conda install -y -q -c conda-forge openmm=8.2.0 python=\"${PYTHON_VERSION}\" pdbfixer 2>&1 1>/dev/null\n",
        "  touch AMBER_READY\n",
        "fi"
      ],
      "execution_count": 3,
      "outputs": [
        {
          "output_type": "stream",
          "name": "stdout",
          "text": [
            "   ━━━━━━━━━━━━━━━━━━━━━━━━━━━━━━━━━━━━━━━━ 248.2/248.2 kB 17.6 MB/s eta 0:00:00\n",
            "   ━━━━━━━━━━━━━━━━━━━━━━━━━━━━━━━━━━━━━━━━ 3.3/3.3 MB 78.8 MB/s eta 0:00:00\n",
            "   ━━━━━━━━━━━━━━━━━━━━━━━━━━━━━━━━━━━━━━━━ 373.9/373.9 kB 34.3 MB/s eta 0:00:00\n",
            "   ━━━━━━━━━━━━━━━━━━━━━━━━━━━━━━━━━━━━━━━━ 251.8/251.8 MB 7.0 MB/s eta 0:00:00\n",
            "   ━━━━━━━━━━━━━━━━━━━━━━━━━━━━━━━━━━━━━━━━ 76.7/76.7 kB 7.7 MB/s eta 0:00:00\n"
          ]
        },
        {
          "output_type": "stream",
          "name": "stderr",
          "text": [
            "\rDownloading alphafold2_multimer_v3 weights to /root/.cache/colabfold:   0%|          | 0/4099624960 [00:00<?, ?it/s]\rDownloading alphafold2_multimer_v3 weights to /root/.cache/colabfold:   0%|          | 50.0k/3.82G [00:00<4:27:20, 256kB/s]\rDownloading alphafold2_multimer_v3 weights to /root/.cache/colabfold:   0%|          | 80.0k/3.82G [00:00<5:24:10, 211kB/s]\rDownloading alphafold2_multimer_v3 weights to /root/.cache/colabfold:   0%|          | 160k/3.82G [00:00<3:11:58, 356kB/s] \rDownloading alphafold2_multimer_v3 weights to /root/.cache/colabfold:   0%|          | 240k/3.82G [00:00<2:22:09, 481kB/s]\rDownloading alphafold2_multimer_v3 weights to /root/.cache/colabfold:   0%|          | 370k/3.82G [00:00<1:36:27, 708kB/s]\rDownloading alphafold2_multimer_v3 weights to /root/.cache/colabfold:   0%|          | 550k/3.82G [00:00<1:06:26, 1.03MB/s]\rDownloading alphafold2_multimer_v3 weights to /root/.cache/colabfold:   0%|          | 820k/3.82G [00:00<45:13, 1.51MB/s]  \rDownloading alphafold2_multimer_v3 weights to /root/.cache/colabfold:   0%|          | 1.22M/3.82G [00:01<29:20, 2.33MB/s]\rDownloading alphafold2_multimer_v3 weights to /root/.cache/colabfold:   0%|          | 1.84M/3.82G [00:01<19:24, 3.52MB/s]\rDownloading alphafold2_multimer_v3 weights to /root/.cache/colabfold:   0%|          | 2.80M/3.82G [00:01<12:30, 5.46MB/s]\rDownloading alphafold2_multimer_v3 weights to /root/.cache/colabfold:   0%|          | 4.27M/3.82G [00:01<08:09, 8.37MB/s]\rDownloading alphafold2_multimer_v3 weights to /root/.cache/colabfold:   0%|          | 6.53M/3.82G [00:01<05:17, 12.9MB/s]\rDownloading alphafold2_multimer_v3 weights to /root/.cache/colabfold:   0%|          | 8.90M/3.82G [00:01<04:15, 16.0MB/s]\rDownloading alphafold2_multimer_v3 weights to /root/.cache/colabfold:   0%|          | 11.5M/3.82G [00:01<03:31, 19.3MB/s]\rDownloading alphafold2_multimer_v3 weights to /root/.cache/colabfold:   0%|          | 13.8M/3.82G [00:01<03:21, 20.3MB/s]\rDownloading alphafold2_multimer_v3 weights to /root/.cache/colabfold:   0%|          | 16.0M/3.82G [00:02<05:32, 12.3MB/s]\rDownloading alphafold2_multimer_v3 weights to /root/.cache/colabfold:   0%|          | 18.0M/3.82G [00:02<04:57, 13.7MB/s]\rDownloading alphafold2_multimer_v3 weights to /root/.cache/colabfold:   1%|          | 21.9M/3.82G [00:02<03:57, 17.2MB/s]\rDownloading alphafold2_multimer_v3 weights to /root/.cache/colabfold:   1%|          | 24.0M/3.82G [00:02<03:50, 17.7MB/s]\rDownloading alphafold2_multimer_v3 weights to /root/.cache/colabfold:   1%|          | 27.8M/3.82G [00:02<02:58, 22.8MB/s]\rDownloading alphafold2_multimer_v3 weights to /root/.cache/colabfold:   1%|          | 30.3M/3.82G [00:02<03:06, 21.9MB/s]\rDownloading alphafold2_multimer_v3 weights to /root/.cache/colabfold:   1%|          | 32.6M/3.82G [00:02<03:04, 22.1MB/s]\rDownloading alphafold2_multimer_v3 weights to /root/.cache/colabfold:   1%|          | 35.3M/3.82G [00:02<03:11, 21.3MB/s]\rDownloading alphafold2_multimer_v3 weights to /root/.cache/colabfold:   1%|          | 38.9M/3.82G [00:03<03:02, 22.2MB/s]\rDownloading alphafold2_multimer_v3 weights to /root/.cache/colabfold:   1%|          | 42.5M/3.82G [00:03<02:57, 22.8MB/s]\rDownloading alphafold2_multimer_v3 weights to /root/.cache/colabfold:   1%|          | 46.2M/3.82G [00:03<02:54, 23.3MB/s]\rDownloading alphafold2_multimer_v3 weights to /root/.cache/colabfold:   1%|▏         | 49.8M/3.82G [00:03<02:52, 23.5MB/s]\rDownloading alphafold2_multimer_v3 weights to /root/.cache/colabfold:   1%|▏         | 53.5M/3.82G [00:03<02:50, 23.7MB/s]\rDownloading alphafold2_multimer_v3 weights to /root/.cache/colabfold:   1%|▏         | 57.1M/3.82G [00:03<02:49, 23.8MB/s]\rDownloading alphafold2_multimer_v3 weights to /root/.cache/colabfold:   2%|▏         | 60.7M/3.82G [00:04<02:48, 23.9MB/s]\rDownloading alphafold2_multimer_v3 weights to /root/.cache/colabfold:   2%|▏         | 64.4M/3.82G [00:04<02:48, 24.0MB/s]\rDownloading alphafold2_multimer_v3 weights to /root/.cache/colabfold:   2%|▏         | 68.0M/3.82G [00:04<02:47, 24.0MB/s]\rDownloading alphafold2_multimer_v3 weights to /root/.cache/colabfold:   2%|▏         | 71.7M/3.82G [00:04<02:47, 24.0MB/s]\rDownloading alphafold2_multimer_v3 weights to /root/.cache/colabfold:   2%|▏         | 75.3M/3.82G [00:04<02:47, 24.1MB/s]\rDownloading alphafold2_multimer_v3 weights to /root/.cache/colabfold:   2%|▏         | 79.0M/3.82G [00:04<02:46, 24.1MB/s]\rDownloading alphafold2_multimer_v3 weights to /root/.cache/colabfold:   2%|▏         | 82.6M/3.82G [00:05<02:46, 24.1MB/s]\rDownloading alphafold2_multimer_v3 weights to /root/.cache/colabfold:   2%|▏         | 86.3M/3.82G [00:05<02:46, 24.1MB/s]\rDownloading alphafold2_multimer_v3 weights to /root/.cache/colabfold:   2%|▏         | 89.9M/3.82G [00:05<02:46, 24.1MB/s]\rDownloading alphafold2_multimer_v3 weights to /root/.cache/colabfold:   2%|▏         | 93.6M/3.82G [00:05<02:46, 24.1MB/s]\rDownloading alphafold2_multimer_v3 weights to /root/.cache/colabfold:   2%|▏         | 97.2M/3.82G [00:05<02:45, 24.1MB/s]\rDownloading alphafold2_multimer_v3 weights to /root/.cache/colabfold:   3%|▎         | 101M/3.82G [00:05<02:45, 24.1MB/s] \rDownloading alphafold2_multimer_v3 weights to /root/.cache/colabfold:   3%|▎         | 105M/3.82G [00:05<02:45, 24.1MB/s]\rDownloading alphafold2_multimer_v3 weights to /root/.cache/colabfold:   3%|▎         | 108M/3.82G [00:06<02:45, 24.1MB/s]\rDownloading alphafold2_multimer_v3 weights to /root/.cache/colabfold:   3%|▎         | 112M/3.82G [00:06<02:45, 24.1MB/s]\rDownloading alphafold2_multimer_v3 weights to /root/.cache/colabfold:   3%|▎         | 115M/3.82G [00:06<02:44, 24.1MB/s]\rDownloading alphafold2_multimer_v3 weights to /root/.cache/colabfold:   3%|▎         | 119M/3.82G [00:06<02:44, 24.1MB/s]\rDownloading alphafold2_multimer_v3 weights to /root/.cache/colabfold:   3%|▎         | 123M/3.82G [00:06<02:44, 24.1MB/s]\rDownloading alphafold2_multimer_v3 weights to /root/.cache/colabfold:   3%|▎         | 126M/3.82G [00:06<02:44, 24.1MB/s]\rDownloading alphafold2_multimer_v3 weights to /root/.cache/colabfold:   3%|▎         | 130M/3.82G [00:07<02:44, 24.1MB/s]\rDownloading alphafold2_multimer_v3 weights to /root/.cache/colabfold:   3%|▎         | 134M/3.82G [00:07<02:44, 24.1MB/s]\rDownloading alphafold2_multimer_v3 weights to /root/.cache/colabfold:   4%|▎         | 137M/3.82G [00:07<02:44, 24.1MB/s]\rDownloading alphafold2_multimer_v3 weights to /root/.cache/colabfold:   4%|▎         | 141M/3.82G [00:07<03:02, 21.7MB/s]\rDownloading alphafold2_multimer_v3 weights to /root/.cache/colabfold:   4%|▎         | 144M/3.82G [00:07<03:02, 21.6MB/s]\rDownloading alphafold2_multimer_v3 weights to /root/.cache/colabfold:   4%|▍         | 148M/3.82G [00:07<02:56, 22.3MB/s]\rDownloading alphafold2_multimer_v3 weights to /root/.cache/colabfold:   4%|▍         | 152M/3.82G [00:08<02:52, 22.9MB/s]\rDownloading alphafold2_multimer_v3 weights to /root/.cache/colabfold:   4%|▍         | 155M/3.82G [00:08<02:49, 23.2MB/s]\rDownloading alphafold2_multimer_v3 weights to /root/.cache/colabfold:   4%|▍         | 159M/3.82G [00:08<02:47, 23.5MB/s]\rDownloading alphafold2_multimer_v3 weights to /root/.cache/colabfold:   4%|▍         | 162M/3.82G [00:08<02:46, 23.7MB/s]\rDownloading alphafold2_multimer_v3 weights to /root/.cache/colabfold:   4%|▍         | 166M/3.82G [00:08<02:53, 22.7MB/s]\rDownloading alphafold2_multimer_v3 weights to /root/.cache/colabfold:   4%|▍         | 168M/3.82G [00:08<03:13, 20.3MB/s]\rDownloading alphafold2_multimer_v3 weights to /root/.cache/colabfold:   4%|▍         | 170M/3.82G [00:09<03:35, 18.2MB/s]\rDownloading alphafold2_multimer_v3 weights to /root/.cache/colabfold:   4%|▍         | 174M/3.82G [00:09<03:17, 19.9MB/s]\rDownloading alphafold2_multimer_v3 weights to /root/.cache/colabfold:   5%|▍         | 177M/3.82G [00:09<03:05, 21.1MB/s]\rDownloading alphafold2_multimer_v3 weights to /root/.cache/colabfold:   5%|▍         | 181M/3.82G [00:09<02:57, 22.0MB/s]\rDownloading alphafold2_multimer_v3 weights to /root/.cache/colabfold:   5%|▍         | 185M/3.82G [00:09<02:52, 22.6MB/s]\rDownloading alphafold2_multimer_v3 weights to /root/.cache/colabfold:   5%|▍         | 188M/3.82G [00:09<02:49, 23.1MB/s]\rDownloading alphafold2_multimer_v3 weights to /root/.cache/colabfold:   5%|▍         | 192M/3.82G [00:10<02:46, 23.4MB/s]\rDownloading alphafold2_multimer_v3 weights to /root/.cache/colabfold:   5%|▌         | 196M/3.82G [00:10<02:45, 23.6MB/s]\rDownloading alphafold2_multimer_v3 weights to /root/.cache/colabfold:   5%|▌         | 199M/3.82G [00:10<02:43, 23.8MB/s]\rDownloading alphafold2_multimer_v3 weights to /root/.cache/colabfold:   5%|▌         | 203M/3.82G [00:10<02:42, 23.9MB/s]\rDownloading alphafold2_multimer_v3 weights to /root/.cache/colabfold:   5%|▌         | 207M/3.82G [00:10<02:42, 24.0MB/s]\rDownloading alphafold2_multimer_v3 weights to /root/.cache/colabfold:   5%|▌         | 210M/3.82G [00:10<02:41, 24.0MB/s]\rDownloading alphafold2_multimer_v3 weights to /root/.cache/colabfold:   5%|▌         | 214M/3.82G [00:10<02:41, 24.0MB/s]\rDownloading alphafold2_multimer_v3 weights to /root/.cache/colabfold:   6%|▌         | 218M/3.82G [00:11<02:41, 24.0MB/s]\rDownloading alphafold2_multimer_v3 weights to /root/.cache/colabfold:   6%|▌         | 221M/3.82G [00:11<02:40, 24.1MB/s]\rDownloading alphafold2_multimer_v3 weights to /root/.cache/colabfold:   6%|▌         | 225M/3.82G [00:11<02:40, 24.0MB/s]\rDownloading alphafold2_multimer_v3 weights to /root/.cache/colabfold:   6%|▌         | 229M/3.82G [00:11<02:40, 24.1MB/s]\rDownloading alphafold2_multimer_v3 weights to /root/.cache/colabfold:   6%|▌         | 232M/3.82G [00:11<02:39, 24.1MB/s]\rDownloading alphafold2_multimer_v3 weights to /root/.cache/colabfold:   6%|▌         | 236M/3.82G [00:11<02:39, 24.1MB/s]\rDownloading alphafold2_multimer_v3 weights to /root/.cache/colabfold:   6%|▌         | 240M/3.82G [00:12<02:39, 24.1MB/s]\rDownloading alphafold2_multimer_v3 weights to /root/.cache/colabfold:   6%|▌         | 243M/3.82G [00:12<02:39, 24.1MB/s]\rDownloading alphafold2_multimer_v3 weights to /root/.cache/colabfold:   6%|▋         | 247M/3.82G [00:12<02:39, 24.1MB/s]\rDownloading alphafold2_multimer_v3 weights to /root/.cache/colabfold:   6%|▋         | 250M/3.82G [00:12<02:39, 24.1MB/s]\rDownloading alphafold2_multimer_v3 weights to /root/.cache/colabfold:   6%|▋         | 254M/3.82G [00:12<02:38, 24.1MB/s]\rDownloading alphafold2_multimer_v3 weights to /root/.cache/colabfold:   7%|▋         | 258M/3.82G [00:12<02:38, 24.1MB/s]\rDownloading alphafold2_multimer_v3 weights to /root/.cache/colabfold:   7%|▋         | 261M/3.82G [00:13<02:38, 24.1MB/s]\rDownloading alphafold2_multimer_v3 weights to /root/.cache/colabfold:   7%|▋         | 265M/3.82G [00:13<02:38, 24.1MB/s]\rDownloading alphafold2_multimer_v3 weights to /root/.cache/colabfold:   7%|▋         | 269M/3.82G [00:13<02:38, 24.1MB/s]\rDownloading alphafold2_multimer_v3 weights to /root/.cache/colabfold:   7%|▋         | 272M/3.82G [00:13<02:37, 24.1MB/s]\rDownloading alphafold2_multimer_v3 weights to /root/.cache/colabfold:   7%|▋         | 276M/3.82G [00:13<02:37, 24.1MB/s]\rDownloading alphafold2_multimer_v3 weights to /root/.cache/colabfold:   7%|▋         | 280M/3.82G [00:13<02:37, 24.1MB/s]\rDownloading alphafold2_multimer_v3 weights to /root/.cache/colabfold:   7%|▋         | 283M/3.82G [00:13<02:37, 24.1MB/s]\rDownloading alphafold2_multimer_v3 weights to /root/.cache/colabfold:   7%|▋         | 287M/3.82G [00:14<02:37, 24.1MB/s]\rDownloading alphafold2_multimer_v3 weights to /root/.cache/colabfold:   7%|▋         | 291M/3.82G [00:14<02:37, 24.1MB/s]\rDownloading alphafold2_multimer_v3 weights to /root/.cache/colabfold:   8%|▊         | 294M/3.82G [00:14<02:37, 24.1MB/s]\rDownloading alphafold2_multimer_v3 weights to /root/.cache/colabfold:   8%|▊         | 298M/3.82G [00:14<02:37, 24.1MB/s]\rDownloading alphafold2_multimer_v3 weights to /root/.cache/colabfold:   8%|▊         | 302M/3.82G [00:14<02:36, 24.1MB/s]\rDownloading alphafold2_multimer_v3 weights to /root/.cache/colabfold:   8%|▊         | 305M/3.82G [00:14<02:36, 24.1MB/s]\rDownloading alphafold2_multimer_v3 weights to /root/.cache/colabfold:   8%|▊         | 309M/3.82G [00:15<02:36, 24.1MB/s]\rDownloading alphafold2_multimer_v3 weights to /root/.cache/colabfold:   8%|▊         | 312M/3.82G [00:15<02:36, 24.1MB/s]\rDownloading alphafold2_multimer_v3 weights to /root/.cache/colabfold:   8%|▊         | 316M/3.82G [00:15<02:36, 24.1MB/s]\rDownloading alphafold2_multimer_v3 weights to /root/.cache/colabfold:   8%|▊         | 320M/3.82G [00:15<02:43, 23.0MB/s]\rDownloading alphafold2_multimer_v3 weights to /root/.cache/colabfold:   8%|▊         | 322M/3.82G [00:15<03:03, 20.5MB/s]\rDownloading alphafold2_multimer_v3 weights to /root/.cache/colabfold:   8%|▊         | 324M/3.82G [00:15<03:24, 18.4MB/s]\rDownloading alphafold2_multimer_v3 weights to /root/.cache/colabfold:   8%|▊         | 327M/3.82G [00:16<03:08, 19.9MB/s]\rDownloading alphafold2_multimer_v3 weights to /root/.cache/colabfold:   8%|▊         | 331M/3.82G [00:16<02:57, 21.1MB/s]\rDownloading alphafold2_multimer_v3 weights to /root/.cache/colabfold:   9%|▊         | 335M/3.82G [00:16<02:49, 22.1MB/s]\rDownloading alphafold2_multimer_v3 weights to /root/.cache/colabfold:   9%|▊         | 338M/3.82G [00:16<02:45, 22.7MB/s]\rDownloading alphafold2_multimer_v3 weights to /root/.cache/colabfold:   9%|▊         | 342M/3.82G [00:16<02:42, 23.1MB/s]\rDownloading alphafold2_multimer_v3 weights to /root/.cache/colabfold:   9%|▉         | 346M/3.82G [00:16<02:39, 23.4MB/s]\rDownloading alphafold2_multimer_v3 weights to /root/.cache/colabfold:   9%|▉         | 349M/3.82G [00:17<02:37, 23.7MB/s]\rDownloading alphafold2_multimer_v3 weights to /root/.cache/colabfold:   9%|▉         | 353M/3.82G [00:17<02:36, 23.8MB/s]\rDownloading alphafold2_multimer_v3 weights to /root/.cache/colabfold:   9%|▉         | 357M/3.82G [00:17<02:36, 23.9MB/s]\rDownloading alphafold2_multimer_v3 weights to /root/.cache/colabfold:   9%|▉         | 360M/3.82G [00:17<02:35, 24.0MB/s]\rDownloading alphafold2_multimer_v3 weights to /root/.cache/colabfold:   9%|▉         | 364M/3.82G [00:17<02:34, 24.0MB/s]\rDownloading alphafold2_multimer_v3 weights to /root/.cache/colabfold:   9%|▉         | 368M/3.82G [00:17<02:34, 24.0MB/s]\rDownloading alphafold2_multimer_v3 weights to /root/.cache/colabfold:   9%|▉         | 371M/3.82G [00:17<02:34, 24.1MB/s]\rDownloading alphafold2_multimer_v3 weights to /root/.cache/colabfold:  10%|▉         | 375M/3.82G [00:18<02:40, 23.0MB/s]\rDownloading alphafold2_multimer_v3 weights to /root/.cache/colabfold:  10%|▉         | 378M/3.82G [00:18<02:43, 22.6MB/s]\rDownloading alphafold2_multimer_v3 weights to /root/.cache/colabfold:  10%|▉         | 382M/3.82G [00:18<02:40, 23.1MB/s]\rDownloading alphafold2_multimer_v3 weights to /root/.cache/colabfold:  10%|▉         | 385M/3.82G [00:18<02:38, 23.4MB/s]\rDownloading alphafold2_multimer_v3 weights to /root/.cache/colabfold:  10%|▉         | 389M/3.82G [00:18<02:36, 23.6MB/s]\rDownloading alphafold2_multimer_v3 weights to /root/.cache/colabfold:  10%|█         | 393M/3.82G [00:18<02:35, 23.7MB/s]\rDownloading alphafold2_multimer_v3 weights to /root/.cache/colabfold:  10%|█         | 396M/3.82G [00:19<02:34, 23.8MB/s]\rDownloading alphafold2_multimer_v3 weights to /root/.cache/colabfold:  10%|█         | 400M/3.82G [00:19<02:33, 23.9MB/s]\rDownloading alphafold2_multimer_v3 weights to /root/.cache/colabfold:  10%|█         | 404M/3.82G [00:19<02:33, 24.0MB/s]\rDownloading alphafold2_multimer_v3 weights to /root/.cache/colabfold:  10%|█         | 407M/3.82G [00:19<02:32, 24.0MB/s]\rDownloading alphafold2_multimer_v3 weights to /root/.cache/colabfold:  11%|█         | 411M/3.82G [00:19<02:32, 24.0MB/s]\rDownloading alphafold2_multimer_v3 weights to /root/.cache/colabfold:  11%|█         | 415M/3.82G [00:19<02:32, 24.1MB/s]\rDownloading alphafold2_multimer_v3 weights to /root/.cache/colabfold:  11%|█         | 418M/3.82G [00:20<02:31, 24.1MB/s]\rDownloading alphafold2_multimer_v3 weights to /root/.cache/colabfold:  11%|█         | 422M/3.82G [00:20<02:31, 24.1MB/s]\rDownloading alphafold2_multimer_v3 weights to /root/.cache/colabfold:  11%|█         | 426M/3.82G [00:20<02:31, 24.1MB/s]\rDownloading alphafold2_multimer_v3 weights to /root/.cache/colabfold:  11%|█         | 429M/3.82G [00:20<02:31, 24.1MB/s]\rDownloading alphafold2_multimer_v3 weights to /root/.cache/colabfold:  11%|█         | 433M/3.82G [00:20<02:31, 24.1MB/s]\rDownloading alphafold2_multimer_v3 weights to /root/.cache/colabfold:  11%|█         | 436M/3.82G [00:20<02:31, 24.1MB/s]\rDownloading alphafold2_multimer_v3 weights to /root/.cache/colabfold:  11%|█▏        | 440M/3.82G [00:21<02:30, 24.1MB/s]\rDownloading alphafold2_multimer_v3 weights to /root/.cache/colabfold:  11%|█▏        | 444M/3.82G [00:21<02:30, 24.1MB/s]\rDownloading alphafold2_multimer_v3 weights to /root/.cache/colabfold:  11%|█▏        | 447M/3.82G [00:21<02:30, 24.1MB/s]\rDownloading alphafold2_multimer_v3 weights to /root/.cache/colabfold:  12%|█▏        | 451M/3.82G [00:21<02:30, 24.1MB/s]\rDownloading alphafold2_multimer_v3 weights to /root/.cache/colabfold:  12%|█▏        | 455M/3.82G [00:21<02:30, 24.1MB/s]\rDownloading alphafold2_multimer_v3 weights to /root/.cache/colabfold:  12%|█▏        | 458M/3.82G [00:21<02:30, 24.1MB/s]\rDownloading alphafold2_multimer_v3 weights to /root/.cache/colabfold:  12%|█▏        | 462M/3.82G [00:21<02:30, 24.1MB/s]\rDownloading alphafold2_multimer_v3 weights to /root/.cache/colabfold:  12%|█▏        | 466M/3.82G [00:22<02:29, 24.1MB/s]\rDownloading alphafold2_multimer_v3 weights to /root/.cache/colabfold:  12%|█▏        | 469M/3.82G [00:22<02:29, 24.1MB/s]\rDownloading alphafold2_multimer_v3 weights to /root/.cache/colabfold:  12%|█▏        | 473M/3.82G [00:22<02:37, 22.9MB/s]\rDownloading alphafold2_multimer_v3 weights to /root/.cache/colabfold:  12%|█▏        | 475M/3.82G [00:22<02:56, 20.4MB/s]\rDownloading alphafold2_multimer_v3 weights to /root/.cache/colabfold:  12%|█▏        | 477M/3.82G [00:22<03:16, 18.3MB/s]\rDownloading alphafold2_multimer_v3 weights to /root/.cache/colabfold:  12%|█▏        | 481M/3.82G [00:22<03:01, 19.9MB/s]\rDownloading alphafold2_multimer_v3 weights to /root/.cache/colabfold:  12%|█▏        | 484M/3.82G [00:23<02:50, 21.1MB/s]\rDownloading alphafold2_multimer_v3 weights to /root/.cache/colabfold:  12%|█▏        | 488M/3.82G [00:23<02:43, 22.0MB/s]\rDownloading alphafold2_multimer_v3 weights to /root/.cache/colabfold:  13%|█▎        | 491M/3.82G [00:23<02:38, 22.6MB/s]\rDownloading alphafold2_multimer_v3 weights to /root/.cache/colabfold:  13%|█▎        | 495M/3.82G [00:23<02:35, 23.0MB/s]\rDownloading alphafold2_multimer_v3 weights to /root/.cache/colabfold:  13%|█▎        | 499M/3.82G [00:23<02:33, 23.3MB/s]\rDownloading alphafold2_multimer_v3 weights to /root/.cache/colabfold:  13%|█▎        | 502M/3.82G [00:23<02:31, 23.6MB/s]\rDownloading alphafold2_multimer_v3 weights to /root/.cache/colabfold:  13%|█▎        | 506M/3.82G [00:24<02:30, 23.7MB/s]\rDownloading alphafold2_multimer_v3 weights to /root/.cache/colabfold:  13%|█▎        | 510M/3.82G [00:24<02:29, 23.8MB/s]\rDownloading alphafold2_multimer_v3 weights to /root/.cache/colabfold:  13%|█▎        | 513M/3.82G [00:24<02:29, 23.9MB/s]\rDownloading alphafold2_multimer_v3 weights to /root/.cache/colabfold:  13%|█▎        | 517M/3.82G [00:24<02:28, 23.9MB/s]\rDownloading alphafold2_multimer_v3 weights to /root/.cache/colabfold:  13%|█▎        | 521M/3.82G [00:24<02:28, 24.0MB/s]\rDownloading alphafold2_multimer_v3 weights to /root/.cache/colabfold:  13%|█▎        | 524M/3.82G [00:24<02:27, 24.0MB/s]\rDownloading alphafold2_multimer_v3 weights to /root/.cache/colabfold:  14%|█▎        | 528M/3.82G [00:25<02:27, 24.0MB/s]\rDownloading alphafold2_multimer_v3 weights to /root/.cache/colabfold:  14%|█▎        | 531M/3.82G [00:25<02:27, 24.0MB/s]\rDownloading alphafold2_multimer_v3 weights to /root/.cache/colabfold:  14%|█▎        | 535M/3.82G [00:25<02:27, 24.0MB/s]\rDownloading alphafold2_multimer_v3 weights to /root/.cache/colabfold:  14%|█▍        | 539M/3.82G [00:25<02:27, 24.0MB/s]\rDownloading alphafold2_multimer_v3 weights to /root/.cache/colabfold:  14%|█▍        | 542M/3.82G [00:25<02:26, 24.1MB/s]\rDownloading alphafold2_multimer_v3 weights to /root/.cache/colabfold:  14%|█▍        | 546M/3.82G [00:25<02:26, 24.1MB/s]\rDownloading alphafold2_multimer_v3 weights to /root/.cache/colabfold:  14%|█▍        | 550M/3.82G [00:25<02:26, 24.0MB/s]\rDownloading alphafold2_multimer_v3 weights to /root/.cache/colabfold:  14%|█▍        | 553M/3.82G [00:26<02:26, 24.0MB/s]\rDownloading alphafold2_multimer_v3 weights to /root/.cache/colabfold:  14%|█▍        | 557M/3.82G [00:26<02:26, 24.0MB/s]\rDownloading alphafold2_multimer_v3 weights to /root/.cache/colabfold:  14%|█▍        | 561M/3.82G [00:26<02:26, 24.0MB/s]\rDownloading alphafold2_multimer_v3 weights to /root/.cache/colabfold:  14%|█▍        | 564M/3.82G [00:26<02:25, 24.0MB/s]\rDownloading alphafold2_multimer_v3 weights to /root/.cache/colabfold:  15%|█▍        | 568M/3.82G [00:26<02:25, 24.0MB/s]\rDownloading alphafold2_multimer_v3 weights to /root/.cache/colabfold:  15%|█▍        | 571M/3.82G [00:26<02:25, 24.0MB/s]\rDownloading alphafold2_multimer_v3 weights to /root/.cache/colabfold:  15%|█▍        | 575M/3.82G [00:27<02:25, 24.0MB/s]\rDownloading alphafold2_multimer_v3 weights to /root/.cache/colabfold:  15%|█▍        | 579M/3.82G [00:27<02:25, 24.0MB/s]\rDownloading alphafold2_multimer_v3 weights to /root/.cache/colabfold:  15%|█▍        | 582M/3.82G [00:27<02:25, 24.1MB/s]\rDownloading alphafold2_multimer_v3 weights to /root/.cache/colabfold:  15%|█▍        | 586M/3.82G [00:27<02:25, 24.0MB/s]\rDownloading alphafold2_multimer_v3 weights to /root/.cache/colabfold:  15%|█▌        | 590M/3.82G [00:27<02:32, 22.8MB/s]\rDownloading alphafold2_multimer_v3 weights to /root/.cache/colabfold:  15%|█▌        | 593M/3.82G [00:27<02:35, 22.4MB/s]\rDownloading alphafold2_multimer_v3 weights to /root/.cache/colabfold:  15%|█▌        | 596M/3.82G [00:28<02:31, 22.9MB/s]\rDownloading alphafold2_multimer_v3 weights to /root/.cache/colabfold:  15%|█▌        | 600M/3.82G [00:28<02:29, 23.3MB/s]\rDownloading alphafold2_multimer_v3 weights to /root/.cache/colabfold:  15%|█▌        | 602M/3.82G [00:28<02:31, 22.9MB/s]\rDownloading alphafold2_multimer_v3 weights to /root/.cache/colabfold:  15%|█▌        | 605M/3.82G [00:28<02:38, 21.9MB/s]\rDownloading alphafold2_multimer_v3 weights to /root/.cache/colabfold:  16%|█▌        | 608M/3.82G [00:28<02:25, 23.8MB/s]\rDownloading alphafold2_multimer_v3 weights to /root/.cache/colabfold:  16%|█▌        | 611M/3.82G [00:28<02:14, 25.6MB/s]\rDownloading alphafold2_multimer_v3 weights to /root/.cache/colabfold:  16%|█▌        | 613M/3.82G [00:28<02:28, 23.3MB/s]\rDownloading alphafold2_multimer_v3 weights to /root/.cache/colabfold:  16%|█▌        | 616M/3.82G [00:28<02:33, 22.5MB/s]\rDownloading alphafold2_multimer_v3 weights to /root/.cache/colabfold:  16%|█▌        | 619M/3.82G [00:29<02:23, 24.1MB/s]\rDownloading alphafold2_multimer_v3 weights to /root/.cache/colabfold:  16%|█▌        | 622M/3.82G [00:29<02:16, 25.3MB/s]\rDownloading alphafold2_multimer_v3 weights to /root/.cache/colabfold:  16%|█▌        | 624M/3.82G [00:29<02:30, 22.9MB/s]\rDownloading alphafold2_multimer_v3 weights to /root/.cache/colabfold:  16%|█▌        | 626M/3.82G [00:29<02:31, 22.7MB/s]\rDownloading alphafold2_multimer_v3 weights to /root/.cache/colabfold:  16%|█▌        | 630M/3.82G [00:29<02:20, 24.5MB/s]\rDownloading alphafold2_multimer_v3 weights to /root/.cache/colabfold:  16%|█▌        | 632M/3.82G [00:29<02:14, 25.6MB/s]\rDownloading alphafold2_multimer_v3 weights to /root/.cache/colabfold:  16%|█▌        | 635M/3.82G [00:29<02:28, 23.1MB/s]\rDownloading alphafold2_multimer_v3 weights to /root/.cache/colabfold:  16%|█▋        | 637M/3.82G [00:29<02:29, 22.9MB/s]\rDownloading alphafold2_multimer_v3 weights to /root/.cache/colabfold:  16%|█▋        | 641M/3.82G [00:29<02:19, 24.6MB/s]\rDownloading alphafold2_multimer_v3 weights to /root/.cache/colabfold:  16%|█▋        | 643M/3.82G [00:30<02:13, 25.7MB/s]\rDownloading alphafold2_multimer_v3 weights to /root/.cache/colabfold:  17%|█▋        | 646M/3.82G [00:30<02:27, 23.2MB/s]\rDownloading alphafold2_multimer_v3 weights to /root/.cache/colabfold:  17%|█▋        | 648M/3.82G [00:30<02:29, 22.9MB/s]\rDownloading alphafold2_multimer_v3 weights to /root/.cache/colabfold:  17%|█▋        | 652M/3.82G [00:30<02:18, 24.7MB/s]\rDownloading alphafold2_multimer_v3 weights to /root/.cache/colabfold:  17%|█▋        | 654M/3.82G [00:30<02:13, 25.6MB/s]\rDownloading alphafold2_multimer_v3 weights to /root/.cache/colabfold:  17%|█▋        | 657M/3.82G [00:30<02:27, 23.1MB/s]\rDownloading alphafold2_multimer_v3 weights to /root/.cache/colabfold:  17%|█▋        | 659M/3.82G [00:30<02:28, 23.0MB/s]\rDownloading alphafold2_multimer_v3 weights to /root/.cache/colabfold:  17%|█▋        | 662M/3.82G [00:30<02:51, 19.9MB/s]\rDownloading alphafold2_multimer_v3 weights to /root/.cache/colabfold:  17%|█▋        | 663M/3.82G [00:31<02:59, 19.0MB/s]\rDownloading alphafold2_multimer_v3 weights to /root/.cache/colabfold:  17%|█▋        | 666M/3.82G [00:31<02:47, 20.3MB/s]\rDownloading alphafold2_multimer_v3 weights to /root/.cache/colabfold:  17%|█▋        | 669M/3.82G [00:31<02:29, 22.8MB/s]\rDownloading alphafold2_multimer_v3 weights to /root/.cache/colabfold:  17%|█▋        | 671M/3.82G [00:31<02:30, 22.6MB/s]\rDownloading alphafold2_multimer_v3 weights to /root/.cache/colabfold:  17%|█▋        | 673M/3.82G [00:31<02:33, 22.1MB/s]\rDownloading alphafold2_multimer_v3 weights to /root/.cache/colabfold:  17%|█▋        | 676M/3.82G [00:31<02:19, 24.3MB/s]\rDownloading alphafold2_multimer_v3 weights to /root/.cache/colabfold:  17%|█▋        | 679M/3.82G [00:31<02:21, 23.9MB/s]\rDownloading alphafold2_multimer_v3 weights to /root/.cache/colabfold:  17%|█▋        | 681M/3.82G [00:31<02:26, 23.2MB/s]\rDownloading alphafold2_multimer_v3 weights to /root/.cache/colabfold:  17%|█▋        | 684M/3.82G [00:31<02:14, 25.2MB/s]\rDownloading alphafold2_multimer_v3 weights to /root/.cache/colabfold:  18%|█▊        | 686M/3.82G [00:32<02:17, 24.6MB/s]\rDownloading alphafold2_multimer_v3 weights to /root/.cache/colabfold:  18%|█▊        | 689M/3.82G [00:32<02:32, 22.2MB/s]\rDownloading alphafold2_multimer_v3 weights to /root/.cache/colabfold:  18%|█▊        | 691M/3.82G [00:32<02:22, 23.6MB/s]\rDownloading alphafold2_multimer_v3 weights to /root/.cache/colabfold:  18%|█▊        | 694M/3.82G [00:32<02:16, 24.6MB/s]\rDownloading alphafold2_multimer_v3 weights to /root/.cache/colabfold:  18%|█▊        | 697M/3.82G [00:32<02:19, 24.1MB/s]\rDownloading alphafold2_multimer_v3 weights to /root/.cache/colabfold:  18%|█▊        | 699M/3.82G [00:32<02:23, 23.4MB/s]\rDownloading alphafold2_multimer_v3 weights to /root/.cache/colabfold:  18%|█▊        | 702M/3.82G [00:32<02:13, 25.1MB/s]\rDownloading alphafold2_multimer_v3 weights to /root/.cache/colabfold:  18%|█▊        | 704M/3.82G [00:32<02:16, 24.6MB/s]\rDownloading alphafold2_multimer_v3 weights to /root/.cache/colabfold:  18%|█▊        | 707M/3.82G [00:32<02:31, 22.2MB/s]\rDownloading alphafold2_multimer_v3 weights to /root/.cache/colabfold:  18%|█▊        | 709M/3.82G [00:33<02:21, 23.6MB/s]\rDownloading alphafold2_multimer_v3 weights to /root/.cache/colabfold:  18%|█▊        | 713M/3.82G [00:33<02:07, 26.4MB/s]\rDownloading alphafold2_multimer_v3 weights to /root/.cache/colabfold:  18%|█▊        | 715M/3.82G [00:33<02:17, 24.3MB/s]\rDownloading alphafold2_multimer_v3 weights to /root/.cache/colabfold:  18%|█▊        | 718M/3.82G [00:33<02:31, 22.1MB/s]\rDownloading alphafold2_multimer_v3 weights to /root/.cache/colabfold:  18%|█▊        | 720M/3.82G [00:33<02:20, 23.8MB/s]\rDownloading alphafold2_multimer_v3 weights to /root/.cache/colabfold:  19%|█▊        | 724M/3.82G [00:33<02:06, 26.3MB/s]\rDownloading alphafold2_multimer_v3 weights to /root/.cache/colabfold:  19%|█▊        | 726M/3.82G [00:33<02:17, 24.3MB/s]\rDownloading alphafold2_multimer_v3 weights to /root/.cache/colabfold:  19%|█▊        | 729M/3.82G [00:33<02:30, 22.2MB/s]\rDownloading alphafold2_multimer_v3 weights to /root/.cache/colabfold:  19%|█▊        | 731M/3.82G [00:34<02:20, 23.8MB/s]\rDownloading alphafold2_multimer_v3 weights to /root/.cache/colabfold:  19%|█▉        | 735M/3.82G [00:34<02:06, 26.3MB/s]\rDownloading alphafold2_multimer_v3 weights to /root/.cache/colabfold:  19%|█▉        | 737M/3.82G [00:34<02:16, 24.3MB/s]\rDownloading alphafold2_multimer_v3 weights to /root/.cache/colabfold:  19%|█▉        | 740M/3.82G [00:34<02:30, 22.2MB/s]\rDownloading alphafold2_multimer_v3 weights to /root/.cache/colabfold:  19%|█▉        | 742M/3.82G [00:34<02:19, 23.8MB/s]\rDownloading alphafold2_multimer_v3 weights to /root/.cache/colabfold:  19%|█▉        | 746M/3.82G [00:34<02:05, 26.4MB/s]\rDownloading alphafold2_multimer_v3 weights to /root/.cache/colabfold:  19%|█▉        | 748M/3.82G [00:34<02:16, 24.2MB/s]\rDownloading alphafold2_multimer_v3 weights to /root/.cache/colabfold:  19%|█▉        | 751M/3.82G [00:34<02:29, 22.2MB/s]\rDownloading alphafold2_multimer_v3 weights to /root/.cache/colabfold:  19%|█▉        | 753M/3.82G [00:35<02:19, 23.8MB/s]\rDownloading alphafold2_multimer_v3 weights to /root/.cache/colabfold:  19%|█▉        | 756M/3.82G [00:35<02:05, 26.4MB/s]\rDownloading alphafold2_multimer_v3 weights to /root/.cache/colabfold:  19%|█▉        | 759M/3.82G [00:35<02:16, 24.2MB/s]\rDownloading alphafold2_multimer_v3 weights to /root/.cache/colabfold:  19%|█▉        | 761M/3.82G [00:35<02:28, 22.3MB/s]\rDownloading alphafold2_multimer_v3 weights to /root/.cache/colabfold:  20%|█▉        | 764M/3.82G [00:35<02:18, 23.9MB/s]\rDownloading alphafold2_multimer_v3 weights to /root/.cache/colabfold:  20%|█▉        | 767M/3.82G [00:35<02:11, 25.0MB/s]\rDownloading alphafold2_multimer_v3 weights to /root/.cache/colabfold:  20%|█▉        | 770M/3.82G [00:35<02:15, 24.4MB/s]\rDownloading alphafold2_multimer_v3 weights to /root/.cache/colabfold:  20%|█▉        | 772M/3.82G [00:35<02:17, 23.9MB/s]\rDownloading alphafold2_multimer_v3 weights to /root/.cache/colabfold:  20%|█▉        | 775M/3.82G [00:35<02:09, 25.4MB/s]\rDownloading alphafold2_multimer_v3 weights to /root/.cache/colabfold:  20%|█▉        | 778M/3.82G [00:36<02:42, 20.2MB/s]\rDownloading alphafold2_multimer_v3 weights to /root/.cache/colabfold:  20%|█▉        | 780M/3.82G [00:36<02:42, 20.2MB/s]\rDownloading alphafold2_multimer_v3 weights to /root/.cache/colabfold:  20%|██        | 784M/3.82G [00:36<02:33, 21.4MB/s]\rDownloading alphafold2_multimer_v3 weights to /root/.cache/colabfold:  20%|██        | 788M/3.82G [00:36<02:26, 22.3MB/s]\rDownloading alphafold2_multimer_v3 weights to /root/.cache/colabfold:  20%|██        | 791M/3.82G [00:36<02:23, 22.9MB/s]\rDownloading alphafold2_multimer_v3 weights to /root/.cache/colabfold:  20%|██        | 795M/3.82G [00:36<02:20, 23.2MB/s]\rDownloading alphafold2_multimer_v3 weights to /root/.cache/colabfold:  20%|██        | 799M/3.82G [00:37<02:18, 23.5MB/s]\rDownloading alphafold2_multimer_v3 weights to /root/.cache/colabfold:  21%|██        | 802M/3.82G [00:37<02:17, 23.7MB/s]\rDownloading alphafold2_multimer_v3 weights to /root/.cache/colabfold:  21%|██        | 806M/3.82G [00:37<02:16, 23.8MB/s]\rDownloading alphafold2_multimer_v3 weights to /root/.cache/colabfold:  21%|██        | 810M/3.82G [00:37<02:15, 23.9MB/s]\rDownloading alphafold2_multimer_v3 weights to /root/.cache/colabfold:  21%|██        | 813M/3.82G [00:37<02:15, 24.0MB/s]\rDownloading alphafold2_multimer_v3 weights to /root/.cache/colabfold:  21%|██        | 817M/3.82G [00:37<02:14, 24.0MB/s]\rDownloading alphafold2_multimer_v3 weights to /root/.cache/colabfold:  21%|██        | 821M/3.82G [00:38<02:14, 24.0MB/s]\rDownloading alphafold2_multimer_v3 weights to /root/.cache/colabfold:  21%|██        | 824M/3.82G [00:38<02:14, 24.1MB/s]\rDownloading alphafold2_multimer_v3 weights to /root/.cache/colabfold:  21%|██        | 828M/3.82G [00:38<02:14, 24.1MB/s]\rDownloading alphafold2_multimer_v3 weights to /root/.cache/colabfold:  21%|██▏       | 832M/3.82G [00:38<02:14, 24.1MB/s]\rDownloading alphafold2_multimer_v3 weights to /root/.cache/colabfold:  21%|██▏       | 835M/3.82G [00:38<02:13, 24.1MB/s]\rDownloading alphafold2_multimer_v3 weights to /root/.cache/colabfold:  21%|██▏       | 839M/3.82G [00:38<02:13, 24.1MB/s]\rDownloading alphafold2_multimer_v3 weights to /root/.cache/colabfold:  22%|██▏       | 842M/3.82G [00:38<02:13, 24.1MB/s]\rDownloading alphafold2_multimer_v3 weights to /root/.cache/colabfold:  22%|██▏       | 846M/3.82G [00:39<02:13, 24.1MB/s]\rDownloading alphafold2_multimer_v3 weights to /root/.cache/colabfold:  22%|██▏       | 850M/3.82G [00:39<02:13, 24.1MB/s]\rDownloading alphafold2_multimer_v3 weights to /root/.cache/colabfold:  22%|██▏       | 853M/3.82G [00:39<02:12, 24.1MB/s]\rDownloading alphafold2_multimer_v3 weights to /root/.cache/colabfold:  22%|██▏       | 857M/3.82G [00:39<02:12, 24.1MB/s]\rDownloading alphafold2_multimer_v3 weights to /root/.cache/colabfold:  22%|██▏       | 861M/3.82G [00:39<02:12, 24.1MB/s]\rDownloading alphafold2_multimer_v3 weights to /root/.cache/colabfold:  22%|██▏       | 864M/3.82G [00:39<02:12, 24.1MB/s]\rDownloading alphafold2_multimer_v3 weights to /root/.cache/colabfold:  22%|██▏       | 868M/3.82G [00:40<02:18, 23.0MB/s]\rDownloading alphafold2_multimer_v3 weights to /root/.cache/colabfold:  22%|██▏       | 870M/3.82G [00:40<02:35, 20.5MB/s]\rDownloading alphafold2_multimer_v3 weights to /root/.cache/colabfold:  22%|██▏       | 874M/3.82G [00:40<02:29, 21.3MB/s]\rDownloading alphafold2_multimer_v3 weights to /root/.cache/colabfold:  22%|██▏       | 877M/3.82G [00:40<02:23, 22.1MB/s]\rDownloading alphafold2_multimer_v3 weights to /root/.cache/colabfold:  23%|██▎       | 881M/3.82G [00:40<02:19, 22.7MB/s]\rDownloading alphafold2_multimer_v3 weights to /root/.cache/colabfold:  23%|██▎       | 885M/3.82G [00:40<02:17, 23.1MB/s]\rDownloading alphafold2_multimer_v3 weights to /root/.cache/colabfold:  23%|██▎       | 888M/3.82G [00:41<02:15, 23.4MB/s]\rDownloading alphafold2_multimer_v3 weights to /root/.cache/colabfold:  23%|██▎       | 892M/3.82G [00:41<02:13, 23.6MB/s]\rDownloading alphafold2_multimer_v3 weights to /root/.cache/colabfold:  23%|██▎       | 896M/3.82G [00:41<02:12, 23.8MB/s]\rDownloading alphafold2_multimer_v3 weights to /root/.cache/colabfold:  23%|██▎       | 899M/3.82G [00:41<02:12, 23.9MB/s]\rDownloading alphafold2_multimer_v3 weights to /root/.cache/colabfold:  23%|██▎       | 903M/3.82G [00:41<02:11, 23.9MB/s]\rDownloading alphafold2_multimer_v3 weights to /root/.cache/colabfold:  23%|██▎       | 907M/3.82G [00:41<02:11, 24.0MB/s]\rDownloading alphafold2_multimer_v3 weights to /root/.cache/colabfold:  23%|██▎       | 910M/3.82G [00:42<02:10, 24.0MB/s]\rDownloading alphafold2_multimer_v3 weights to /root/.cache/colabfold:  23%|██▎       | 914M/3.82G [00:42<02:10, 24.1MB/s]\rDownloading alphafold2_multimer_v3 weights to /root/.cache/colabfold:  23%|██▎       | 918M/3.82G [00:42<02:10, 24.1MB/s]\rDownloading alphafold2_multimer_v3 weights to /root/.cache/colabfold:  24%|██▎       | 921M/3.82G [00:42<02:10, 24.1MB/s]\rDownloading alphafold2_multimer_v3 weights to /root/.cache/colabfold:  24%|██▎       | 925M/3.82G [00:42<02:09, 24.1MB/s]\rDownloading alphafold2_multimer_v3 weights to /root/.cache/colabfold:  24%|██▎       | 928M/3.82G [00:42<02:20, 22.3MB/s]\rDownloading alphafold2_multimer_v3 weights to /root/.cache/colabfold:  24%|██▍       | 932M/3.82G [00:43<02:21, 22.1MB/s]\rDownloading alphafold2_multimer_v3 weights to /root/.cache/colabfold:  24%|██▍       | 935M/3.82G [00:43<02:17, 22.7MB/s]\rDownloading alphafold2_multimer_v3 weights to /root/.cache/colabfold:  24%|██▍       | 939M/3.82G [00:43<02:14, 23.1MB/s]\rDownloading alphafold2_multimer_v3 weights to /root/.cache/colabfold:  24%|██▍       | 943M/3.82G [00:43<02:13, 23.4MB/s]\rDownloading alphafold2_multimer_v3 weights to /root/.cache/colabfold:  24%|██▍       | 946M/3.82G [00:43<02:11, 23.6MB/s]\rDownloading alphafold2_multimer_v3 weights to /root/.cache/colabfold:  24%|██▍       | 950M/3.82G [00:43<02:10, 23.7MB/s]\rDownloading alphafold2_multimer_v3 weights to /root/.cache/colabfold:  24%|██▍       | 954M/3.82G [00:43<02:09, 23.9MB/s]\rDownloading alphafold2_multimer_v3 weights to /root/.cache/colabfold:  24%|██▍       | 957M/3.82G [00:44<02:09, 23.9MB/s]\rDownloading alphafold2_multimer_v3 weights to /root/.cache/colabfold:  25%|██▍       | 961M/3.82G [00:44<02:09, 23.9MB/s]\rDownloading alphafold2_multimer_v3 weights to /root/.cache/colabfold:  25%|██▍       | 965M/3.82G [00:44<02:08, 24.0MB/s]\rDownloading alphafold2_multimer_v3 weights to /root/.cache/colabfold:  25%|██▍       | 968M/3.82G [00:44<02:08, 24.0MB/s]\rDownloading alphafold2_multimer_v3 weights to /root/.cache/colabfold:  25%|██▍       | 972M/3.82G [00:44<02:08, 24.0MB/s]\rDownloading alphafold2_multimer_v3 weights to /root/.cache/colabfold:  25%|██▍       | 975M/3.82G [00:44<02:07, 24.1MB/s]\rDownloading alphafold2_multimer_v3 weights to /root/.cache/colabfold:  25%|██▌       | 979M/3.82G [00:45<02:07, 24.1MB/s]\rDownloading alphafold2_multimer_v3 weights to /root/.cache/colabfold:  25%|██▌       | 983M/3.82G [00:45<02:07, 24.1MB/s]\rDownloading alphafold2_multimer_v3 weights to /root/.cache/colabfold:  25%|██▌       | 986M/3.82G [00:45<02:07, 24.1MB/s]\rDownloading alphafold2_multimer_v3 weights to /root/.cache/colabfold:  25%|██▌       | 990M/3.82G [00:45<02:07, 24.1MB/s]\rDownloading alphafold2_multimer_v3 weights to /root/.cache/colabfold:  25%|██▌       | 994M/3.82G [00:45<02:14, 22.7MB/s]\rDownloading alphafold2_multimer_v3 weights to /root/.cache/colabfold:  25%|██▌       | 996M/3.82G [00:45<02:30, 20.3MB/s]\rDownloading alphafold2_multimer_v3 weights to /root/.cache/colabfold:  26%|██▌       | 998M/3.82G [00:46<02:47, 18.2MB/s]\rDownloading alphafold2_multimer_v3 weights to /root/.cache/colabfold:  26%|██▌       | 0.98G/3.82G [00:46<02:33, 19.8MB/s]\rDownloading alphafold2_multimer_v3 weights to /root/.cache/colabfold:  26%|██▌       | 0.98G/3.82G [00:46<02:24, 21.1MB/s]\rDownloading alphafold2_multimer_v3 weights to /root/.cache/colabfold:  26%|██▌       | 0.99G/3.82G [00:46<02:18, 22.0MB/s]\rDownloading alphafold2_multimer_v3 weights to /root/.cache/colabfold:  26%|██▌       | 0.99G/3.82G [00:46<02:14, 22.6MB/s]\rDownloading alphafold2_multimer_v3 weights to /root/.cache/colabfold:  26%|██▌       | 0.99G/3.82G [00:46<02:11, 23.1MB/s]\rDownloading alphafold2_multimer_v3 weights to /root/.cache/colabfold:  26%|██▌       | 1.00G/3.82G [00:47<02:09, 23.4MB/s]\rDownloading alphafold2_multimer_v3 weights to /root/.cache/colabfold:  26%|██▌       | 1.00G/3.82G [00:47<02:08, 23.5MB/s]\rDownloading alphafold2_multimer_v3 weights to /root/.cache/colabfold:  26%|██▋       | 1.00G/3.82G [00:47<02:07, 23.7MB/s]\rDownloading alphafold2_multimer_v3 weights to /root/.cache/colabfold:  26%|██▋       | 1.01G/3.82G [00:47<02:06, 23.8MB/s]\rDownloading alphafold2_multimer_v3 weights to /root/.cache/colabfold:  26%|██▋       | 1.01G/3.82G [00:47<02:06, 23.9MB/s]\rDownloading alphafold2_multimer_v3 weights to /root/.cache/colabfold:  27%|██▋       | 1.01G/3.82G [00:47<02:05, 23.9MB/s]\rDownloading alphafold2_multimer_v3 weights to /root/.cache/colabfold:  27%|██▋       | 1.02G/3.82G [00:47<02:05, 24.0MB/s]\rDownloading alphafold2_multimer_v3 weights to /root/.cache/colabfold:  27%|██▋       | 1.02G/3.82G [00:48<02:04, 24.0MB/s]\rDownloading alphafold2_multimer_v3 weights to /root/.cache/colabfold:  27%|██▋       | 1.02G/3.82G [00:48<02:04, 24.0MB/s]\rDownloading alphafold2_multimer_v3 weights to /root/.cache/colabfold:  27%|██▋       | 1.03G/3.82G [00:48<02:04, 24.1MB/s]\rDownloading alphafold2_multimer_v3 weights to /root/.cache/colabfold:  27%|██▋       | 1.03G/3.82G [00:48<02:04, 24.1MB/s]\rDownloading alphafold2_multimer_v3 weights to /root/.cache/colabfold:  27%|██▋       | 1.03G/3.82G [00:48<02:04, 24.1MB/s]\rDownloading alphafold2_multimer_v3 weights to /root/.cache/colabfold:  27%|██▋       | 1.04G/3.82G [00:48<02:03, 24.1MB/s]\rDownloading alphafold2_multimer_v3 weights to /root/.cache/colabfold:  27%|██▋       | 1.04G/3.82G [00:49<02:03, 24.1MB/s]\rDownloading alphafold2_multimer_v3 weights to /root/.cache/colabfold:  27%|██▋       | 1.05G/3.82G [00:49<02:03, 24.2MB/s]\rDownloading alphafold2_multimer_v3 weights to /root/.cache/colabfold:  27%|██▋       | 1.05G/3.82G [00:49<02:03, 24.1MB/s]\rDownloading alphafold2_multimer_v3 weights to /root/.cache/colabfold:  28%|██▊       | 1.05G/3.82G [00:49<02:02, 24.1MB/s]\rDownloading alphafold2_multimer_v3 weights to /root/.cache/colabfold:  28%|██▊       | 1.06G/3.82G [00:49<02:02, 24.1MB/s]\rDownloading alphafold2_multimer_v3 weights to /root/.cache/colabfold:  28%|██▊       | 1.06G/3.82G [00:49<02:02, 24.1MB/s]\rDownloading alphafold2_multimer_v3 weights to /root/.cache/colabfold:  28%|██▊       | 1.06G/3.82G [00:50<02:02, 24.1MB/s]\rDownloading alphafold2_multimer_v3 weights to /root/.cache/colabfold:  28%|██▊       | 1.07G/3.82G [00:50<02:02, 24.1MB/s]\rDownloading alphafold2_multimer_v3 weights to /root/.cache/colabfold:  28%|██▊       | 1.07G/3.82G [00:50<02:02, 24.1MB/s]\rDownloading alphafold2_multimer_v3 weights to /root/.cache/colabfold:  28%|██▊       | 1.07G/3.82G [00:50<02:02, 24.1MB/s]\rDownloading alphafold2_multimer_v3 weights to /root/.cache/colabfold:  28%|██▊       | 1.08G/3.82G [00:50<02:01, 24.1MB/s]\rDownloading alphafold2_multimer_v3 weights to /root/.cache/colabfold:  28%|██▊       | 1.08G/3.82G [00:50<02:01, 24.1MB/s]\rDownloading alphafold2_multimer_v3 weights to /root/.cache/colabfold:  28%|██▊       | 1.08G/3.82G [00:51<02:07, 23.1MB/s]\rDownloading alphafold2_multimer_v3 weights to /root/.cache/colabfold:  28%|██▊       | 1.09G/3.82G [00:51<02:09, 22.6MB/s]\rDownloading alphafold2_multimer_v3 weights to /root/.cache/colabfold:  29%|██▊       | 1.09G/3.82G [00:51<02:06, 23.1MB/s]\rDownloading alphafold2_multimer_v3 weights to /root/.cache/colabfold:  29%|██▊       | 1.10G/3.82G [00:51<02:04, 23.4MB/s]\rDownloading alphafold2_multimer_v3 weights to /root/.cache/colabfold:  29%|██▉       | 1.10G/3.82G [00:51<02:03, 23.6MB/s]\rDownloading alphafold2_multimer_v3 weights to /root/.cache/colabfold:  29%|██▉       | 1.10G/3.82G [00:51<02:02, 23.8MB/s]\rDownloading alphafold2_multimer_v3 weights to /root/.cache/colabfold:  29%|██▉       | 1.11G/3.82G [00:51<02:01, 23.9MB/s]\rDownloading alphafold2_multimer_v3 weights to /root/.cache/colabfold:  29%|██▉       | 1.11G/3.82G [00:52<02:01, 23.9MB/s]\rDownloading alphafold2_multimer_v3 weights to /root/.cache/colabfold:  29%|██▉       | 1.11G/3.82G [00:52<02:01, 24.0MB/s]\rDownloading alphafold2_multimer_v3 weights to /root/.cache/colabfold:  29%|██▉       | 1.12G/3.82G [00:52<02:06, 22.9MB/s]\rDownloading alphafold2_multimer_v3 weights to /root/.cache/colabfold:  29%|██▉       | 1.12G/3.82G [00:52<02:22, 20.4MB/s]\rDownloading alphafold2_multimer_v3 weights to /root/.cache/colabfold:  29%|██▉       | 1.12G/3.82G [00:52<02:38, 18.3MB/s]\rDownloading alphafold2_multimer_v3 weights to /root/.cache/colabfold:  29%|██▉       | 1.12G/3.82G [00:52<02:25, 19.8MB/s]\rDownloading alphafold2_multimer_v3 weights to /root/.cache/colabfold:  30%|██▉       | 1.13G/3.82G [00:53<02:16, 21.1MB/s]\rDownloading alphafold2_multimer_v3 weights to /root/.cache/colabfold:  30%|██▉       | 1.13G/3.82G [00:53<02:11, 22.0MB/s]\rDownloading alphafold2_multimer_v3 weights to /root/.cache/colabfold:  30%|██▉       | 1.13G/3.82G [00:53<02:07, 22.6MB/s]\rDownloading alphafold2_multimer_v3 weights to /root/.cache/colabfold:  30%|██▉       | 1.14G/3.82G [00:53<02:04, 23.1MB/s]\rDownloading alphafold2_multimer_v3 weights to /root/.cache/colabfold:  30%|██▉       | 1.14G/3.82G [00:53<02:02, 23.4MB/s]\rDownloading alphafold2_multimer_v3 weights to /root/.cache/colabfold:  30%|██▉       | 1.15G/3.82G [00:53<02:01, 23.6MB/s]\rDownloading alphafold2_multimer_v3 weights to /root/.cache/colabfold:  30%|███       | 1.15G/3.82G [00:54<02:00, 23.7MB/s]\rDownloading alphafold2_multimer_v3 weights to /root/.cache/colabfold:  30%|███       | 1.15G/3.82G [00:54<02:00, 23.8MB/s]\rDownloading alphafold2_multimer_v3 weights to /root/.cache/colabfold:  30%|███       | 1.16G/3.82G [00:54<01:59, 23.9MB/s]\rDownloading alphafold2_multimer_v3 weights to /root/.cache/colabfold:  30%|███       | 1.16G/3.82G [00:54<01:59, 24.0MB/s]\rDownloading alphafold2_multimer_v3 weights to /root/.cache/colabfold:  30%|███       | 1.16G/3.82G [00:54<01:58, 24.0MB/s]\rDownloading alphafold2_multimer_v3 weights to /root/.cache/colabfold:  31%|███       | 1.17G/3.82G [00:54<01:58, 24.0MB/s]\rDownloading alphafold2_multimer_v3 weights to /root/.cache/colabfold:  31%|███       | 1.17G/3.82G [00:54<01:58, 24.0MB/s]\rDownloading alphafold2_multimer_v3 weights to /root/.cache/colabfold:  31%|███       | 1.17G/3.82G [00:55<01:57, 24.1MB/s]\rDownloading alphafold2_multimer_v3 weights to /root/.cache/colabfold:  31%|███       | 1.18G/3.82G [00:55<01:57, 24.1MB/s]\rDownloading alphafold2_multimer_v3 weights to /root/.cache/colabfold:  31%|███       | 1.18G/3.82G [00:55<01:57, 24.1MB/s]\rDownloading alphafold2_multimer_v3 weights to /root/.cache/colabfold:  31%|███       | 1.18G/3.82G [00:55<01:57, 24.0MB/s]\rDownloading alphafold2_multimer_v3 weights to /root/.cache/colabfold:  31%|███       | 1.19G/3.82G [00:55<01:57, 24.1MB/s]\rDownloading alphafold2_multimer_v3 weights to /root/.cache/colabfold:  31%|███       | 1.19G/3.82G [00:55<01:57, 24.1MB/s]\rDownloading alphafold2_multimer_v3 weights to /root/.cache/colabfold:  31%|███▏      | 1.20G/3.82G [00:56<01:56, 24.1MB/s]\rDownloading alphafold2_multimer_v3 weights to /root/.cache/colabfold:  31%|███▏      | 1.20G/3.82G [00:56<01:56, 24.1MB/s]\rDownloading alphafold2_multimer_v3 weights to /root/.cache/colabfold:  31%|███▏      | 1.20G/3.82G [00:56<01:56, 24.1MB/s]\rDownloading alphafold2_multimer_v3 weights to /root/.cache/colabfold:  32%|███▏      | 1.21G/3.82G [00:56<01:56, 24.1MB/s]\rDownloading alphafold2_multimer_v3 weights to /root/.cache/colabfold:  32%|███▏      | 1.21G/3.82G [00:56<01:56, 24.1MB/s]\rDownloading alphafold2_multimer_v3 weights to /root/.cache/colabfold:  32%|███▏      | 1.21G/3.82G [00:56<01:56, 24.1MB/s]\rDownloading alphafold2_multimer_v3 weights to /root/.cache/colabfold:  32%|███▏      | 1.22G/3.82G [00:57<01:55, 24.1MB/s]\rDownloading alphafold2_multimer_v3 weights to /root/.cache/colabfold:  32%|███▏      | 1.22G/3.82G [00:57<01:55, 24.1MB/s]\rDownloading alphafold2_multimer_v3 weights to /root/.cache/colabfold:  32%|███▏      | 1.22G/3.82G [00:57<01:55, 24.1MB/s]\rDownloading alphafold2_multimer_v3 weights to /root/.cache/colabfold:  32%|███▏      | 1.23G/3.82G [00:57<01:55, 24.1MB/s]\rDownloading alphafold2_multimer_v3 weights to /root/.cache/colabfold:  32%|███▏      | 1.23G/3.82G [00:57<01:55, 24.1MB/s]\rDownloading alphafold2_multimer_v3 weights to /root/.cache/colabfold:  32%|███▏      | 1.23G/3.82G [00:57<01:55, 24.1MB/s]\rDownloading alphafold2_multimer_v3 weights to /root/.cache/colabfold:  32%|███▏      | 1.24G/3.82G [00:58<01:55, 24.1MB/s]\rDownloading alphafold2_multimer_v3 weights to /root/.cache/colabfold:  33%|███▎      | 1.24G/3.82G [00:58<01:54, 24.1MB/s]\rDownloading alphafold2_multimer_v3 weights to /root/.cache/colabfold:  33%|███▎      | 1.24G/3.82G [00:58<01:54, 24.1MB/s]\rDownloading alphafold2_multimer_v3 weights to /root/.cache/colabfold:  33%|███▎      | 1.25G/3.82G [00:58<01:54, 24.1MB/s]\rDownloading alphafold2_multimer_v3 weights to /root/.cache/colabfold:  33%|███▎      | 1.25G/3.82G [00:58<01:54, 24.1MB/s]\rDownloading alphafold2_multimer_v3 weights to /root/.cache/colabfold:  33%|███▎      | 1.26G/3.82G [00:58<01:54, 24.1MB/s]\rDownloading alphafold2_multimer_v3 weights to /root/.cache/colabfold:  33%|███▎      | 1.26G/3.82G [00:58<01:54, 24.1MB/s]\rDownloading alphafold2_multimer_v3 weights to /root/.cache/colabfold:  33%|███▎      | 1.26G/3.82G [00:59<01:53, 24.1MB/s]\rDownloading alphafold2_multimer_v3 weights to /root/.cache/colabfold:  33%|███▎      | 1.27G/3.82G [00:59<01:53, 24.1MB/s]\rDownloading alphafold2_multimer_v3 weights to /root/.cache/colabfold:  33%|███▎      | 1.27G/3.82G [00:59<01:53, 24.1MB/s]\rDownloading alphafold2_multimer_v3 weights to /root/.cache/colabfold:  33%|███▎      | 1.27G/3.82G [00:59<01:53, 24.1MB/s]\rDownloading alphafold2_multimer_v3 weights to /root/.cache/colabfold:  33%|███▎      | 1.28G/3.82G [00:59<01:53, 24.1MB/s]\rDownloading alphafold2_multimer_v3 weights to /root/.cache/colabfold:  34%|███▎      | 1.28G/3.82G [00:59<01:53, 24.1MB/s]\rDownloading alphafold2_multimer_v3 weights to /root/.cache/colabfold:  34%|███▎      | 1.28G/3.82G [01:00<01:52, 24.1MB/s]\rDownloading alphafold2_multimer_v3 weights to /root/.cache/colabfold:  34%|███▎      | 1.29G/3.82G [01:00<01:52, 24.1MB/s]\rDownloading alphafold2_multimer_v3 weights to /root/.cache/colabfold:  34%|███▍      | 1.29G/3.82G [01:00<01:52, 24.1MB/s]\rDownloading alphafold2_multimer_v3 weights to /root/.cache/colabfold:  34%|███▍      | 1.29G/3.82G [01:00<01:52, 24.1MB/s]\rDownloading alphafold2_multimer_v3 weights to /root/.cache/colabfold:  34%|███▍      | 1.30G/3.82G [01:00<01:52, 24.1MB/s]\rDownloading alphafold2_multimer_v3 weights to /root/.cache/colabfold:  34%|███▍      | 1.30G/3.82G [01:00<01:52, 24.1MB/s]\rDownloading alphafold2_multimer_v3 weights to /root/.cache/colabfold:  34%|███▍      | 1.31G/3.82G [01:01<01:51, 24.1MB/s]\rDownloading alphafold2_multimer_v3 weights to /root/.cache/colabfold:  34%|███▍      | 1.31G/3.82G [01:01<01:51, 24.1MB/s]\rDownloading alphafold2_multimer_v3 weights to /root/.cache/colabfold:  34%|███▍      | 1.31G/3.82G [01:01<01:51, 24.1MB/s]\rDownloading alphafold2_multimer_v3 weights to /root/.cache/colabfold:  34%|███▍      | 1.32G/3.82G [01:01<01:57, 22.9MB/s]\rDownloading alphafold2_multimer_v3 weights to /root/.cache/colabfold:  35%|███▍      | 1.32G/3.82G [01:01<01:59, 22.5MB/s]\rDownloading alphafold2_multimer_v3 weights to /root/.cache/colabfold:  35%|███▍      | 1.32G/3.82G [01:01<02:02, 21.9MB/s]\rDownloading alphafold2_multimer_v3 weights to /root/.cache/colabfold:  35%|███▍      | 1.32G/3.82G [01:02<02:16, 19.6MB/s]\rDownloading alphafold2_multimer_v3 weights to /root/.cache/colabfold:  35%|███▍      | 1.33G/3.82G [01:02<02:31, 17.7MB/s]\rDownloading alphafold2_multimer_v3 weights to /root/.cache/colabfold:  35%|███▍      | 1.33G/3.82G [01:02<02:16, 19.6MB/s]\rDownloading alphafold2_multimer_v3 weights to /root/.cache/colabfold:  35%|███▍      | 1.33G/3.82G [01:02<02:07, 20.9MB/s]\rDownloading alphafold2_multimer_v3 weights to /root/.cache/colabfold:  35%|███▌      | 1.34G/3.82G [01:02<02:01, 21.8MB/s]\rDownloading alphafold2_multimer_v3 weights to /root/.cache/colabfold:  35%|███▌      | 1.34G/3.82G [01:02<01:58, 22.5MB/s]\rDownloading alphafold2_multimer_v3 weights to /root/.cache/colabfold:  35%|███▌      | 1.34G/3.82G [01:02<01:55, 23.0MB/s]\rDownloading alphafold2_multimer_v3 weights to /root/.cache/colabfold:  35%|███▌      | 1.35G/3.82G [01:03<01:53, 23.3MB/s]\rDownloading alphafold2_multimer_v3 weights to /root/.cache/colabfold:  35%|███▌      | 1.35G/3.82G [01:03<01:52, 23.6MB/s]\rDownloading alphafold2_multimer_v3 weights to /root/.cache/colabfold:  35%|███▌      | 1.36G/3.82G [01:03<01:51, 23.7MB/s]\rDownloading alphafold2_multimer_v3 weights to /root/.cache/colabfold:  36%|███▌      | 1.36G/3.82G [01:03<01:50, 23.8MB/s]\rDownloading alphafold2_multimer_v3 weights to /root/.cache/colabfold:  36%|███▌      | 1.36G/3.82G [01:03<01:50, 23.9MB/s]\rDownloading alphafold2_multimer_v3 weights to /root/.cache/colabfold:  36%|███▌      | 1.37G/3.82G [01:03<01:50, 23.9MB/s]\rDownloading alphafold2_multimer_v3 weights to /root/.cache/colabfold:  36%|███▌      | 1.37G/3.82G [01:04<01:49, 24.0MB/s]\rDownloading alphafold2_multimer_v3 weights to /root/.cache/colabfold:  36%|███▌      | 1.37G/3.82G [01:04<01:49, 24.1MB/s]\rDownloading alphafold2_multimer_v3 weights to /root/.cache/colabfold:  36%|███▌      | 1.38G/3.82G [01:04<01:49, 24.0MB/s]\rDownloading alphafold2_multimer_v3 weights to /root/.cache/colabfold:  36%|███▌      | 1.38G/3.82G [01:04<01:48, 24.0MB/s]\rDownloading alphafold2_multimer_v3 weights to /root/.cache/colabfold:  36%|███▌      | 1.38G/3.82G [01:04<01:48, 24.1MB/s]\rDownloading alphafold2_multimer_v3 weights to /root/.cache/colabfold:  36%|███▋      | 1.39G/3.82G [01:04<01:48, 24.1MB/s]\rDownloading alphafold2_multimer_v3 weights to /root/.cache/colabfold:  36%|███▋      | 1.39G/3.82G [01:05<01:48, 24.1MB/s]\rDownloading alphafold2_multimer_v3 weights to /root/.cache/colabfold:  37%|███▋      | 1.39G/3.82G [01:05<01:48, 24.1MB/s]\rDownloading alphafold2_multimer_v3 weights to /root/.cache/colabfold:  37%|███▋      | 1.40G/3.82G [01:05<01:47, 24.1MB/s]\rDownloading alphafold2_multimer_v3 weights to /root/.cache/colabfold:  37%|███▋      | 1.40G/3.82G [01:05<01:47, 24.1MB/s]\rDownloading alphafold2_multimer_v3 weights to /root/.cache/colabfold:  37%|███▋      | 1.41G/3.82G [01:05<01:47, 24.1MB/s]\rDownloading alphafold2_multimer_v3 weights to /root/.cache/colabfold:  37%|███▋      | 1.41G/3.82G [01:05<01:47, 24.1MB/s]\rDownloading alphafold2_multimer_v3 weights to /root/.cache/colabfold:  37%|███▋      | 1.41G/3.82G [01:05<01:47, 24.1MB/s]\rDownloading alphafold2_multimer_v3 weights to /root/.cache/colabfold:  37%|███▋      | 1.42G/3.82G [01:06<01:47, 24.1MB/s]\rDownloading alphafold2_multimer_v3 weights to /root/.cache/colabfold:  37%|███▋      | 1.42G/3.82G [01:06<01:46, 24.1MB/s]\rDownloading alphafold2_multimer_v3 weights to /root/.cache/colabfold:  37%|███▋      | 1.42G/3.82G [01:06<01:46, 24.1MB/s]\rDownloading alphafold2_multimer_v3 weights to /root/.cache/colabfold:  37%|███▋      | 1.43G/3.82G [01:06<01:46, 24.1MB/s]\rDownloading alphafold2_multimer_v3 weights to /root/.cache/colabfold:  37%|███▋      | 1.43G/3.82G [01:06<01:46, 24.1MB/s]\rDownloading alphafold2_multimer_v3 weights to /root/.cache/colabfold:  38%|███▊      | 1.43G/3.82G [01:06<01:46, 24.1MB/s]\rDownloading alphafold2_multimer_v3 weights to /root/.cache/colabfold:  38%|███▊      | 1.44G/3.82G [01:07<01:45, 24.1MB/s]\rDownloading alphafold2_multimer_v3 weights to /root/.cache/colabfold:  38%|███▊      | 1.44G/3.82G [01:07<01:45, 24.1MB/s]\rDownloading alphafold2_multimer_v3 weights to /root/.cache/colabfold:  38%|███▊      | 1.44G/3.82G [01:07<01:45, 24.1MB/s]\rDownloading alphafold2_multimer_v3 weights to /root/.cache/colabfold:  38%|███▊      | 1.45G/3.82G [01:07<01:45, 24.1MB/s]\rDownloading alphafold2_multimer_v3 weights to /root/.cache/colabfold:  38%|███▊      | 1.45G/3.82G [01:07<01:45, 24.1MB/s]\rDownloading alphafold2_multimer_v3 weights to /root/.cache/colabfold:  38%|███▊      | 1.45G/3.82G [01:07<01:45, 24.1MB/s]\rDownloading alphafold2_multimer_v3 weights to /root/.cache/colabfold:  38%|███▊      | 1.46G/3.82G [01:08<01:50, 23.0MB/s]\rDownloading alphafold2_multimer_v3 weights to /root/.cache/colabfold:  38%|███▊      | 1.46G/3.82G [01:08<02:03, 20.5MB/s]\rDownloading alphafold2_multimer_v3 weights to /root/.cache/colabfold:  38%|███▊      | 1.46G/3.82G [01:08<02:17, 18.4MB/s]\rDownloading alphafold2_multimer_v3 weights to /root/.cache/colabfold:  38%|███▊      | 1.47G/3.82G [01:08<02:07, 19.9MB/s]\rDownloading alphafold2_multimer_v3 weights to /root/.cache/colabfold:  38%|███▊      | 1.47G/3.82G [01:08<01:59, 21.1MB/s]\rDownloading alphafold2_multimer_v3 weights to /root/.cache/colabfold:  39%|███▊      | 1.47G/3.82G [01:08<01:54, 22.0MB/s]\rDownloading alphafold2_multimer_v3 weights to /root/.cache/colabfold:  39%|███▊      | 1.48G/3.82G [01:09<01:51, 22.6MB/s]\rDownloading alphafold2_multimer_v3 weights to /root/.cache/colabfold:  39%|███▉      | 1.48G/3.82G [01:09<01:48, 23.1MB/s]\rDownloading alphafold2_multimer_v3 weights to /root/.cache/colabfold:  39%|███▉      | 1.48G/3.82G [01:09<01:47, 23.4MB/s]\rDownloading alphafold2_multimer_v3 weights to /root/.cache/colabfold:  39%|███▉      | 1.49G/3.82G [01:09<01:46, 23.6MB/s]\rDownloading alphafold2_multimer_v3 weights to /root/.cache/colabfold:  39%|███▉      | 1.49G/3.82G [01:09<01:45, 23.6MB/s]\rDownloading alphafold2_multimer_v3 weights to /root/.cache/colabfold:  39%|███▉      | 1.49G/3.82G [01:09<01:44, 23.8MB/s]\rDownloading alphafold2_multimer_v3 weights to /root/.cache/colabfold:  39%|███▉      | 1.50G/3.82G [01:09<01:44, 23.9MB/s]\rDownloading alphafold2_multimer_v3 weights to /root/.cache/colabfold:  39%|███▉      | 1.50G/3.82G [01:10<01:43, 23.9MB/s]\rDownloading alphafold2_multimer_v3 weights to /root/.cache/colabfold:  39%|███▉      | 1.51G/3.82G [01:10<01:43, 24.0MB/s]\rDownloading alphafold2_multimer_v3 weights to /root/.cache/colabfold:  39%|███▉      | 1.51G/3.82G [01:10<01:50, 22.5MB/s]\rDownloading alphafold2_multimer_v3 weights to /root/.cache/colabfold:  40%|███▉      | 1.51G/3.82G [01:10<01:45, 23.4MB/s]\rDownloading alphafold2_multimer_v3 weights to /root/.cache/colabfold:  40%|███▉      | 1.52G/3.82G [01:10<01:48, 22.8MB/s]\rDownloading alphafold2_multimer_v3 weights to /root/.cache/colabfold:  40%|███▉      | 1.52G/3.82G [01:10<01:46, 23.2MB/s]\rDownloading alphafold2_multimer_v3 weights to /root/.cache/colabfold:  40%|███▉      | 1.52G/3.82G [01:11<01:44, 23.5MB/s]\rDownloading alphafold2_multimer_v3 weights to /root/.cache/colabfold:  40%|███▉      | 1.53G/3.82G [01:11<01:43, 23.7MB/s]\rDownloading alphafold2_multimer_v3 weights to /root/.cache/colabfold:  40%|████      | 1.53G/3.82G [01:11<01:43, 23.8MB/s]\rDownloading alphafold2_multimer_v3 weights to /root/.cache/colabfold:  40%|████      | 1.53G/3.82G [01:11<01:42, 23.9MB/s]\rDownloading alphafold2_multimer_v3 weights to /root/.cache/colabfold:  40%|████      | 1.54G/3.82G [01:11<01:42, 23.9MB/s]\rDownloading alphafold2_multimer_v3 weights to /root/.cache/colabfold:  40%|████      | 1.54G/3.82G [01:11<01:41, 24.0MB/s]\rDownloading alphafold2_multimer_v3 weights to /root/.cache/colabfold:  40%|████      | 1.54G/3.82G [01:12<01:41, 24.0MB/s]\rDownloading alphafold2_multimer_v3 weights to /root/.cache/colabfold:  41%|████      | 1.55G/3.82G [01:12<01:41, 24.0MB/s]\rDownloading alphafold2_multimer_v3 weights to /root/.cache/colabfold:  41%|████      | 1.55G/3.82G [01:12<01:41, 24.1MB/s]\rDownloading alphafold2_multimer_v3 weights to /root/.cache/colabfold:  41%|████      | 1.55G/3.82G [01:12<01:41, 24.1MB/s]\rDownloading alphafold2_multimer_v3 weights to /root/.cache/colabfold:  41%|████      | 1.56G/3.82G [01:12<01:40, 24.1MB/s]\rDownloading alphafold2_multimer_v3 weights to /root/.cache/colabfold:  41%|████      | 1.56G/3.82G [01:12<01:40, 24.1MB/s]\rDownloading alphafold2_multimer_v3 weights to /root/.cache/colabfold:  41%|████      | 1.57G/3.82G [01:13<01:40, 24.1MB/s]\rDownloading alphafold2_multimer_v3 weights to /root/.cache/colabfold:  41%|████      | 1.57G/3.82G [01:13<01:40, 24.1MB/s]\rDownloading alphafold2_multimer_v3 weights to /root/.cache/colabfold:  41%|████      | 1.57G/3.82G [01:13<01:40, 24.1MB/s]\rDownloading alphafold2_multimer_v3 weights to /root/.cache/colabfold:  41%|████▏     | 1.58G/3.82G [01:13<01:39, 24.1MB/s]\rDownloading alphafold2_multimer_v3 weights to /root/.cache/colabfold:  41%|████▏     | 1.58G/3.82G [01:13<01:39, 24.1MB/s]\rDownloading alphafold2_multimer_v3 weights to /root/.cache/colabfold:  41%|████▏     | 1.58G/3.82G [01:13<01:39, 24.1MB/s]\rDownloading alphafold2_multimer_v3 weights to /root/.cache/colabfold:  42%|████▏     | 1.59G/3.82G [01:13<01:39, 24.1MB/s]\rDownloading alphafold2_multimer_v3 weights to /root/.cache/colabfold:  42%|████▏     | 1.59G/3.82G [01:14<01:39, 24.1MB/s]\rDownloading alphafold2_multimer_v3 weights to /root/.cache/colabfold:  42%|████▏     | 1.59G/3.82G [01:14<01:39, 24.1MB/s]\rDownloading alphafold2_multimer_v3 weights to /root/.cache/colabfold:  42%|████▏     | 1.60G/3.82G [01:14<01:38, 24.1MB/s]\rDownloading alphafold2_multimer_v3 weights to /root/.cache/colabfold:  42%|████▏     | 1.60G/3.82G [01:14<01:38, 24.1MB/s]\rDownloading alphafold2_multimer_v3 weights to /root/.cache/colabfold:  42%|████▏     | 1.60G/3.82G [01:14<01:38, 24.1MB/s]\rDownloading alphafold2_multimer_v3 weights to /root/.cache/colabfold:  42%|████▏     | 1.61G/3.82G [01:14<01:38, 24.1MB/s]\rDownloading alphafold2_multimer_v3 weights to /root/.cache/colabfold:  42%|████▏     | 1.61G/3.82G [01:15<01:38, 24.1MB/s]\rDownloading alphafold2_multimer_v3 weights to /root/.cache/colabfold:  42%|████▏     | 1.62G/3.82G [01:15<01:38, 24.1MB/s]\rDownloading alphafold2_multimer_v3 weights to /root/.cache/colabfold:  42%|████▏     | 1.62G/3.82G [01:15<01:37, 24.1MB/s]\rDownloading alphafold2_multimer_v3 weights to /root/.cache/colabfold:  42%|████▏     | 1.62G/3.82G [01:15<01:37, 24.1MB/s]\rDownloading alphafold2_multimer_v3 weights to /root/.cache/colabfold:  43%|████▎     | 1.63G/3.82G [01:15<01:37, 24.1MB/s]\rDownloading alphafold2_multimer_v3 weights to /root/.cache/colabfold:  43%|████▎     | 1.63G/3.82G [01:15<01:37, 24.1MB/s]\rDownloading alphafold2_multimer_v3 weights to /root/.cache/colabfold:  43%|████▎     | 1.63G/3.82G [01:16<01:37, 24.1MB/s]\rDownloading alphafold2_multimer_v3 weights to /root/.cache/colabfold:  43%|████▎     | 1.64G/3.82G [01:16<01:37, 24.1MB/s]\rDownloading alphafold2_multimer_v3 weights to /root/.cache/colabfold:  43%|████▎     | 1.64G/3.82G [01:16<01:37, 24.1MB/s]\rDownloading alphafold2_multimer_v3 weights to /root/.cache/colabfold:  43%|████▎     | 1.64G/3.82G [01:16<01:36, 24.1MB/s]\rDownloading alphafold2_multimer_v3 weights to /root/.cache/colabfold:  43%|████▎     | 1.65G/3.82G [01:16<01:36, 24.1MB/s]\rDownloading alphafold2_multimer_v3 weights to /root/.cache/colabfold:  43%|████▎     | 1.65G/3.82G [01:16<01:36, 24.1MB/s]\rDownloading alphafold2_multimer_v3 weights to /root/.cache/colabfold:  43%|████▎     | 1.65G/3.82G [01:16<01:36, 24.1MB/s]\rDownloading alphafold2_multimer_v3 weights to /root/.cache/colabfold:  43%|████▎     | 1.66G/3.82G [01:17<01:36, 24.1MB/s]\rDownloading alphafold2_multimer_v3 weights to /root/.cache/colabfold:  44%|████▎     | 1.66G/3.82G [01:17<01:42, 22.6MB/s]\rDownloading alphafold2_multimer_v3 weights to /root/.cache/colabfold:  44%|████▎     | 1.66G/3.82G [01:17<01:43, 22.3MB/s]\rDownloading alphafold2_multimer_v3 weights to /root/.cache/colabfold:  44%|████▎     | 1.67G/3.82G [01:17<01:41, 22.8MB/s]\rDownloading alphafold2_multimer_v3 weights to /root/.cache/colabfold:  44%|████▍     | 1.67G/3.82G [01:17<01:39, 23.2MB/s]\rDownloading alphafold2_multimer_v3 weights to /root/.cache/colabfold:  44%|████▍     | 1.68G/3.82G [01:17<01:38, 23.5MB/s]\rDownloading alphafold2_multimer_v3 weights to /root/.cache/colabfold:  44%|████▍     | 1.68G/3.82G [01:18<01:36, 23.7MB/s]\rDownloading alphafold2_multimer_v3 weights to /root/.cache/colabfold:  44%|████▍     | 1.68G/3.82G [01:18<01:36, 23.8MB/s]\rDownloading alphafold2_multimer_v3 weights to /root/.cache/colabfold:  44%|████▍     | 1.69G/3.82G [01:18<01:35, 23.9MB/s]\rDownloading alphafold2_multimer_v3 weights to /root/.cache/colabfold:  44%|████▍     | 1.69G/3.82G [01:18<01:35, 24.0MB/s]\rDownloading alphafold2_multimer_v3 weights to /root/.cache/colabfold:  44%|████▍     | 1.69G/3.82G [01:18<01:35, 24.0MB/s]\rDownloading alphafold2_multimer_v3 weights to /root/.cache/colabfold:  44%|████▍     | 1.70G/3.82G [01:18<01:34, 24.1MB/s]\rDownloading alphafold2_multimer_v3 weights to /root/.cache/colabfold:  45%|████▍     | 1.70G/3.82G [01:19<01:34, 24.1MB/s]\rDownloading alphafold2_multimer_v3 weights to /root/.cache/colabfold:  45%|████▍     | 1.70G/3.82G [01:19<01:34, 24.1MB/s]\rDownloading alphafold2_multimer_v3 weights to /root/.cache/colabfold:  45%|████▍     | 1.71G/3.82G [01:19<01:34, 24.1MB/s]\rDownloading alphafold2_multimer_v3 weights to /root/.cache/colabfold:  45%|████▍     | 1.71G/3.82G [01:19<01:34, 24.1MB/s]\rDownloading alphafold2_multimer_v3 weights to /root/.cache/colabfold:  45%|████▍     | 1.71G/3.82G [01:19<01:33, 24.1MB/s]\rDownloading alphafold2_multimer_v3 weights to /root/.cache/colabfold:  45%|████▍     | 1.72G/3.82G [01:19<01:33, 24.1MB/s]\rDownloading alphafold2_multimer_v3 weights to /root/.cache/colabfold:  45%|████▌     | 1.72G/3.82G [01:20<01:33, 24.1MB/s]\rDownloading alphafold2_multimer_v3 weights to /root/.cache/colabfold:  45%|████▌     | 1.73G/3.82G [01:20<01:33, 24.1MB/s]\rDownloading alphafold2_multimer_v3 weights to /root/.cache/colabfold:  45%|████▌     | 1.73G/3.82G [01:20<01:33, 24.1MB/s]\rDownloading alphafold2_multimer_v3 weights to /root/.cache/colabfold:  45%|████▌     | 1.73G/3.82G [01:20<01:33, 24.1MB/s]\rDownloading alphafold2_multimer_v3 weights to /root/.cache/colabfold:  45%|████▌     | 1.74G/3.82G [01:20<01:32, 24.1MB/s]\rDownloading alphafold2_multimer_v3 weights to /root/.cache/colabfold:  46%|████▌     | 1.74G/3.82G [01:20<01:32, 24.1MB/s]\rDownloading alphafold2_multimer_v3 weights to /root/.cache/colabfold:  46%|████▌     | 1.74G/3.82G [01:20<01:32, 24.1MB/s]\rDownloading alphafold2_multimer_v3 weights to /root/.cache/colabfold:  46%|████▌     | 1.75G/3.82G [01:21<01:32, 24.1MB/s]\rDownloading alphafold2_multimer_v3 weights to /root/.cache/colabfold:  46%|████▌     | 1.75G/3.82G [01:21<01:32, 24.1MB/s]\rDownloading alphafold2_multimer_v3 weights to /root/.cache/colabfold:  46%|████▌     | 1.75G/3.82G [01:21<01:32, 24.1MB/s]\rDownloading alphafold2_multimer_v3 weights to /root/.cache/colabfold:  46%|████▌     | 1.76G/3.82G [01:21<01:31, 24.1MB/s]\rDownloading alphafold2_multimer_v3 weights to /root/.cache/colabfold:  46%|████▌     | 1.76G/3.82G [01:21<01:31, 24.1MB/s]\rDownloading alphafold2_multimer_v3 weights to /root/.cache/colabfold:  46%|████▌     | 1.76G/3.82G [01:21<01:31, 24.1MB/s]\rDownloading alphafold2_multimer_v3 weights to /root/.cache/colabfold:  46%|████▋     | 1.77G/3.82G [01:22<01:31, 24.1MB/s]\rDownloading alphafold2_multimer_v3 weights to /root/.cache/colabfold:  46%|████▋     | 1.77G/3.82G [01:22<01:31, 24.1MB/s]\rDownloading alphafold2_multimer_v3 weights to /root/.cache/colabfold:  46%|████▋     | 1.77G/3.82G [01:22<01:31, 24.1MB/s]\rDownloading alphafold2_multimer_v3 weights to /root/.cache/colabfold:  47%|████▋     | 1.78G/3.82G [01:22<01:30, 24.1MB/s]\rDownloading alphafold2_multimer_v3 weights to /root/.cache/colabfold:  47%|████▋     | 1.78G/3.82G [01:22<01:30, 24.1MB/s]\rDownloading alphafold2_multimer_v3 weights to /root/.cache/colabfold:  47%|████▋     | 1.79G/3.82G [01:22<01:30, 24.1MB/s]\rDownloading alphafold2_multimer_v3 weights to /root/.cache/colabfold:  47%|████▋     | 1.79G/3.82G [01:23<01:30, 24.1MB/s]\rDownloading alphafold2_multimer_v3 weights to /root/.cache/colabfold:  47%|████▋     | 1.79G/3.82G [01:23<01:30, 24.1MB/s]\rDownloading alphafold2_multimer_v3 weights to /root/.cache/colabfold:  47%|████▋     | 1.80G/3.82G [01:23<01:30, 24.1MB/s]\rDownloading alphafold2_multimer_v3 weights to /root/.cache/colabfold:  47%|████▋     | 1.80G/3.82G [01:23<01:30, 24.1MB/s]\rDownloading alphafold2_multimer_v3 weights to /root/.cache/colabfold:  47%|████▋     | 1.80G/3.82G [01:23<01:29, 24.1MB/s]\rDownloading alphafold2_multimer_v3 weights to /root/.cache/colabfold:  47%|████▋     | 1.81G/3.82G [01:23<01:29, 24.1MB/s]\rDownloading alphafold2_multimer_v3 weights to /root/.cache/colabfold:  47%|████▋     | 1.81G/3.82G [01:23<01:29, 24.1MB/s]\rDownloading alphafold2_multimer_v3 weights to /root/.cache/colabfold:  48%|████▊     | 1.81G/3.82G [01:24<01:29, 24.1MB/s]\rDownloading alphafold2_multimer_v3 weights to /root/.cache/colabfold:  48%|████▊     | 1.82G/3.82G [01:24<01:29, 24.1MB/s]\rDownloading alphafold2_multimer_v3 weights to /root/.cache/colabfold:  48%|████▊     | 1.82G/3.82G [01:24<01:29, 24.1MB/s]\rDownloading alphafold2_multimer_v3 weights to /root/.cache/colabfold:  48%|████▊     | 1.82G/3.82G [01:24<01:28, 24.1MB/s]\rDownloading alphafold2_multimer_v3 weights to /root/.cache/colabfold:  48%|████▊     | 1.83G/3.82G [01:24<01:28, 24.1MB/s]\rDownloading alphafold2_multimer_v3 weights to /root/.cache/colabfold:  48%|████▊     | 1.83G/3.82G [01:24<01:28, 24.1MB/s]\rDownloading alphafold2_multimer_v3 weights to /root/.cache/colabfold:  48%|████▊     | 1.84G/3.82G [01:25<01:33, 22.8MB/s]\rDownloading alphafold2_multimer_v3 weights to /root/.cache/colabfold:  48%|████▊     | 1.84G/3.82G [01:25<01:44, 20.4MB/s]\rDownloading alphafold2_multimer_v3 weights to /root/.cache/colabfold:  48%|████▊     | 1.84G/3.82G [01:25<01:39, 21.3MB/s]\rDownloading alphafold2_multimer_v3 weights to /root/.cache/colabfold:  48%|████▊     | 1.84G/3.82G [01:25<01:35, 22.1MB/s]\rDownloading alphafold2_multimer_v3 weights to /root/.cache/colabfold:  48%|████▊     | 1.85G/3.82G [01:25<01:33, 22.7MB/s]\rDownloading alphafold2_multimer_v3 weights to /root/.cache/colabfold:  48%|████▊     | 1.85G/3.82G [01:25<01:31, 23.1MB/s]\rDownloading alphafold2_multimer_v3 weights to /root/.cache/colabfold:  49%|████▊     | 1.86G/3.82G [01:26<01:29, 23.4MB/s]\rDownloading alphafold2_multimer_v3 weights to /root/.cache/colabfold:  49%|████▊     | 1.86G/3.82G [01:26<01:29, 23.6MB/s]\rDownloading alphafold2_multimer_v3 weights to /root/.cache/colabfold:  49%|████▉     | 1.86G/3.82G [01:26<01:28, 23.8MB/s]\rDownloading alphafold2_multimer_v3 weights to /root/.cache/colabfold:  49%|████▉     | 1.87G/3.82G [01:26<01:27, 23.9MB/s]\rDownloading alphafold2_multimer_v3 weights to /root/.cache/colabfold:  49%|████▉     | 1.87G/3.82G [01:26<01:27, 23.9MB/s]\rDownloading alphafold2_multimer_v3 weights to /root/.cache/colabfold:  49%|████▉     | 1.87G/3.82G [01:26<01:27, 24.0MB/s]\rDownloading alphafold2_multimer_v3 weights to /root/.cache/colabfold:  49%|████▉     | 1.88G/3.82G [01:27<01:26, 24.0MB/s]\rDownloading alphafold2_multimer_v3 weights to /root/.cache/colabfold:  49%|████▉     | 1.88G/3.82G [01:27<01:26, 24.1MB/s]\rDownloading alphafold2_multimer_v3 weights to /root/.cache/colabfold:  49%|████▉     | 1.88G/3.82G [01:27<01:26, 24.1MB/s]\rDownloading alphafold2_multimer_v3 weights to /root/.cache/colabfold:  49%|████▉     | 1.89G/3.82G [01:27<01:26, 24.1MB/s]\rDownloading alphafold2_multimer_v3 weights to /root/.cache/colabfold:  50%|████▉     | 1.89G/3.82G [01:27<01:25, 24.1MB/s]\rDownloading alphafold2_multimer_v3 weights to /root/.cache/colabfold:  50%|████▉     | 1.89G/3.82G [01:27<01:25, 24.1MB/s]\rDownloading alphafold2_multimer_v3 weights to /root/.cache/colabfold:  50%|████▉     | 1.90G/3.82G [01:27<01:25, 24.1MB/s]\rDownloading alphafold2_multimer_v3 weights to /root/.cache/colabfold:  50%|████▉     | 1.90G/3.82G [01:28<01:25, 24.1MB/s]\rDownloading alphafold2_multimer_v3 weights to /root/.cache/colabfold:  50%|████▉     | 1.91G/3.82G [01:28<01:25, 24.1MB/s]\rDownloading alphafold2_multimer_v3 weights to /root/.cache/colabfold:  50%|████▉     | 1.91G/3.82G [01:28<01:25, 24.1MB/s]\rDownloading alphafold2_multimer_v3 weights to /root/.cache/colabfold:  50%|█████     | 1.91G/3.82G [01:28<01:24, 24.1MB/s]\rDownloading alphafold2_multimer_v3 weights to /root/.cache/colabfold:  50%|█████     | 1.92G/3.82G [01:28<01:24, 24.1MB/s]\rDownloading alphafold2_multimer_v3 weights to /root/.cache/colabfold:  50%|█████     | 1.92G/3.82G [01:28<01:24, 24.1MB/s]\rDownloading alphafold2_multimer_v3 weights to /root/.cache/colabfold:  50%|█████     | 1.92G/3.82G [01:29<01:24, 24.1MB/s]\rDownloading alphafold2_multimer_v3 weights to /root/.cache/colabfold:  50%|█████     | 1.93G/3.82G [01:29<01:24, 24.1MB/s]\rDownloading alphafold2_multimer_v3 weights to /root/.cache/colabfold:  51%|█████     | 1.93G/3.82G [01:29<01:24, 24.1MB/s]\rDownloading alphafold2_multimer_v3 weights to /root/.cache/colabfold:  51%|█████     | 1.93G/3.82G [01:29<01:23, 24.1MB/s]\rDownloading alphafold2_multimer_v3 weights to /root/.cache/colabfold:  51%|█████     | 1.94G/3.82G [01:29<01:23, 24.1MB/s]\rDownloading alphafold2_multimer_v3 weights to /root/.cache/colabfold:  51%|█████     | 1.94G/3.82G [01:29<01:23, 24.1MB/s]\rDownloading alphafold2_multimer_v3 weights to /root/.cache/colabfold:  51%|█████     | 1.94G/3.82G [01:30<01:23, 24.1MB/s]\rDownloading alphafold2_multimer_v3 weights to /root/.cache/colabfold:  51%|█████     | 1.95G/3.82G [01:30<01:23, 24.1MB/s]\rDownloading alphafold2_multimer_v3 weights to /root/.cache/colabfold:  51%|█████     | 1.95G/3.82G [01:30<01:33, 21.5MB/s]\rDownloading alphafold2_multimer_v3 weights to /root/.cache/colabfold:  51%|█████     | 1.95G/3.82G [01:30<01:33, 21.5MB/s]\rDownloading alphafold2_multimer_v3 weights to /root/.cache/colabfold:  51%|█████▏    | 1.96G/3.82G [01:30<01:29, 22.3MB/s]\rDownloading alphafold2_multimer_v3 weights to /root/.cache/colabfold:  51%|█████▏    | 1.96G/3.82G [01:30<01:27, 22.8MB/s]\rDownloading alphafold2_multimer_v3 weights to /root/.cache/colabfold:  51%|█████▏    | 1.96G/3.82G [01:31<01:30, 22.1MB/s]\rDownloading alphafold2_multimer_v3 weights to /root/.cache/colabfold:  52%|█████▏    | 1.97G/3.82G [01:31<01:40, 19.8MB/s]\rDownloading alphafold2_multimer_v3 weights to /root/.cache/colabfold:  52%|█████▏    | 1.97G/3.82G [01:31<01:51, 17.8MB/s]\rDownloading alphafold2_multimer_v3 weights to /root/.cache/colabfold:  52%|█████▏    | 1.97G/3.82G [01:31<01:40, 19.6MB/s]\rDownloading alphafold2_multimer_v3 weights to /root/.cache/colabfold:  52%|█████▏    | 1.98G/3.82G [01:31<01:34, 21.0MB/s]\rDownloading alphafold2_multimer_v3 weights to /root/.cache/colabfold:  52%|█████▏    | 1.98G/3.82G [01:31<01:30, 21.9MB/s]\rDownloading alphafold2_multimer_v3 weights to /root/.cache/colabfold:  52%|█████▏    | 1.98G/3.82G [01:32<01:27, 22.5MB/s]\rDownloading alphafold2_multimer_v3 weights to /root/.cache/colabfold:  52%|█████▏    | 1.99G/3.82G [01:32<01:25, 23.0MB/s]\rDownloading alphafold2_multimer_v3 weights to /root/.cache/colabfold:  52%|█████▏    | 1.99G/3.82G [01:32<01:24, 23.3MB/s]\rDownloading alphafold2_multimer_v3 weights to /root/.cache/colabfold:  52%|█████▏    | 1.99G/3.82G [01:32<01:23, 23.5MB/s]\rDownloading alphafold2_multimer_v3 weights to /root/.cache/colabfold:  52%|█████▏    | 2.00G/3.82G [01:32<01:22, 23.7MB/s]\rDownloading alphafold2_multimer_v3 weights to /root/.cache/colabfold:  52%|█████▏    | 2.00G/3.82G [01:32<01:21, 23.8MB/s]\rDownloading alphafold2_multimer_v3 weights to /root/.cache/colabfold:  52%|█████▏    | 2.00G/3.82G [01:32<01:21, 23.9MB/s]\rDownloading alphafold2_multimer_v3 weights to /root/.cache/colabfold:  53%|█████▎    | 2.01G/3.82G [01:33<01:21, 24.0MB/s]\rDownloading alphafold2_multimer_v3 weights to /root/.cache/colabfold:  53%|█████▎    | 2.01G/3.82G [01:33<01:20, 24.0MB/s]\rDownloading alphafold2_multimer_v3 weights to /root/.cache/colabfold:  53%|█████▎    | 2.02G/3.82G [01:33<01:20, 24.0MB/s]\rDownloading alphafold2_multimer_v3 weights to /root/.cache/colabfold:  53%|█████▎    | 2.02G/3.82G [01:33<01:20, 24.1MB/s]\rDownloading alphafold2_multimer_v3 weights to /root/.cache/colabfold:  53%|█████▎    | 2.02G/3.82G [01:33<01:20, 24.0MB/s]\rDownloading alphafold2_multimer_v3 weights to /root/.cache/colabfold:  53%|█████▎    | 2.03G/3.82G [01:33<01:20, 24.0MB/s]\rDownloading alphafold2_multimer_v3 weights to /root/.cache/colabfold:  53%|█████▎    | 2.03G/3.82G [01:34<01:19, 24.0MB/s]\rDownloading alphafold2_multimer_v3 weights to /root/.cache/colabfold:  53%|█████▎    | 2.03G/3.82G [01:34<01:19, 24.1MB/s]\rDownloading alphafold2_multimer_v3 weights to /root/.cache/colabfold:  53%|█████▎    | 2.04G/3.82G [01:34<01:19, 24.0MB/s]\rDownloading alphafold2_multimer_v3 weights to /root/.cache/colabfold:  53%|█████▎    | 2.04G/3.82G [01:34<01:19, 24.1MB/s]\rDownloading alphafold2_multimer_v3 weights to /root/.cache/colabfold:  54%|█████▎    | 2.04G/3.82G [01:34<01:19, 24.1MB/s]\rDownloading alphafold2_multimer_v3 weights to /root/.cache/colabfold:  54%|█████▎    | 2.05G/3.82G [01:34<01:18, 24.1MB/s]\rDownloading alphafold2_multimer_v3 weights to /root/.cache/colabfold:  54%|█████▎    | 2.05G/3.82G [01:35<01:18, 24.1MB/s]\rDownloading alphafold2_multimer_v3 weights to /root/.cache/colabfold:  54%|█████▍    | 2.05G/3.82G [01:35<01:18, 24.1MB/s]\rDownloading alphafold2_multimer_v3 weights to /root/.cache/colabfold:  54%|█████▍    | 2.06G/3.82G [01:35<01:18, 24.1MB/s]\rDownloading alphafold2_multimer_v3 weights to /root/.cache/colabfold:  54%|█████▍    | 2.06G/3.82G [01:35<01:18, 24.1MB/s]\rDownloading alphafold2_multimer_v3 weights to /root/.cache/colabfold:  54%|█████▍    | 2.06G/3.82G [01:35<01:21, 23.0MB/s]\rDownloading alphafold2_multimer_v3 weights to /root/.cache/colabfold:  54%|█████▍    | 2.07G/3.82G [01:35<01:23, 22.6MB/s]\rDownloading alphafold2_multimer_v3 weights to /root/.cache/colabfold:  54%|█████▍    | 2.07G/3.82G [01:36<01:21, 23.0MB/s]\rDownloading alphafold2_multimer_v3 weights to /root/.cache/colabfold:  54%|█████▍    | 2.08G/3.82G [01:36<01:20, 23.3MB/s]\rDownloading alphafold2_multimer_v3 weights to /root/.cache/colabfold:  54%|█████▍    | 2.08G/3.82G [01:36<01:19, 23.6MB/s]\rDownloading alphafold2_multimer_v3 weights to /root/.cache/colabfold:  55%|█████▍    | 2.08G/3.82G [01:36<01:18, 23.7MB/s]\rDownloading alphafold2_multimer_v3 weights to /root/.cache/colabfold:  55%|█████▍    | 2.09G/3.82G [01:36<01:18, 23.8MB/s]\rDownloading alphafold2_multimer_v3 weights to /root/.cache/colabfold:  55%|█████▍    | 2.09G/3.82G [01:36<01:17, 23.9MB/s]\rDownloading alphafold2_multimer_v3 weights to /root/.cache/colabfold:  55%|█████▍    | 2.09G/3.82G [01:36<01:17, 24.0MB/s]\rDownloading alphafold2_multimer_v3 weights to /root/.cache/colabfold:  55%|█████▍    | 2.10G/3.82G [01:37<01:17, 24.0MB/s]\rDownloading alphafold2_multimer_v3 weights to /root/.cache/colabfold:  55%|█████▌    | 2.10G/3.82G [01:37<01:16, 24.0MB/s]\rDownloading alphafold2_multimer_v3 weights to /root/.cache/colabfold:  55%|█████▌    | 2.10G/3.82G [01:37<01:16, 24.0MB/s]\rDownloading alphafold2_multimer_v3 weights to /root/.cache/colabfold:  55%|█████▌    | 2.11G/3.82G [01:37<01:16, 24.0MB/s]\rDownloading alphafold2_multimer_v3 weights to /root/.cache/colabfold:  55%|█████▌    | 2.11G/3.82G [01:37<01:16, 24.0MB/s]\rDownloading alphafold2_multimer_v3 weights to /root/.cache/colabfold:  55%|█████▌    | 2.11G/3.82G [01:37<01:16, 24.0MB/s]\rDownloading alphafold2_multimer_v3 weights to /root/.cache/colabfold:  55%|█████▌    | 2.12G/3.82G [01:38<01:15, 24.0MB/s]\rDownloading alphafold2_multimer_v3 weights to /root/.cache/colabfold:  56%|█████▌    | 2.12G/3.82G [01:38<01:15, 24.0MB/s]\rDownloading alphafold2_multimer_v3 weights to /root/.cache/colabfold:  56%|█████▌    | 2.12G/3.82G [01:38<01:15, 24.0MB/s]\rDownloading alphafold2_multimer_v3 weights to /root/.cache/colabfold:  56%|█████▌    | 2.13G/3.82G [01:38<01:15, 24.0MB/s]\rDownloading alphafold2_multimer_v3 weights to /root/.cache/colabfold:  56%|█████▌    | 2.13G/3.82G [01:38<01:19, 22.9MB/s]\rDownloading alphafold2_multimer_v3 weights to /root/.cache/colabfold:  56%|█████▌    | 2.13G/3.82G [01:38<01:28, 20.4MB/s]\rDownloading alphafold2_multimer_v3 weights to /root/.cache/colabfold:  56%|█████▌    | 2.14G/3.82G [01:39<01:38, 18.3MB/s]\rDownloading alphafold2_multimer_v3 weights to /root/.cache/colabfold:  56%|█████▌    | 2.14G/3.82G [01:39<01:30, 19.8MB/s]\rDownloading alphafold2_multimer_v3 weights to /root/.cache/colabfold:  56%|█████▌    | 2.14G/3.82G [01:39<01:25, 21.1MB/s]\rDownloading alphafold2_multimer_v3 weights to /root/.cache/colabfold:  56%|█████▌    | 2.15G/3.82G [01:39<01:21, 21.9MB/s]\rDownloading alphafold2_multimer_v3 weights to /root/.cache/colabfold:  56%|█████▋    | 2.15G/3.82G [01:39<01:19, 22.6MB/s]\rDownloading alphafold2_multimer_v3 weights to /root/.cache/colabfold:  56%|█████▋    | 2.15G/3.82G [01:39<01:17, 23.0MB/s]\rDownloading alphafold2_multimer_v3 weights to /root/.cache/colabfold:  57%|█████▋    | 2.16G/3.82G [01:39<01:16, 23.3MB/s]\rDownloading alphafold2_multimer_v3 weights to /root/.cache/colabfold:  57%|█████▋    | 2.16G/3.82G [01:40<01:15, 23.5MB/s]\rDownloading alphafold2_multimer_v3 weights to /root/.cache/colabfold:  57%|█████▋    | 2.16G/3.82G [01:40<01:15, 23.7MB/s]\rDownloading alphafold2_multimer_v3 weights to /root/.cache/colabfold:  57%|█████▋    | 2.17G/3.82G [01:40<01:14, 23.8MB/s]\rDownloading alphafold2_multimer_v3 weights to /root/.cache/colabfold:  57%|█████▋    | 2.17G/3.82G [01:40<01:14, 23.9MB/s]\rDownloading alphafold2_multimer_v3 weights to /root/.cache/colabfold:  57%|█████▋    | 2.17G/3.82G [01:40<01:13, 23.9MB/s]\rDownloading alphafold2_multimer_v3 weights to /root/.cache/colabfold:  57%|█████▋    | 2.18G/3.82G [01:40<01:13, 24.0MB/s]\rDownloading alphafold2_multimer_v3 weights to /root/.cache/colabfold:  57%|█████▋    | 2.18G/3.82G [01:41<01:13, 24.0MB/s]\rDownloading alphafold2_multimer_v3 weights to /root/.cache/colabfold:  57%|█████▋    | 2.19G/3.82G [01:41<01:13, 24.0MB/s]\rDownloading alphafold2_multimer_v3 weights to /root/.cache/colabfold:  57%|█████▋    | 2.19G/3.82G [01:41<01:12, 24.0MB/s]\rDownloading alphafold2_multimer_v3 weights to /root/.cache/colabfold:  57%|█████▋    | 2.19G/3.82G [01:41<01:12, 24.0MB/s]\rDownloading alphafold2_multimer_v3 weights to /root/.cache/colabfold:  58%|█████▊    | 2.20G/3.82G [01:41<01:12, 24.1MB/s]\rDownloading alphafold2_multimer_v3 weights to /root/.cache/colabfold:  58%|█████▊    | 2.20G/3.82G [01:41<01:12, 24.1MB/s]\rDownloading alphafold2_multimer_v3 weights to /root/.cache/colabfold:  58%|█████▊    | 2.20G/3.82G [01:42<01:12, 24.0MB/s]\rDownloading alphafold2_multimer_v3 weights to /root/.cache/colabfold:  58%|█████▊    | 2.21G/3.82G [01:42<01:11, 24.1MB/s]\rDownloading alphafold2_multimer_v3 weights to /root/.cache/colabfold:  58%|█████▊    | 2.21G/3.82G [01:42<01:11, 24.1MB/s]\rDownloading alphafold2_multimer_v3 weights to /root/.cache/colabfold:  58%|█████▊    | 2.21G/3.82G [01:42<01:11, 24.1MB/s]\rDownloading alphafold2_multimer_v3 weights to /root/.cache/colabfold:  58%|█████▊    | 2.22G/3.82G [01:42<01:11, 24.1MB/s]\rDownloading alphafold2_multimer_v3 weights to /root/.cache/colabfold:  58%|█████▊    | 2.22G/3.82G [01:42<01:11, 24.1MB/s]\rDownloading alphafold2_multimer_v3 weights to /root/.cache/colabfold:  58%|█████▊    | 2.22G/3.82G [01:43<01:11, 24.1MB/s]\rDownloading alphafold2_multimer_v3 weights to /root/.cache/colabfold:  58%|█████▊    | 2.23G/3.82G [01:43<01:10, 24.1MB/s]\rDownloading alphafold2_multimer_v3 weights to /root/.cache/colabfold:  58%|█████▊    | 2.23G/3.82G [01:43<01:10, 24.0MB/s]\rDownloading alphafold2_multimer_v3 weights to /root/.cache/colabfold:  59%|█████▊    | 2.24G/3.82G [01:43<01:10, 24.1MB/s]\rDownloading alphafold2_multimer_v3 weights to /root/.cache/colabfold:  59%|█████▊    | 2.24G/3.82G [01:43<01:10, 24.0MB/s]\rDownloading alphafold2_multimer_v3 weights to /root/.cache/colabfold:  59%|█████▊    | 2.24G/3.82G [01:43<01:10, 24.1MB/s]\rDownloading alphafold2_multimer_v3 weights to /root/.cache/colabfold:  59%|█████▉    | 2.25G/3.82G [01:43<01:13, 22.9MB/s]\rDownloading alphafold2_multimer_v3 weights to /root/.cache/colabfold:  59%|█████▉    | 2.25G/3.82G [01:44<01:14, 22.5MB/s]\rDownloading alphafold2_multimer_v3 weights to /root/.cache/colabfold:  59%|█████▉    | 2.25G/3.82G [01:44<01:13, 23.0MB/s]\rDownloading alphafold2_multimer_v3 weights to /root/.cache/colabfold:  59%|█████▉    | 2.26G/3.82G [01:44<01:12, 23.3MB/s]\rDownloading alphafold2_multimer_v3 weights to /root/.cache/colabfold:  59%|█████▉    | 2.26G/3.82G [01:44<01:11, 23.5MB/s]\rDownloading alphafold2_multimer_v3 weights to /root/.cache/colabfold:  59%|█████▉    | 2.26G/3.82G [01:44<01:10, 23.7MB/s]\rDownloading alphafold2_multimer_v3 weights to /root/.cache/colabfold:  59%|█████▉    | 2.27G/3.82G [01:44<01:10, 23.8MB/s]\rDownloading alphafold2_multimer_v3 weights to /root/.cache/colabfold:  59%|█████▉    | 2.27G/3.82G [01:45<01:09, 23.8MB/s]\rDownloading alphafold2_multimer_v3 weights to /root/.cache/colabfold:  60%|█████▉    | 2.27G/3.82G [01:45<01:09, 23.9MB/s]\rDownloading alphafold2_multimer_v3 weights to /root/.cache/colabfold:  60%|█████▉    | 2.28G/3.82G [01:45<01:09, 23.9MB/s]\rDownloading alphafold2_multimer_v3 weights to /root/.cache/colabfold:  60%|█████▉    | 2.28G/3.82G [01:45<01:08, 24.0MB/s]\rDownloading alphafold2_multimer_v3 weights to /root/.cache/colabfold:  60%|█████▉    | 2.28G/3.82G [01:45<01:08, 24.0MB/s]\rDownloading alphafold2_multimer_v3 weights to /root/.cache/colabfold:  60%|█████▉    | 2.29G/3.82G [01:45<01:08, 24.0MB/s]\rDownloading alphafold2_multimer_v3 weights to /root/.cache/colabfold:  60%|██████    | 2.29G/3.82G [01:46<01:08, 24.0MB/s]\rDownloading alphafold2_multimer_v3 weights to /root/.cache/colabfold:  60%|██████    | 2.30G/3.82G [01:46<01:08, 24.0MB/s]\rDownloading alphafold2_multimer_v3 weights to /root/.cache/colabfold:  60%|██████    | 2.30G/3.82G [01:46<01:11, 22.8MB/s]\rDownloading alphafold2_multimer_v3 weights to /root/.cache/colabfold:  60%|██████    | 2.30G/3.82G [01:46<01:20, 20.3MB/s]\rDownloading alphafold2_multimer_v3 weights to /root/.cache/colabfold:  60%|██████    | 2.30G/3.82G [01:46<01:29, 18.2MB/s]\rDownloading alphafold2_multimer_v3 weights to /root/.cache/colabfold:  60%|██████    | 2.31G/3.82G [01:46<01:21, 19.8MB/s]\rDownloading alphafold2_multimer_v3 weights to /root/.cache/colabfold:  60%|██████    | 2.31G/3.82G [01:47<01:16, 21.1MB/s]\rDownloading alphafold2_multimer_v3 weights to /root/.cache/colabfold:  61%|██████    | 2.31G/3.82G [01:47<01:13, 22.0MB/s]\rDownloading alphafold2_multimer_v3 weights to /root/.cache/colabfold:  61%|██████    | 2.32G/3.82G [01:47<01:11, 22.6MB/s]\rDownloading alphafold2_multimer_v3 weights to /root/.cache/colabfold:  61%|██████    | 2.32G/3.82G [01:47<01:09, 23.0MB/s]\rDownloading alphafold2_multimer_v3 weights to /root/.cache/colabfold:  61%|██████    | 2.32G/3.82G [01:47<01:08, 23.3MB/s]\rDownloading alphafold2_multimer_v3 weights to /root/.cache/colabfold:  61%|██████    | 2.33G/3.82G [01:47<01:07, 23.5MB/s]\rDownloading alphafold2_multimer_v3 weights to /root/.cache/colabfold:  61%|██████    | 2.33G/3.82G [01:47<01:07, 23.7MB/s]\rDownloading alphafold2_multimer_v3 weights to /root/.cache/colabfold:  61%|██████    | 2.33G/3.82G [01:48<01:06, 23.8MB/s]\rDownloading alphafold2_multimer_v3 weights to /root/.cache/colabfold:  61%|██████    | 2.34G/3.82G [01:48<01:06, 23.9MB/s]\rDownloading alphafold2_multimer_v3 weights to /root/.cache/colabfold:  61%|██████▏   | 2.34G/3.82G [01:48<01:06, 23.9MB/s]\rDownloading alphafold2_multimer_v3 weights to /root/.cache/colabfold:  61%|██████▏   | 2.35G/3.82G [01:48<01:06, 23.9MB/s]\rDownloading alphafold2_multimer_v3 weights to /root/.cache/colabfold:  62%|██████▏   | 2.35G/3.82G [01:48<01:05, 24.0MB/s]\rDownloading alphafold2_multimer_v3 weights to /root/.cache/colabfold:  62%|██████▏   | 2.35G/3.82G [01:48<01:05, 24.0MB/s]\rDownloading alphafold2_multimer_v3 weights to /root/.cache/colabfold:  62%|██████▏   | 2.36G/3.82G [01:49<01:05, 24.0MB/s]\rDownloading alphafold2_multimer_v3 weights to /root/.cache/colabfold:  62%|██████▏   | 2.36G/3.82G [01:49<01:05, 24.0MB/s]\rDownloading alphafold2_multimer_v3 weights to /root/.cache/colabfold:  62%|██████▏   | 2.36G/3.82G [01:49<01:05, 24.0MB/s]\rDownloading alphafold2_multimer_v3 weights to /root/.cache/colabfold:  62%|██████▏   | 2.37G/3.82G [01:49<01:04, 24.0MB/s]\rDownloading alphafold2_multimer_v3 weights to /root/.cache/colabfold:  62%|██████▏   | 2.37G/3.82G [01:49<01:04, 24.0MB/s]\rDownloading alphafold2_multimer_v3 weights to /root/.cache/colabfold:  62%|██████▏   | 2.37G/3.82G [01:49<01:04, 24.0MB/s]\rDownloading alphafold2_multimer_v3 weights to /root/.cache/colabfold:  62%|██████▏   | 2.38G/3.82G [01:50<01:04, 24.0MB/s]\rDownloading alphafold2_multimer_v3 weights to /root/.cache/colabfold:  62%|██████▏   | 2.38G/3.82G [01:50<01:04, 24.0MB/s]\rDownloading alphafold2_multimer_v3 weights to /root/.cache/colabfold:  62%|██████▏   | 2.38G/3.82G [01:50<01:04, 24.0MB/s]\rDownloading alphafold2_multimer_v3 weights to /root/.cache/colabfold:  63%|██████▎   | 2.39G/3.82G [01:50<01:03, 24.0MB/s]\rDownloading alphafold2_multimer_v3 weights to /root/.cache/colabfold:  63%|██████▎   | 2.39G/3.82G [01:50<01:03, 24.0MB/s]\rDownloading alphafold2_multimer_v3 weights to /root/.cache/colabfold:  63%|██████▎   | 2.40G/3.82G [01:50<01:03, 24.0MB/s]\rDownloading alphafold2_multimer_v3 weights to /root/.cache/colabfold:  63%|██████▎   | 2.40G/3.82G [01:51<01:06, 23.0MB/s]\rDownloading alphafold2_multimer_v3 weights to /root/.cache/colabfold:  63%|██████▎   | 2.40G/3.82G [01:51<01:07, 22.6MB/s]\rDownloading alphafold2_multimer_v3 weights to /root/.cache/colabfold:  63%|██████▎   | 2.41G/3.82G [01:51<01:05, 23.0MB/s]\rDownloading alphafold2_multimer_v3 weights to /root/.cache/colabfold:  63%|██████▎   | 2.41G/3.82G [01:51<01:04, 23.3MB/s]\rDownloading alphafold2_multimer_v3 weights to /root/.cache/colabfold:  63%|██████▎   | 2.41G/3.82G [01:51<01:04, 23.5MB/s]\rDownloading alphafold2_multimer_v3 weights to /root/.cache/colabfold:  63%|██████▎   | 2.42G/3.82G [01:51<01:06, 22.5MB/s]\rDownloading alphafold2_multimer_v3 weights to /root/.cache/colabfold:  63%|██████▎   | 2.42G/3.82G [01:51<01:14, 20.1MB/s]\rDownloading alphafold2_multimer_v3 weights to /root/.cache/colabfold:  63%|██████▎   | 2.42G/3.82G [01:52<01:23, 18.0MB/s]\rDownloading alphafold2_multimer_v3 weights to /root/.cache/colabfold:  63%|██████▎   | 2.42G/3.82G [01:52<01:15, 19.7MB/s]\rDownloading alphafold2_multimer_v3 weights to /root/.cache/colabfold:  64%|██████▎   | 2.43G/3.82G [01:52<01:11, 21.0MB/s]\rDownloading alphafold2_multimer_v3 weights to /root/.cache/colabfold:  64%|██████▎   | 2.43G/3.82G [01:52<01:07, 21.9MB/s]\rDownloading alphafold2_multimer_v3 weights to /root/.cache/colabfold:  64%|██████▍   | 2.43G/3.82G [01:52<01:05, 22.6MB/s]\rDownloading alphafold2_multimer_v3 weights to /root/.cache/colabfold:  64%|██████▍   | 2.44G/3.82G [01:52<01:04, 23.0MB/s]\rDownloading alphafold2_multimer_v3 weights to /root/.cache/colabfold:  64%|██████▍   | 2.44G/3.82G [01:53<01:03, 23.3MB/s]\rDownloading alphafold2_multimer_v3 weights to /root/.cache/colabfold:  64%|██████▍   | 2.44G/3.82G [01:53<01:02, 23.5MB/s]\rDownloading alphafold2_multimer_v3 weights to /root/.cache/colabfold:  64%|██████▍   | 2.45G/3.82G [01:53<01:02, 23.7MB/s]\rDownloading alphafold2_multimer_v3 weights to /root/.cache/colabfold:  64%|██████▍   | 2.45G/3.82G [01:53<01:01, 23.8MB/s]\rDownloading alphafold2_multimer_v3 weights to /root/.cache/colabfold:  64%|██████▍   | 2.46G/3.82G [01:53<01:01, 23.9MB/s]\rDownloading alphafold2_multimer_v3 weights to /root/.cache/colabfold:  64%|██████▍   | 2.46G/3.82G [01:53<01:00, 23.9MB/s]\rDownloading alphafold2_multimer_v3 weights to /root/.cache/colabfold:  64%|██████▍   | 2.46G/3.82G [01:54<01:00, 24.0MB/s]\rDownloading alphafold2_multimer_v3 weights to /root/.cache/colabfold:  65%|██████▍   | 2.47G/3.82G [01:54<01:00, 24.0MB/s]\rDownloading alphafold2_multimer_v3 weights to /root/.cache/colabfold:  65%|██████▍   | 2.47G/3.82G [01:54<01:00, 24.0MB/s]\rDownloading alphafold2_multimer_v3 weights to /root/.cache/colabfold:  65%|██████▍   | 2.47G/3.82G [01:54<01:00, 24.0MB/s]\rDownloading alphafold2_multimer_v3 weights to /root/.cache/colabfold:  65%|██████▍   | 2.48G/3.82G [01:54<00:59, 24.1MB/s]\rDownloading alphafold2_multimer_v3 weights to /root/.cache/colabfold:  65%|██████▍   | 2.48G/3.82G [01:54<00:59, 24.1MB/s]\rDownloading alphafold2_multimer_v3 weights to /root/.cache/colabfold:  65%|██████▌   | 2.48G/3.82G [01:55<00:59, 24.1MB/s]\rDownloading alphafold2_multimer_v3 weights to /root/.cache/colabfold:  65%|██████▌   | 2.49G/3.82G [01:55<00:59, 24.1MB/s]\rDownloading alphafold2_multimer_v3 weights to /root/.cache/colabfold:  65%|██████▌   | 2.49G/3.82G [01:55<00:59, 24.1MB/s]\rDownloading alphafold2_multimer_v3 weights to /root/.cache/colabfold:  65%|██████▌   | 2.49G/3.82G [01:55<00:59, 24.1MB/s]\rDownloading alphafold2_multimer_v3 weights to /root/.cache/colabfold:  65%|██████▌   | 2.50G/3.82G [01:55<00:58, 24.1MB/s]\rDownloading alphafold2_multimer_v3 weights to /root/.cache/colabfold:  66%|██████▌   | 2.50G/3.82G [01:55<00:58, 24.1MB/s]\rDownloading alphafold2_multimer_v3 weights to /root/.cache/colabfold:  66%|██████▌   | 2.51G/3.82G [01:55<00:58, 24.1MB/s]\rDownloading alphafold2_multimer_v3 weights to /root/.cache/colabfold:  66%|██████▌   | 2.51G/3.82G [01:56<00:58, 24.1MB/s]\rDownloading alphafold2_multimer_v3 weights to /root/.cache/colabfold:  66%|██████▌   | 2.51G/3.82G [01:56<00:58, 24.1MB/s]\rDownloading alphafold2_multimer_v3 weights to /root/.cache/colabfold:  66%|██████▌   | 2.52G/3.82G [01:56<00:58, 24.1MB/s]\rDownloading alphafold2_multimer_v3 weights to /root/.cache/colabfold:  66%|██████▌   | 2.52G/3.82G [01:56<00:57, 24.1MB/s]\rDownloading alphafold2_multimer_v3 weights to /root/.cache/colabfold:  66%|██████▌   | 2.52G/3.82G [01:56<00:57, 24.0MB/s]\rDownloading alphafold2_multimer_v3 weights to /root/.cache/colabfold:  66%|██████▌   | 2.53G/3.82G [01:56<00:57, 24.1MB/s]\rDownloading alphafold2_multimer_v3 weights to /root/.cache/colabfold:  66%|██████▋   | 2.53G/3.82G [01:57<01:00, 22.8MB/s]\rDownloading alphafold2_multimer_v3 weights to /root/.cache/colabfold:  66%|██████▋   | 2.53G/3.82G [01:57<01:01, 22.4MB/s]\rDownloading alphafold2_multimer_v3 weights to /root/.cache/colabfold:  66%|██████▋   | 2.54G/3.82G [01:57<01:00, 22.9MB/s]\rDownloading alphafold2_multimer_v3 weights to /root/.cache/colabfold:  67%|██████▋   | 2.54G/3.82G [01:57<00:59, 23.2MB/s]\rDownloading alphafold2_multimer_v3 weights to /root/.cache/colabfold:  67%|██████▋   | 2.54G/3.82G [01:57<00:58, 23.5MB/s]\rDownloading alphafold2_multimer_v3 weights to /root/.cache/colabfold:  67%|██████▋   | 2.55G/3.82G [01:57<00:57, 23.7MB/s]\rDownloading alphafold2_multimer_v3 weights to /root/.cache/colabfold:  67%|██████▋   | 2.55G/3.82G [01:58<00:57, 23.8MB/s]\rDownloading alphafold2_multimer_v3 weights to /root/.cache/colabfold:  67%|██████▋   | 2.55G/3.82G [01:58<00:56, 23.9MB/s]\rDownloading alphafold2_multimer_v3 weights to /root/.cache/colabfold:  67%|██████▋   | 2.56G/3.82G [01:58<00:56, 23.9MB/s]\rDownloading alphafold2_multimer_v3 weights to /root/.cache/colabfold:  67%|██████▋   | 2.56G/3.82G [01:58<00:56, 24.0MB/s]\rDownloading alphafold2_multimer_v3 weights to /root/.cache/colabfold:  67%|██████▋   | 2.57G/3.82G [01:58<00:56, 24.0MB/s]\rDownloading alphafold2_multimer_v3 weights to /root/.cache/colabfold:  67%|██████▋   | 2.57G/3.82G [01:58<00:55, 24.0MB/s]\rDownloading alphafold2_multimer_v3 weights to /root/.cache/colabfold:  67%|██████▋   | 2.57G/3.82G [01:58<00:55, 24.0MB/s]\rDownloading alphafold2_multimer_v3 weights to /root/.cache/colabfold:  67%|██████▋   | 2.58G/3.82G [01:59<00:58, 22.8MB/s]\rDownloading alphafold2_multimer_v3 weights to /root/.cache/colabfold:  68%|██████▊   | 2.58G/3.82G [01:59<01:05, 20.4MB/s]\rDownloading alphafold2_multimer_v3 weights to /root/.cache/colabfold:  68%|██████▊   | 2.58G/3.82G [01:59<01:12, 18.3MB/s]\rDownloading alphafold2_multimer_v3 weights to /root/.cache/colabfold:  68%|██████▊   | 2.58G/3.82G [01:59<01:06, 19.8MB/s]\rDownloading alphafold2_multimer_v3 weights to /root/.cache/colabfold:  68%|██████▊   | 2.59G/3.82G [01:59<01:02, 21.1MB/s]\rDownloading alphafold2_multimer_v3 weights to /root/.cache/colabfold:  68%|██████▊   | 2.59G/3.82G [01:59<01:00, 22.0MB/s]\rDownloading alphafold2_multimer_v3 weights to /root/.cache/colabfold:  68%|██████▊   | 2.59G/3.82G [02:00<00:58, 22.6MB/s]\rDownloading alphafold2_multimer_v3 weights to /root/.cache/colabfold:  68%|██████▊   | 2.60G/3.82G [02:00<00:56, 23.0MB/s]\rDownloading alphafold2_multimer_v3 weights to /root/.cache/colabfold:  68%|██████▊   | 2.60G/3.82G [02:00<00:56, 23.3MB/s]\rDownloading alphafold2_multimer_v3 weights to /root/.cache/colabfold:  68%|██████▊   | 2.60G/3.82G [02:00<00:55, 23.6MB/s]\rDownloading alphafold2_multimer_v3 weights to /root/.cache/colabfold:  68%|██████▊   | 2.61G/3.82G [02:00<00:54, 23.7MB/s]\rDownloading alphafold2_multimer_v3 weights to /root/.cache/colabfold:  68%|██████▊   | 2.61G/3.82G [02:00<00:54, 23.8MB/s]\rDownloading alphafold2_multimer_v3 weights to /root/.cache/colabfold:  69%|██████▊   | 2.62G/3.82G [02:01<00:54, 23.9MB/s]\rDownloading alphafold2_multimer_v3 weights to /root/.cache/colabfold:  69%|██████▊   | 2.62G/3.82G [02:01<00:53, 23.9MB/s]\rDownloading alphafold2_multimer_v3 weights to /root/.cache/colabfold:  69%|██████▊   | 2.62G/3.82G [02:01<00:53, 24.0MB/s]\rDownloading alphafold2_multimer_v3 weights to /root/.cache/colabfold:  69%|██████▉   | 2.63G/3.82G [02:01<00:53, 24.0MB/s]\rDownloading alphafold2_multimer_v3 weights to /root/.cache/colabfold:  69%|██████▉   | 2.63G/3.82G [02:01<00:53, 24.0MB/s]\rDownloading alphafold2_multimer_v3 weights to /root/.cache/colabfold:  69%|██████▉   | 2.63G/3.82G [02:01<00:52, 24.0MB/s]\rDownloading alphafold2_multimer_v3 weights to /root/.cache/colabfold:  69%|██████▉   | 2.64G/3.82G [02:02<00:52, 24.0MB/s]\rDownloading alphafold2_multimer_v3 weights to /root/.cache/colabfold:  69%|██████▉   | 2.64G/3.82G [02:02<00:52, 24.0MB/s]\rDownloading alphafold2_multimer_v3 weights to /root/.cache/colabfold:  69%|██████▉   | 2.64G/3.82G [02:02<00:52, 24.0MB/s]\rDownloading alphafold2_multimer_v3 weights to /root/.cache/colabfold:  69%|██████▉   | 2.65G/3.82G [02:02<00:52, 24.0MB/s]\rDownloading alphafold2_multimer_v3 weights to /root/.cache/colabfold:  69%|██████▉   | 2.65G/3.82G [02:02<00:52, 24.0MB/s]\rDownloading alphafold2_multimer_v3 weights to /root/.cache/colabfold:  70%|██████▉   | 2.65G/3.82G [02:02<00:51, 24.0MB/s]\rDownloading alphafold2_multimer_v3 weights to /root/.cache/colabfold:  70%|██████▉   | 2.66G/3.82G [02:02<00:51, 24.0MB/s]\rDownloading alphafold2_multimer_v3 weights to /root/.cache/colabfold:  70%|██████▉   | 2.66G/3.82G [02:03<00:51, 24.0MB/s]\rDownloading alphafold2_multimer_v3 weights to /root/.cache/colabfold:  70%|██████▉   | 2.67G/3.82G [02:03<00:51, 24.0MB/s]\rDownloading alphafold2_multimer_v3 weights to /root/.cache/colabfold:  70%|██████▉   | 2.67G/3.82G [02:03<00:51, 24.1MB/s]\rDownloading alphafold2_multimer_v3 weights to /root/.cache/colabfold:  70%|██████▉   | 2.67G/3.82G [02:03<00:51, 24.0MB/s]\rDownloading alphafold2_multimer_v3 weights to /root/.cache/colabfold:  70%|███████   | 2.68G/3.82G [02:03<00:51, 24.0MB/s]\rDownloading alphafold2_multimer_v3 weights to /root/.cache/colabfold:  70%|███████   | 2.68G/3.82G [02:03<00:50, 24.0MB/s]\rDownloading alphafold2_multimer_v3 weights to /root/.cache/colabfold:  70%|███████   | 2.68G/3.82G [02:04<00:50, 24.0MB/s]\rDownloading alphafold2_multimer_v3 weights to /root/.cache/colabfold:  70%|███████   | 2.69G/3.82G [02:04<00:50, 24.0MB/s]\rDownloading alphafold2_multimer_v3 weights to /root/.cache/colabfold:  70%|███████   | 2.69G/3.82G [02:04<00:50, 24.0MB/s]\rDownloading alphafold2_multimer_v3 weights to /root/.cache/colabfold:  71%|███████   | 2.69G/3.82G [02:04<00:50, 24.0MB/s]\rDownloading alphafold2_multimer_v3 weights to /root/.cache/colabfold:  71%|███████   | 2.70G/3.82G [02:04<00:50, 24.0MB/s]\rDownloading alphafold2_multimer_v3 weights to /root/.cache/colabfold:  71%|███████   | 2.70G/3.82G [02:04<00:49, 24.1MB/s]\rDownloading alphafold2_multimer_v3 weights to /root/.cache/colabfold:  71%|███████   | 2.70G/3.82G [02:05<00:49, 24.0MB/s]\rDownloading alphafold2_multimer_v3 weights to /root/.cache/colabfold:  71%|███████   | 2.71G/3.82G [02:05<00:49, 24.0MB/s]\rDownloading alphafold2_multimer_v3 weights to /root/.cache/colabfold:  71%|███████   | 2.71G/3.82G [02:05<00:49, 24.1MB/s]\rDownloading alphafold2_multimer_v3 weights to /root/.cache/colabfold:  71%|███████   | 2.71G/3.82G [02:05<00:49, 24.0MB/s]\rDownloading alphafold2_multimer_v3 weights to /root/.cache/colabfold:  71%|███████   | 2.72G/3.82G [02:05<00:49, 24.1MB/s]\rDownloading alphafold2_multimer_v3 weights to /root/.cache/colabfold:  71%|███████▏  | 2.72G/3.82G [02:05<00:48, 24.1MB/s]\rDownloading alphafold2_multimer_v3 weights to /root/.cache/colabfold:  71%|███████▏  | 2.73G/3.82G [02:05<00:48, 24.1MB/s]\rDownloading alphafold2_multimer_v3 weights to /root/.cache/colabfold:  71%|███████▏  | 2.73G/3.82G [02:06<00:48, 24.1MB/s]\rDownloading alphafold2_multimer_v3 weights to /root/.cache/colabfold:  72%|███████▏  | 2.73G/3.82G [02:06<00:48, 24.1MB/s]\rDownloading alphafold2_multimer_v3 weights to /root/.cache/colabfold:  72%|███████▏  | 2.74G/3.82G [02:06<00:48, 24.1MB/s]\rDownloading alphafold2_multimer_v3 weights to /root/.cache/colabfold:  72%|███████▏  | 2.74G/3.82G [02:06<00:48, 24.1MB/s]\rDownloading alphafold2_multimer_v3 weights to /root/.cache/colabfold:  72%|███████▏  | 2.74G/3.82G [02:06<00:47, 24.1MB/s]\rDownloading alphafold2_multimer_v3 weights to /root/.cache/colabfold:  72%|███████▏  | 2.75G/3.82G [02:06<00:47, 24.1MB/s]\rDownloading alphafold2_multimer_v3 weights to /root/.cache/colabfold:  72%|███████▏  | 2.75G/3.82G [02:07<00:49, 23.0MB/s]\rDownloading alphafold2_multimer_v3 weights to /root/.cache/colabfold:  72%|███████▏  | 2.75G/3.82G [02:07<00:50, 22.6MB/s]\rDownloading alphafold2_multimer_v3 weights to /root/.cache/colabfold:  72%|███████▏  | 2.76G/3.82G [02:07<00:49, 23.0MB/s]\rDownloading alphafold2_multimer_v3 weights to /root/.cache/colabfold:  72%|███████▏  | 2.76G/3.82G [02:07<00:48, 23.3MB/s]\rDownloading alphafold2_multimer_v3 weights to /root/.cache/colabfold:  72%|███████▏  | 2.76G/3.82G [02:07<00:47, 23.6MB/s]\rDownloading alphafold2_multimer_v3 weights to /root/.cache/colabfold:  72%|███████▏  | 2.77G/3.82G [02:07<00:47, 23.7MB/s]\rDownloading alphafold2_multimer_v3 weights to /root/.cache/colabfold:  73%|███████▎  | 2.77G/3.82G [02:08<00:47, 23.8MB/s]\rDownloading alphafold2_multimer_v3 weights to /root/.cache/colabfold:  73%|███████▎  | 2.77G/3.82G [02:08<00:46, 23.9MB/s]\rDownloading alphafold2_multimer_v3 weights to /root/.cache/colabfold:  73%|███████▎  | 2.78G/3.82G [02:08<00:46, 24.0MB/s]\rDownloading alphafold2_multimer_v3 weights to /root/.cache/colabfold:  73%|███████▎  | 2.78G/3.82G [02:08<00:46, 24.0MB/s]\rDownloading alphafold2_multimer_v3 weights to /root/.cache/colabfold:  73%|███████▎  | 2.79G/3.82G [02:08<00:46, 24.0MB/s]\rDownloading alphafold2_multimer_v3 weights to /root/.cache/colabfold:  73%|███████▎  | 2.79G/3.82G [02:08<00:46, 24.0MB/s]\rDownloading alphafold2_multimer_v3 weights to /root/.cache/colabfold:  73%|███████▎  | 2.79G/3.82G [02:09<00:45, 24.0MB/s]\rDownloading alphafold2_multimer_v3 weights to /root/.cache/colabfold:  73%|███████▎  | 2.80G/3.82G [02:09<00:45, 24.1MB/s]\rDownloading alphafold2_multimer_v3 weights to /root/.cache/colabfold:  73%|███████▎  | 2.80G/3.82G [02:09<00:45, 24.1MB/s]\rDownloading alphafold2_multimer_v3 weights to /root/.cache/colabfold:  73%|███████▎  | 2.80G/3.82G [02:09<00:45, 24.1MB/s]\rDownloading alphafold2_multimer_v3 weights to /root/.cache/colabfold:  74%|███████▎  | 2.81G/3.82G [02:09<00:45, 24.1MB/s]\rDownloading alphafold2_multimer_v3 weights to /root/.cache/colabfold:  74%|███████▎  | 2.81G/3.82G [02:09<00:44, 24.1MB/s]\rDownloading alphafold2_multimer_v3 weights to /root/.cache/colabfold:  74%|███████▎  | 2.81G/3.82G [02:09<00:44, 24.1MB/s]\rDownloading alphafold2_multimer_v3 weights to /root/.cache/colabfold:  74%|███████▍  | 2.82G/3.82G [02:10<00:44, 24.1MB/s]\rDownloading alphafold2_multimer_v3 weights to /root/.cache/colabfold:  74%|███████▍  | 2.82G/3.82G [02:10<00:44, 24.1MB/s]\rDownloading alphafold2_multimer_v3 weights to /root/.cache/colabfold:  74%|███████▍  | 2.82G/3.82G [02:10<00:44, 24.1MB/s]\rDownloading alphafold2_multimer_v3 weights to /root/.cache/colabfold:  74%|███████▍  | 2.83G/3.82G [02:10<00:46, 22.9MB/s]\rDownloading alphafold2_multimer_v3 weights to /root/.cache/colabfold:  74%|███████▍  | 2.83G/3.82G [02:10<00:51, 20.4MB/s]\rDownloading alphafold2_multimer_v3 weights to /root/.cache/colabfold:  74%|███████▍  | 2.83G/3.82G [02:10<00:57, 18.3MB/s]\rDownloading alphafold2_multimer_v3 weights to /root/.cache/colabfold:  74%|███████▍  | 2.84G/3.82G [02:11<00:53, 19.9MB/s]\rDownloading alphafold2_multimer_v3 weights to /root/.cache/colabfold:  74%|███████▍  | 2.84G/3.82G [02:11<00:49, 21.1MB/s]\rDownloading alphafold2_multimer_v3 weights to /root/.cache/colabfold:  74%|███████▍  | 2.84G/3.82G [02:11<00:47, 22.0MB/s]\rDownloading alphafold2_multimer_v3 weights to /root/.cache/colabfold:  75%|███████▍  | 2.85G/3.82G [02:11<00:46, 22.6MB/s]\rDownloading alphafold2_multimer_v3 weights to /root/.cache/colabfold:  75%|███████▍  | 2.85G/3.82G [02:11<00:45, 23.1MB/s]\rDownloading alphafold2_multimer_v3 weights to /root/.cache/colabfold:  75%|███████▍  | 2.85G/3.82G [02:11<00:44, 23.4MB/s]\rDownloading alphafold2_multimer_v3 weights to /root/.cache/colabfold:  75%|███████▍  | 2.86G/3.82G [02:12<00:43, 23.6MB/s]\rDownloading alphafold2_multimer_v3 weights to /root/.cache/colabfold:  75%|███████▍  | 2.86G/3.82G [02:12<00:43, 23.8MB/s]\rDownloading alphafold2_multimer_v3 weights to /root/.cache/colabfold:  75%|███████▌  | 2.86G/3.82G [02:12<00:42, 23.8MB/s]\rDownloading alphafold2_multimer_v3 weights to /root/.cache/colabfold:  75%|███████▌  | 2.87G/3.82G [02:12<00:42, 23.9MB/s]\rDownloading alphafold2_multimer_v3 weights to /root/.cache/colabfold:  75%|███████▌  | 2.87G/3.82G [02:12<00:42, 24.0MB/s]\rDownloading alphafold2_multimer_v3 weights to /root/.cache/colabfold:  75%|███████▌  | 2.87G/3.82G [02:12<00:42, 24.0MB/s]\rDownloading alphafold2_multimer_v3 weights to /root/.cache/colabfold:  75%|███████▌  | 2.88G/3.82G [02:13<00:41, 24.1MB/s]\rDownloading alphafold2_multimer_v3 weights to /root/.cache/colabfold:  75%|███████▌  | 2.88G/3.82G [02:13<00:41, 24.1MB/s]\rDownloading alphafold2_multimer_v3 weights to /root/.cache/colabfold:  76%|███████▌  | 2.89G/3.82G [02:13<00:41, 24.1MB/s]\rDownloading alphafold2_multimer_v3 weights to /root/.cache/colabfold:  76%|███████▌  | 2.89G/3.82G [02:13<00:41, 24.1MB/s]\rDownloading alphafold2_multimer_v3 weights to /root/.cache/colabfold:  76%|███████▌  | 2.89G/3.82G [02:13<00:41, 24.1MB/s]\rDownloading alphafold2_multimer_v3 weights to /root/.cache/colabfold:  76%|███████▌  | 2.90G/3.82G [02:13<00:40, 24.2MB/s]\rDownloading alphafold2_multimer_v3 weights to /root/.cache/colabfold:  76%|███████▌  | 2.90G/3.82G [02:13<00:40, 24.2MB/s]\rDownloading alphafold2_multimer_v3 weights to /root/.cache/colabfold:  76%|███████▌  | 2.90G/3.82G [02:14<00:40, 24.1MB/s]\rDownloading alphafold2_multimer_v3 weights to /root/.cache/colabfold:  76%|███████▌  | 2.91G/3.82G [02:14<00:40, 24.1MB/s]\rDownloading alphafold2_multimer_v3 weights to /root/.cache/colabfold:  76%|███████▌  | 2.91G/3.82G [02:14<00:40, 24.1MB/s]\rDownloading alphafold2_multimer_v3 weights to /root/.cache/colabfold:  76%|███████▋  | 2.91G/3.82G [02:14<00:40, 24.2MB/s]\rDownloading alphafold2_multimer_v3 weights to /root/.cache/colabfold:  76%|███████▋  | 2.92G/3.82G [02:14<00:40, 24.1MB/s]\rDownloading alphafold2_multimer_v3 weights to /root/.cache/colabfold:  77%|███████▋  | 2.92G/3.82G [02:14<00:39, 24.2MB/s]\rDownloading alphafold2_multimer_v3 weights to /root/.cache/colabfold:  77%|███████▋  | 2.92G/3.82G [02:15<00:39, 24.1MB/s]\rDownloading alphafold2_multimer_v3 weights to /root/.cache/colabfold:  77%|███████▋  | 2.93G/3.82G [02:15<00:39, 24.1MB/s]\rDownloading alphafold2_multimer_v3 weights to /root/.cache/colabfold:  77%|███████▋  | 2.93G/3.82G [02:15<00:39, 24.1MB/s]\rDownloading alphafold2_multimer_v3 weights to /root/.cache/colabfold:  77%|███████▋  | 2.94G/3.82G [02:15<00:39, 24.1MB/s]\rDownloading alphafold2_multimer_v3 weights to /root/.cache/colabfold:  77%|███████▋  | 2.94G/3.82G [02:15<00:39, 24.1MB/s]\rDownloading alphafold2_multimer_v3 weights to /root/.cache/colabfold:  77%|███████▋  | 2.94G/3.82G [02:15<00:40, 23.0MB/s]\rDownloading alphafold2_multimer_v3 weights to /root/.cache/colabfold:  77%|███████▋  | 2.95G/3.82G [02:16<00:41, 22.6MB/s]\rDownloading alphafold2_multimer_v3 weights to /root/.cache/colabfold:  77%|███████▋  | 2.95G/3.82G [02:16<00:40, 23.0MB/s]\rDownloading alphafold2_multimer_v3 weights to /root/.cache/colabfold:  77%|███████▋  | 2.95G/3.82G [02:16<00:39, 23.3MB/s]\rDownloading alphafold2_multimer_v3 weights to /root/.cache/colabfold:  77%|███████▋  | 2.96G/3.82G [02:16<00:39, 23.6MB/s]\rDownloading alphafold2_multimer_v3 weights to /root/.cache/colabfold:  78%|███████▊  | 2.96G/3.82G [02:16<00:38, 23.7MB/s]\rDownloading alphafold2_multimer_v3 weights to /root/.cache/colabfold:  78%|███████▊  | 2.96G/3.82G [02:16<00:38, 23.9MB/s]\rDownloading alphafold2_multimer_v3 weights to /root/.cache/colabfold:  78%|███████▊  | 2.97G/3.82G [02:17<00:38, 23.9MB/s]\rDownloading alphafold2_multimer_v3 weights to /root/.cache/colabfold:  78%|███████▊  | 2.97G/3.82G [02:17<00:37, 24.0MB/s]\rDownloading alphafold2_multimer_v3 weights to /root/.cache/colabfold:  78%|███████▊  | 2.97G/3.82G [02:17<00:37, 24.0MB/s]\rDownloading alphafold2_multimer_v3 weights to /root/.cache/colabfold:  78%|███████▊  | 2.98G/3.82G [02:17<00:37, 24.1MB/s]\rDownloading alphafold2_multimer_v3 weights to /root/.cache/colabfold:  78%|███████▊  | 2.98G/3.82G [02:17<00:37, 24.0MB/s]\rDownloading alphafold2_multimer_v3 weights to /root/.cache/colabfold:  78%|███████▊  | 2.99G/3.82G [02:17<00:37, 24.0MB/s]\rDownloading alphafold2_multimer_v3 weights to /root/.cache/colabfold:  78%|███████▊  | 2.99G/3.82G [02:17<00:37, 24.1MB/s]\rDownloading alphafold2_multimer_v3 weights to /root/.cache/colabfold:  78%|███████▊  | 2.99G/3.82G [02:18<00:36, 24.1MB/s]\rDownloading alphafold2_multimer_v3 weights to /root/.cache/colabfold:  78%|███████▊  | 3.00G/3.82G [02:18<00:36, 24.1MB/s]\rDownloading alphafold2_multimer_v3 weights to /root/.cache/colabfold:  79%|███████▊  | 3.00G/3.82G [02:18<00:36, 24.1MB/s]\rDownloading alphafold2_multimer_v3 weights to /root/.cache/colabfold:  79%|███████▊  | 3.00G/3.82G [02:18<00:36, 24.1MB/s]\rDownloading alphafold2_multimer_v3 weights to /root/.cache/colabfold:  79%|███████▊  | 3.01G/3.82G [02:18<00:36, 24.1MB/s]\rDownloading alphafold2_multimer_v3 weights to /root/.cache/colabfold:  79%|███████▉  | 3.01G/3.82G [02:18<00:36, 24.1MB/s]\rDownloading alphafold2_multimer_v3 weights to /root/.cache/colabfold:  79%|███████▉  | 3.01G/3.82G [02:19<00:37, 22.8MB/s]\rDownloading alphafold2_multimer_v3 weights to /root/.cache/colabfold:  79%|███████▉  | 3.02G/3.82G [02:19<00:42, 20.3MB/s]\rDownloading alphafold2_multimer_v3 weights to /root/.cache/colabfold:  79%|███████▉  | 3.02G/3.82G [02:19<00:47, 18.2MB/s]\rDownloading alphafold2_multimer_v3 weights to /root/.cache/colabfold:  79%|███████▉  | 3.02G/3.82G [02:19<00:43, 19.9MB/s]\rDownloading alphafold2_multimer_v3 weights to /root/.cache/colabfold:  79%|███████▉  | 3.02G/3.82G [02:19<00:40, 21.1MB/s]\rDownloading alphafold2_multimer_v3 weights to /root/.cache/colabfold:  79%|███████▉  | 3.03G/3.82G [02:19<00:38, 22.0MB/s]\rDownloading alphafold2_multimer_v3 weights to /root/.cache/colabfold:  79%|███████▉  | 3.03G/3.82G [02:20<00:37, 22.6MB/s]\rDownloading alphafold2_multimer_v3 weights to /root/.cache/colabfold:  79%|███████▉  | 3.04G/3.82G [02:20<00:36, 23.0MB/s]\rDownloading alphafold2_multimer_v3 weights to /root/.cache/colabfold:  80%|███████▉  | 3.04G/3.82G [02:20<00:35, 23.4MB/s]\rDownloading alphafold2_multimer_v3 weights to /root/.cache/colabfold:  80%|███████▉  | 3.04G/3.82G [02:20<00:35, 23.6MB/s]\rDownloading alphafold2_multimer_v3 weights to /root/.cache/colabfold:  80%|███████▉  | 3.05G/3.82G [02:20<00:34, 23.8MB/s]\rDownloading alphafold2_multimer_v3 weights to /root/.cache/colabfold:  80%|███████▉  | 3.05G/3.82G [02:20<00:34, 23.8MB/s]\rDownloading alphafold2_multimer_v3 weights to /root/.cache/colabfold:  80%|███████▉  | 3.05G/3.82G [02:21<00:34, 23.9MB/s]\rDownloading alphafold2_multimer_v3 weights to /root/.cache/colabfold:  80%|████████  | 3.06G/3.82G [02:21<00:34, 24.0MB/s]\rDownloading alphafold2_multimer_v3 weights to /root/.cache/colabfold:  80%|████████  | 3.06G/3.82G [02:21<00:33, 24.0MB/s]\rDownloading alphafold2_multimer_v3 weights to /root/.cache/colabfold:  80%|████████  | 3.06G/3.82G [02:21<00:33, 24.1MB/s]\rDownloading alphafold2_multimer_v3 weights to /root/.cache/colabfold:  80%|████████  | 3.07G/3.82G [02:21<00:33, 24.1MB/s]\rDownloading alphafold2_multimer_v3 weights to /root/.cache/colabfold:  80%|████████  | 3.07G/3.82G [02:21<00:33, 24.1MB/s]\rDownloading alphafold2_multimer_v3 weights to /root/.cache/colabfold:  81%|████████  | 3.07G/3.82G [02:21<00:33, 24.1MB/s]\rDownloading alphafold2_multimer_v3 weights to /root/.cache/colabfold:  81%|████████  | 3.08G/3.82G [02:22<00:32, 24.1MB/s]\rDownloading alphafold2_multimer_v3 weights to /root/.cache/colabfold:  81%|████████  | 3.08G/3.82G [02:22<00:32, 24.1MB/s]\rDownloading alphafold2_multimer_v3 weights to /root/.cache/colabfold:  81%|████████  | 3.09G/3.82G [02:22<00:32, 24.1MB/s]\rDownloading alphafold2_multimer_v3 weights to /root/.cache/colabfold:  81%|████████  | 3.09G/3.82G [02:22<00:32, 24.1MB/s]\rDownloading alphafold2_multimer_v3 weights to /root/.cache/colabfold:  81%|████████  | 3.09G/3.82G [02:22<00:32, 24.1MB/s]\rDownloading alphafold2_multimer_v3 weights to /root/.cache/colabfold:  81%|████████  | 3.10G/3.82G [02:22<00:32, 24.1MB/s]\rDownloading alphafold2_multimer_v3 weights to /root/.cache/colabfold:  81%|████████  | 3.10G/3.82G [02:23<00:31, 24.1MB/s]\rDownloading alphafold2_multimer_v3 weights to /root/.cache/colabfold:  81%|████████▏ | 3.10G/3.82G [02:23<00:31, 24.1MB/s]\rDownloading alphafold2_multimer_v3 weights to /root/.cache/colabfold:  81%|████████▏ | 3.11G/3.82G [02:23<00:31, 24.1MB/s]\rDownloading alphafold2_multimer_v3 weights to /root/.cache/colabfold:  81%|████████▏ | 3.11G/3.82G [02:23<00:31, 24.1MB/s]\rDownloading alphafold2_multimer_v3 weights to /root/.cache/colabfold:  82%|████████▏ | 3.11G/3.82G [02:23<00:31, 24.1MB/s]\rDownloading alphafold2_multimer_v3 weights to /root/.cache/colabfold:  82%|████████▏ | 3.12G/3.82G [02:23<00:31, 24.1MB/s]\rDownloading alphafold2_multimer_v3 weights to /root/.cache/colabfold:  82%|████████▏ | 3.12G/3.82G [02:24<00:31, 24.1MB/s]\rDownloading alphafold2_multimer_v3 weights to /root/.cache/colabfold:  82%|████████▏ | 3.12G/3.82G [02:24<00:30, 24.1MB/s]\rDownloading alphafold2_multimer_v3 weights to /root/.cache/colabfold:  82%|████████▏ | 3.13G/3.82G [02:24<00:30, 24.1MB/s]\rDownloading alphafold2_multimer_v3 weights to /root/.cache/colabfold:  82%|████████▏ | 3.13G/3.82G [02:24<00:30, 24.1MB/s]\rDownloading alphafold2_multimer_v3 weights to /root/.cache/colabfold:  82%|████████▏ | 3.14G/3.82G [02:24<00:30, 24.1MB/s]\rDownloading alphafold2_multimer_v3 weights to /root/.cache/colabfold:  82%|████████▏ | 3.14G/3.82G [02:24<00:30, 24.1MB/s]\rDownloading alphafold2_multimer_v3 weights to /root/.cache/colabfold:  82%|████████▏ | 3.14G/3.82G [02:24<00:30, 24.1MB/s]\rDownloading alphafold2_multimer_v3 weights to /root/.cache/colabfold:  82%|████████▏ | 3.15G/3.82G [02:25<00:29, 24.1MB/s]\rDownloading alphafold2_multimer_v3 weights to /root/.cache/colabfold:  82%|████████▏ | 3.15G/3.82G [02:25<00:29, 24.1MB/s]\rDownloading alphafold2_multimer_v3 weights to /root/.cache/colabfold:  83%|████████▎ | 3.15G/3.82G [02:25<00:29, 24.1MB/s]\rDownloading alphafold2_multimer_v3 weights to /root/.cache/colabfold:  83%|████████▎ | 3.16G/3.82G [02:25<00:29, 24.1MB/s]\rDownloading alphafold2_multimer_v3 weights to /root/.cache/colabfold:  83%|████████▎ | 3.16G/3.82G [02:25<00:29, 24.1MB/s]\rDownloading alphafold2_multimer_v3 weights to /root/.cache/colabfold:  83%|████████▎ | 3.16G/3.82G [02:25<00:29, 24.2MB/s]\rDownloading alphafold2_multimer_v3 weights to /root/.cache/colabfold:  83%|████████▎ | 3.17G/3.82G [02:26<00:28, 24.2MB/s]\rDownloading alphafold2_multimer_v3 weights to /root/.cache/colabfold:  83%|████████▎ | 3.17G/3.82G [02:26<00:28, 24.1MB/s]\rDownloading alphafold2_multimer_v3 weights to /root/.cache/colabfold:  83%|████████▎ | 3.17G/3.82G [02:26<00:28, 24.2MB/s]\rDownloading alphafold2_multimer_v3 weights to /root/.cache/colabfold:  83%|████████▎ | 3.18G/3.82G [02:26<00:28, 24.2MB/s]\rDownloading alphafold2_multimer_v3 weights to /root/.cache/colabfold:  83%|████████▎ | 3.18G/3.82G [02:26<00:29, 22.9MB/s]\rDownloading alphafold2_multimer_v3 weights to /root/.cache/colabfold:  83%|████████▎ | 3.18G/3.82G [02:26<00:33, 20.5MB/s]\rDownloading alphafold2_multimer_v3 weights to /root/.cache/colabfold:  83%|████████▎ | 3.19G/3.82G [02:27<00:37, 18.3MB/s]\rDownloading alphafold2_multimer_v3 weights to /root/.cache/colabfold:  84%|████████▎ | 3.19G/3.82G [02:27<00:33, 19.9MB/s]\rDownloading alphafold2_multimer_v3 weights to /root/.cache/colabfold:  84%|████████▎ | 3.19G/3.82G [02:27<00:33, 20.3MB/s]\rDownloading alphafold2_multimer_v3 weights to /root/.cache/colabfold:  84%|████████▎ | 3.20G/3.82G [02:27<00:32, 20.7MB/s]\rDownloading alphafold2_multimer_v3 weights to /root/.cache/colabfold:  84%|████████▍ | 3.20G/3.82G [02:27<00:30, 21.7MB/s]\rDownloading alphafold2_multimer_v3 weights to /root/.cache/colabfold:  84%|████████▍ | 3.20G/3.82G [02:27<00:29, 22.4MB/s]\rDownloading alphafold2_multimer_v3 weights to /root/.cache/colabfold:  84%|████████▍ | 3.21G/3.82G [02:28<00:28, 22.9MB/s]\rDownloading alphafold2_multimer_v3 weights to /root/.cache/colabfold:  84%|████████▍ | 3.21G/3.82G [02:28<00:28, 23.3MB/s]\rDownloading alphafold2_multimer_v3 weights to /root/.cache/colabfold:  84%|████████▍ | 3.21G/3.82G [02:28<00:27, 23.5MB/s]\rDownloading alphafold2_multimer_v3 weights to /root/.cache/colabfold:  84%|████████▍ | 3.22G/3.82G [02:28<00:27, 23.7MB/s]\rDownloading alphafold2_multimer_v3 weights to /root/.cache/colabfold:  84%|████████▍ | 3.22G/3.82G [02:28<00:26, 23.8MB/s]\rDownloading alphafold2_multimer_v3 weights to /root/.cache/colabfold:  84%|████████▍ | 3.22G/3.82G [02:28<00:26, 23.9MB/s]\rDownloading alphafold2_multimer_v3 weights to /root/.cache/colabfold:  85%|████████▍ | 3.23G/3.82G [02:28<00:26, 23.9MB/s]\rDownloading alphafold2_multimer_v3 weights to /root/.cache/colabfold:  85%|████████▍ | 3.23G/3.82G [02:29<00:26, 24.0MB/s]\rDownloading alphafold2_multimer_v3 weights to /root/.cache/colabfold:  85%|████████▍ | 3.23G/3.82G [02:29<00:26, 24.0MB/s]\rDownloading alphafold2_multimer_v3 weights to /root/.cache/colabfold:  85%|████████▍ | 3.24G/3.82G [02:29<00:25, 24.0MB/s]\rDownloading alphafold2_multimer_v3 weights to /root/.cache/colabfold:  85%|████████▍ | 3.24G/3.82G [02:29<00:25, 24.1MB/s]\rDownloading alphafold2_multimer_v3 weights to /root/.cache/colabfold:  85%|████████▌ | 3.25G/3.82G [02:29<00:25, 24.0MB/s]\rDownloading alphafold2_multimer_v3 weights to /root/.cache/colabfold:  85%|████████▌ | 3.25G/3.82G [02:29<00:25, 24.1MB/s]\rDownloading alphafold2_multimer_v3 weights to /root/.cache/colabfold:  85%|████████▌ | 3.25G/3.82G [02:30<00:25, 24.1MB/s]\rDownloading alphafold2_multimer_v3 weights to /root/.cache/colabfold:  85%|████████▌ | 3.26G/3.82G [02:30<00:25, 24.1MB/s]\rDownloading alphafold2_multimer_v3 weights to /root/.cache/colabfold:  85%|████████▌ | 3.26G/3.82G [02:30<00:24, 24.1MB/s]\rDownloading alphafold2_multimer_v3 weights to /root/.cache/colabfold:  85%|████████▌ | 3.26G/3.82G [02:30<00:24, 24.1MB/s]\rDownloading alphafold2_multimer_v3 weights to /root/.cache/colabfold:  86%|████████▌ | 3.27G/3.82G [02:30<00:24, 24.1MB/s]\rDownloading alphafold2_multimer_v3 weights to /root/.cache/colabfold:  86%|████████▌ | 3.27G/3.82G [02:30<00:24, 24.1MB/s]\rDownloading alphafold2_multimer_v3 weights to /root/.cache/colabfold:  86%|████████▌ | 3.27G/3.82G [02:31<00:24, 24.1MB/s]\rDownloading alphafold2_multimer_v3 weights to /root/.cache/colabfold:  86%|████████▌ | 3.28G/3.82G [02:31<00:24, 24.1MB/s]\rDownloading alphafold2_multimer_v3 weights to /root/.cache/colabfold:  86%|████████▌ | 3.28G/3.82G [02:31<00:23, 24.1MB/s]\rDownloading alphafold2_multimer_v3 weights to /root/.cache/colabfold:  86%|████████▌ | 3.28G/3.82G [02:31<00:23, 24.1MB/s]\rDownloading alphafold2_multimer_v3 weights to /root/.cache/colabfold:  86%|████████▌ | 3.29G/3.82G [02:31<00:23, 24.1MB/s]\rDownloading alphafold2_multimer_v3 weights to /root/.cache/colabfold:  86%|████████▌ | 3.29G/3.82G [02:31<00:23, 24.1MB/s]\rDownloading alphafold2_multimer_v3 weights to /root/.cache/colabfold:  86%|████████▋ | 3.30G/3.82G [02:32<00:23, 24.1MB/s]\rDownloading alphafold2_multimer_v3 weights to /root/.cache/colabfold:  86%|████████▋ | 3.30G/3.82G [02:32<00:23, 24.1MB/s]\rDownloading alphafold2_multimer_v3 weights to /root/.cache/colabfold:  86%|████████▋ | 3.30G/3.82G [02:32<00:22, 24.1MB/s]\rDownloading alphafold2_multimer_v3 weights to /root/.cache/colabfold:  87%|████████▋ | 3.31G/3.82G [02:32<00:22, 24.1MB/s]\rDownloading alphafold2_multimer_v3 weights to /root/.cache/colabfold:  87%|████████▋ | 3.31G/3.82G [02:32<00:22, 24.1MB/s]\rDownloading alphafold2_multimer_v3 weights to /root/.cache/colabfold:  87%|████████▋ | 3.31G/3.82G [02:32<00:22, 24.1MB/s]\rDownloading alphafold2_multimer_v3 weights to /root/.cache/colabfold:  87%|████████▋ | 3.32G/3.82G [02:32<00:22, 24.1MB/s]\rDownloading alphafold2_multimer_v3 weights to /root/.cache/colabfold:  87%|████████▋ | 3.32G/3.82G [02:33<00:22, 24.1MB/s]\rDownloading alphafold2_multimer_v3 weights to /root/.cache/colabfold:  87%|████████▋ | 3.32G/3.82G [02:33<00:22, 24.1MB/s]\rDownloading alphafold2_multimer_v3 weights to /root/.cache/colabfold:  87%|████████▋ | 3.33G/3.82G [02:33<00:21, 24.1MB/s]\rDownloading alphafold2_multimer_v3 weights to /root/.cache/colabfold:  87%|████████▋ | 3.33G/3.82G [02:33<00:22, 22.9MB/s]\rDownloading alphafold2_multimer_v3 weights to /root/.cache/colabfold:  87%|████████▋ | 3.33G/3.82G [02:33<00:25, 20.4MB/s]\rDownloading alphafold2_multimer_v3 weights to /root/.cache/colabfold:  87%|████████▋ | 3.33G/3.82G [02:33<00:28, 18.3MB/s]\rDownloading alphafold2_multimer_v3 weights to /root/.cache/colabfold:  87%|████████▋ | 3.34G/3.82G [02:34<00:26, 19.8MB/s]\rDownloading alphafold2_multimer_v3 weights to /root/.cache/colabfold:  88%|████████▊ | 3.34G/3.82G [02:34<00:24, 21.0MB/s]\rDownloading alphafold2_multimer_v3 weights to /root/.cache/colabfold:  88%|████████▊ | 3.35G/3.82G [02:34<00:23, 21.9MB/s]\rDownloading alphafold2_multimer_v3 weights to /root/.cache/colabfold:  88%|████████▊ | 3.35G/3.82G [02:34<00:22, 22.6MB/s]\rDownloading alphafold2_multimer_v3 weights to /root/.cache/colabfold:  88%|████████▊ | 3.35G/3.82G [02:34<00:21, 23.0MB/s]\rDownloading alphafold2_multimer_v3 weights to /root/.cache/colabfold:  88%|████████▊ | 3.36G/3.82G [02:34<00:21, 23.3MB/s]\rDownloading alphafold2_multimer_v3 weights to /root/.cache/colabfold:  88%|████████▊ | 3.36G/3.82G [02:35<00:20, 23.6MB/s]\rDownloading alphafold2_multimer_v3 weights to /root/.cache/colabfold:  88%|████████▊ | 3.36G/3.82G [02:35<00:20, 23.7MB/s]\rDownloading alphafold2_multimer_v3 weights to /root/.cache/colabfold:  88%|████████▊ | 3.37G/3.82G [02:35<00:20, 23.8MB/s]\rDownloading alphafold2_multimer_v3 weights to /root/.cache/colabfold:  88%|████████▊ | 3.37G/3.82G [02:35<00:20, 23.9MB/s]\rDownloading alphafold2_multimer_v3 weights to /root/.cache/colabfold:  88%|████████▊ | 3.37G/3.82G [02:35<00:19, 23.9MB/s]\rDownloading alphafold2_multimer_v3 weights to /root/.cache/colabfold:  88%|████████▊ | 3.38G/3.82G [02:35<00:19, 24.0MB/s]\rDownloading alphafold2_multimer_v3 weights to /root/.cache/colabfold:  89%|████████▊ | 3.38G/3.82G [02:36<00:19, 24.0MB/s]\rDownloading alphafold2_multimer_v3 weights to /root/.cache/colabfold:  89%|████████▊ | 3.38G/3.82G [02:36<00:19, 24.0MB/s]\rDownloading alphafold2_multimer_v3 weights to /root/.cache/colabfold:  89%|████████▊ | 3.39G/3.82G [02:36<00:19, 24.0MB/s]\rDownloading alphafold2_multimer_v3 weights to /root/.cache/colabfold:  89%|████████▉ | 3.39G/3.82G [02:36<00:19, 24.0MB/s]\rDownloading alphafold2_multimer_v3 weights to /root/.cache/colabfold:  89%|████████▉ | 3.40G/3.82G [02:36<00:18, 24.0MB/s]\rDownloading alphafold2_multimer_v3 weights to /root/.cache/colabfold:  89%|████████▉ | 3.40G/3.82G [02:36<00:18, 24.0MB/s]\rDownloading alphafold2_multimer_v3 weights to /root/.cache/colabfold:  89%|████████▉ | 3.40G/3.82G [02:36<00:18, 24.0MB/s]\rDownloading alphafold2_multimer_v3 weights to /root/.cache/colabfold:  89%|████████▉ | 3.41G/3.82G [02:37<00:18, 24.0MB/s]\rDownloading alphafold2_multimer_v3 weights to /root/.cache/colabfold:  89%|████████▉ | 3.41G/3.82G [02:37<00:18, 24.0MB/s]\rDownloading alphafold2_multimer_v3 weights to /root/.cache/colabfold:  89%|████████▉ | 3.41G/3.82G [02:37<00:18, 24.1MB/s]\rDownloading alphafold2_multimer_v3 weights to /root/.cache/colabfold:  89%|████████▉ | 3.42G/3.82G [02:37<00:17, 24.0MB/s]\rDownloading alphafold2_multimer_v3 weights to /root/.cache/colabfold:  90%|████████▉ | 3.42G/3.82G [02:37<00:17, 24.0MB/s]\rDownloading alphafold2_multimer_v3 weights to /root/.cache/colabfold:  90%|████████▉ | 3.42G/3.82G [02:37<00:17, 24.0MB/s]\rDownloading alphafold2_multimer_v3 weights to /root/.cache/colabfold:  90%|████████▉ | 3.43G/3.82G [02:38<00:17, 24.0MB/s]\rDownloading alphafold2_multimer_v3 weights to /root/.cache/colabfold:  90%|████████▉ | 3.43G/3.82G [02:38<00:17, 24.0MB/s]\rDownloading alphafold2_multimer_v3 weights to /root/.cache/colabfold:  90%|████████▉ | 3.43G/3.82G [02:38<00:17, 24.1MB/s]\rDownloading alphafold2_multimer_v3 weights to /root/.cache/colabfold:  90%|█████████ | 3.44G/3.82G [02:38<00:16, 24.0MB/s]\rDownloading alphafold2_multimer_v3 weights to /root/.cache/colabfold:  90%|█████████ | 3.44G/3.82G [02:38<00:16, 24.0MB/s]\rDownloading alphafold2_multimer_v3 weights to /root/.cache/colabfold:  90%|█████████ | 3.44G/3.82G [02:38<00:16, 24.0MB/s]\rDownloading alphafold2_multimer_v3 weights to /root/.cache/colabfold:  90%|█████████ | 3.45G/3.82G [02:39<00:16, 24.0MB/s]\rDownloading alphafold2_multimer_v3 weights to /root/.cache/colabfold:  90%|█████████ | 3.45G/3.82G [02:39<00:16, 24.0MB/s]\rDownloading alphafold2_multimer_v3 weights to /root/.cache/colabfold:  91%|█████████ | 3.46G/3.82G [02:39<00:16, 24.1MB/s]\rDownloading alphafold2_multimer_v3 weights to /root/.cache/colabfold:  91%|█████████ | 3.46G/3.82G [02:39<00:16, 24.0MB/s]\rDownloading alphafold2_multimer_v3 weights to /root/.cache/colabfold:  91%|█████████ | 3.46G/3.82G [02:39<00:15, 24.0MB/s]\rDownloading alphafold2_multimer_v3 weights to /root/.cache/colabfold:  91%|█████████ | 3.47G/3.82G [02:39<00:15, 24.0MB/s]\rDownloading alphafold2_multimer_v3 weights to /root/.cache/colabfold:  91%|█████████ | 3.47G/3.82G [02:39<00:15, 24.0MB/s]\rDownloading alphafold2_multimer_v3 weights to /root/.cache/colabfold:  91%|█████████ | 3.47G/3.82G [02:40<00:15, 24.1MB/s]\rDownloading alphafold2_multimer_v3 weights to /root/.cache/colabfold:  91%|█████████ | 3.48G/3.82G [02:40<00:15, 24.0MB/s]\rDownloading alphafold2_multimer_v3 weights to /root/.cache/colabfold:  91%|█████████ | 3.48G/3.82G [02:40<00:15, 24.0MB/s]\rDownloading alphafold2_multimer_v3 weights to /root/.cache/colabfold:  91%|█████████ | 3.48G/3.82G [02:40<00:14, 24.0MB/s]\rDownloading alphafold2_multimer_v3 weights to /root/.cache/colabfold:  91%|█████████▏| 3.49G/3.82G [02:40<00:14, 24.0MB/s]\rDownloading alphafold2_multimer_v3 weights to /root/.cache/colabfold:  91%|█████████▏| 3.49G/3.82G [02:40<00:14, 24.1MB/s]\rDownloading alphafold2_multimer_v3 weights to /root/.cache/colabfold:  92%|█████████▏| 3.49G/3.82G [02:41<00:14, 24.0MB/s]\rDownloading alphafold2_multimer_v3 weights to /root/.cache/colabfold:  92%|█████████▏| 3.50G/3.82G [02:41<00:14, 24.0MB/s]\rDownloading alphafold2_multimer_v3 weights to /root/.cache/colabfold:  92%|█████████▏| 3.50G/3.82G [02:41<00:14, 24.0MB/s]\rDownloading alphafold2_multimer_v3 weights to /root/.cache/colabfold:  92%|█████████▏| 3.51G/3.82G [02:41<00:13, 24.0MB/s]\rDownloading alphafold2_multimer_v3 weights to /root/.cache/colabfold:  92%|█████████▏| 3.51G/3.82G [02:41<00:13, 24.0MB/s]\rDownloading alphafold2_multimer_v3 weights to /root/.cache/colabfold:  92%|█████████▏| 3.51G/3.82G [02:41<00:13, 24.1MB/s]\rDownloading alphafold2_multimer_v3 weights to /root/.cache/colabfold:  92%|█████████▏| 3.52G/3.82G [02:42<00:14, 22.9MB/s]\rDownloading alphafold2_multimer_v3 weights to /root/.cache/colabfold:  92%|█████████▏| 3.52G/3.82G [02:42<00:14, 22.5MB/s]\rDownloading alphafold2_multimer_v3 weights to /root/.cache/colabfold:  92%|█████████▏| 3.52G/3.82G [02:42<00:13, 23.0MB/s]\rDownloading alphafold2_multimer_v3 weights to /root/.cache/colabfold:  92%|█████████▏| 3.53G/3.82G [02:42<00:13, 23.3MB/s]\rDownloading alphafold2_multimer_v3 weights to /root/.cache/colabfold:  92%|█████████▏| 3.53G/3.82G [02:42<00:13, 23.5MB/s]\rDownloading alphafold2_multimer_v3 weights to /root/.cache/colabfold:  93%|█████████▎| 3.53G/3.82G [02:42<00:12, 23.7MB/s]\rDownloading alphafold2_multimer_v3 weights to /root/.cache/colabfold:  93%|█████████▎| 3.54G/3.82G [02:43<00:12, 23.8MB/s]\rDownloading alphafold2_multimer_v3 weights to /root/.cache/colabfold:  93%|█████████▎| 3.54G/3.82G [02:43<00:12, 23.9MB/s]\rDownloading alphafold2_multimer_v3 weights to /root/.cache/colabfold:  93%|█████████▎| 3.54G/3.82G [02:43<00:12, 23.9MB/s]\rDownloading alphafold2_multimer_v3 weights to /root/.cache/colabfold:  93%|█████████▎| 3.55G/3.82G [02:43<00:12, 24.0MB/s]\rDownloading alphafold2_multimer_v3 weights to /root/.cache/colabfold:  93%|█████████▎| 3.55G/3.82G [02:43<00:11, 24.0MB/s]\rDownloading alphafold2_multimer_v3 weights to /root/.cache/colabfold:  93%|█████████▎| 3.55G/3.82G [02:43<00:11, 24.0MB/s]\rDownloading alphafold2_multimer_v3 weights to /root/.cache/colabfold:  93%|█████████▎| 3.56G/3.82G [02:43<00:11, 24.0MB/s]\rDownloading alphafold2_multimer_v3 weights to /root/.cache/colabfold:  93%|█████████▎| 3.56G/3.82G [02:44<00:11, 24.0MB/s]\rDownloading alphafold2_multimer_v3 weights to /root/.cache/colabfold:  93%|█████████▎| 3.57G/3.82G [02:44<00:11, 24.0MB/s]\rDownloading alphafold2_multimer_v3 weights to /root/.cache/colabfold:  93%|█████████▎| 3.57G/3.82G [02:44<00:11, 23.9MB/s]\rDownloading alphafold2_multimer_v3 weights to /root/.cache/colabfold:  94%|█████████▎| 3.57G/3.82G [02:44<00:11, 23.9MB/s]\rDownloading alphafold2_multimer_v3 weights to /root/.cache/colabfold:  94%|█████████▎| 3.58G/3.82G [02:44<00:10, 24.0MB/s]\rDownloading alphafold2_multimer_v3 weights to /root/.cache/colabfold:  94%|█████████▍| 3.58G/3.82G [02:44<00:10, 24.0MB/s]\rDownloading alphafold2_multimer_v3 weights to /root/.cache/colabfold:  94%|█████████▍| 3.58G/3.82G [02:45<00:10, 24.0MB/s]\rDownloading alphafold2_multimer_v3 weights to /root/.cache/colabfold:  94%|█████████▍| 3.59G/3.82G [02:45<00:10, 24.1MB/s]\rDownloading alphafold2_multimer_v3 weights to /root/.cache/colabfold:  94%|█████████▍| 3.59G/3.82G [02:45<00:10, 24.1MB/s]\rDownloading alphafold2_multimer_v3 weights to /root/.cache/colabfold:  94%|█████████▍| 3.59G/3.82G [02:45<00:10, 22.4MB/s]\rDownloading alphafold2_multimer_v3 weights to /root/.cache/colabfold:  94%|█████████▍| 3.60G/3.82G [02:45<00:11, 20.0MB/s]\rDownloading alphafold2_multimer_v3 weights to /root/.cache/colabfold:  94%|█████████▍| 3.60G/3.82G [02:45<00:13, 18.0MB/s]\rDownloading alphafold2_multimer_v3 weights to /root/.cache/colabfold:  94%|█████████▍| 3.60G/3.82G [02:46<00:11, 19.7MB/s]\rDownloading alphafold2_multimer_v3 weights to /root/.cache/colabfold:  94%|█████████▍| 3.60G/3.82G [02:46<00:10, 21.0MB/s]\rDownloading alphafold2_multimer_v3 weights to /root/.cache/colabfold:  95%|█████████▍| 3.61G/3.82G [02:46<00:10, 21.9MB/s]\rDownloading alphafold2_multimer_v3 weights to /root/.cache/colabfold:  95%|█████████▍| 3.61G/3.82G [02:46<00:09, 22.6MB/s]\rDownloading alphafold2_multimer_v3 weights to /root/.cache/colabfold:  95%|█████████▍| 3.62G/3.82G [02:46<00:09, 23.0MB/s]\rDownloading alphafold2_multimer_v3 weights to /root/.cache/colabfold:  95%|█████████▍| 3.62G/3.82G [02:46<00:09, 23.3MB/s]\rDownloading alphafold2_multimer_v3 weights to /root/.cache/colabfold:  95%|█████████▍| 3.62G/3.82G [02:47<00:08, 23.5MB/s]\rDownloading alphafold2_multimer_v3 weights to /root/.cache/colabfold:  95%|█████████▍| 3.63G/3.82G [02:47<00:08, 23.7MB/s]\rDownloading alphafold2_multimer_v3 weights to /root/.cache/colabfold:  95%|█████████▌| 3.63G/3.82G [02:47<00:08, 23.8MB/s]\rDownloading alphafold2_multimer_v3 weights to /root/.cache/colabfold:  95%|█████████▌| 3.63G/3.82G [02:47<00:08, 23.9MB/s]\rDownloading alphafold2_multimer_v3 weights to /root/.cache/colabfold:  95%|█████████▌| 3.64G/3.82G [02:47<00:08, 23.9MB/s]\rDownloading alphafold2_multimer_v3 weights to /root/.cache/colabfold:  95%|█████████▌| 3.64G/3.82G [02:47<00:07, 24.0MB/s]\rDownloading alphafold2_multimer_v3 weights to /root/.cache/colabfold:  95%|█████████▌| 3.64G/3.82G [02:47<00:07, 24.0MB/s]\rDownloading alphafold2_multimer_v3 weights to /root/.cache/colabfold:  96%|█████████▌| 3.65G/3.82G [02:48<00:07, 24.0MB/s]\rDownloading alphafold2_multimer_v3 weights to /root/.cache/colabfold:  96%|█████████▌| 3.65G/3.82G [02:48<00:07, 24.1MB/s]\rDownloading alphafold2_multimer_v3 weights to /root/.cache/colabfold:  96%|█████████▌| 3.65G/3.82G [02:48<00:07, 24.1MB/s]\rDownloading alphafold2_multimer_v3 weights to /root/.cache/colabfold:  96%|█████████▌| 3.66G/3.82G [02:48<00:07, 24.0MB/s]\rDownloading alphafold2_multimer_v3 weights to /root/.cache/colabfold:  96%|█████████▌| 3.66G/3.82G [02:48<00:06, 24.0MB/s]\rDownloading alphafold2_multimer_v3 weights to /root/.cache/colabfold:  96%|█████████▌| 3.67G/3.82G [02:48<00:06, 24.0MB/s]\rDownloading alphafold2_multimer_v3 weights to /root/.cache/colabfold:  96%|█████████▌| 3.67G/3.82G [02:49<00:06, 24.0MB/s]\rDownloading alphafold2_multimer_v3 weights to /root/.cache/colabfold:  96%|█████████▌| 3.67G/3.82G [02:49<00:06, 24.0MB/s]\rDownloading alphafold2_multimer_v3 weights to /root/.cache/colabfold:  96%|█████████▋| 3.68G/3.82G [02:49<00:06, 24.0MB/s]\rDownloading alphafold2_multimer_v3 weights to /root/.cache/colabfold:  96%|█████████▋| 3.68G/3.82G [02:49<00:06, 24.0MB/s]\rDownloading alphafold2_multimer_v3 weights to /root/.cache/colabfold:  96%|█████████▋| 3.68G/3.82G [02:49<00:06, 24.0MB/s]\rDownloading alphafold2_multimer_v3 weights to /root/.cache/colabfold:  97%|█████████▋| 3.69G/3.82G [02:49<00:05, 24.0MB/s]\rDownloading alphafold2_multimer_v3 weights to /root/.cache/colabfold:  97%|█████████▋| 3.69G/3.82G [02:50<00:05, 24.0MB/s]\rDownloading alphafold2_multimer_v3 weights to /root/.cache/colabfold:  97%|█████████▋| 3.69G/3.82G [02:50<00:05, 24.0MB/s]\rDownloading alphafold2_multimer_v3 weights to /root/.cache/colabfold:  97%|█████████▋| 3.70G/3.82G [02:50<00:05, 24.0MB/s]\rDownloading alphafold2_multimer_v3 weights to /root/.cache/colabfold:  97%|█████████▋| 3.70G/3.82G [02:50<00:05, 24.0MB/s]\rDownloading alphafold2_multimer_v3 weights to /root/.cache/colabfold:  97%|█████████▋| 3.70G/3.82G [02:50<00:05, 24.0MB/s]\rDownloading alphafold2_multimer_v3 weights to /root/.cache/colabfold:  97%|█████████▋| 3.71G/3.82G [02:50<00:05, 22.9MB/s]\rDownloading alphafold2_multimer_v3 weights to /root/.cache/colabfold:  97%|█████████▋| 3.71G/3.82G [02:51<00:05, 22.4MB/s]\rDownloading alphafold2_multimer_v3 weights to /root/.cache/colabfold:  97%|█████████▋| 3.71G/3.82G [02:51<00:04, 22.9MB/s]\rDownloading alphafold2_multimer_v3 weights to /root/.cache/colabfold:  97%|█████████▋| 3.72G/3.82G [02:51<00:04, 23.2MB/s]\rDownloading alphafold2_multimer_v3 weights to /root/.cache/colabfold:  97%|█████████▋| 3.72G/3.82G [02:51<00:04, 23.4MB/s]\rDownloading alphafold2_multimer_v3 weights to /root/.cache/colabfold:  98%|█████████▊| 3.73G/3.82G [02:51<00:04, 23.6MB/s]\rDownloading alphafold2_multimer_v3 weights to /root/.cache/colabfold:  98%|█████████▊| 3.73G/3.82G [02:51<00:04, 23.7MB/s]\rDownloading alphafold2_multimer_v3 weights to /root/.cache/colabfold:  98%|█████████▊| 3.73G/3.82G [02:51<00:04, 22.7MB/s]\rDownloading alphafold2_multimer_v3 weights to /root/.cache/colabfold:  98%|█████████▊| 3.73G/3.82G [02:52<00:04, 20.2MB/s]\rDownloading alphafold2_multimer_v3 weights to /root/.cache/colabfold:  98%|█████████▊| 3.74G/3.82G [02:52<00:04, 18.1MB/s]\rDownloading alphafold2_multimer_v3 weights to /root/.cache/colabfold:  98%|█████████▊| 3.74G/3.82G [02:52<00:04, 19.7MB/s]\rDownloading alphafold2_multimer_v3 weights to /root/.cache/colabfold:  98%|█████████▊| 3.74G/3.82G [02:52<00:03, 21.0MB/s]\rDownloading alphafold2_multimer_v3 weights to /root/.cache/colabfold:  98%|█████████▊| 3.75G/3.82G [02:52<00:03, 21.9MB/s]\rDownloading alphafold2_multimer_v3 weights to /root/.cache/colabfold:  98%|█████████▊| 3.75G/3.82G [02:52<00:03, 22.5MB/s]\rDownloading alphafold2_multimer_v3 weights to /root/.cache/colabfold:  98%|█████████▊| 3.75G/3.82G [02:53<00:02, 22.9MB/s]\rDownloading alphafold2_multimer_v3 weights to /root/.cache/colabfold:  98%|█████████▊| 3.76G/3.82G [02:53<00:02, 23.2MB/s]\rDownloading alphafold2_multimer_v3 weights to /root/.cache/colabfold:  99%|█████████▊| 3.76G/3.82G [02:53<00:02, 23.4MB/s]\rDownloading alphafold2_multimer_v3 weights to /root/.cache/colabfold:  99%|█████████▊| 3.76G/3.82G [02:53<00:02, 23.6MB/s]\rDownloading alphafold2_multimer_v3 weights to /root/.cache/colabfold:  99%|█████████▊| 3.77G/3.82G [02:53<00:02, 23.7MB/s]\rDownloading alphafold2_multimer_v3 weights to /root/.cache/colabfold:  99%|█████████▉| 3.77G/3.82G [02:53<00:02, 23.8MB/s]\rDownloading alphafold2_multimer_v3 weights to /root/.cache/colabfold:  99%|█████████▉| 3.78G/3.82G [02:54<00:01, 23.8MB/s]\rDownloading alphafold2_multimer_v3 weights to /root/.cache/colabfold:  99%|█████████▉| 3.78G/3.82G [02:54<00:01, 23.9MB/s]\rDownloading alphafold2_multimer_v3 weights to /root/.cache/colabfold:  99%|█████████▉| 3.78G/3.82G [02:54<00:01, 23.9MB/s]\rDownloading alphafold2_multimer_v3 weights to /root/.cache/colabfold:  99%|█████████▉| 3.79G/3.82G [02:54<00:01, 23.9MB/s]\rDownloading alphafold2_multimer_v3 weights to /root/.cache/colabfold:  99%|█████████▉| 3.79G/3.82G [02:54<00:01, 23.9MB/s]\rDownloading alphafold2_multimer_v3 weights to /root/.cache/colabfold:  99%|█████████▉| 3.79G/3.82G [02:54<00:01, 23.9MB/s]\rDownloading alphafold2_multimer_v3 weights to /root/.cache/colabfold:  99%|█████████▉| 3.80G/3.82G [02:55<00:00, 23.9MB/s]\rDownloading alphafold2_multimer_v3 weights to /root/.cache/colabfold: 100%|█████████▉| 3.80G/3.82G [02:55<00:00, 24.0MB/s]\rDownloading alphafold2_multimer_v3 weights to /root/.cache/colabfold: 100%|█████████▉| 3.80G/3.82G [02:55<00:00, 24.0MB/s]\rDownloading alphafold2_multimer_v3 weights to /root/.cache/colabfold: 100%|█████████▉| 3.81G/3.82G [02:55<00:00, 23.9MB/s]\rDownloading alphafold2_multimer_v3 weights to /root/.cache/colabfold: 100%|█████████▉| 3.81G/3.82G [02:55<00:00, 24.0MB/s]\rDownloading alphafold2_multimer_v3 weights to /root/.cache/colabfold: 100%|█████████▉| 3.81G/3.82G [02:55<00:00, 24.0MB/s]\rDownloading alphafold2_multimer_v3 weights to /root/.cache/colabfold: 100%|██████████| 3.82G/3.82G [02:55<00:00, 23.3MB/s]\n",
            "\rDownloading AlphaFold2-ptm weights to /root/.cache/colabfold:   0%|          | 0/3722752000 [00:00<?, ?it/s]\rDownloading AlphaFold2-ptm weights to /root/.cache/colabfold:   0%|          | 50.0k/3.47G [00:00<4:12:11, 246kB/s]\rDownloading AlphaFold2-ptm weights to /root/.cache/colabfold:   0%|          | 80.0k/3.47G [00:00<5:02:45, 205kB/s]\rDownloading AlphaFold2-ptm weights to /root/.cache/colabfold:   0%|          | 160k/3.47G [00:00<2:59:09, 346kB/s] \rDownloading AlphaFold2-ptm weights to /root/.cache/colabfold:   0%|          | 240k/3.47G [00:00<2:12:28, 468kB/s]\rDownloading AlphaFold2-ptm weights to /root/.cache/colabfold:   0%|          | 360k/3.47G [00:00<1:31:04, 681kB/s]\rDownloading AlphaFold2-ptm weights to /root/.cache/colabfold:   0%|          | 530k/3.47G [00:00<1:03:49, 972kB/s]\rDownloading AlphaFold2-ptm weights to /root/.cache/colabfold:   0%|          | 770k/3.47G [00:00<44:28, 1.39MB/s] \rDownloading AlphaFold2-ptm weights to /root/.cache/colabfold:   0%|          | 1.14M/3.47G [00:01<28:38, 2.17MB/s]\rDownloading AlphaFold2-ptm weights to /root/.cache/colabfold:   0%|          | 1.69M/3.47G [00:01<19:23, 3.20MB/s]\rDownloading AlphaFold2-ptm weights to /root/.cache/colabfold:   0%|          | 2.56M/3.47G [00:01<12:33, 4.94MB/s]\rDownloading AlphaFold2-ptm weights to /root/.cache/colabfold:   0%|          | 3.87M/3.47G [00:01<08:15, 7.50MB/s]\rDownloading AlphaFold2-ptm weights to /root/.cache/colabfold:   0%|          | 5.85M/3.47G [00:01<05:25, 11.4MB/s]\rDownloading AlphaFold2-ptm weights to /root/.cache/colabfold:   0%|          | 8.19M/3.47G [00:01<04:02, 15.3MB/s]\rDownloading AlphaFold2-ptm weights to /root/.cache/colabfold:   0%|          | 10.5M/3.47G [00:01<03:27, 17.9MB/s]\rDownloading AlphaFold2-ptm weights to /root/.cache/colabfold:   0%|          | 12.7M/3.47G [00:01<03:12, 19.3MB/s]\rDownloading AlphaFold2-ptm weights to /root/.cache/colabfold:   0%|          | 15.2M/3.47G [00:01<02:53, 21.3MB/s]\rDownloading AlphaFold2-ptm weights to /root/.cache/colabfold:   0%|          | 17.4M/3.47G [00:01<02:53, 21.4MB/s]\rDownloading AlphaFold2-ptm weights to /root/.cache/colabfold:   1%|          | 19.9M/3.47G [00:02<02:49, 21.8MB/s]\rDownloading AlphaFold2-ptm weights to /root/.cache/colabfold:   1%|          | 22.4M/3.47G [00:02<02:39, 23.1MB/s]\rDownloading AlphaFold2-ptm weights to /root/.cache/colabfold:   1%|          | 24.6M/3.47G [00:02<02:39, 23.2MB/s]\rDownloading AlphaFold2-ptm weights to /root/.cache/colabfold:   1%|          | 26.8M/3.47G [00:02<02:41, 22.8MB/s]\rDownloading AlphaFold2-ptm weights to /root/.cache/colabfold:   1%|          | 29.5M/3.47G [00:02<02:32, 24.3MB/s]\rDownloading AlphaFold2-ptm weights to /root/.cache/colabfold:   1%|          | 31.8M/3.47G [00:02<02:39, 23.1MB/s]\rDownloading AlphaFold2-ptm weights to /root/.cache/colabfold:   1%|          | 34.1M/3.47G [00:02<02:41, 22.9MB/s]\rDownloading AlphaFold2-ptm weights to /root/.cache/colabfold:   1%|          | 36.7M/3.47G [00:02<02:32, 24.1MB/s]\rDownloading AlphaFold2-ptm weights to /root/.cache/colabfold:   1%|          | 39.0M/3.47G [00:02<02:39, 23.1MB/s]\rDownloading AlphaFold2-ptm weights to /root/.cache/colabfold:   1%|          | 41.4M/3.47G [00:03<02:39, 23.0MB/s]\rDownloading AlphaFold2-ptm weights to /root/.cache/colabfold:   1%|          | 44.0M/3.47G [00:03<02:31, 24.3MB/s]\rDownloading AlphaFold2-ptm weights to /root/.cache/colabfold:   1%|▏         | 46.3M/3.47G [00:03<02:37, 23.3MB/s]\rDownloading AlphaFold2-ptm weights to /root/.cache/colabfold:   1%|▏         | 48.7M/3.47G [00:03<02:39, 23.1MB/s]\rDownloading AlphaFold2-ptm weights to /root/.cache/colabfold:   1%|▏         | 51.3M/3.47G [00:03<02:30, 24.3MB/s]\rDownloading AlphaFold2-ptm weights to /root/.cache/colabfold:   2%|▏         | 53.6M/3.47G [00:03<02:37, 23.3MB/s]\rDownloading AlphaFold2-ptm weights to /root/.cache/colabfold:   2%|▏         | 56.0M/3.47G [00:03<02:38, 23.1MB/s]\rDownloading AlphaFold2-ptm weights to /root/.cache/colabfold:   2%|▏         | 58.6M/3.47G [00:03<02:30, 24.3MB/s]\rDownloading AlphaFold2-ptm weights to /root/.cache/colabfold:   2%|▏         | 60.9M/3.47G [00:03<02:37, 23.2MB/s]\rDownloading AlphaFold2-ptm weights to /root/.cache/colabfold:   2%|▏         | 63.3M/3.47G [00:04<02:37, 23.2MB/s]\rDownloading AlphaFold2-ptm weights to /root/.cache/colabfold:   2%|▏         | 65.8M/3.47G [00:04<02:30, 24.3MB/s]\rDownloading AlphaFold2-ptm weights to /root/.cache/colabfold:   2%|▏         | 68.2M/3.47G [00:04<02:37, 23.2MB/s]\rDownloading AlphaFold2-ptm weights to /root/.cache/colabfold:   2%|▏         | 70.5M/3.47G [00:04<02:37, 23.1MB/s]\rDownloading AlphaFold2-ptm weights to /root/.cache/colabfold:   2%|▏         | 73.1M/3.47G [00:04<02:30, 24.3MB/s]\rDownloading AlphaFold2-ptm weights to /root/.cache/colabfold:   2%|▏         | 75.5M/3.47G [00:04<02:36, 23.2MB/s]\rDownloading AlphaFold2-ptm weights to /root/.cache/colabfold:   2%|▏         | 77.8M/3.47G [00:04<02:37, 23.2MB/s]\rDownloading AlphaFold2-ptm weights to /root/.cache/colabfold:   2%|▏         | 80.4M/3.47G [00:04<02:29, 24.3MB/s]\rDownloading AlphaFold2-ptm weights to /root/.cache/colabfold:   2%|▏         | 82.8M/3.47G [00:04<02:36, 23.3MB/s]\rDownloading AlphaFold2-ptm weights to /root/.cache/colabfold:   2%|▏         | 85.1M/3.47G [00:04<02:36, 23.2MB/s]\rDownloading AlphaFold2-ptm weights to /root/.cache/colabfold:   2%|▏         | 87.8M/3.47G [00:05<02:29, 24.3MB/s]\rDownloading AlphaFold2-ptm weights to /root/.cache/colabfold:   3%|▎         | 90.1M/3.47G [00:05<02:38, 23.0MB/s]\rDownloading AlphaFold2-ptm weights to /root/.cache/colabfold:   3%|▎         | 92.4M/3.47G [00:05<02:35, 23.3MB/s]\rDownloading AlphaFold2-ptm weights to /root/.cache/colabfold:   3%|▎         | 95.1M/3.47G [00:05<02:28, 24.4MB/s]\rDownloading AlphaFold2-ptm weights to /root/.cache/colabfold:   3%|▎         | 97.4M/3.47G [00:05<02:37, 23.0MB/s]\rDownloading AlphaFold2-ptm weights to /root/.cache/colabfold:   3%|▎         | 99.7M/3.47G [00:05<02:35, 23.3MB/s]\rDownloading AlphaFold2-ptm weights to /root/.cache/colabfold:   3%|▎         | 102M/3.47G [00:05<02:27, 24.5MB/s] \rDownloading AlphaFold2-ptm weights to /root/.cache/colabfold:   3%|▎         | 105M/3.47G [00:05<02:36, 23.1MB/s]\rDownloading AlphaFold2-ptm weights to /root/.cache/colabfold:   3%|▎         | 107M/3.47G [00:05<02:34, 23.3MB/s]\rDownloading AlphaFold2-ptm weights to /root/.cache/colabfold:   3%|▎         | 110M/3.47G [00:06<02:27, 24.5MB/s]\rDownloading AlphaFold2-ptm weights to /root/.cache/colabfold:   3%|▎         | 112M/3.47G [00:06<02:36, 23.0MB/s]\rDownloading AlphaFold2-ptm weights to /root/.cache/colabfold:   3%|▎         | 114M/3.47G [00:06<02:34, 23.3MB/s]\rDownloading AlphaFold2-ptm weights to /root/.cache/colabfold:   3%|▎         | 117M/3.47G [00:06<02:27, 24.4MB/s]\rDownloading AlphaFold2-ptm weights to /root/.cache/colabfold:   3%|▎         | 119M/3.47G [00:06<03:02, 19.7MB/s]\rDownloading AlphaFold2-ptm weights to /root/.cache/colabfold:   3%|▎         | 121M/3.47G [00:06<03:26, 17.4MB/s]\rDownloading AlphaFold2-ptm weights to /root/.cache/colabfold:   3%|▎         | 124M/3.47G [00:06<03:10, 18.8MB/s]\rDownloading AlphaFold2-ptm weights to /root/.cache/colabfold:   4%|▎         | 128M/3.47G [00:07<02:55, 20.5MB/s]\rDownloading AlphaFold2-ptm weights to /root/.cache/colabfold:   4%|▎         | 131M/3.47G [00:07<02:46, 21.5MB/s]\rDownloading AlphaFold2-ptm weights to /root/.cache/colabfold:   4%|▍         | 135M/3.47G [00:07<02:41, 22.2MB/s]\rDownloading AlphaFold2-ptm weights to /root/.cache/colabfold:   4%|▍         | 139M/3.47G [00:07<02:38, 22.6MB/s]\rDownloading AlphaFold2-ptm weights to /root/.cache/colabfold:   4%|▍         | 142M/3.47G [00:07<02:36, 22.9MB/s]\rDownloading AlphaFold2-ptm weights to /root/.cache/colabfold:   4%|▍         | 146M/3.47G [00:07<02:34, 23.1MB/s]\rDownloading AlphaFold2-ptm weights to /root/.cache/colabfold:   4%|▍         | 150M/3.47G [00:07<02:33, 23.3MB/s]\rDownloading AlphaFold2-ptm weights to /root/.cache/colabfold:   4%|▍         | 153M/3.47G [00:08<02:32, 23.3MB/s]\rDownloading AlphaFold2-ptm weights to /root/.cache/colabfold:   4%|▍         | 157M/3.47G [00:08<02:31, 23.5MB/s]\rDownloading AlphaFold2-ptm weights to /root/.cache/colabfold:   5%|▍         | 161M/3.47G [00:08<02:31, 23.5MB/s]\rDownloading AlphaFold2-ptm weights to /root/.cache/colabfold:   5%|▍         | 164M/3.47G [00:08<02:30, 23.5MB/s]\rDownloading AlphaFold2-ptm weights to /root/.cache/colabfold:   5%|▍         | 168M/3.47G [00:08<02:30, 23.6MB/s]\rDownloading AlphaFold2-ptm weights to /root/.cache/colabfold:   5%|▍         | 172M/3.47G [00:08<02:30, 23.6MB/s]\rDownloading AlphaFold2-ptm weights to /root/.cache/colabfold:   5%|▍         | 175M/3.47G [00:09<02:30, 23.6MB/s]\rDownloading AlphaFold2-ptm weights to /root/.cache/colabfold:   5%|▌         | 179M/3.47G [00:09<02:29, 23.6MB/s]\rDownloading AlphaFold2-ptm weights to /root/.cache/colabfold:   5%|▌         | 182M/3.47G [00:09<02:29, 23.6MB/s]\rDownloading AlphaFold2-ptm weights to /root/.cache/colabfold:   5%|▌         | 186M/3.47G [00:09<02:29, 23.6MB/s]\rDownloading AlphaFold2-ptm weights to /root/.cache/colabfold:   5%|▌         | 190M/3.47G [00:09<02:29, 23.6MB/s]\rDownloading AlphaFold2-ptm weights to /root/.cache/colabfold:   5%|▌         | 193M/3.47G [00:09<02:28, 23.6MB/s]\rDownloading AlphaFold2-ptm weights to /root/.cache/colabfold:   6%|▌         | 197M/3.47G [00:10<02:28, 23.6MB/s]\rDownloading AlphaFold2-ptm weights to /root/.cache/colabfold:   6%|▌         | 201M/3.47G [00:10<02:28, 23.6MB/s]\rDownloading AlphaFold2-ptm weights to /root/.cache/colabfold:   6%|▌         | 204M/3.47G [00:10<02:28, 23.6MB/s]\rDownloading AlphaFold2-ptm weights to /root/.cache/colabfold:   6%|▌         | 208M/3.47G [00:10<02:28, 23.6MB/s]\rDownloading AlphaFold2-ptm weights to /root/.cache/colabfold:   6%|▌         | 212M/3.47G [00:10<02:28, 23.6MB/s]\rDownloading AlphaFold2-ptm weights to /root/.cache/colabfold:   6%|▌         | 215M/3.47G [00:10<02:28, 23.6MB/s]\rDownloading AlphaFold2-ptm weights to /root/.cache/colabfold:   6%|▌         | 219M/3.47G [00:11<02:28, 23.6MB/s]\rDownloading AlphaFold2-ptm weights to /root/.cache/colabfold:   6%|▋         | 223M/3.47G [00:11<02:28, 23.6MB/s]\rDownloading AlphaFold2-ptm weights to /root/.cache/colabfold:   6%|▋         | 226M/3.47G [00:11<02:28, 23.5MB/s]\rDownloading AlphaFold2-ptm weights to /root/.cache/colabfold:   6%|▋         | 230M/3.47G [00:11<02:27, 23.6MB/s]\rDownloading AlphaFold2-ptm weights to /root/.cache/colabfold:   7%|▋         | 234M/3.47G [00:11<02:27, 23.5MB/s]\rDownloading AlphaFold2-ptm weights to /root/.cache/colabfold:   7%|▋         | 237M/3.47G [00:11<02:27, 23.5MB/s]\rDownloading AlphaFold2-ptm weights to /root/.cache/colabfold:   7%|▋         | 241M/3.47G [00:12<02:27, 23.6MB/s]\rDownloading AlphaFold2-ptm weights to /root/.cache/colabfold:   7%|▋         | 244M/3.47G [00:12<02:27, 23.5MB/s]\rDownloading AlphaFold2-ptm weights to /root/.cache/colabfold:   7%|▋         | 248M/3.47G [00:12<02:27, 23.6MB/s]\rDownloading AlphaFold2-ptm weights to /root/.cache/colabfold:   7%|▋         | 252M/3.47G [00:12<02:26, 23.6MB/s]\rDownloading AlphaFold2-ptm weights to /root/.cache/colabfold:   7%|▋         | 255M/3.47G [00:12<02:26, 23.6MB/s]\rDownloading AlphaFold2-ptm weights to /root/.cache/colabfold:   7%|▋         | 259M/3.47G [00:12<02:26, 23.6MB/s]\rDownloading AlphaFold2-ptm weights to /root/.cache/colabfold:   7%|▋         | 263M/3.47G [00:13<02:26, 23.5MB/s]\rDownloading AlphaFold2-ptm weights to /root/.cache/colabfold:   8%|▊         | 266M/3.47G [00:13<02:26, 23.6MB/s]\rDownloading AlphaFold2-ptm weights to /root/.cache/colabfold:   8%|▊         | 270M/3.47G [00:13<02:26, 23.5MB/s]\rDownloading AlphaFold2-ptm weights to /root/.cache/colabfold:   8%|▊         | 274M/3.47G [00:13<02:25, 23.5MB/s]\rDownloading AlphaFold2-ptm weights to /root/.cache/colabfold:   8%|▊         | 277M/3.47G [00:13<02:25, 23.6MB/s]\rDownloading AlphaFold2-ptm weights to /root/.cache/colabfold:   8%|▊         | 281M/3.47G [00:13<02:25, 23.6MB/s]\rDownloading AlphaFold2-ptm weights to /root/.cache/colabfold:   8%|▊         | 285M/3.47G [00:13<02:25, 23.6MB/s]\rDownloading AlphaFold2-ptm weights to /root/.cache/colabfold:   8%|▊         | 288M/3.47G [00:14<02:24, 23.6MB/s]\rDownloading AlphaFold2-ptm weights to /root/.cache/colabfold:   8%|▊         | 292M/3.47G [00:14<02:25, 23.6MB/s]\rDownloading AlphaFold2-ptm weights to /root/.cache/colabfold:   8%|▊         | 295M/3.47G [00:14<02:24, 23.6MB/s]\rDownloading AlphaFold2-ptm weights to /root/.cache/colabfold:   8%|▊         | 299M/3.47G [00:14<02:24, 23.6MB/s]\rDownloading AlphaFold2-ptm weights to /root/.cache/colabfold:   9%|▊         | 303M/3.47G [00:14<02:24, 23.6MB/s]\rDownloading AlphaFold2-ptm weights to /root/.cache/colabfold:   9%|▊         | 306M/3.47G [00:14<02:24, 23.6MB/s]\rDownloading AlphaFold2-ptm weights to /root/.cache/colabfold:   9%|▊         | 310M/3.47G [00:15<02:24, 23.6MB/s]\rDownloading AlphaFold2-ptm weights to /root/.cache/colabfold:   9%|▉         | 314M/3.47G [00:15<02:23, 23.6MB/s]\rDownloading AlphaFold2-ptm weights to /root/.cache/colabfold:   9%|▉         | 317M/3.47G [00:15<02:23, 23.6MB/s]\rDownloading AlphaFold2-ptm weights to /root/.cache/colabfold:   9%|▉         | 321M/3.47G [00:15<02:23, 23.6MB/s]\rDownloading AlphaFold2-ptm weights to /root/.cache/colabfold:   9%|▉         | 325M/3.47G [00:15<02:23, 23.6MB/s]\rDownloading AlphaFold2-ptm weights to /root/.cache/colabfold:   9%|▉         | 328M/3.47G [00:15<02:23, 23.6MB/s]\rDownloading AlphaFold2-ptm weights to /root/.cache/colabfold:   9%|▉         | 332M/3.47G [00:16<02:22, 23.6MB/s]\rDownloading AlphaFold2-ptm weights to /root/.cache/colabfold:   9%|▉         | 336M/3.47G [00:16<02:22, 23.6MB/s]\rDownloading AlphaFold2-ptm weights to /root/.cache/colabfold:  10%|▉         | 339M/3.47G [00:16<02:22, 23.6MB/s]\rDownloading AlphaFold2-ptm weights to /root/.cache/colabfold:  10%|▉         | 343M/3.47G [00:16<02:22, 23.6MB/s]\rDownloading AlphaFold2-ptm weights to /root/.cache/colabfold:  10%|▉         | 347M/3.47G [00:16<02:22, 23.6MB/s]\rDownloading AlphaFold2-ptm weights to /root/.cache/colabfold:  10%|▉         | 350M/3.47G [00:16<02:22, 23.6MB/s]\rDownloading AlphaFold2-ptm weights to /root/.cache/colabfold:  10%|▉         | 354M/3.47G [00:17<02:22, 23.6MB/s]\rDownloading AlphaFold2-ptm weights to /root/.cache/colabfold:  10%|█         | 356M/3.47G [00:17<02:53, 19.3MB/s]\rDownloading AlphaFold2-ptm weights to /root/.cache/colabfold:  10%|█         | 361M/3.47G [00:17<02:13, 25.0MB/s]\rDownloading AlphaFold2-ptm weights to /root/.cache/colabfold:  10%|█         | 365M/3.47G [00:17<02:15, 24.6MB/s]\rDownloading AlphaFold2-ptm weights to /root/.cache/colabfold:  10%|█         | 368M/3.47G [00:17<02:17, 24.2MB/s]\rDownloading AlphaFold2-ptm weights to /root/.cache/colabfold:  10%|█         | 372M/3.47G [00:17<02:18, 24.1MB/s]\rDownloading AlphaFold2-ptm weights to /root/.cache/colabfold:  11%|█         | 376M/3.47G [00:18<02:19, 23.9MB/s]\rDownloading AlphaFold2-ptm weights to /root/.cache/colabfold:  11%|█         | 379M/3.47G [00:18<02:19, 23.8MB/s]\rDownloading AlphaFold2-ptm weights to /root/.cache/colabfold:  11%|█         | 383M/3.47G [00:18<02:19, 23.7MB/s]\rDownloading AlphaFold2-ptm weights to /root/.cache/colabfold:  11%|█         | 385M/3.47G [00:18<02:38, 20.9MB/s]\rDownloading AlphaFold2-ptm weights to /root/.cache/colabfold:  11%|█         | 387M/3.47G [00:18<02:58, 18.6MB/s]\rDownloading AlphaFold2-ptm weights to /root/.cache/colabfold:  11%|█         | 391M/3.47G [00:18<02:48, 19.7MB/s]\rDownloading AlphaFold2-ptm weights to /root/.cache/colabfold:  11%|█         | 394M/3.47G [00:19<02:38, 20.9MB/s]\rDownloading AlphaFold2-ptm weights to /root/.cache/colabfold:  11%|█         | 398M/3.47G [00:19<02:32, 21.7MB/s]\rDownloading AlphaFold2-ptm weights to /root/.cache/colabfold:  11%|█▏        | 402M/3.47G [00:19<02:28, 22.2MB/s]\rDownloading AlphaFold2-ptm weights to /root/.cache/colabfold:  11%|█▏        | 405M/3.47G [00:19<02:25, 22.6MB/s]\rDownloading AlphaFold2-ptm weights to /root/.cache/colabfold:  12%|█▏        | 409M/3.47G [00:19<02:23, 22.9MB/s]\rDownloading AlphaFold2-ptm weights to /root/.cache/colabfold:  12%|█▏        | 413M/3.47G [00:19<02:22, 23.1MB/s]\rDownloading AlphaFold2-ptm weights to /root/.cache/colabfold:  12%|█▏        | 416M/3.47G [00:19<02:21, 23.2MB/s]\rDownloading AlphaFold2-ptm weights to /root/.cache/colabfold:  12%|█▏        | 420M/3.47G [00:20<02:20, 23.4MB/s]\rDownloading AlphaFold2-ptm weights to /root/.cache/colabfold:  12%|█▏        | 424M/3.47G [00:20<02:20, 23.4MB/s]\rDownloading AlphaFold2-ptm weights to /root/.cache/colabfold:  12%|█▏        | 427M/3.47G [00:20<02:19, 23.5MB/s]\rDownloading AlphaFold2-ptm weights to /root/.cache/colabfold:  12%|█▏        | 431M/3.47G [00:20<02:19, 23.5MB/s]\rDownloading AlphaFold2-ptm weights to /root/.cache/colabfold:  12%|█▏        | 434M/3.47G [00:20<02:19, 23.5MB/s]\rDownloading AlphaFold2-ptm weights to /root/.cache/colabfold:  12%|█▏        | 438M/3.47G [00:20<02:18, 23.5MB/s]\rDownloading AlphaFold2-ptm weights to /root/.cache/colabfold:  12%|█▏        | 442M/3.47G [00:21<02:18, 23.5MB/s]\rDownloading AlphaFold2-ptm weights to /root/.cache/colabfold:  13%|█▎        | 445M/3.47G [00:21<02:18, 23.5MB/s]\rDownloading AlphaFold2-ptm weights to /root/.cache/colabfold:  13%|█▎        | 449M/3.47G [00:21<02:18, 23.5MB/s]\rDownloading AlphaFold2-ptm weights to /root/.cache/colabfold:  13%|█▎        | 453M/3.47G [00:21<02:17, 23.5MB/s]\rDownloading AlphaFold2-ptm weights to /root/.cache/colabfold:  13%|█▎        | 456M/3.47G [00:21<02:17, 23.6MB/s]\rDownloading AlphaFold2-ptm weights to /root/.cache/colabfold:  13%|█▎        | 460M/3.47G [00:21<02:17, 23.6MB/s]\rDownloading AlphaFold2-ptm weights to /root/.cache/colabfold:  13%|█▎        | 464M/3.47G [00:22<02:17, 23.6MB/s]\rDownloading AlphaFold2-ptm weights to /root/.cache/colabfold:  13%|█▎        | 467M/3.47G [00:22<02:17, 23.5MB/s]\rDownloading AlphaFold2-ptm weights to /root/.cache/colabfold:  13%|█▎        | 471M/3.47G [00:22<02:17, 23.6MB/s]\rDownloading AlphaFold2-ptm weights to /root/.cache/colabfold:  13%|█▎        | 474M/3.47G [00:22<02:16, 23.6MB/s]\rDownloading AlphaFold2-ptm weights to /root/.cache/colabfold:  13%|█▎        | 478M/3.47G [00:22<02:16, 23.6MB/s]\rDownloading AlphaFold2-ptm weights to /root/.cache/colabfold:  14%|█▎        | 482M/3.47G [00:22<02:16, 23.6MB/s]\rDownloading AlphaFold2-ptm weights to /root/.cache/colabfold:  14%|█▎        | 485M/3.47G [00:23<02:16, 23.6MB/s]\rDownloading AlphaFold2-ptm weights to /root/.cache/colabfold:  14%|█▍        | 489M/3.47G [00:23<02:16, 23.5MB/s]\rDownloading AlphaFold2-ptm weights to /root/.cache/colabfold:  14%|█▍        | 493M/3.47G [00:23<02:16, 23.6MB/s]\rDownloading AlphaFold2-ptm weights to /root/.cache/colabfold:  14%|█▍        | 496M/3.47G [00:23<02:15, 23.6MB/s]\rDownloading AlphaFold2-ptm weights to /root/.cache/colabfold:  14%|█▍        | 499M/3.47G [00:23<02:32, 21.0MB/s]\rDownloading AlphaFold2-ptm weights to /root/.cache/colabfold:  14%|█▍        | 502M/3.47G [00:23<02:32, 21.0MB/s]\rDownloading AlphaFold2-ptm weights to /root/.cache/colabfold:  14%|█▍        | 506M/3.47G [00:24<02:26, 21.8MB/s]\rDownloading AlphaFold2-ptm weights to /root/.cache/colabfold:  14%|█▍        | 509M/3.47G [00:24<02:22, 22.3MB/s]\rDownloading AlphaFold2-ptm weights to /root/.cache/colabfold:  14%|█▍        | 513M/3.47G [00:24<02:20, 22.7MB/s]\rDownloading AlphaFold2-ptm weights to /root/.cache/colabfold:  15%|█▍        | 517M/3.47G [00:24<02:18, 23.0MB/s]\rDownloading AlphaFold2-ptm weights to /root/.cache/colabfold:  15%|█▍        | 520M/3.47G [00:24<02:16, 23.2MB/s]\rDownloading AlphaFold2-ptm weights to /root/.cache/colabfold:  15%|█▍        | 524M/3.47G [00:24<02:16, 23.3MB/s]\rDownloading AlphaFold2-ptm weights to /root/.cache/colabfold:  15%|█▍        | 528M/3.47G [00:25<02:15, 23.4MB/s]\rDownloading AlphaFold2-ptm weights to /root/.cache/colabfold:  15%|█▍        | 531M/3.47G [00:25<02:14, 23.5MB/s]\rDownloading AlphaFold2-ptm weights to /root/.cache/colabfold:  15%|█▌        | 535M/3.47G [00:25<02:14, 23.5MB/s]\rDownloading AlphaFold2-ptm weights to /root/.cache/colabfold:  15%|█▌        | 539M/3.47G [00:25<02:14, 23.5MB/s]\rDownloading AlphaFold2-ptm weights to /root/.cache/colabfold:  15%|█▌        | 542M/3.47G [00:25<02:13, 23.6MB/s]\rDownloading AlphaFold2-ptm weights to /root/.cache/colabfold:  15%|█▌        | 546M/3.47G [00:25<02:13, 23.6MB/s]\rDownloading AlphaFold2-ptm weights to /root/.cache/colabfold:  15%|█▌        | 550M/3.47G [00:25<02:13, 23.6MB/s]\rDownloading AlphaFold2-ptm weights to /root/.cache/colabfold:  16%|█▌        | 553M/3.47G [00:26<02:13, 23.6MB/s]\rDownloading AlphaFold2-ptm weights to /root/.cache/colabfold:  16%|█▌        | 557M/3.47G [00:26<02:12, 23.6MB/s]\rDownloading AlphaFold2-ptm weights to /root/.cache/colabfold:  16%|█▌        | 560M/3.47G [00:26<02:13, 23.6MB/s]\rDownloading AlphaFold2-ptm weights to /root/.cache/colabfold:  16%|█▌        | 564M/3.47G [00:26<02:12, 23.6MB/s]\rDownloading AlphaFold2-ptm weights to /root/.cache/colabfold:  16%|█▌        | 568M/3.47G [00:26<02:12, 23.6MB/s]\rDownloading AlphaFold2-ptm weights to /root/.cache/colabfold:  16%|█▌        | 571M/3.47G [00:26<02:12, 23.6MB/s]\rDownloading AlphaFold2-ptm weights to /root/.cache/colabfold:  16%|█▌        | 575M/3.47G [00:27<02:12, 23.6MB/s]\rDownloading AlphaFold2-ptm weights to /root/.cache/colabfold:  16%|█▋        | 579M/3.47G [00:27<02:12, 23.6MB/s]\rDownloading AlphaFold2-ptm weights to /root/.cache/colabfold:  16%|█▋        | 582M/3.47G [00:27<02:11, 23.6MB/s]\rDownloading AlphaFold2-ptm weights to /root/.cache/colabfold:  17%|█▋        | 586M/3.47G [00:27<02:11, 23.6MB/s]\rDownloading AlphaFold2-ptm weights to /root/.cache/colabfold:  17%|█▋        | 590M/3.47G [00:27<02:11, 23.6MB/s]\rDownloading AlphaFold2-ptm weights to /root/.cache/colabfold:  17%|█▋        | 593M/3.47G [00:27<02:11, 23.6MB/s]\rDownloading AlphaFold2-ptm weights to /root/.cache/colabfold:  17%|█▋        | 597M/3.47G [00:28<02:11, 23.6MB/s]\rDownloading AlphaFold2-ptm weights to /root/.cache/colabfold:  17%|█▋        | 601M/3.47G [00:28<02:11, 23.6MB/s]\rDownloading AlphaFold2-ptm weights to /root/.cache/colabfold:  17%|█▋        | 604M/3.47G [00:28<02:10, 23.6MB/s]\rDownloading AlphaFold2-ptm weights to /root/.cache/colabfold:  17%|█▋        | 608M/3.47G [00:28<02:10, 23.6MB/s]\rDownloading AlphaFold2-ptm weights to /root/.cache/colabfold:  17%|█▋        | 612M/3.47G [00:28<02:10, 23.6MB/s]\rDownloading AlphaFold2-ptm weights to /root/.cache/colabfold:  17%|█▋        | 615M/3.47G [00:28<02:10, 23.6MB/s]\rDownloading AlphaFold2-ptm weights to /root/.cache/colabfold:  17%|█▋        | 619M/3.47G [00:29<02:10, 23.5MB/s]\rDownloading AlphaFold2-ptm weights to /root/.cache/colabfold:  18%|█▊        | 622M/3.47G [00:29<02:10, 23.6MB/s]\rDownloading AlphaFold2-ptm weights to /root/.cache/colabfold:  18%|█▊        | 626M/3.47G [00:29<02:10, 23.6MB/s]\rDownloading AlphaFold2-ptm weights to /root/.cache/colabfold:  18%|█▊        | 630M/3.47G [00:29<02:09, 23.6MB/s]\rDownloading AlphaFold2-ptm weights to /root/.cache/colabfold:  18%|█▊        | 633M/3.47G [00:29<02:09, 23.6MB/s]\rDownloading AlphaFold2-ptm weights to /root/.cache/colabfold:  18%|█▊        | 637M/3.47G [00:29<02:09, 23.6MB/s]\rDownloading AlphaFold2-ptm weights to /root/.cache/colabfold:  18%|█▊        | 641M/3.47G [00:30<02:09, 23.6MB/s]\rDownloading AlphaFold2-ptm weights to /root/.cache/colabfold:  18%|█▊        | 644M/3.47G [00:30<02:09, 23.5MB/s]\rDownloading AlphaFold2-ptm weights to /root/.cache/colabfold:  18%|█▊        | 648M/3.47G [00:30<02:09, 23.6MB/s]\rDownloading AlphaFold2-ptm weights to /root/.cache/colabfold:  18%|█▊        | 652M/3.47G [00:30<02:09, 23.6MB/s]\rDownloading AlphaFold2-ptm weights to /root/.cache/colabfold:  18%|█▊        | 655M/3.47G [00:30<02:08, 23.5MB/s]\rDownloading AlphaFold2-ptm weights to /root/.cache/colabfold:  19%|█▊        | 659M/3.47G [00:30<02:08, 23.5MB/s]\rDownloading AlphaFold2-ptm weights to /root/.cache/colabfold:  19%|█▊        | 663M/3.47G [00:31<02:08, 23.5MB/s]\rDownloading AlphaFold2-ptm weights to /root/.cache/colabfold:  19%|█▉        | 666M/3.47G [00:31<02:14, 22.5MB/s]\rDownloading AlphaFold2-ptm weights to /root/.cache/colabfold:  19%|█▉        | 669M/3.47G [00:31<02:16, 22.1MB/s]\rDownloading AlphaFold2-ptm weights to /root/.cache/colabfold:  19%|█▉        | 673M/3.47G [00:31<02:13, 22.5MB/s]\rDownloading AlphaFold2-ptm weights to /root/.cache/colabfold:  19%|█▉        | 677M/3.47G [00:31<02:12, 22.8MB/s]\rDownloading AlphaFold2-ptm weights to /root/.cache/colabfold:  19%|█▉        | 680M/3.47G [00:31<02:10, 23.0MB/s]\rDownloading AlphaFold2-ptm weights to /root/.cache/colabfold:  19%|█▉        | 684M/3.47G [00:32<02:09, 23.2MB/s]\rDownloading AlphaFold2-ptm weights to /root/.cache/colabfold:  19%|█▉        | 688M/3.47G [00:32<02:08, 23.3MB/s]\rDownloading AlphaFold2-ptm weights to /root/.cache/colabfold:  19%|█▉        | 691M/3.47G [00:32<02:08, 23.4MB/s]\rDownloading AlphaFold2-ptm weights to /root/.cache/colabfold:  20%|█▉        | 695M/3.47G [00:32<02:07, 23.5MB/s]\rDownloading AlphaFold2-ptm weights to /root/.cache/colabfold:  20%|█▉        | 699M/3.47G [00:32<02:07, 23.4MB/s]\rDownloading AlphaFold2-ptm weights to /root/.cache/colabfold:  20%|█▉        | 702M/3.47G [00:32<02:06, 23.5MB/s]\rDownloading AlphaFold2-ptm weights to /root/.cache/colabfold:  20%|█▉        | 706M/3.47G [00:32<02:06, 23.5MB/s]\rDownloading AlphaFold2-ptm weights to /root/.cache/colabfold:  20%|█▉        | 710M/3.47G [00:33<02:06, 23.6MB/s]\rDownloading AlphaFold2-ptm weights to /root/.cache/colabfold:  20%|██        | 712M/3.47G [00:33<02:10, 22.9MB/s]\rDownloading AlphaFold2-ptm weights to /root/.cache/colabfold:  20%|██        | 716M/3.47G [00:33<01:46, 27.9MB/s]\rDownloading AlphaFold2-ptm weights to /root/.cache/colabfold:  20%|██        | 719M/3.47G [00:33<01:57, 25.3MB/s]\rDownloading AlphaFold2-ptm weights to /root/.cache/colabfold:  20%|██        | 721M/3.47G [00:33<02:08, 23.1MB/s]\rDownloading AlphaFold2-ptm weights to /root/.cache/colabfold:  20%|██        | 724M/3.47G [00:33<02:13, 22.2MB/s]\rDownloading AlphaFold2-ptm weights to /root/.cache/colabfold:  20%|██        | 727M/3.47G [00:33<02:01, 24.4MB/s]\rDownloading AlphaFold2-ptm weights to /root/.cache/colabfold:  21%|██        | 731M/3.47G [00:34<01:52, 26.3MB/s]\rDownloading AlphaFold2-ptm weights to /root/.cache/colabfold:  21%|██        | 733M/3.47G [00:34<02:04, 23.7MB/s]\rDownloading AlphaFold2-ptm weights to /root/.cache/colabfold:  21%|██        | 735M/3.47G [00:34<02:13, 22.1MB/s]\rDownloading AlphaFold2-ptm weights to /root/.cache/colabfold:  21%|██        | 738M/3.47G [00:34<02:03, 23.9MB/s]\rDownloading AlphaFold2-ptm weights to /root/.cache/colabfold:  21%|██        | 741M/3.47G [00:34<01:53, 26.0MB/s]\rDownloading AlphaFold2-ptm weights to /root/.cache/colabfold:  21%|██        | 744M/3.47G [00:34<02:06, 23.3MB/s]\rDownloading AlphaFold2-ptm weights to /root/.cache/colabfold:  21%|██        | 746M/3.47G [00:34<02:15, 21.7MB/s]\rDownloading AlphaFold2-ptm weights to /root/.cache/colabfold:  21%|██        | 749M/3.47G [00:34<02:03, 23.8MB/s]\rDownloading AlphaFold2-ptm weights to /root/.cache/colabfold:  21%|██        | 752M/3.47G [00:34<01:54, 25.7MB/s]\rDownloading AlphaFold2-ptm weights to /root/.cache/colabfold:  21%|██▏       | 755M/3.47G [00:35<02:06, 23.2MB/s]\rDownloading AlphaFold2-ptm weights to /root/.cache/colabfold:  21%|██▏       | 757M/3.47G [00:35<02:15, 21.6MB/s]\rDownloading AlphaFold2-ptm weights to /root/.cache/colabfold:  21%|██▏       | 760M/3.47G [00:35<02:02, 23.9MB/s]\rDownloading AlphaFold2-ptm weights to /root/.cache/colabfold:  21%|██▏       | 763M/3.47G [00:35<01:53, 25.8MB/s]\rDownloading AlphaFold2-ptm weights to /root/.cache/colabfold:  22%|██▏       | 766M/3.47G [00:35<02:05, 23.2MB/s]\rDownloading AlphaFold2-ptm weights to /root/.cache/colabfold:  22%|██▏       | 768M/3.47G [00:35<02:14, 21.6MB/s]\rDownloading AlphaFold2-ptm weights to /root/.cache/colabfold:  22%|██▏       | 771M/3.47G [00:35<02:02, 23.9MB/s]\rDownloading AlphaFold2-ptm weights to /root/.cache/colabfold:  22%|██▏       | 774M/3.47G [00:35<01:56, 25.0MB/s]\rDownloading AlphaFold2-ptm weights to /root/.cache/colabfold:  22%|██▏       | 776M/3.47G [00:36<02:06, 22.9MB/s]\rDownloading AlphaFold2-ptm weights to /root/.cache/colabfold:  22%|██▏       | 779M/3.47G [00:36<02:13, 21.8MB/s]\rDownloading AlphaFold2-ptm weights to /root/.cache/colabfold:  22%|██▏       | 781M/3.47G [00:36<02:33, 18.9MB/s]\rDownloading AlphaFold2-ptm weights to /root/.cache/colabfold:  22%|██▏       | 783M/3.47G [00:36<02:37, 18.5MB/s]\rDownloading AlphaFold2-ptm weights to /root/.cache/colabfold:  22%|██▏       | 786M/3.47G [00:36<02:20, 20.7MB/s]\rDownloading AlphaFold2-ptm weights to /root/.cache/colabfold:  22%|██▏       | 788M/3.47G [00:36<02:10, 22.2MB/s]\rDownloading AlphaFold2-ptm weights to /root/.cache/colabfold:  22%|██▏       | 791M/3.47G [00:36<02:15, 21.3MB/s]\rDownloading AlphaFold2-ptm weights to /root/.cache/colabfold:  22%|██▏       | 793M/3.47G [00:36<02:05, 22.9MB/s]\rDownloading AlphaFold2-ptm weights to /root/.cache/colabfold:  22%|██▏       | 796M/3.47G [00:37<02:03, 23.4MB/s]\rDownloading AlphaFold2-ptm weights to /root/.cache/colabfold:  22%|██▏       | 798M/3.47G [00:37<02:09, 22.3MB/s]\rDownloading AlphaFold2-ptm weights to /root/.cache/colabfold:  23%|██▎       | 800M/3.47G [00:37<02:02, 23.4MB/s]\rDownloading AlphaFold2-ptm weights to /root/.cache/colabfold:  23%|██▎       | 803M/3.47G [00:37<02:00, 23.9MB/s]\rDownloading AlphaFold2-ptm weights to /root/.cache/colabfold:  23%|██▎       | 805M/3.47G [00:37<02:06, 22.7MB/s]\rDownloading AlphaFold2-ptm weights to /root/.cache/colabfold:  23%|██▎       | 808M/3.47G [00:37<02:01, 23.6MB/s]\rDownloading AlphaFold2-ptm weights to /root/.cache/colabfold:  23%|██▎       | 810M/3.47G [00:37<01:59, 24.1MB/s]\rDownloading AlphaFold2-ptm weights to /root/.cache/colabfold:  23%|██▎       | 813M/3.47G [00:37<02:05, 22.8MB/s]\rDownloading AlphaFold2-ptm weights to /root/.cache/colabfold:  23%|██▎       | 815M/3.47G [00:37<02:01, 23.7MB/s]\rDownloading AlphaFold2-ptm weights to /root/.cache/colabfold:  23%|██▎       | 818M/3.47G [00:38<01:58, 24.2MB/s]\rDownloading AlphaFold2-ptm weights to /root/.cache/colabfold:  23%|██▎       | 820M/3.47G [00:38<02:05, 22.9MB/s]\rDownloading AlphaFold2-ptm weights to /root/.cache/colabfold:  23%|██▎       | 822M/3.47G [00:38<02:00, 23.7MB/s]\rDownloading AlphaFold2-ptm weights to /root/.cache/colabfold:  23%|██▎       | 825M/3.47G [00:38<01:58, 24.2MB/s]\rDownloading AlphaFold2-ptm weights to /root/.cache/colabfold:  23%|██▎       | 827M/3.47G [00:38<02:04, 22.9MB/s]\rDownloading AlphaFold2-ptm weights to /root/.cache/colabfold:  23%|██▎       | 830M/3.47G [00:38<01:59, 23.8MB/s]\rDownloading AlphaFold2-ptm weights to /root/.cache/colabfold:  23%|██▎       | 832M/3.47G [00:38<01:57, 24.2MB/s]\rDownloading AlphaFold2-ptm weights to /root/.cache/colabfold:  24%|██▎       | 834M/3.47G [00:38<02:04, 22.8MB/s]\rDownloading AlphaFold2-ptm weights to /root/.cache/colabfold:  24%|██▎       | 837M/3.47G [00:38<01:59, 23.8MB/s]\rDownloading AlphaFold2-ptm weights to /root/.cache/colabfold:  24%|██▎       | 839M/3.47G [00:38<01:57, 24.1MB/s]\rDownloading AlphaFold2-ptm weights to /root/.cache/colabfold:  24%|██▎       | 842M/3.47G [00:39<02:04, 22.8MB/s]\rDownloading AlphaFold2-ptm weights to /root/.cache/colabfold:  24%|██▍       | 844M/3.47G [00:39<01:59, 23.7MB/s]\rDownloading AlphaFold2-ptm weights to /root/.cache/colabfold:  24%|██▍       | 847M/3.47G [00:39<01:57, 24.2MB/s]\rDownloading AlphaFold2-ptm weights to /root/.cache/colabfold:  24%|██▍       | 849M/3.47G [00:39<02:04, 22.8MB/s]\rDownloading AlphaFold2-ptm weights to /root/.cache/colabfold:  24%|██▍       | 852M/3.47G [00:39<01:59, 23.8MB/s]\rDownloading AlphaFold2-ptm weights to /root/.cache/colabfold:  24%|██▍       | 854M/3.47G [00:39<01:56, 24.2MB/s]\rDownloading AlphaFold2-ptm weights to /root/.cache/colabfold:  24%|██▍       | 856M/3.47G [00:39<02:04, 22.7MB/s]\rDownloading AlphaFold2-ptm weights to /root/.cache/colabfold:  24%|██▍       | 859M/3.47G [00:39<01:58, 23.8MB/s]\rDownloading AlphaFold2-ptm weights to /root/.cache/colabfold:  24%|██▍       | 861M/3.47G [00:39<01:56, 24.2MB/s]\rDownloading AlphaFold2-ptm weights to /root/.cache/colabfold:  24%|██▍       | 864M/3.47G [00:40<02:03, 22.8MB/s]\rDownloading AlphaFold2-ptm weights to /root/.cache/colabfold:  24%|██▍       | 866M/3.47G [00:40<01:57, 23.9MB/s]\rDownloading AlphaFold2-ptm weights to /root/.cache/colabfold:  24%|██▍       | 869M/3.47G [00:40<01:56, 24.1MB/s]\rDownloading AlphaFold2-ptm weights to /root/.cache/colabfold:  25%|██▍       | 871M/3.47G [00:40<02:03, 22.7MB/s]\rDownloading AlphaFold2-ptm weights to /root/.cache/colabfold:  25%|██▍       | 873M/3.47G [00:40<01:57, 23.8MB/s]\rDownloading AlphaFold2-ptm weights to /root/.cache/colabfold:  25%|██▍       | 876M/3.47G [00:40<01:55, 24.2MB/s]\rDownloading AlphaFold2-ptm weights to /root/.cache/colabfold:  25%|██▍       | 878M/3.47G [00:40<02:03, 22.7MB/s]\rDownloading AlphaFold2-ptm weights to /root/.cache/colabfold:  25%|██▍       | 881M/3.47G [00:40<01:57, 23.9MB/s]\rDownloading AlphaFold2-ptm weights to /root/.cache/colabfold:  25%|██▍       | 883M/3.47G [00:40<01:55, 24.2MB/s]\rDownloading AlphaFold2-ptm weights to /root/.cache/colabfold:  25%|██▍       | 886M/3.47G [00:41<02:02, 22.8MB/s]\rDownloading AlphaFold2-ptm weights to /root/.cache/colabfold:  25%|██▌       | 888M/3.47G [00:41<01:57, 23.8MB/s]\rDownloading AlphaFold2-ptm weights to /root/.cache/colabfold:  25%|██▌       | 890M/3.47G [00:41<01:56, 24.0MB/s]\rDownloading AlphaFold2-ptm weights to /root/.cache/colabfold:  25%|██▌       | 893M/3.47G [00:41<02:02, 22.7MB/s]\rDownloading AlphaFold2-ptm weights to /root/.cache/colabfold:  25%|██▌       | 895M/3.47G [00:41<02:23, 19.4MB/s]\rDownloading AlphaFold2-ptm weights to /root/.cache/colabfold:  25%|██▌       | 897M/3.47G [00:41<02:30, 18.5MB/s]\rDownloading AlphaFold2-ptm weights to /root/.cache/colabfold:  25%|██▌       | 901M/3.47G [00:41<02:17, 20.2MB/s]\rDownloading AlphaFold2-ptm weights to /root/.cache/colabfold:  25%|██▌       | 905M/3.47G [00:42<02:10, 21.3MB/s]\rDownloading AlphaFold2-ptm weights to /root/.cache/colabfold:  26%|██▌       | 908M/3.47G [00:42<02:06, 21.9MB/s]\rDownloading AlphaFold2-ptm weights to /root/.cache/colabfold:  26%|██▌       | 912M/3.47G [00:42<02:03, 22.4MB/s]\rDownloading AlphaFold2-ptm weights to /root/.cache/colabfold:  26%|██▌       | 916M/3.47G [00:42<02:01, 22.8MB/s]\rDownloading AlphaFold2-ptm weights to /root/.cache/colabfold:  26%|██▌       | 919M/3.47G [00:42<01:59, 23.0MB/s]\rDownloading AlphaFold2-ptm weights to /root/.cache/colabfold:  26%|██▌       | 923M/3.47G [00:42<01:58, 23.2MB/s]\rDownloading AlphaFold2-ptm weights to /root/.cache/colabfold:  26%|██▌       | 927M/3.47G [00:43<01:57, 23.3MB/s]\rDownloading AlphaFold2-ptm weights to /root/.cache/colabfold:  26%|██▌       | 930M/3.47G [00:43<02:02, 22.4MB/s]\rDownloading AlphaFold2-ptm weights to /root/.cache/colabfold:  26%|██▋       | 932M/3.47G [00:43<02:18, 19.9MB/s]\rDownloading AlphaFold2-ptm weights to /root/.cache/colabfold:  26%|██▋       | 934M/3.47G [00:43<02:34, 17.7MB/s]\rDownloading AlphaFold2-ptm weights to /root/.cache/colabfold:  26%|██▋       | 938M/3.47G [00:43<02:20, 19.5MB/s]\rDownloading AlphaFold2-ptm weights to /root/.cache/colabfold:  27%|██▋       | 942M/3.47G [00:43<02:12, 20.7MB/s]\rDownloading AlphaFold2-ptm weights to /root/.cache/colabfold:  27%|██▋       | 945M/3.47G [00:43<02:06, 21.5MB/s]\rDownloading AlphaFold2-ptm weights to /root/.cache/colabfold:  27%|██▋       | 949M/3.47G [00:44<02:03, 22.2MB/s]\rDownloading AlphaFold2-ptm weights to /root/.cache/colabfold:  27%|██▋       | 953M/3.47G [00:44<02:00, 22.6MB/s]\rDownloading AlphaFold2-ptm weights to /root/.cache/colabfold:  27%|██▋       | 956M/3.47G [00:44<01:58, 22.9MB/s]\rDownloading AlphaFold2-ptm weights to /root/.cache/colabfold:  27%|██▋       | 960M/3.47G [00:44<01:57, 23.1MB/s]\rDownloading AlphaFold2-ptm weights to /root/.cache/colabfold:  27%|██▋       | 964M/3.47G [00:44<01:56, 23.2MB/s]\rDownloading AlphaFold2-ptm weights to /root/.cache/colabfold:  27%|██▋       | 967M/3.47G [00:44<01:56, 23.3MB/s]\rDownloading AlphaFold2-ptm weights to /root/.cache/colabfold:  27%|██▋       | 971M/3.47G [00:45<01:55, 23.4MB/s]\rDownloading AlphaFold2-ptm weights to /root/.cache/colabfold:  27%|██▋       | 974M/3.47G [00:45<01:55, 23.5MB/s]\rDownloading AlphaFold2-ptm weights to /root/.cache/colabfold:  28%|██▊       | 978M/3.47G [00:45<01:54, 23.5MB/s]\rDownloading AlphaFold2-ptm weights to /root/.cache/colabfold:  28%|██▊       | 982M/3.47G [00:45<01:54, 23.6MB/s]\rDownloading AlphaFold2-ptm weights to /root/.cache/colabfold:  28%|██▊       | 985M/3.47G [00:45<01:54, 23.6MB/s]\rDownloading AlphaFold2-ptm weights to /root/.cache/colabfold:  28%|██▊       | 989M/3.47G [00:45<01:54, 23.5MB/s]\rDownloading AlphaFold2-ptm weights to /root/.cache/colabfold:  28%|██▊       | 993M/3.47G [00:46<01:53, 23.5MB/s]\rDownloading AlphaFold2-ptm weights to /root/.cache/colabfold:  28%|██▊       | 996M/3.47G [00:46<01:53, 23.6MB/s]\rDownloading AlphaFold2-ptm weights to /root/.cache/colabfold:  28%|██▊       | 0.98G/3.47G [00:46<01:53, 23.6MB/s]\rDownloading AlphaFold2-ptm weights to /root/.cache/colabfold:  28%|██▊       | 0.98G/3.47G [00:46<01:53, 23.5MB/s]\rDownloading AlphaFold2-ptm weights to /root/.cache/colabfold:  28%|██▊       | 0.98G/3.47G [00:46<01:53, 23.5MB/s]\rDownloading AlphaFold2-ptm weights to /root/.cache/colabfold:  28%|██▊       | 0.99G/3.47G [00:46<01:53, 23.5MB/s]\rDownloading AlphaFold2-ptm weights to /root/.cache/colabfold:  29%|██▊       | 0.99G/3.47G [00:47<01:52, 23.6MB/s]\rDownloading AlphaFold2-ptm weights to /root/.cache/colabfold:  29%|██▊       | 0.99G/3.47G [00:47<01:52, 23.6MB/s]\rDownloading AlphaFold2-ptm weights to /root/.cache/colabfold:  29%|██▉       | 1.00G/3.47G [00:47<01:52, 23.6MB/s]\rDownloading AlphaFold2-ptm weights to /root/.cache/colabfold:  29%|██▉       | 1.00G/3.47G [00:47<01:52, 23.5MB/s]\rDownloading AlphaFold2-ptm weights to /root/.cache/colabfold:  29%|██▉       | 1.00G/3.47G [00:47<01:52, 23.5MB/s]\rDownloading AlphaFold2-ptm weights to /root/.cache/colabfold:  29%|██▉       | 1.01G/3.47G [00:47<01:52, 23.6MB/s]\rDownloading AlphaFold2-ptm weights to /root/.cache/colabfold:  29%|██▉       | 1.01G/3.47G [00:48<01:51, 23.6MB/s]\rDownloading AlphaFold2-ptm weights to /root/.cache/colabfold:  29%|██▉       | 1.02G/3.47G [00:48<01:51, 23.6MB/s]\rDownloading AlphaFold2-ptm weights to /root/.cache/colabfold:  29%|██▉       | 1.02G/3.47G [00:48<01:51, 23.6MB/s]\rDownloading AlphaFold2-ptm weights to /root/.cache/colabfold:  29%|██▉       | 1.02G/3.47G [00:48<01:51, 23.6MB/s]\rDownloading AlphaFold2-ptm weights to /root/.cache/colabfold:  30%|██▉       | 1.03G/3.47G [00:48<01:51, 23.6MB/s]\rDownloading AlphaFold2-ptm weights to /root/.cache/colabfold:  30%|██▉       | 1.03G/3.47G [00:48<01:51, 23.6MB/s]\rDownloading AlphaFold2-ptm weights to /root/.cache/colabfold:  30%|██▉       | 1.03G/3.47G [00:49<01:50, 23.6MB/s]\rDownloading AlphaFold2-ptm weights to /root/.cache/colabfold:  30%|██▉       | 1.04G/3.47G [00:49<01:50, 23.6MB/s]\rDownloading AlphaFold2-ptm weights to /root/.cache/colabfold:  30%|███       | 1.04G/3.47G [00:49<01:50, 23.6MB/s]\rDownloading AlphaFold2-ptm weights to /root/.cache/colabfold:  30%|███       | 1.04G/3.47G [00:49<01:50, 23.6MB/s]\rDownloading AlphaFold2-ptm weights to /root/.cache/colabfold:  30%|███       | 1.05G/3.47G [00:49<01:50, 23.6MB/s]\rDownloading AlphaFold2-ptm weights to /root/.cache/colabfold:  30%|███       | 1.05G/3.47G [00:49<01:50, 23.6MB/s]\rDownloading AlphaFold2-ptm weights to /root/.cache/colabfold:  30%|███       | 1.05G/3.47G [00:50<01:49, 23.6MB/s]\rDownloading AlphaFold2-ptm weights to /root/.cache/colabfold:  31%|███       | 1.06G/3.47G [00:50<01:53, 22.8MB/s]\rDownloading AlphaFold2-ptm weights to /root/.cache/colabfold:  31%|███       | 1.06G/3.47G [00:50<01:52, 23.0MB/s]\rDownloading AlphaFold2-ptm weights to /root/.cache/colabfold:  31%|███       | 1.07G/3.47G [00:50<01:51, 23.2MB/s]\rDownloading AlphaFold2-ptm weights to /root/.cache/colabfold:  31%|███       | 1.07G/3.47G [00:50<01:50, 23.3MB/s]\rDownloading AlphaFold2-ptm weights to /root/.cache/colabfold:  31%|███       | 1.07G/3.47G [00:50<01:49, 23.4MB/s]\rDownloading AlphaFold2-ptm weights to /root/.cache/colabfold:  31%|███       | 1.08G/3.47G [00:50<01:49, 23.4MB/s]\rDownloading AlphaFold2-ptm weights to /root/.cache/colabfold:  31%|███       | 1.08G/3.47G [00:51<01:49, 23.4MB/s]\rDownloading AlphaFold2-ptm weights to /root/.cache/colabfold:  31%|███       | 1.08G/3.47G [00:51<01:49, 23.5MB/s]\rDownloading AlphaFold2-ptm weights to /root/.cache/colabfold:  31%|███▏      | 1.09G/3.47G [00:51<01:48, 23.5MB/s]\rDownloading AlphaFold2-ptm weights to /root/.cache/colabfold:  31%|███▏      | 1.09G/3.47G [00:51<01:48, 23.5MB/s]\rDownloading AlphaFold2-ptm weights to /root/.cache/colabfold:  32%|███▏      | 1.09G/3.47G [00:51<01:48, 23.5MB/s]\rDownloading AlphaFold2-ptm weights to /root/.cache/colabfold:  32%|███▏      | 1.10G/3.47G [00:51<01:48, 23.5MB/s]\rDownloading AlphaFold2-ptm weights to /root/.cache/colabfold:  32%|███▏      | 1.10G/3.47G [00:52<01:47, 23.5MB/s]\rDownloading AlphaFold2-ptm weights to /root/.cache/colabfold:  32%|███▏      | 1.10G/3.47G [00:52<01:47, 23.6MB/s]\rDownloading AlphaFold2-ptm weights to /root/.cache/colabfold:  32%|███▏      | 1.11G/3.47G [00:52<01:47, 23.6MB/s]\rDownloading AlphaFold2-ptm weights to /root/.cache/colabfold:  32%|███▏      | 1.11G/3.47G [00:52<01:46, 23.8MB/s]\rDownloading AlphaFold2-ptm weights to /root/.cache/colabfold:  32%|███▏      | 1.11G/3.47G [00:52<01:45, 23.9MB/s]\rDownloading AlphaFold2-ptm weights to /root/.cache/colabfold:  32%|███▏      | 1.12G/3.47G [00:52<01:45, 23.9MB/s]\rDownloading AlphaFold2-ptm weights to /root/.cache/colabfold:  32%|███▏      | 1.12G/3.47G [00:53<01:44, 24.0MB/s]\rDownloading AlphaFold2-ptm weights to /root/.cache/colabfold:  32%|███▏      | 1.13G/3.47G [00:53<01:44, 24.0MB/s]\rDownloading AlphaFold2-ptm weights to /root/.cache/colabfold:  33%|███▎      | 1.13G/3.47G [00:53<01:44, 24.1MB/s]\rDownloading AlphaFold2-ptm weights to /root/.cache/colabfold:  33%|███▎      | 1.13G/3.47G [00:53<01:44, 24.1MB/s]\rDownloading AlphaFold2-ptm weights to /root/.cache/colabfold:  33%|███▎      | 1.14G/3.47G [00:53<01:43, 24.1MB/s]\rDownloading AlphaFold2-ptm weights to /root/.cache/colabfold:  33%|███▎      | 1.14G/3.47G [00:53<01:43, 24.2MB/s]\rDownloading AlphaFold2-ptm weights to /root/.cache/colabfold:  33%|███▎      | 1.14G/3.47G [00:54<01:43, 24.1MB/s]\rDownloading AlphaFold2-ptm weights to /root/.cache/colabfold:  33%|███▎      | 1.15G/3.47G [00:54<01:43, 24.2MB/s]\rDownloading AlphaFold2-ptm weights to /root/.cache/colabfold:  33%|███▎      | 1.15G/3.47G [00:54<01:42, 24.2MB/s]\rDownloading AlphaFold2-ptm weights to /root/.cache/colabfold:  33%|███▎      | 1.15G/3.47G [00:54<01:42, 24.1MB/s]\rDownloading AlphaFold2-ptm weights to /root/.cache/colabfold:  33%|███▎      | 1.16G/3.47G [00:54<01:42, 24.1MB/s]\rDownloading AlphaFold2-ptm weights to /root/.cache/colabfold:  33%|███▎      | 1.16G/3.47G [00:54<01:42, 24.1MB/s]\rDownloading AlphaFold2-ptm weights to /root/.cache/colabfold:  34%|███▎      | 1.16G/3.47G [00:54<01:42, 24.2MB/s]\rDownloading AlphaFold2-ptm weights to /root/.cache/colabfold:  34%|███▎      | 1.17G/3.47G [00:55<01:41, 24.2MB/s]\rDownloading AlphaFold2-ptm weights to /root/.cache/colabfold:  34%|███▍      | 1.17G/3.47G [00:55<01:41, 24.2MB/s]\rDownloading AlphaFold2-ptm weights to /root/.cache/colabfold:  34%|███▍      | 1.18G/3.47G [00:55<01:41, 24.2MB/s]\rDownloading AlphaFold2-ptm weights to /root/.cache/colabfold:  34%|███▍      | 1.18G/3.47G [00:55<01:41, 24.2MB/s]\rDownloading AlphaFold2-ptm weights to /root/.cache/colabfold:  34%|███▍      | 1.18G/3.47G [00:55<01:41, 24.2MB/s]\rDownloading AlphaFold2-ptm weights to /root/.cache/colabfold:  34%|███▍      | 1.19G/3.47G [00:55<01:41, 24.2MB/s]\rDownloading AlphaFold2-ptm weights to /root/.cache/colabfold:  34%|███▍      | 1.19G/3.47G [00:56<01:41, 24.2MB/s]\rDownloading AlphaFold2-ptm weights to /root/.cache/colabfold:  34%|███▍      | 1.19G/3.47G [00:56<01:40, 24.2MB/s]\rDownloading AlphaFold2-ptm weights to /root/.cache/colabfold:  35%|███▍      | 1.20G/3.47G [00:56<01:40, 24.2MB/s]\rDownloading AlphaFold2-ptm weights to /root/.cache/colabfold:  35%|███▍      | 1.20G/3.47G [00:56<01:40, 24.2MB/s]\rDownloading AlphaFold2-ptm weights to /root/.cache/colabfold:  35%|███▍      | 1.20G/3.47G [00:56<01:40, 24.2MB/s]\rDownloading AlphaFold2-ptm weights to /root/.cache/colabfold:  35%|███▍      | 1.21G/3.47G [00:56<01:40, 24.2MB/s]\rDownloading AlphaFold2-ptm weights to /root/.cache/colabfold:  35%|███▍      | 1.21G/3.47G [00:57<01:40, 24.2MB/s]\rDownloading AlphaFold2-ptm weights to /root/.cache/colabfold:  35%|███▌      | 1.21G/3.47G [00:57<01:40, 24.1MB/s]\rDownloading AlphaFold2-ptm weights to /root/.cache/colabfold:  35%|███▌      | 1.22G/3.47G [00:57<01:39, 24.2MB/s]\rDownloading AlphaFold2-ptm weights to /root/.cache/colabfold:  35%|███▌      | 1.22G/3.47G [00:57<01:39, 24.1MB/s]\rDownloading AlphaFold2-ptm weights to /root/.cache/colabfold:  35%|███▌      | 1.23G/3.47G [00:57<01:39, 24.1MB/s]\rDownloading AlphaFold2-ptm weights to /root/.cache/colabfold:  35%|███▌      | 1.23G/3.47G [00:57<01:39, 24.1MB/s]\rDownloading AlphaFold2-ptm weights to /root/.cache/colabfold:  36%|███▌      | 1.23G/3.47G [00:58<01:50, 21.7MB/s]\rDownloading AlphaFold2-ptm weights to /root/.cache/colabfold:  36%|███▌      | 1.23G/3.47G [00:58<02:02, 19.5MB/s]\rDownloading AlphaFold2-ptm weights to /root/.cache/colabfold:  36%|███▌      | 1.24G/3.47G [00:58<02:16, 17.6MB/s]\rDownloading AlphaFold2-ptm weights to /root/.cache/colabfold:  36%|███▌      | 1.24G/3.47G [00:58<02:02, 19.6MB/s]\rDownloading AlphaFold2-ptm weights to /root/.cache/colabfold:  36%|███▌      | 1.24G/3.47G [00:58<01:53, 20.9MB/s]\rDownloading AlphaFold2-ptm weights to /root/.cache/colabfold:  36%|███▌      | 1.25G/3.47G [00:58<01:48, 21.9MB/s]\rDownloading AlphaFold2-ptm weights to /root/.cache/colabfold:  36%|███▌      | 1.25G/3.47G [00:58<01:45, 22.6MB/s]\rDownloading AlphaFold2-ptm weights to /root/.cache/colabfold:  36%|███▌      | 1.25G/3.47G [00:59<01:43, 23.0MB/s]\rDownloading AlphaFold2-ptm weights to /root/.cache/colabfold:  36%|███▋      | 1.26G/3.47G [00:59<01:41, 23.4MB/s]\rDownloading AlphaFold2-ptm weights to /root/.cache/colabfold:  36%|███▋      | 1.26G/3.47G [00:59<01:40, 23.6MB/s]\rDownloading AlphaFold2-ptm weights to /root/.cache/colabfold:  36%|███▋      | 1.27G/3.47G [00:59<01:39, 23.8MB/s]\rDownloading AlphaFold2-ptm weights to /root/.cache/colabfold:  37%|███▋      | 1.27G/3.47G [00:59<01:38, 23.9MB/s]\rDownloading AlphaFold2-ptm weights to /root/.cache/colabfold:  37%|███▋      | 1.27G/3.47G [00:59<01:38, 24.0MB/s]\rDownloading AlphaFold2-ptm weights to /root/.cache/colabfold:  37%|███▋      | 1.27G/3.47G [01:00<02:04, 19.0MB/s]\rDownloading AlphaFold2-ptm weights to /root/.cache/colabfold:  37%|███▋      | 1.28G/3.47G [01:00<01:54, 20.5MB/s]\rDownloading AlphaFold2-ptm weights to /root/.cache/colabfold:  37%|███▋      | 1.28G/3.47G [01:00<01:49, 21.5MB/s]\rDownloading AlphaFold2-ptm weights to /root/.cache/colabfold:  37%|███▋      | 1.29G/3.47G [01:00<01:45, 22.2MB/s]\rDownloading AlphaFold2-ptm weights to /root/.cache/colabfold:  37%|███▋      | 1.29G/3.47G [01:00<01:42, 22.8MB/s]\rDownloading AlphaFold2-ptm weights to /root/.cache/colabfold:  37%|███▋      | 1.29G/3.47G [01:00<01:40, 23.2MB/s]\rDownloading AlphaFold2-ptm weights to /root/.cache/colabfold:  37%|███▋      | 1.30G/3.47G [01:01<01:39, 23.5MB/s]\rDownloading AlphaFold2-ptm weights to /root/.cache/colabfold:  37%|███▋      | 1.30G/3.47G [01:01<01:38, 23.7MB/s]\rDownloading AlphaFold2-ptm weights to /root/.cache/colabfold:  38%|███▊      | 1.30G/3.47G [01:01<01:37, 23.9MB/s]\rDownloading AlphaFold2-ptm weights to /root/.cache/colabfold:  38%|███▊      | 1.31G/3.47G [01:01<01:36, 24.0MB/s]\rDownloading AlphaFold2-ptm weights to /root/.cache/colabfold:  38%|███▊      | 1.31G/3.47G [01:01<01:36, 24.0MB/s]\rDownloading AlphaFold2-ptm weights to /root/.cache/colabfold:  38%|███▊      | 1.31G/3.47G [01:01<01:35, 24.1MB/s]\rDownloading AlphaFold2-ptm weights to /root/.cache/colabfold:  38%|███▊      | 1.32G/3.47G [01:02<01:35, 24.1MB/s]\rDownloading AlphaFold2-ptm weights to /root/.cache/colabfold:  38%|███▊      | 1.32G/3.47G [01:02<01:35, 24.1MB/s]\rDownloading AlphaFold2-ptm weights to /root/.cache/colabfold:  38%|███▊      | 1.32G/3.47G [01:02<01:35, 24.1MB/s]\rDownloading AlphaFold2-ptm weights to /root/.cache/colabfold:  38%|███▊      | 1.33G/3.47G [01:02<01:35, 24.2MB/s]\rDownloading AlphaFold2-ptm weights to /root/.cache/colabfold:  38%|███▊      | 1.33G/3.47G [01:02<01:34, 24.1MB/s]\rDownloading AlphaFold2-ptm weights to /root/.cache/colabfold:  39%|███▊      | 1.34G/3.47G [01:02<01:34, 24.1MB/s]\rDownloading AlphaFold2-ptm weights to /root/.cache/colabfold:  39%|███▊      | 1.34G/3.47G [01:03<01:34, 24.2MB/s]\rDownloading AlphaFold2-ptm weights to /root/.cache/colabfold:  39%|███▊      | 1.34G/3.47G [01:03<01:34, 24.2MB/s]\rDownloading AlphaFold2-ptm weights to /root/.cache/colabfold:  39%|███▉      | 1.35G/3.47G [01:03<01:34, 24.1MB/s]\rDownloading AlphaFold2-ptm weights to /root/.cache/colabfold:  39%|███▉      | 1.35G/3.47G [01:03<01:34, 24.2MB/s]\rDownloading AlphaFold2-ptm weights to /root/.cache/colabfold:  39%|███▉      | 1.35G/3.47G [01:03<01:33, 24.2MB/s]\rDownloading AlphaFold2-ptm weights to /root/.cache/colabfold:  39%|███▉      | 1.36G/3.47G [01:03<01:33, 24.1MB/s]\rDownloading AlphaFold2-ptm weights to /root/.cache/colabfold:  39%|███▉      | 1.36G/3.47G [01:03<01:33, 24.2MB/s]\rDownloading AlphaFold2-ptm weights to /root/.cache/colabfold:  39%|███▉      | 1.36G/3.47G [01:04<01:33, 24.2MB/s]\rDownloading AlphaFold2-ptm weights to /root/.cache/colabfold:  39%|███▉      | 1.37G/3.47G [01:04<01:33, 24.2MB/s]\rDownloading AlphaFold2-ptm weights to /root/.cache/colabfold:  40%|███▉      | 1.37G/3.47G [01:04<01:33, 24.2MB/s]\rDownloading AlphaFold2-ptm weights to /root/.cache/colabfold:  40%|███▉      | 1.37G/3.47G [01:04<01:45, 21.2MB/s]\rDownloading AlphaFold2-ptm weights to /root/.cache/colabfold:  40%|███▉      | 1.38G/3.47G [01:04<01:57, 19.1MB/s]\rDownloading AlphaFold2-ptm weights to /root/.cache/colabfold:  40%|███▉      | 1.38G/3.47G [01:04<01:51, 20.2MB/s]\rDownloading AlphaFold2-ptm weights to /root/.cache/colabfold:  40%|███▉      | 1.38G/3.47G [01:05<01:44, 21.4MB/s]\rDownloading AlphaFold2-ptm weights to /root/.cache/colabfold:  40%|███▉      | 1.39G/3.47G [01:05<01:40, 22.2MB/s]\rDownloading AlphaFold2-ptm weights to /root/.cache/colabfold:  40%|████      | 1.39G/3.47G [01:05<01:44, 21.3MB/s]\rDownloading AlphaFold2-ptm weights to /root/.cache/colabfold:  40%|████      | 1.39G/3.47G [01:05<01:44, 21.4MB/s]\rDownloading AlphaFold2-ptm weights to /root/.cache/colabfold:  40%|████      | 1.40G/3.47G [01:05<01:39, 22.2MB/s]\rDownloading AlphaFold2-ptm weights to /root/.cache/colabfold:  40%|████      | 1.40G/3.47G [01:05<01:37, 22.8MB/s]\rDownloading AlphaFold2-ptm weights to /root/.cache/colabfold:  40%|████      | 1.40G/3.47G [01:06<01:35, 23.2MB/s]\rDownloading AlphaFold2-ptm weights to /root/.cache/colabfold:  41%|████      | 1.41G/3.47G [01:06<01:34, 23.5MB/s]\rDownloading AlphaFold2-ptm weights to /root/.cache/colabfold:  41%|████      | 1.41G/3.47G [01:06<01:32, 23.8MB/s]\rDownloading AlphaFold2-ptm weights to /root/.cache/colabfold:  41%|████      | 1.41G/3.47G [01:06<01:32, 23.9MB/s]\rDownloading AlphaFold2-ptm weights to /root/.cache/colabfold:  41%|████      | 1.42G/3.47G [01:06<01:31, 24.0MB/s]\rDownloading AlphaFold2-ptm weights to /root/.cache/colabfold:  41%|████      | 1.42G/3.47G [01:06<01:31, 24.0MB/s]\rDownloading AlphaFold2-ptm weights to /root/.cache/colabfold:  41%|████      | 1.42G/3.47G [01:07<01:31, 24.1MB/s]\rDownloading AlphaFold2-ptm weights to /root/.cache/colabfold:  41%|████      | 1.43G/3.47G [01:07<01:30, 24.1MB/s]\rDownloading AlphaFold2-ptm weights to /root/.cache/colabfold:  41%|████▏     | 1.43G/3.47G [01:07<01:30, 24.1MB/s]\rDownloading AlphaFold2-ptm weights to /root/.cache/colabfold:  41%|████▏     | 1.43G/3.47G [01:07<01:30, 24.1MB/s]\rDownloading AlphaFold2-ptm weights to /root/.cache/colabfold:  41%|████▏     | 1.44G/3.47G [01:07<01:30, 24.1MB/s]\rDownloading AlphaFold2-ptm weights to /root/.cache/colabfold:  42%|████▏     | 1.44G/3.47G [01:07<01:30, 24.1MB/s]\rDownloading AlphaFold2-ptm weights to /root/.cache/colabfold:  42%|████▏     | 1.45G/3.47G [01:07<01:29, 24.2MB/s]\rDownloading AlphaFold2-ptm weights to /root/.cache/colabfold:  42%|████▏     | 1.45G/3.47G [01:08<01:29, 24.1MB/s]\rDownloading AlphaFold2-ptm weights to /root/.cache/colabfold:  42%|████▏     | 1.45G/3.47G [01:08<01:29, 24.1MB/s]\rDownloading AlphaFold2-ptm weights to /root/.cache/colabfold:  42%|████▏     | 1.46G/3.47G [01:08<01:29, 24.1MB/s]\rDownloading AlphaFold2-ptm weights to /root/.cache/colabfold:  42%|████▏     | 1.46G/3.47G [01:08<01:29, 24.2MB/s]\rDownloading AlphaFold2-ptm weights to /root/.cache/colabfold:  42%|████▏     | 1.46G/3.47G [01:08<01:29, 24.2MB/s]\rDownloading AlphaFold2-ptm weights to /root/.cache/colabfold:  42%|████▏     | 1.47G/3.47G [01:08<01:28, 24.2MB/s]\rDownloading AlphaFold2-ptm weights to /root/.cache/colabfold:  42%|████▏     | 1.47G/3.47G [01:09<01:28, 24.2MB/s]\rDownloading AlphaFold2-ptm weights to /root/.cache/colabfold:  43%|████▎     | 1.47G/3.47G [01:09<01:28, 24.2MB/s]\rDownloading AlphaFold2-ptm weights to /root/.cache/colabfold:  43%|████▎     | 1.48G/3.47G [01:09<01:28, 24.1MB/s]\rDownloading AlphaFold2-ptm weights to /root/.cache/colabfold:  43%|████▎     | 1.48G/3.47G [01:09<01:28, 24.1MB/s]\rDownloading AlphaFold2-ptm weights to /root/.cache/colabfold:  43%|████▎     | 1.48G/3.47G [01:09<01:28, 24.2MB/s]\rDownloading AlphaFold2-ptm weights to /root/.cache/colabfold:  43%|████▎     | 1.49G/3.47G [01:09<01:35, 22.3MB/s]\rDownloading AlphaFold2-ptm weights to /root/.cache/colabfold:  43%|████▎     | 1.49G/3.47G [01:10<01:46, 20.0MB/s]\rDownloading AlphaFold2-ptm weights to /root/.cache/colabfold:  43%|████▎     | 1.49G/3.47G [01:10<01:57, 18.0MB/s]\rDownloading AlphaFold2-ptm weights to /root/.cache/colabfold:  43%|████▎     | 1.50G/3.47G [01:10<01:43, 20.4MB/s]\rDownloading AlphaFold2-ptm weights to /root/.cache/colabfold:  43%|████▎     | 1.50G/3.47G [01:10<01:38, 21.5MB/s]\rDownloading AlphaFold2-ptm weights to /root/.cache/colabfold:  43%|████▎     | 1.50G/3.47G [01:10<01:34, 22.3MB/s]\rDownloading AlphaFold2-ptm weights to /root/.cache/colabfold:  43%|████▎     | 1.51G/3.47G [01:10<01:32, 22.8MB/s]\rDownloading AlphaFold2-ptm weights to /root/.cache/colabfold:  44%|████▎     | 1.51G/3.47G [01:11<01:30, 23.2MB/s]\rDownloading AlphaFold2-ptm weights to /root/.cache/colabfold:  44%|████▎     | 1.51G/3.47G [01:11<01:29, 23.5MB/s]\rDownloading AlphaFold2-ptm weights to /root/.cache/colabfold:  44%|████▍     | 1.52G/3.47G [01:11<01:28, 23.7MB/s]\rDownloading AlphaFold2-ptm weights to /root/.cache/colabfold:  44%|████▍     | 1.52G/3.47G [01:11<01:27, 23.8MB/s]\rDownloading AlphaFold2-ptm weights to /root/.cache/colabfold:  44%|████▍     | 1.52G/3.47G [01:11<01:27, 23.9MB/s]\rDownloading AlphaFold2-ptm weights to /root/.cache/colabfold:  44%|████▍     | 1.53G/3.47G [01:11<01:26, 24.0MB/s]\rDownloading AlphaFold2-ptm weights to /root/.cache/colabfold:  44%|████▍     | 1.53G/3.47G [01:11<01:26, 24.1MB/s]\rDownloading AlphaFold2-ptm weights to /root/.cache/colabfold:  44%|████▍     | 1.54G/3.47G [01:12<01:26, 24.1MB/s]\rDownloading AlphaFold2-ptm weights to /root/.cache/colabfold:  44%|████▍     | 1.54G/3.47G [01:12<01:25, 24.1MB/s]\rDownloading AlphaFold2-ptm weights to /root/.cache/colabfold:  44%|████▍     | 1.54G/3.47G [01:12<01:25, 24.1MB/s]\rDownloading AlphaFold2-ptm weights to /root/.cache/colabfold:  45%|████▍     | 1.55G/3.47G [01:12<01:25, 24.1MB/s]\rDownloading AlphaFold2-ptm weights to /root/.cache/colabfold:  45%|████▍     | 1.55G/3.47G [01:12<01:25, 24.1MB/s]\rDownloading AlphaFold2-ptm weights to /root/.cache/colabfold:  45%|████▍     | 1.55G/3.47G [01:12<01:25, 24.1MB/s]\rDownloading AlphaFold2-ptm weights to /root/.cache/colabfold:  45%|████▍     | 1.56G/3.47G [01:13<01:24, 24.1MB/s]\rDownloading AlphaFold2-ptm weights to /root/.cache/colabfold:  45%|████▌     | 1.56G/3.47G [01:13<01:24, 24.2MB/s]\rDownloading AlphaFold2-ptm weights to /root/.cache/colabfold:  45%|████▌     | 1.56G/3.47G [01:13<01:24, 24.2MB/s]\rDownloading AlphaFold2-ptm weights to /root/.cache/colabfold:  45%|████▌     | 1.57G/3.47G [01:13<01:30, 22.6MB/s]\rDownloading AlphaFold2-ptm weights to /root/.cache/colabfold:  45%|████▌     | 1.57G/3.47G [01:13<01:30, 22.4MB/s]\rDownloading AlphaFold2-ptm weights to /root/.cache/colabfold:  45%|████▌     | 1.57G/3.47G [01:13<01:28, 22.9MB/s]\rDownloading AlphaFold2-ptm weights to /root/.cache/colabfold:  46%|████▌     | 1.58G/3.47G [01:14<01:27, 23.3MB/s]\rDownloading AlphaFold2-ptm weights to /root/.cache/colabfold:  46%|████▌     | 1.58G/3.47G [01:14<01:26, 23.5MB/s]\rDownloading AlphaFold2-ptm weights to /root/.cache/colabfold:  46%|████▌     | 1.58G/3.47G [01:14<01:25, 23.7MB/s]\rDownloading AlphaFold2-ptm weights to /root/.cache/colabfold:  46%|████▌     | 1.59G/3.47G [01:14<01:24, 23.8MB/s]\rDownloading AlphaFold2-ptm weights to /root/.cache/colabfold:  46%|████▌     | 1.59G/3.47G [01:14<01:24, 23.9MB/s]\rDownloading AlphaFold2-ptm weights to /root/.cache/colabfold:  46%|████▌     | 1.60G/3.47G [01:14<01:23, 24.0MB/s]\rDownloading AlphaFold2-ptm weights to /root/.cache/colabfold:  46%|████▌     | 1.60G/3.47G [01:15<01:23, 24.1MB/s]\rDownloading AlphaFold2-ptm weights to /root/.cache/colabfold:  46%|████▌     | 1.60G/3.47G [01:15<01:23, 24.1MB/s]\rDownloading AlphaFold2-ptm weights to /root/.cache/colabfold:  46%|████▋     | 1.61G/3.47G [01:15<01:22, 24.1MB/s]\rDownloading AlphaFold2-ptm weights to /root/.cache/colabfold:  46%|████▋     | 1.61G/3.47G [01:15<01:22, 24.2MB/s]\rDownloading AlphaFold2-ptm weights to /root/.cache/colabfold:  47%|████▋     | 1.61G/3.47G [01:15<01:22, 24.1MB/s]\rDownloading AlphaFold2-ptm weights to /root/.cache/colabfold:  47%|████▋     | 1.62G/3.47G [01:15<01:22, 24.2MB/s]\rDownloading AlphaFold2-ptm weights to /root/.cache/colabfold:  47%|████▋     | 1.62G/3.47G [01:15<01:22, 24.1MB/s]\rDownloading AlphaFold2-ptm weights to /root/.cache/colabfold:  47%|████▋     | 1.62G/3.47G [01:16<01:21, 24.2MB/s]\rDownloading AlphaFold2-ptm weights to /root/.cache/colabfold:  47%|████▋     | 1.63G/3.47G [01:16<01:21, 24.2MB/s]\rDownloading AlphaFold2-ptm weights to /root/.cache/colabfold:  47%|████▋     | 1.63G/3.47G [01:16<01:21, 24.2MB/s]\rDownloading AlphaFold2-ptm weights to /root/.cache/colabfold:  47%|████▋     | 1.63G/3.47G [01:16<01:21, 24.2MB/s]\rDownloading AlphaFold2-ptm weights to /root/.cache/colabfold:  47%|████▋     | 1.64G/3.47G [01:16<01:21, 24.1MB/s]\rDownloading AlphaFold2-ptm weights to /root/.cache/colabfold:  47%|████▋     | 1.64G/3.47G [01:16<01:21, 24.2MB/s]\rDownloading AlphaFold2-ptm weights to /root/.cache/colabfold:  47%|████▋     | 1.65G/3.47G [01:17<01:20, 24.2MB/s]\rDownloading AlphaFold2-ptm weights to /root/.cache/colabfold:  48%|████▊     | 1.65G/3.47G [01:17<01:20, 24.2MB/s]\rDownloading AlphaFold2-ptm weights to /root/.cache/colabfold:  48%|████▊     | 1.65G/3.47G [01:17<01:20, 24.2MB/s]\rDownloading AlphaFold2-ptm weights to /root/.cache/colabfold:  48%|████▊     | 1.66G/3.47G [01:17<01:20, 24.2MB/s]\rDownloading AlphaFold2-ptm weights to /root/.cache/colabfold:  48%|████▊     | 1.66G/3.47G [01:17<01:20, 24.2MB/s]\rDownloading AlphaFold2-ptm weights to /root/.cache/colabfold:  48%|████▊     | 1.66G/3.47G [01:17<01:20, 24.2MB/s]\rDownloading AlphaFold2-ptm weights to /root/.cache/colabfold:  48%|████▊     | 1.67G/3.47G [01:18<01:19, 24.2MB/s]\rDownloading AlphaFold2-ptm weights to /root/.cache/colabfold:  48%|████▊     | 1.67G/3.47G [01:18<01:20, 24.0MB/s]\rDownloading AlphaFold2-ptm weights to /root/.cache/colabfold:  48%|████▊     | 1.67G/3.47G [01:18<01:20, 23.8MB/s]\rDownloading AlphaFold2-ptm weights to /root/.cache/colabfold:  48%|████▊     | 1.68G/3.47G [01:18<01:20, 23.8MB/s]\rDownloading AlphaFold2-ptm weights to /root/.cache/colabfold:  48%|████▊     | 1.68G/3.47G [01:18<01:20, 24.0MB/s]\rDownloading AlphaFold2-ptm weights to /root/.cache/colabfold:  49%|████▊     | 1.68G/3.47G [01:18<01:19, 24.1MB/s]\rDownloading AlphaFold2-ptm weights to /root/.cache/colabfold:  49%|████▊     | 1.69G/3.47G [01:18<01:19, 24.1MB/s]\rDownloading AlphaFold2-ptm weights to /root/.cache/colabfold:  49%|████▉     | 1.69G/3.47G [01:19<01:18, 24.2MB/s]\rDownloading AlphaFold2-ptm weights to /root/.cache/colabfold:  49%|████▉     | 1.70G/3.47G [01:19<01:18, 24.2MB/s]\rDownloading AlphaFold2-ptm weights to /root/.cache/colabfold:  49%|████▉     | 1.70G/3.47G [01:19<01:18, 24.2MB/s]\rDownloading AlphaFold2-ptm weights to /root/.cache/colabfold:  49%|████▉     | 1.70G/3.47G [01:19<01:18, 24.2MB/s]\rDownloading AlphaFold2-ptm weights to /root/.cache/colabfold:  49%|████▉     | 1.71G/3.47G [01:19<01:18, 24.1MB/s]\rDownloading AlphaFold2-ptm weights to /root/.cache/colabfold:  49%|████▉     | 1.71G/3.47G [01:19<01:18, 24.1MB/s]\rDownloading AlphaFold2-ptm weights to /root/.cache/colabfold:  49%|████▉     | 1.71G/3.47G [01:20<01:17, 24.2MB/s]\rDownloading AlphaFold2-ptm weights to /root/.cache/colabfold:  50%|████▉     | 1.72G/3.47G [01:20<01:25, 22.0MB/s]\rDownloading AlphaFold2-ptm weights to /root/.cache/colabfold:  50%|████▉     | 1.72G/3.47G [01:20<01:25, 21.9MB/s]\rDownloading AlphaFold2-ptm weights to /root/.cache/colabfold:  50%|████▉     | 1.72G/3.47G [01:20<01:23, 22.5MB/s]\rDownloading AlphaFold2-ptm weights to /root/.cache/colabfold:  50%|████▉     | 1.73G/3.47G [01:20<01:21, 23.0MB/s]\rDownloading AlphaFold2-ptm weights to /root/.cache/colabfold:  50%|████▉     | 1.73G/3.47G [01:20<01:19, 23.3MB/s]\rDownloading AlphaFold2-ptm weights to /root/.cache/colabfold:  50%|████▉     | 1.73G/3.47G [01:21<01:38, 18.8MB/s]\rDownloading AlphaFold2-ptm weights to /root/.cache/colabfold:  50%|█████     | 1.74G/3.47G [01:21<01:13, 25.3MB/s]\rDownloading AlphaFold2-ptm weights to /root/.cache/colabfold:  50%|█████     | 1.74G/3.47G [01:21<01:13, 25.0MB/s]\rDownloading AlphaFold2-ptm weights to /root/.cache/colabfold:  50%|█████     | 1.75G/3.47G [01:21<01:14, 24.7MB/s]\rDownloading AlphaFold2-ptm weights to /root/.cache/colabfold:  50%|█████     | 1.75G/3.47G [01:21<01:15, 24.6MB/s]\rDownloading AlphaFold2-ptm weights to /root/.cache/colabfold:  51%|█████     | 1.75G/3.47G [01:22<01:24, 21.8MB/s]\rDownloading AlphaFold2-ptm weights to /root/.cache/colabfold:  51%|█████     | 1.76G/3.47G [01:22<01:32, 19.8MB/s]\rDownloading AlphaFold2-ptm weights to /root/.cache/colabfold:  51%|█████     | 1.76G/3.47G [01:22<01:42, 17.9MB/s]\rDownloading AlphaFold2-ptm weights to /root/.cache/colabfold:  51%|█████     | 1.76G/3.47G [01:22<01:30, 20.2MB/s]\rDownloading AlphaFold2-ptm weights to /root/.cache/colabfold:  51%|█████     | 1.77G/3.47G [01:22<01:25, 21.3MB/s]\rDownloading AlphaFold2-ptm weights to /root/.cache/colabfold:  51%|█████     | 1.77G/3.47G [01:22<01:22, 22.2MB/s]\rDownloading AlphaFold2-ptm weights to /root/.cache/colabfold:  51%|█████     | 1.77G/3.47G [01:22<01:20, 22.7MB/s]\rDownloading AlphaFold2-ptm weights to /root/.cache/colabfold:  51%|█████     | 1.78G/3.47G [01:23<01:18, 23.1MB/s]\rDownloading AlphaFold2-ptm weights to /root/.cache/colabfold:  51%|█████▏    | 1.78G/3.47G [01:23<01:17, 23.4MB/s]\rDownloading AlphaFold2-ptm weights to /root/.cache/colabfold:  51%|█████▏    | 1.78G/3.47G [01:23<01:16, 23.7MB/s]\rDownloading AlphaFold2-ptm weights to /root/.cache/colabfold:  52%|█████▏    | 1.79G/3.47G [01:23<01:15, 23.8MB/s]\rDownloading AlphaFold2-ptm weights to /root/.cache/colabfold:  52%|█████▏    | 1.79G/3.47G [01:23<01:15, 23.9MB/s]\rDownloading AlphaFold2-ptm weights to /root/.cache/colabfold:  52%|█████▏    | 1.79G/3.47G [01:23<01:14, 24.0MB/s]\rDownloading AlphaFold2-ptm weights to /root/.cache/colabfold:  52%|█████▏    | 1.80G/3.47G [01:24<01:14, 24.0MB/s]\rDownloading AlphaFold2-ptm weights to /root/.cache/colabfold:  52%|█████▏    | 1.80G/3.47G [01:24<01:14, 24.1MB/s]\rDownloading AlphaFold2-ptm weights to /root/.cache/colabfold:  52%|█████▏    | 1.80G/3.47G [01:24<01:14, 24.1MB/s]\rDownloading AlphaFold2-ptm weights to /root/.cache/colabfold:  52%|█████▏    | 1.81G/3.47G [01:24<01:13, 24.1MB/s]\rDownloading AlphaFold2-ptm weights to /root/.cache/colabfold:  52%|█████▏    | 1.81G/3.47G [01:24<01:13, 24.1MB/s]\rDownloading AlphaFold2-ptm weights to /root/.cache/colabfold:  52%|█████▏    | 1.82G/3.47G [01:24<01:13, 24.1MB/s]\rDownloading AlphaFold2-ptm weights to /root/.cache/colabfold:  52%|█████▏    | 1.82G/3.47G [01:25<01:13, 24.2MB/s]\rDownloading AlphaFold2-ptm weights to /root/.cache/colabfold:  53%|█████▎    | 1.82G/3.47G [01:25<01:13, 24.1MB/s]\rDownloading AlphaFold2-ptm weights to /root/.cache/colabfold:  53%|█████▎    | 1.83G/3.47G [01:25<01:13, 24.1MB/s]\rDownloading AlphaFold2-ptm weights to /root/.cache/colabfold:  53%|█████▎    | 1.83G/3.47G [01:25<01:12, 24.1MB/s]\rDownloading AlphaFold2-ptm weights to /root/.cache/colabfold:  53%|█████▎    | 1.83G/3.47G [01:25<01:12, 24.1MB/s]\rDownloading AlphaFold2-ptm weights to /root/.cache/colabfold:  53%|█████▎    | 1.84G/3.47G [01:25<01:12, 24.2MB/s]\rDownloading AlphaFold2-ptm weights to /root/.cache/colabfold:  53%|█████▎    | 1.84G/3.47G [01:25<01:12, 24.1MB/s]\rDownloading AlphaFold2-ptm weights to /root/.cache/colabfold:  53%|█████▎    | 1.84G/3.47G [01:26<01:12, 24.1MB/s]\rDownloading AlphaFold2-ptm weights to /root/.cache/colabfold:  53%|█████▎    | 1.85G/3.47G [01:26<01:11, 24.2MB/s]\rDownloading AlphaFold2-ptm weights to /root/.cache/colabfold:  53%|█████▎    | 1.85G/3.47G [01:26<01:11, 24.1MB/s]\rDownloading AlphaFold2-ptm weights to /root/.cache/colabfold:  53%|█████▎    | 1.85G/3.47G [01:26<01:11, 24.2MB/s]\rDownloading AlphaFold2-ptm weights to /root/.cache/colabfold:  54%|█████▎    | 1.86G/3.47G [01:26<01:11, 24.1MB/s]\rDownloading AlphaFold2-ptm weights to /root/.cache/colabfold:  54%|█████▎    | 1.86G/3.47G [01:26<01:11, 24.2MB/s]\rDownloading AlphaFold2-ptm weights to /root/.cache/colabfold:  54%|█████▍    | 1.87G/3.47G [01:27<01:11, 24.2MB/s]\rDownloading AlphaFold2-ptm weights to /root/.cache/colabfold:  54%|█████▍    | 1.87G/3.47G [01:27<01:11, 24.2MB/s]\rDownloading AlphaFold2-ptm weights to /root/.cache/colabfold:  54%|█████▍    | 1.87G/3.47G [01:27<01:10, 24.2MB/s]\rDownloading AlphaFold2-ptm weights to /root/.cache/colabfold:  54%|█████▍    | 1.88G/3.47G [01:27<01:10, 24.2MB/s]\rDownloading AlphaFold2-ptm weights to /root/.cache/colabfold:  54%|█████▍    | 1.88G/3.47G [01:27<01:10, 24.2MB/s]\rDownloading AlphaFold2-ptm weights to /root/.cache/colabfold:  54%|█████▍    | 1.88G/3.47G [01:27<01:10, 24.2MB/s]\rDownloading AlphaFold2-ptm weights to /root/.cache/colabfold:  54%|█████▍    | 1.89G/3.47G [01:28<01:10, 24.1MB/s]\rDownloading AlphaFold2-ptm weights to /root/.cache/colabfold:  55%|█████▍    | 1.89G/3.47G [01:28<01:10, 24.2MB/s]\rDownloading AlphaFold2-ptm weights to /root/.cache/colabfold:  55%|█████▍    | 1.89G/3.47G [01:28<01:14, 22.6MB/s]\rDownloading AlphaFold2-ptm weights to /root/.cache/colabfold:  55%|█████▍    | 1.90G/3.47G [01:28<01:23, 20.3MB/s]\rDownloading AlphaFold2-ptm weights to /root/.cache/colabfold:  55%|█████▍    | 1.90G/3.47G [01:28<01:32, 18.2MB/s]\rDownloading AlphaFold2-ptm weights to /root/.cache/colabfold:  55%|█████▍    | 1.90G/3.47G [01:28<01:24, 19.8MB/s]\rDownloading AlphaFold2-ptm weights to /root/.cache/colabfold:  55%|█████▍    | 1.90G/3.47G [01:29<01:19, 21.2MB/s]\rDownloading AlphaFold2-ptm weights to /root/.cache/colabfold:  55%|█████▌    | 1.91G/3.47G [01:29<01:19, 21.2MB/s]\rDownloading AlphaFold2-ptm weights to /root/.cache/colabfold:  55%|█████▌    | 1.91G/3.47G [01:29<01:18, 21.3MB/s]\rDownloading AlphaFold2-ptm weights to /root/.cache/colabfold:  55%|█████▌    | 1.92G/3.47G [01:29<01:15, 22.1MB/s]\rDownloading AlphaFold2-ptm weights to /root/.cache/colabfold:  55%|█████▌    | 1.92G/3.47G [01:29<01:13, 22.7MB/s]\rDownloading AlphaFold2-ptm weights to /root/.cache/colabfold:  55%|█████▌    | 1.92G/3.47G [01:29<01:11, 23.1MB/s]\rDownloading AlphaFold2-ptm weights to /root/.cache/colabfold:  56%|█████▌    | 1.93G/3.47G [01:30<01:10, 23.4MB/s]\rDownloading AlphaFold2-ptm weights to /root/.cache/colabfold:  56%|█████▌    | 1.93G/3.47G [01:30<01:09, 23.6MB/s]\rDownloading AlphaFold2-ptm weights to /root/.cache/colabfold:  56%|█████▌    | 1.93G/3.47G [01:30<01:09, 23.8MB/s]\rDownloading AlphaFold2-ptm weights to /root/.cache/colabfold:  56%|█████▌    | 1.94G/3.47G [01:30<01:08, 23.9MB/s]\rDownloading AlphaFold2-ptm weights to /root/.cache/colabfold:  56%|█████▌    | 1.94G/3.47G [01:30<01:08, 24.0MB/s]\rDownloading AlphaFold2-ptm weights to /root/.cache/colabfold:  56%|█████▌    | 1.94G/3.47G [01:30<01:08, 24.1MB/s]\rDownloading AlphaFold2-ptm weights to /root/.cache/colabfold:  56%|█████▌    | 1.95G/3.47G [01:30<01:07, 24.1MB/s]\rDownloading AlphaFold2-ptm weights to /root/.cache/colabfold:  56%|█████▋    | 1.95G/3.47G [01:31<01:07, 24.1MB/s]\rDownloading AlphaFold2-ptm weights to /root/.cache/colabfold:  56%|█████▋    | 1.95G/3.47G [01:31<01:07, 24.1MB/s]\rDownloading AlphaFold2-ptm weights to /root/.cache/colabfold:  56%|█████▋    | 1.96G/3.47G [01:31<01:07, 24.1MB/s]\rDownloading AlphaFold2-ptm weights to /root/.cache/colabfold:  57%|█████▋    | 1.96G/3.47G [01:31<01:06, 24.2MB/s]\rDownloading AlphaFold2-ptm weights to /root/.cache/colabfold:  57%|█████▋    | 1.97G/3.47G [01:31<01:06, 24.2MB/s]\rDownloading AlphaFold2-ptm weights to /root/.cache/colabfold:  57%|█████▋    | 1.97G/3.47G [01:31<01:06, 24.1MB/s]\rDownloading AlphaFold2-ptm weights to /root/.cache/colabfold:  57%|█████▋    | 1.97G/3.47G [01:32<01:06, 24.2MB/s]\rDownloading AlphaFold2-ptm weights to /root/.cache/colabfold:  57%|█████▋    | 1.98G/3.47G [01:32<01:06, 24.1MB/s]\rDownloading AlphaFold2-ptm weights to /root/.cache/colabfold:  57%|█████▋    | 1.98G/3.47G [01:32<01:06, 24.2MB/s]\rDownloading AlphaFold2-ptm weights to /root/.cache/colabfold:  57%|█████▋    | 1.98G/3.47G [01:32<01:05, 24.2MB/s]\rDownloading AlphaFold2-ptm weights to /root/.cache/colabfold:  57%|█████▋    | 1.99G/3.47G [01:32<01:05, 24.2MB/s]\rDownloading AlphaFold2-ptm weights to /root/.cache/colabfold:  57%|█████▋    | 1.99G/3.47G [01:32<01:05, 24.2MB/s]\rDownloading AlphaFold2-ptm weights to /root/.cache/colabfold:  57%|█████▋    | 1.99G/3.47G [01:33<01:05, 24.2MB/s]\rDownloading AlphaFold2-ptm weights to /root/.cache/colabfold:  58%|█████▊    | 2.00G/3.47G [01:33<01:05, 24.2MB/s]\rDownloading AlphaFold2-ptm weights to /root/.cache/colabfold:  58%|█████▊    | 2.00G/3.47G [01:33<01:05, 24.2MB/s]\rDownloading AlphaFold2-ptm weights to /root/.cache/colabfold:  58%|█████▊    | 2.00G/3.47G [01:33<01:05, 24.2MB/s]\rDownloading AlphaFold2-ptm weights to /root/.cache/colabfold:  58%|█████▊    | 2.01G/3.47G [01:33<01:04, 24.2MB/s]\rDownloading AlphaFold2-ptm weights to /root/.cache/colabfold:  58%|█████▊    | 2.01G/3.47G [01:33<01:04, 24.2MB/s]\rDownloading AlphaFold2-ptm weights to /root/.cache/colabfold:  58%|█████▊    | 2.01G/3.47G [01:33<01:07, 23.0MB/s]\rDownloading AlphaFold2-ptm weights to /root/.cache/colabfold:  58%|█████▊    | 2.02G/3.47G [01:34<01:15, 20.6MB/s]\rDownloading AlphaFold2-ptm weights to /root/.cache/colabfold:  58%|█████▊    | 2.02G/3.47G [01:34<01:24, 18.4MB/s]\rDownloading AlphaFold2-ptm weights to /root/.cache/colabfold:  58%|█████▊    | 2.02G/3.47G [01:34<01:17, 19.9MB/s]\rDownloading AlphaFold2-ptm weights to /root/.cache/colabfold:  58%|█████▊    | 2.03G/3.47G [01:34<01:13, 21.2MB/s]\rDownloading AlphaFold2-ptm weights to /root/.cache/colabfold:  59%|█████▊    | 2.03G/3.47G [01:34<01:09, 22.1MB/s]\rDownloading AlphaFold2-ptm weights to /root/.cache/colabfold:  59%|█████▊    | 2.03G/3.47G [01:34<01:07, 22.7MB/s]\rDownloading AlphaFold2-ptm weights to /root/.cache/colabfold:  59%|█████▊    | 2.04G/3.47G [01:35<01:10, 21.8MB/s]\rDownloading AlphaFold2-ptm weights to /root/.cache/colabfold:  59%|█████▉    | 2.04G/3.47G [01:35<01:10, 21.7MB/s]\rDownloading AlphaFold2-ptm weights to /root/.cache/colabfold:  59%|█████▉    | 2.04G/3.47G [01:35<01:08, 22.4MB/s]\rDownloading AlphaFold2-ptm weights to /root/.cache/colabfold:  59%|█████▉    | 2.05G/3.47G [01:35<01:06, 22.9MB/s]\rDownloading AlphaFold2-ptm weights to /root/.cache/colabfold:  59%|█████▉    | 2.05G/3.47G [01:35<01:05, 23.3MB/s]\rDownloading AlphaFold2-ptm weights to /root/.cache/colabfold:  59%|█████▉    | 2.05G/3.47G [01:35<01:04, 23.5MB/s]\rDownloading AlphaFold2-ptm weights to /root/.cache/colabfold:  59%|█████▉    | 2.06G/3.47G [01:36<01:03, 23.7MB/s]\rDownloading AlphaFold2-ptm weights to /root/.cache/colabfold:  59%|█████▉    | 2.06G/3.47G [01:36<01:03, 23.8MB/s]\rDownloading AlphaFold2-ptm weights to /root/.cache/colabfold:  60%|█████▉    | 2.06G/3.47G [01:36<01:02, 24.0MB/s]\rDownloading AlphaFold2-ptm weights to /root/.cache/colabfold:  60%|█████▉    | 2.07G/3.47G [01:36<01:02, 24.0MB/s]\rDownloading AlphaFold2-ptm weights to /root/.cache/colabfold:  60%|█████▉    | 2.07G/3.47G [01:36<01:02, 24.1MB/s]\rDownloading AlphaFold2-ptm weights to /root/.cache/colabfold:  60%|█████▉    | 2.08G/3.47G [01:36<01:02, 24.1MB/s]\rDownloading AlphaFold2-ptm weights to /root/.cache/colabfold:  60%|█████▉    | 2.08G/3.47G [01:37<01:01, 24.1MB/s]\rDownloading AlphaFold2-ptm weights to /root/.cache/colabfold:  60%|██████    | 2.08G/3.47G [01:37<01:01, 24.1MB/s]\rDownloading AlphaFold2-ptm weights to /root/.cache/colabfold:  60%|██████    | 2.09G/3.47G [01:37<01:01, 24.1MB/s]\rDownloading AlphaFold2-ptm weights to /root/.cache/colabfold:  60%|██████    | 2.09G/3.47G [01:37<01:01, 24.1MB/s]\rDownloading AlphaFold2-ptm weights to /root/.cache/colabfold:  60%|██████    | 2.09G/3.47G [01:37<01:01, 24.1MB/s]\rDownloading AlphaFold2-ptm weights to /root/.cache/colabfold:  60%|██████    | 2.10G/3.47G [01:37<01:01, 24.1MB/s]\rDownloading AlphaFold2-ptm weights to /root/.cache/colabfold:  61%|██████    | 2.10G/3.47G [01:37<01:00, 24.1MB/s]\rDownloading AlphaFold2-ptm weights to /root/.cache/colabfold:  61%|██████    | 2.10G/3.47G [01:38<01:00, 24.1MB/s]\rDownloading AlphaFold2-ptm weights to /root/.cache/colabfold:  61%|██████    | 2.11G/3.47G [01:38<01:00, 24.1MB/s]\rDownloading AlphaFold2-ptm weights to /root/.cache/colabfold:  61%|██████    | 2.11G/3.47G [01:38<01:00, 24.1MB/s]\rDownloading AlphaFold2-ptm weights to /root/.cache/colabfold:  61%|██████    | 2.11G/3.47G [01:38<01:00, 24.1MB/s]\rDownloading AlphaFold2-ptm weights to /root/.cache/colabfold:  61%|██████    | 2.12G/3.47G [01:38<01:00, 24.1MB/s]\rDownloading AlphaFold2-ptm weights to /root/.cache/colabfold:  61%|██████    | 2.12G/3.47G [01:38<00:59, 24.1MB/s]\rDownloading AlphaFold2-ptm weights to /root/.cache/colabfold:  61%|██████▏   | 2.13G/3.47G [01:39<00:59, 24.1MB/s]\rDownloading AlphaFold2-ptm weights to /root/.cache/colabfold:  61%|██████▏   | 2.13G/3.47G [01:39<00:59, 24.1MB/s]\rDownloading AlphaFold2-ptm weights to /root/.cache/colabfold:  61%|██████▏   | 2.13G/3.47G [01:39<00:59, 24.1MB/s]\rDownloading AlphaFold2-ptm weights to /root/.cache/colabfold:  62%|██████▏   | 2.14G/3.47G [01:39<00:59, 24.1MB/s]\rDownloading AlphaFold2-ptm weights to /root/.cache/colabfold:  62%|██████▏   | 2.14G/3.47G [01:39<00:59, 24.2MB/s]\rDownloading AlphaFold2-ptm weights to /root/.cache/colabfold:  62%|██████▏   | 2.14G/3.47G [01:39<00:58, 24.1MB/s]\rDownloading AlphaFold2-ptm weights to /root/.cache/colabfold:  62%|██████▏   | 2.15G/3.47G [01:40<00:58, 24.1MB/s]\rDownloading AlphaFold2-ptm weights to /root/.cache/colabfold:  62%|██████▏   | 2.15G/3.47G [01:40<00:58, 24.1MB/s]\rDownloading AlphaFold2-ptm weights to /root/.cache/colabfold:  62%|██████▏   | 2.15G/3.47G [01:40<00:58, 24.1MB/s]\rDownloading AlphaFold2-ptm weights to /root/.cache/colabfold:  62%|██████▏   | 2.16G/3.47G [01:40<00:58, 24.1MB/s]\rDownloading AlphaFold2-ptm weights to /root/.cache/colabfold:  62%|██████▏   | 2.16G/3.47G [01:40<01:01, 22.9MB/s]\rDownloading AlphaFold2-ptm weights to /root/.cache/colabfold:  62%|██████▏   | 2.16G/3.47G [01:40<01:08, 20.4MB/s]\rDownloading AlphaFold2-ptm weights to /root/.cache/colabfold:  62%|██████▏   | 2.17G/3.47G [01:41<01:05, 21.3MB/s]\rDownloading AlphaFold2-ptm weights to /root/.cache/colabfold:  63%|██████▎   | 2.17G/3.47G [01:41<01:02, 22.1MB/s]\rDownloading AlphaFold2-ptm weights to /root/.cache/colabfold:  63%|██████▎   | 2.17G/3.47G [01:41<01:01, 22.7MB/s]\rDownloading AlphaFold2-ptm weights to /root/.cache/colabfold:  63%|██████▎   | 2.18G/3.47G [01:41<00:59, 23.1MB/s]\rDownloading AlphaFold2-ptm weights to /root/.cache/colabfold:  63%|██████▎   | 2.18G/3.47G [01:41<00:58, 23.4MB/s]\rDownloading AlphaFold2-ptm weights to /root/.cache/colabfold:  63%|██████▎   | 2.18G/3.47G [01:41<00:58, 23.7MB/s]\rDownloading AlphaFold2-ptm weights to /root/.cache/colabfold:  63%|██████▎   | 2.19G/3.47G [01:41<00:57, 23.8MB/s]\rDownloading AlphaFold2-ptm weights to /root/.cache/colabfold:  63%|██████▎   | 2.19G/3.47G [01:42<00:57, 23.9MB/s]\rDownloading AlphaFold2-ptm weights to /root/.cache/colabfold:  63%|██████▎   | 2.19G/3.47G [01:42<00:56, 24.0MB/s]\rDownloading AlphaFold2-ptm weights to /root/.cache/colabfold:  63%|██████▎   | 2.20G/3.47G [01:42<00:56, 24.0MB/s]\rDownloading AlphaFold2-ptm weights to /root/.cache/colabfold:  64%|██████▎   | 2.20G/3.47G [01:42<00:56, 24.0MB/s]\rDownloading AlphaFold2-ptm weights to /root/.cache/colabfold:  64%|██████▎   | 2.21G/3.47G [01:42<00:56, 24.0MB/s]\rDownloading AlphaFold2-ptm weights to /root/.cache/colabfold:  64%|██████▎   | 2.21G/3.47G [01:42<00:56, 24.0MB/s]\rDownloading AlphaFold2-ptm weights to /root/.cache/colabfold:  64%|██████▍   | 2.21G/3.47G [01:43<00:55, 24.1MB/s]\rDownloading AlphaFold2-ptm weights to /root/.cache/colabfold:  64%|██████▍   | 2.22G/3.47G [01:43<00:55, 24.1MB/s]\rDownloading AlphaFold2-ptm weights to /root/.cache/colabfold:  64%|██████▍   | 2.22G/3.47G [01:43<00:55, 24.1MB/s]\rDownloading AlphaFold2-ptm weights to /root/.cache/colabfold:  64%|██████▍   | 2.22G/3.47G [01:43<00:55, 24.1MB/s]\rDownloading AlphaFold2-ptm weights to /root/.cache/colabfold:  64%|██████▍   | 2.23G/3.47G [01:43<00:55, 24.1MB/s]\rDownloading AlphaFold2-ptm weights to /root/.cache/colabfold:  64%|██████▍   | 2.23G/3.47G [01:43<00:55, 24.1MB/s]\rDownloading AlphaFold2-ptm weights to /root/.cache/colabfold:  64%|██████▍   | 2.23G/3.47G [01:44<00:54, 24.1MB/s]\rDownloading AlphaFold2-ptm weights to /root/.cache/colabfold:  65%|██████▍   | 2.24G/3.47G [01:44<00:54, 24.1MB/s]\rDownloading AlphaFold2-ptm weights to /root/.cache/colabfold:  65%|██████▍   | 2.24G/3.47G [01:44<00:54, 24.1MB/s]\rDownloading AlphaFold2-ptm weights to /root/.cache/colabfold:  65%|██████▍   | 2.24G/3.47G [01:44<00:54, 24.1MB/s]\rDownloading AlphaFold2-ptm weights to /root/.cache/colabfold:  65%|██████▍   | 2.25G/3.47G [01:44<00:54, 24.1MB/s]\rDownloading AlphaFold2-ptm weights to /root/.cache/colabfold:  65%|██████▍   | 2.25G/3.47G [01:44<00:54, 24.1MB/s]\rDownloading AlphaFold2-ptm weights to /root/.cache/colabfold:  65%|██████▌   | 2.25G/3.47G [01:44<00:53, 24.1MB/s]\rDownloading AlphaFold2-ptm weights to /root/.cache/colabfold:  65%|██████▌   | 2.26G/3.47G [01:45<00:58, 22.4MB/s]\rDownloading AlphaFold2-ptm weights to /root/.cache/colabfold:  65%|██████▌   | 2.26G/3.47G [01:45<00:58, 22.1MB/s]\rDownloading AlphaFold2-ptm weights to /root/.cache/colabfold:  65%|██████▌   | 2.27G/3.47G [01:45<00:56, 22.7MB/s]\rDownloading AlphaFold2-ptm weights to /root/.cache/colabfold:  65%|██████▌   | 2.27G/3.47G [01:45<00:55, 23.1MB/s]\rDownloading AlphaFold2-ptm weights to /root/.cache/colabfold:  66%|██████▌   | 2.27G/3.47G [01:45<00:54, 23.4MB/s]\rDownloading AlphaFold2-ptm weights to /root/.cache/colabfold:  66%|██████▌   | 2.28G/3.47G [01:45<00:54, 23.6MB/s]\rDownloading AlphaFold2-ptm weights to /root/.cache/colabfold:  66%|██████▌   | 2.28G/3.47G [01:46<00:53, 23.8MB/s]\rDownloading AlphaFold2-ptm weights to /root/.cache/colabfold:  66%|██████▌   | 2.28G/3.47G [01:46<00:53, 23.9MB/s]\rDownloading AlphaFold2-ptm weights to /root/.cache/colabfold:  66%|██████▌   | 2.29G/3.47G [01:46<00:52, 23.9MB/s]\rDownloading AlphaFold2-ptm weights to /root/.cache/colabfold:  66%|██████▌   | 2.29G/3.47G [01:46<00:52, 24.0MB/s]\rDownloading AlphaFold2-ptm weights to /root/.cache/colabfold:  66%|██████▌   | 2.29G/3.47G [01:46<00:52, 24.0MB/s]\rDownloading AlphaFold2-ptm weights to /root/.cache/colabfold:  66%|██████▋   | 2.30G/3.47G [01:46<00:52, 24.1MB/s]\rDownloading AlphaFold2-ptm weights to /root/.cache/colabfold:  66%|██████▋   | 2.30G/3.47G [01:47<00:51, 24.1MB/s]\rDownloading AlphaFold2-ptm weights to /root/.cache/colabfold:  66%|██████▋   | 2.30G/3.47G [01:47<00:51, 24.1MB/s]\rDownloading AlphaFold2-ptm weights to /root/.cache/colabfold:  67%|██████▋   | 2.31G/3.47G [01:47<00:51, 24.1MB/s]\rDownloading AlphaFold2-ptm weights to /root/.cache/colabfold:  67%|██████▋   | 2.31G/3.47G [01:47<00:51, 24.1MB/s]\rDownloading AlphaFold2-ptm weights to /root/.cache/colabfold:  67%|██████▋   | 2.31G/3.47G [01:47<00:51, 24.1MB/s]\rDownloading AlphaFold2-ptm weights to /root/.cache/colabfold:  67%|██████▋   | 2.32G/3.47G [01:47<00:51, 24.1MB/s]\rDownloading AlphaFold2-ptm weights to /root/.cache/colabfold:  67%|██████▋   | 2.32G/3.47G [01:48<00:50, 24.1MB/s]\rDownloading AlphaFold2-ptm weights to /root/.cache/colabfold:  67%|██████▋   | 2.33G/3.47G [01:48<00:50, 24.1MB/s]\rDownloading AlphaFold2-ptm weights to /root/.cache/colabfold:  67%|██████▋   | 2.33G/3.47G [01:48<00:50, 24.2MB/s]\rDownloading AlphaFold2-ptm weights to /root/.cache/colabfold:  67%|██████▋   | 2.33G/3.47G [01:48<00:50, 24.2MB/s]\rDownloading AlphaFold2-ptm weights to /root/.cache/colabfold:  67%|██████▋   | 2.34G/3.47G [01:48<00:50, 24.1MB/s]\rDownloading AlphaFold2-ptm weights to /root/.cache/colabfold:  67%|██████▋   | 2.34G/3.47G [01:48<00:50, 24.1MB/s]\rDownloading AlphaFold2-ptm weights to /root/.cache/colabfold:  68%|██████▊   | 2.34G/3.47G [01:48<00:49, 24.1MB/s]\rDownloading AlphaFold2-ptm weights to /root/.cache/colabfold:  68%|██████▊   | 2.35G/3.47G [01:49<00:49, 24.2MB/s]\rDownloading AlphaFold2-ptm weights to /root/.cache/colabfold:  68%|██████▊   | 2.35G/3.47G [01:49<00:49, 24.1MB/s]\rDownloading AlphaFold2-ptm weights to /root/.cache/colabfold:  68%|██████▊   | 2.35G/3.47G [01:49<00:49, 24.1MB/s]\rDownloading AlphaFold2-ptm weights to /root/.cache/colabfold:  68%|██████▊   | 2.36G/3.47G [01:49<00:49, 24.2MB/s]\rDownloading AlphaFold2-ptm weights to /root/.cache/colabfold:  68%|██████▊   | 2.36G/3.47G [01:49<00:49, 24.2MB/s]\rDownloading AlphaFold2-ptm weights to /root/.cache/colabfold:  68%|██████▊   | 2.36G/3.47G [01:49<00:49, 24.1MB/s]\rDownloading AlphaFold2-ptm weights to /root/.cache/colabfold:  68%|██████▊   | 2.37G/3.47G [01:50<00:48, 24.1MB/s]\rDownloading AlphaFold2-ptm weights to /root/.cache/colabfold:  68%|██████▊   | 2.37G/3.47G [01:50<00:48, 24.1MB/s]\rDownloading AlphaFold2-ptm weights to /root/.cache/colabfold:  69%|██████▊   | 2.38G/3.47G [01:50<00:48, 24.1MB/s]\rDownloading AlphaFold2-ptm weights to /root/.cache/colabfold:  69%|██████▊   | 2.38G/3.47G [01:50<00:48, 24.2MB/s]\rDownloading AlphaFold2-ptm weights to /root/.cache/colabfold:  69%|██████▊   | 2.38G/3.47G [01:50<00:48, 24.2MB/s]\rDownloading AlphaFold2-ptm weights to /root/.cache/colabfold:  69%|██████▉   | 2.39G/3.47G [01:50<00:48, 24.1MB/s]\rDownloading AlphaFold2-ptm weights to /root/.cache/colabfold:  69%|██████▉   | 2.39G/3.47G [01:51<00:47, 24.1MB/s]\rDownloading AlphaFold2-ptm weights to /root/.cache/colabfold:  69%|██████▉   | 2.39G/3.47G [01:51<00:47, 24.1MB/s]\rDownloading AlphaFold2-ptm weights to /root/.cache/colabfold:  69%|██████▉   | 2.40G/3.47G [01:51<00:47, 24.2MB/s]\rDownloading AlphaFold2-ptm weights to /root/.cache/colabfold:  69%|██████▉   | 2.40G/3.47G [01:51<00:47, 24.2MB/s]\rDownloading AlphaFold2-ptm weights to /root/.cache/colabfold:  69%|██████▉   | 2.40G/3.47G [01:51<00:47, 24.2MB/s]\rDownloading AlphaFold2-ptm weights to /root/.cache/colabfold:  69%|██████▉   | 2.41G/3.47G [01:51<00:47, 24.2MB/s]\rDownloading AlphaFold2-ptm weights to /root/.cache/colabfold:  70%|██████▉   | 2.41G/3.47G [01:51<00:46, 24.1MB/s]\rDownloading AlphaFold2-ptm weights to /root/.cache/colabfold:  70%|██████▉   | 2.41G/3.47G [01:52<00:46, 24.1MB/s]\rDownloading AlphaFold2-ptm weights to /root/.cache/colabfold:  70%|██████▉   | 2.42G/3.47G [01:52<00:46, 24.2MB/s]\rDownloading AlphaFold2-ptm weights to /root/.cache/colabfold:  70%|██████▉   | 2.42G/3.47G [01:52<00:46, 24.1MB/s]\rDownloading AlphaFold2-ptm weights to /root/.cache/colabfold:  70%|██████▉   | 2.43G/3.47G [01:52<00:46, 24.1MB/s]\rDownloading AlphaFold2-ptm weights to /root/.cache/colabfold:  70%|███████   | 2.43G/3.47G [01:52<00:48, 22.8MB/s]\rDownloading AlphaFold2-ptm weights to /root/.cache/colabfold:  70%|███████   | 2.43G/3.47G [01:52<00:43, 25.4MB/s]\rDownloading AlphaFold2-ptm weights to /root/.cache/colabfold:  70%|███████   | 2.44G/3.47G [01:53<00:44, 25.0MB/s]\rDownloading AlphaFold2-ptm weights to /root/.cache/colabfold:  70%|███████   | 2.44G/3.47G [01:53<00:44, 24.8MB/s]\rDownloading AlphaFold2-ptm weights to /root/.cache/colabfold:  70%|███████   | 2.44G/3.47G [01:53<00:44, 24.6MB/s]\rDownloading AlphaFold2-ptm weights to /root/.cache/colabfold:  71%|███████   | 2.45G/3.47G [01:53<00:44, 24.4MB/s]\rDownloading AlphaFold2-ptm weights to /root/.cache/colabfold:  71%|███████   | 2.45G/3.47G [01:53<00:44, 24.3MB/s]\rDownloading AlphaFold2-ptm weights to /root/.cache/colabfold:  71%|███████   | 2.45G/3.47G [01:53<00:50, 21.7MB/s]\rDownloading AlphaFold2-ptm weights to /root/.cache/colabfold:  71%|███████   | 2.46G/3.47G [01:54<00:55, 19.6MB/s]\rDownloading AlphaFold2-ptm weights to /root/.cache/colabfold:  71%|███████   | 2.46G/3.47G [01:54<01:00, 17.8MB/s]\rDownloading AlphaFold2-ptm weights to /root/.cache/colabfold:  71%|███████   | 2.46G/3.47G [01:54<00:53, 20.2MB/s]\rDownloading AlphaFold2-ptm weights to /root/.cache/colabfold:  71%|███████   | 2.46G/3.47G [01:54<00:50, 21.3MB/s]\rDownloading AlphaFold2-ptm weights to /root/.cache/colabfold:  71%|███████   | 2.47G/3.47G [01:54<00:48, 22.1MB/s]\rDownloading AlphaFold2-ptm weights to /root/.cache/colabfold:  71%|███████▏  | 2.47G/3.47G [01:54<00:46, 22.8MB/s]\rDownloading AlphaFold2-ptm weights to /root/.cache/colabfold:  71%|███████▏  | 2.48G/3.47G [01:54<00:46, 23.1MB/s]\rDownloading AlphaFold2-ptm weights to /root/.cache/colabfold:  71%|███████▏  | 2.48G/3.47G [01:55<00:45, 23.4MB/s]\rDownloading AlphaFold2-ptm weights to /root/.cache/colabfold:  72%|███████▏  | 2.48G/3.47G [01:55<00:44, 23.7MB/s]\rDownloading AlphaFold2-ptm weights to /root/.cache/colabfold:  72%|███████▏  | 2.49G/3.47G [01:55<00:44, 23.8MB/s]\rDownloading AlphaFold2-ptm weights to /root/.cache/colabfold:  72%|███████▏  | 2.49G/3.47G [01:55<00:43, 23.9MB/s]\rDownloading AlphaFold2-ptm weights to /root/.cache/colabfold:  72%|███████▏  | 2.49G/3.47G [01:55<00:43, 24.0MB/s]\rDownloading AlphaFold2-ptm weights to /root/.cache/colabfold:  72%|███████▏  | 2.50G/3.47G [01:55<00:43, 24.0MB/s]\rDownloading AlphaFold2-ptm weights to /root/.cache/colabfold:  72%|███████▏  | 2.50G/3.47G [01:56<00:43, 24.1MB/s]\rDownloading AlphaFold2-ptm weights to /root/.cache/colabfold:  72%|███████▏  | 2.50G/3.47G [01:56<00:42, 24.1MB/s]\rDownloading AlphaFold2-ptm weights to /root/.cache/colabfold:  72%|███████▏  | 2.51G/3.47G [01:56<00:42, 24.1MB/s]\rDownloading AlphaFold2-ptm weights to /root/.cache/colabfold:  72%|███████▏  | 2.51G/3.47G [01:56<00:42, 24.1MB/s]\rDownloading AlphaFold2-ptm weights to /root/.cache/colabfold:  73%|███████▎  | 2.51G/3.47G [01:56<00:42, 24.1MB/s]\rDownloading AlphaFold2-ptm weights to /root/.cache/colabfold:  73%|███████▎  | 2.52G/3.47G [01:56<00:42, 24.1MB/s]\rDownloading AlphaFold2-ptm weights to /root/.cache/colabfold:  73%|███████▎  | 2.52G/3.47G [01:57<00:42, 24.1MB/s]\rDownloading AlphaFold2-ptm weights to /root/.cache/colabfold:  73%|███████▎  | 2.53G/3.47G [01:57<00:41, 24.1MB/s]\rDownloading AlphaFold2-ptm weights to /root/.cache/colabfold:  73%|███████▎  | 2.53G/3.47G [01:57<00:41, 24.1MB/s]\rDownloading AlphaFold2-ptm weights to /root/.cache/colabfold:  73%|███████▎  | 2.53G/3.47G [01:57<00:41, 24.1MB/s]\rDownloading AlphaFold2-ptm weights to /root/.cache/colabfold:  73%|███████▎  | 2.54G/3.47G [01:57<00:41, 24.2MB/s]\rDownloading AlphaFold2-ptm weights to /root/.cache/colabfold:  73%|███████▎  | 2.54G/3.47G [01:57<00:41, 24.2MB/s]\rDownloading AlphaFold2-ptm weights to /root/.cache/colabfold:  73%|███████▎  | 2.54G/3.47G [01:57<00:41, 24.2MB/s]\rDownloading AlphaFold2-ptm weights to /root/.cache/colabfold:  73%|███████▎  | 2.55G/3.47G [01:58<00:40, 24.1MB/s]\rDownloading AlphaFold2-ptm weights to /root/.cache/colabfold:  74%|███████▎  | 2.55G/3.47G [01:58<00:40, 24.1MB/s]\rDownloading AlphaFold2-ptm weights to /root/.cache/colabfold:  74%|███████▎  | 2.55G/3.47G [01:58<00:40, 24.1MB/s]\rDownloading AlphaFold2-ptm weights to /root/.cache/colabfold:  74%|███████▍  | 2.56G/3.47G [01:58<00:40, 24.1MB/s]\rDownloading AlphaFold2-ptm weights to /root/.cache/colabfold:  74%|███████▍  | 2.56G/3.47G [01:58<00:40, 24.2MB/s]\rDownloading AlphaFold2-ptm weights to /root/.cache/colabfold:  74%|███████▍  | 2.56G/3.47G [01:58<00:40, 24.1MB/s]\rDownloading AlphaFold2-ptm weights to /root/.cache/colabfold:  74%|███████▍  | 2.57G/3.47G [01:59<00:39, 24.1MB/s]\rDownloading AlphaFold2-ptm weights to /root/.cache/colabfold:  74%|███████▍  | 2.57G/3.47G [01:59<00:41, 23.0MB/s]\rDownloading AlphaFold2-ptm weights to /root/.cache/colabfold:  74%|███████▍  | 2.57G/3.47G [01:59<00:42, 22.6MB/s]\rDownloading AlphaFold2-ptm weights to /root/.cache/colabfold:  74%|███████▍  | 2.58G/3.47G [01:59<00:41, 23.1MB/s]\rDownloading AlphaFold2-ptm weights to /root/.cache/colabfold:  74%|███████▍  | 2.58G/3.47G [01:59<00:40, 23.4MB/s]\rDownloading AlphaFold2-ptm weights to /root/.cache/colabfold:  75%|███████▍  | 2.59G/3.47G [01:59<00:40, 23.6MB/s]\rDownloading AlphaFold2-ptm weights to /root/.cache/colabfold:  75%|███████▍  | 2.59G/3.47G [02:00<00:39, 23.8MB/s]\rDownloading AlphaFold2-ptm weights to /root/.cache/colabfold:  75%|███████▍  | 2.59G/3.47G [02:00<00:39, 23.9MB/s]\rDownloading AlphaFold2-ptm weights to /root/.cache/colabfold:  75%|███████▍  | 2.60G/3.47G [02:00<00:39, 24.0MB/s]\rDownloading AlphaFold2-ptm weights to /root/.cache/colabfold:  75%|███████▍  | 2.60G/3.47G [02:00<00:38, 24.0MB/s]\rDownloading AlphaFold2-ptm weights to /root/.cache/colabfold:  75%|███████▌  | 2.60G/3.47G [02:00<00:38, 24.1MB/s]\rDownloading AlphaFold2-ptm weights to /root/.cache/colabfold:  75%|███████▌  | 2.61G/3.47G [02:00<00:38, 24.1MB/s]\rDownloading AlphaFold2-ptm weights to /root/.cache/colabfold:  75%|███████▌  | 2.61G/3.47G [02:01<00:38, 24.1MB/s]\rDownloading AlphaFold2-ptm weights to /root/.cache/colabfold:  75%|███████▌  | 2.61G/3.47G [02:01<00:37, 24.2MB/s]\rDownloading AlphaFold2-ptm weights to /root/.cache/colabfold:  75%|███████▌  | 2.62G/3.47G [02:01<00:37, 24.2MB/s]\rDownloading AlphaFold2-ptm weights to /root/.cache/colabfold:  76%|███████▌  | 2.62G/3.47G [02:01<00:37, 24.2MB/s]\rDownloading AlphaFold2-ptm weights to /root/.cache/colabfold:  76%|███████▌  | 2.62G/3.47G [02:01<00:37, 24.2MB/s]\rDownloading AlphaFold2-ptm weights to /root/.cache/colabfold:  76%|███████▌  | 2.63G/3.47G [02:01<00:37, 24.2MB/s]\rDownloading AlphaFold2-ptm weights to /root/.cache/colabfold:  76%|███████▌  | 2.63G/3.47G [02:01<00:37, 24.2MB/s]\rDownloading AlphaFold2-ptm weights to /root/.cache/colabfold:  76%|███████▌  | 2.64G/3.47G [02:02<00:36, 24.2MB/s]\rDownloading AlphaFold2-ptm weights to /root/.cache/colabfold:  76%|███████▌  | 2.64G/3.47G [02:02<00:36, 24.2MB/s]\rDownloading AlphaFold2-ptm weights to /root/.cache/colabfold:  76%|███████▌  | 2.64G/3.47G [02:02<00:36, 24.2MB/s]\rDownloading AlphaFold2-ptm weights to /root/.cache/colabfold:  76%|███████▋  | 2.65G/3.47G [02:02<00:36, 24.2MB/s]\rDownloading AlphaFold2-ptm weights to /root/.cache/colabfold:  76%|███████▋  | 2.65G/3.47G [02:02<00:36, 24.2MB/s]\rDownloading AlphaFold2-ptm weights to /root/.cache/colabfold:  77%|███████▋  | 2.65G/3.47G [02:02<00:36, 24.2MB/s]\rDownloading AlphaFold2-ptm weights to /root/.cache/colabfold:  77%|███████▋  | 2.66G/3.47G [02:03<00:35, 24.2MB/s]\rDownloading AlphaFold2-ptm weights to /root/.cache/colabfold:  77%|███████▋  | 2.66G/3.47G [02:03<00:35, 24.2MB/s]\rDownloading AlphaFold2-ptm weights to /root/.cache/colabfold:  77%|███████▋  | 2.66G/3.47G [02:03<00:35, 24.2MB/s]\rDownloading AlphaFold2-ptm weights to /root/.cache/colabfold:  77%|███████▋  | 2.67G/3.47G [02:03<00:35, 24.2MB/s]\rDownloading AlphaFold2-ptm weights to /root/.cache/colabfold:  77%|███████▋  | 2.67G/3.47G [02:03<00:35, 24.2MB/s]\rDownloading AlphaFold2-ptm weights to /root/.cache/colabfold:  77%|███████▋  | 2.67G/3.47G [02:03<00:35, 24.2MB/s]\rDownloading AlphaFold2-ptm weights to /root/.cache/colabfold:  77%|███████▋  | 2.68G/3.47G [02:04<00:35, 24.2MB/s]\rDownloading AlphaFold2-ptm weights to /root/.cache/colabfold:  77%|███████▋  | 2.68G/3.47G [02:04<00:34, 24.2MB/s]\rDownloading AlphaFold2-ptm weights to /root/.cache/colabfold:  77%|███████▋  | 2.69G/3.47G [02:04<00:34, 24.2MB/s]\rDownloading AlphaFold2-ptm weights to /root/.cache/colabfold:  78%|███████▊  | 2.69G/3.47G [02:04<00:34, 24.2MB/s]\rDownloading AlphaFold2-ptm weights to /root/.cache/colabfold:  78%|███████▊  | 2.69G/3.47G [02:04<00:34, 24.1MB/s]\rDownloading AlphaFold2-ptm weights to /root/.cache/colabfold:  78%|███████▊  | 2.70G/3.47G [02:04<00:34, 24.2MB/s]\rDownloading AlphaFold2-ptm weights to /root/.cache/colabfold:  78%|███████▊  | 2.70G/3.47G [02:04<00:34, 24.2MB/s]\rDownloading AlphaFold2-ptm weights to /root/.cache/colabfold:  78%|███████▊  | 2.70G/3.47G [02:05<00:33, 24.2MB/s]\rDownloading AlphaFold2-ptm weights to /root/.cache/colabfold:  78%|███████▊  | 2.71G/3.47G [02:05<00:33, 24.2MB/s]\rDownloading AlphaFold2-ptm weights to /root/.cache/colabfold:  78%|███████▊  | 2.71G/3.47G [02:05<00:33, 24.2MB/s]\rDownloading AlphaFold2-ptm weights to /root/.cache/colabfold:  78%|███████▊  | 2.71G/3.47G [02:05<00:33, 24.2MB/s]\rDownloading AlphaFold2-ptm weights to /root/.cache/colabfold:  78%|███████▊  | 2.72G/3.47G [02:05<00:33, 24.2MB/s]\rDownloading AlphaFold2-ptm weights to /root/.cache/colabfold:  78%|███████▊  | 2.72G/3.47G [02:05<00:33, 24.2MB/s]\rDownloading AlphaFold2-ptm weights to /root/.cache/colabfold:  79%|███████▊  | 2.72G/3.47G [02:06<00:32, 24.2MB/s]\rDownloading AlphaFold2-ptm weights to /root/.cache/colabfold:  79%|███████▊  | 2.73G/3.47G [02:06<00:32, 24.2MB/s]\rDownloading AlphaFold2-ptm weights to /root/.cache/colabfold:  79%|███████▉  | 2.73G/3.47G [02:06<00:32, 24.2MB/s]\rDownloading AlphaFold2-ptm weights to /root/.cache/colabfold:  79%|███████▉  | 2.73G/3.47G [02:06<00:32, 24.2MB/s]\rDownloading AlphaFold2-ptm weights to /root/.cache/colabfold:  79%|███████▉  | 2.74G/3.47G [02:06<00:32, 24.2MB/s]\rDownloading AlphaFold2-ptm weights to /root/.cache/colabfold:  79%|███████▉  | 2.74G/3.47G [02:06<00:32, 24.2MB/s]\rDownloading AlphaFold2-ptm weights to /root/.cache/colabfold:  79%|███████▉  | 2.75G/3.47G [02:07<00:32, 24.2MB/s]\rDownloading AlphaFold2-ptm weights to /root/.cache/colabfold:  79%|███████▉  | 2.75G/3.47G [02:07<00:31, 24.1MB/s]\rDownloading AlphaFold2-ptm weights to /root/.cache/colabfold:  79%|███████▉  | 2.75G/3.47G [02:07<00:31, 24.2MB/s]\rDownloading AlphaFold2-ptm weights to /root/.cache/colabfold:  79%|███████▉  | 2.76G/3.47G [02:07<00:31, 24.2MB/s]\rDownloading AlphaFold2-ptm weights to /root/.cache/colabfold:  80%|███████▉  | 2.76G/3.47G [02:07<00:31, 24.2MB/s]\rDownloading AlphaFold2-ptm weights to /root/.cache/colabfold:  80%|███████▉  | 2.76G/3.47G [02:07<00:31, 24.2MB/s]\rDownloading AlphaFold2-ptm weights to /root/.cache/colabfold:  80%|███████▉  | 2.77G/3.47G [02:07<00:31, 24.2MB/s]\rDownloading AlphaFold2-ptm weights to /root/.cache/colabfold:  80%|███████▉  | 2.77G/3.47G [02:08<00:30, 24.2MB/s]\rDownloading AlphaFold2-ptm weights to /root/.cache/colabfold:  80%|████████  | 2.77G/3.47G [02:08<00:30, 24.2MB/s]\rDownloading AlphaFold2-ptm weights to /root/.cache/colabfold:  80%|████████  | 2.78G/3.47G [02:08<00:30, 24.2MB/s]\rDownloading AlphaFold2-ptm weights to /root/.cache/colabfold:  80%|████████  | 2.78G/3.47G [02:08<00:30, 24.2MB/s]\rDownloading AlphaFold2-ptm weights to /root/.cache/colabfold:  80%|████████  | 2.78G/3.47G [02:08<00:30, 24.2MB/s]\rDownloading AlphaFold2-ptm weights to /root/.cache/colabfold:  80%|████████  | 2.79G/3.47G [02:08<00:31, 23.1MB/s]\rDownloading AlphaFold2-ptm weights to /root/.cache/colabfold:  81%|████████  | 2.79G/3.47G [02:09<00:32, 22.6MB/s]\rDownloading AlphaFold2-ptm weights to /root/.cache/colabfold:  81%|████████  | 2.80G/3.47G [02:09<00:31, 23.1MB/s]\rDownloading AlphaFold2-ptm weights to /root/.cache/colabfold:  81%|████████  | 2.80G/3.47G [02:09<00:30, 23.4MB/s]\rDownloading AlphaFold2-ptm weights to /root/.cache/colabfold:  81%|████████  | 2.80G/3.47G [02:09<00:31, 22.5MB/s]\rDownloading AlphaFold2-ptm weights to /root/.cache/colabfold:  81%|████████  | 2.80G/3.47G [02:09<00:35, 20.2MB/s]\rDownloading AlphaFold2-ptm weights to /root/.cache/colabfold:  81%|████████  | 2.81G/3.47G [02:09<00:33, 21.2MB/s]\rDownloading AlphaFold2-ptm weights to /root/.cache/colabfold:  81%|████████  | 2.81G/3.47G [02:10<00:31, 22.0MB/s]\rDownloading AlphaFold2-ptm weights to /root/.cache/colabfold:  81%|████████  | 2.81G/3.47G [02:10<00:30, 22.7MB/s]\rDownloading AlphaFold2-ptm weights to /root/.cache/colabfold:  81%|████████▏ | 2.82G/3.47G [02:10<00:30, 23.1MB/s]\rDownloading AlphaFold2-ptm weights to /root/.cache/colabfold:  81%|████████▏ | 2.82G/3.47G [02:10<00:29, 23.4MB/s]\rDownloading AlphaFold2-ptm weights to /root/.cache/colabfold:  81%|████████▏ | 2.83G/3.47G [02:10<00:29, 23.6MB/s]\rDownloading AlphaFold2-ptm weights to /root/.cache/colabfold:  82%|████████▏ | 2.83G/3.47G [02:10<00:28, 23.8MB/s]\rDownloading AlphaFold2-ptm weights to /root/.cache/colabfold:  82%|████████▏ | 2.83G/3.47G [02:11<00:28, 23.9MB/s]\rDownloading AlphaFold2-ptm weights to /root/.cache/colabfold:  82%|████████▏ | 2.84G/3.47G [02:11<00:28, 24.0MB/s]\rDownloading AlphaFold2-ptm weights to /root/.cache/colabfold:  82%|████████▏ | 2.84G/3.47G [02:11<00:28, 24.0MB/s]\rDownloading AlphaFold2-ptm weights to /root/.cache/colabfold:  82%|████████▏ | 2.84G/3.47G [02:11<00:27, 24.0MB/s]\rDownloading AlphaFold2-ptm weights to /root/.cache/colabfold:  82%|████████▏ | 2.85G/3.47G [02:11<00:27, 24.1MB/s]\rDownloading AlphaFold2-ptm weights to /root/.cache/colabfold:  82%|████████▏ | 2.85G/3.47G [02:11<00:27, 24.1MB/s]\rDownloading AlphaFold2-ptm weights to /root/.cache/colabfold:  82%|████████▏ | 2.85G/3.47G [02:11<00:27, 24.1MB/s]\rDownloading AlphaFold2-ptm weights to /root/.cache/colabfold:  82%|████████▏ | 2.86G/3.47G [02:12<00:27, 24.1MB/s]\rDownloading AlphaFold2-ptm weights to /root/.cache/colabfold:  83%|████████▎ | 2.86G/3.47G [02:12<00:27, 24.1MB/s]\rDownloading AlphaFold2-ptm weights to /root/.cache/colabfold:  83%|████████▎ | 2.86G/3.47G [02:12<00:26, 24.0MB/s]\rDownloading AlphaFold2-ptm weights to /root/.cache/colabfold:  83%|████████▎ | 2.87G/3.47G [02:12<00:26, 24.1MB/s]\rDownloading AlphaFold2-ptm weights to /root/.cache/colabfold:  83%|████████▎ | 2.87G/3.47G [02:12<00:26, 24.1MB/s]\rDownloading AlphaFold2-ptm weights to /root/.cache/colabfold:  83%|████████▎ | 2.88G/3.47G [02:12<00:26, 24.1MB/s]\rDownloading AlphaFold2-ptm weights to /root/.cache/colabfold:  83%|████████▎ | 2.88G/3.47G [02:13<00:26, 24.1MB/s]\rDownloading AlphaFold2-ptm weights to /root/.cache/colabfold:  83%|████████▎ | 2.88G/3.47G [02:13<00:26, 24.1MB/s]\rDownloading AlphaFold2-ptm weights to /root/.cache/colabfold:  83%|████████▎ | 2.89G/3.47G [02:13<00:25, 24.1MB/s]\rDownloading AlphaFold2-ptm weights to /root/.cache/colabfold:  83%|████████▎ | 2.89G/3.47G [02:13<00:25, 24.1MB/s]\rDownloading AlphaFold2-ptm weights to /root/.cache/colabfold:  83%|████████▎ | 2.89G/3.47G [02:13<00:25, 24.1MB/s]\rDownloading AlphaFold2-ptm weights to /root/.cache/colabfold:  84%|████████▎ | 2.90G/3.47G [02:13<00:25, 24.1MB/s]\rDownloading AlphaFold2-ptm weights to /root/.cache/colabfold:  84%|████████▎ | 2.90G/3.47G [02:14<00:25, 24.1MB/s]\rDownloading AlphaFold2-ptm weights to /root/.cache/colabfold:  84%|████████▍ | 2.90G/3.47G [02:14<00:25, 24.1MB/s]\rDownloading AlphaFold2-ptm weights to /root/.cache/colabfold:  84%|████████▍ | 2.91G/3.47G [02:14<00:24, 24.2MB/s]\rDownloading AlphaFold2-ptm weights to /root/.cache/colabfold:  84%|████████▍ | 2.91G/3.47G [02:14<00:24, 24.1MB/s]\rDownloading AlphaFold2-ptm weights to /root/.cache/colabfold:  84%|████████▍ | 2.91G/3.47G [02:14<00:24, 24.2MB/s]\rDownloading AlphaFold2-ptm weights to /root/.cache/colabfold:  84%|████████▍ | 2.92G/3.47G [02:14<00:25, 22.9MB/s]\rDownloading AlphaFold2-ptm weights to /root/.cache/colabfold:  84%|████████▍ | 2.92G/3.47G [02:15<00:26, 22.5MB/s]\rDownloading AlphaFold2-ptm weights to /root/.cache/colabfold:  84%|████████▍ | 2.92G/3.47G [02:15<00:25, 23.0MB/s]\rDownloading AlphaFold2-ptm weights to /root/.cache/colabfold:  84%|████████▍ | 2.93G/3.47G [02:15<00:24, 23.3MB/s]\rDownloading AlphaFold2-ptm weights to /root/.cache/colabfold:  85%|████████▍ | 2.93G/3.47G [02:15<00:24, 23.6MB/s]\rDownloading AlphaFold2-ptm weights to /root/.cache/colabfold:  85%|████████▍ | 2.94G/3.47G [02:15<00:24, 23.7MB/s]\rDownloading AlphaFold2-ptm weights to /root/.cache/colabfold:  85%|████████▍ | 2.94G/3.47G [02:15<00:23, 23.8MB/s]\rDownloading AlphaFold2-ptm weights to /root/.cache/colabfold:  85%|████████▍ | 2.94G/3.47G [02:15<00:23, 23.9MB/s]\rDownloading AlphaFold2-ptm weights to /root/.cache/colabfold:  85%|████████▍ | 2.95G/3.47G [02:16<00:23, 23.7MB/s]\rDownloading AlphaFold2-ptm weights to /root/.cache/colabfold:  85%|████████▌ | 2.95G/3.47G [02:16<00:23, 23.9MB/s]\rDownloading AlphaFold2-ptm weights to /root/.cache/colabfold:  85%|████████▌ | 2.95G/3.47G [02:16<00:23, 24.0MB/s]\rDownloading AlphaFold2-ptm weights to /root/.cache/colabfold:  85%|████████▌ | 2.96G/3.47G [02:16<00:22, 24.0MB/s]\rDownloading AlphaFold2-ptm weights to /root/.cache/colabfold:  85%|████████▌ | 2.96G/3.47G [02:16<00:22, 24.0MB/s]\rDownloading AlphaFold2-ptm weights to /root/.cache/colabfold:  85%|████████▌ | 2.96G/3.47G [02:16<00:22, 24.1MB/s]\rDownloading AlphaFold2-ptm weights to /root/.cache/colabfold:  86%|████████▌ | 2.97G/3.47G [02:17<00:22, 24.1MB/s]\rDownloading AlphaFold2-ptm weights to /root/.cache/colabfold:  86%|████████▌ | 2.97G/3.47G [02:17<00:22, 24.1MB/s]\rDownloading AlphaFold2-ptm weights to /root/.cache/colabfold:  86%|████████▌ | 2.97G/3.47G [02:17<00:21, 24.1MB/s]\rDownloading AlphaFold2-ptm weights to /root/.cache/colabfold:  86%|████████▌ | 2.98G/3.47G [02:17<00:21, 24.1MB/s]\rDownloading AlphaFold2-ptm weights to /root/.cache/colabfold:  86%|████████▌ | 2.98G/3.47G [02:17<00:21, 24.1MB/s]\rDownloading AlphaFold2-ptm weights to /root/.cache/colabfold:  86%|████████▌ | 2.99G/3.47G [02:17<00:21, 24.2MB/s]\rDownloading AlphaFold2-ptm weights to /root/.cache/colabfold:  86%|████████▌ | 2.99G/3.47G [02:18<00:21, 24.1MB/s]\rDownloading AlphaFold2-ptm weights to /root/.cache/colabfold:  86%|████████▋ | 2.99G/3.47G [02:18<00:21, 24.2MB/s]\rDownloading AlphaFold2-ptm weights to /root/.cache/colabfold:  86%|████████▋ | 3.00G/3.47G [02:18<00:20, 24.2MB/s]\rDownloading AlphaFold2-ptm weights to /root/.cache/colabfold:  87%|████████▋ | 3.00G/3.47G [02:18<00:20, 24.2MB/s]\rDownloading AlphaFold2-ptm weights to /root/.cache/colabfold:  87%|████████▋ | 3.00G/3.47G [02:18<00:20, 24.2MB/s]\rDownloading AlphaFold2-ptm weights to /root/.cache/colabfold:  87%|████████▋ | 3.01G/3.47G [02:18<00:20, 24.2MB/s]\rDownloading AlphaFold2-ptm weights to /root/.cache/colabfold:  87%|████████▋ | 3.01G/3.47G [02:18<00:20, 24.2MB/s]\rDownloading AlphaFold2-ptm weights to /root/.cache/colabfold:  87%|████████▋ | 3.01G/3.47G [02:19<00:20, 24.2MB/s]\rDownloading AlphaFold2-ptm weights to /root/.cache/colabfold:  87%|████████▋ | 3.02G/3.47G [02:19<00:19, 24.2MB/s]\rDownloading AlphaFold2-ptm weights to /root/.cache/colabfold:  87%|████████▋ | 3.02G/3.47G [02:19<00:19, 24.2MB/s]\rDownloading AlphaFold2-ptm weights to /root/.cache/colabfold:  87%|████████▋ | 3.02G/3.47G [02:19<00:19, 24.2MB/s]\rDownloading AlphaFold2-ptm weights to /root/.cache/colabfold:  87%|████████▋ | 3.03G/3.47G [02:19<00:19, 24.2MB/s]\rDownloading AlphaFold2-ptm weights to /root/.cache/colabfold:  87%|████████▋ | 3.03G/3.47G [02:19<00:20, 22.6MB/s]\rDownloading AlphaFold2-ptm weights to /root/.cache/colabfold:  88%|████████▊ | 3.03G/3.47G [02:20<00:22, 20.3MB/s]\rDownloading AlphaFold2-ptm weights to /root/.cache/colabfold:  88%|████████▊ | 3.04G/3.47G [02:20<00:25, 18.2MB/s]\rDownloading AlphaFold2-ptm weights to /root/.cache/colabfold:  88%|████████▊ | 3.04G/3.47G [02:20<00:23, 19.8MB/s]\rDownloading AlphaFold2-ptm weights to /root/.cache/colabfold:  88%|████████▊ | 3.04G/3.47G [02:20<00:21, 21.1MB/s]\rDownloading AlphaFold2-ptm weights to /root/.cache/colabfold:  88%|████████▊ | 3.05G/3.47G [02:20<00:20, 22.0MB/s]\rDownloading AlphaFold2-ptm weights to /root/.cache/colabfold:  88%|████████▊ | 3.05G/3.47G [02:20<00:19, 22.6MB/s]\rDownloading AlphaFold2-ptm weights to /root/.cache/colabfold:  88%|████████▊ | 3.05G/3.47G [02:21<00:19, 23.1MB/s]\rDownloading AlphaFold2-ptm weights to /root/.cache/colabfold:  88%|████████▊ | 3.06G/3.47G [02:21<00:18, 23.4MB/s]\rDownloading AlphaFold2-ptm weights to /root/.cache/colabfold:  88%|████████▊ | 3.06G/3.47G [02:21<00:18, 23.6MB/s]\rDownloading AlphaFold2-ptm weights to /root/.cache/colabfold:  88%|████████▊ | 3.06G/3.47G [02:21<00:18, 23.8MB/s]\rDownloading AlphaFold2-ptm weights to /root/.cache/colabfold:  88%|████████▊ | 3.07G/3.47G [02:21<00:17, 23.9MB/s]\rDownloading AlphaFold2-ptm weights to /root/.cache/colabfold:  89%|████████▊ | 3.07G/3.47G [02:21<00:17, 24.0MB/s]\rDownloading AlphaFold2-ptm weights to /root/.cache/colabfold:  89%|████████▊ | 3.07G/3.47G [02:22<00:17, 24.0MB/s]\rDownloading AlphaFold2-ptm weights to /root/.cache/colabfold:  89%|████████▉ | 3.08G/3.47G [02:22<00:17, 24.1MB/s]\rDownloading AlphaFold2-ptm weights to /root/.cache/colabfold:  89%|████████▉ | 3.08G/3.47G [02:22<00:17, 24.1MB/s]\rDownloading AlphaFold2-ptm weights to /root/.cache/colabfold:  89%|████████▉ | 3.09G/3.47G [02:22<00:16, 24.1MB/s]\rDownloading AlphaFold2-ptm weights to /root/.cache/colabfold:  89%|████████▉ | 3.09G/3.47G [02:22<00:16, 24.1MB/s]\rDownloading AlphaFold2-ptm weights to /root/.cache/colabfold:  89%|████████▉ | 3.09G/3.47G [02:22<00:16, 24.2MB/s]\rDownloading AlphaFold2-ptm weights to /root/.cache/colabfold:  89%|████████▉ | 3.10G/3.47G [02:22<00:16, 24.2MB/s]\rDownloading AlphaFold2-ptm weights to /root/.cache/colabfold:  89%|████████▉ | 3.10G/3.47G [02:23<00:16, 24.2MB/s]\rDownloading AlphaFold2-ptm weights to /root/.cache/colabfold:  90%|████████▉ | 3.10G/3.47G [02:23<00:16, 24.2MB/s]\rDownloading AlphaFold2-ptm weights to /root/.cache/colabfold:  90%|████████▉ | 3.11G/3.47G [02:23<00:16, 24.1MB/s]\rDownloading AlphaFold2-ptm weights to /root/.cache/colabfold:  90%|████████▉ | 3.11G/3.47G [02:23<00:15, 24.1MB/s]\rDownloading AlphaFold2-ptm weights to /root/.cache/colabfold:  90%|████████▉ | 3.11G/3.47G [02:23<00:15, 24.1MB/s]\rDownloading AlphaFold2-ptm weights to /root/.cache/colabfold:  90%|████████▉ | 3.12G/3.47G [02:23<00:15, 24.1MB/s]\rDownloading AlphaFold2-ptm weights to /root/.cache/colabfold:  90%|████████▉ | 3.12G/3.47G [02:24<00:19, 18.8MB/s]\rDownloading AlphaFold2-ptm weights to /root/.cache/colabfold:  90%|█████████ | 3.13G/3.47G [02:24<00:13, 26.4MB/s]\rDownloading AlphaFold2-ptm weights to /root/.cache/colabfold:  90%|█████████ | 3.13G/3.47G [02:24<00:14, 25.4MB/s]\rDownloading AlphaFold2-ptm weights to /root/.cache/colabfold:  90%|█████████ | 3.13G/3.47G [02:24<00:12, 27.8MB/s]\rDownloading AlphaFold2-ptm weights to /root/.cache/colabfold:  90%|█████████ | 3.13G/3.47G [02:24<00:13, 25.5MB/s]\rDownloading AlphaFold2-ptm weights to /root/.cache/colabfold:  90%|█████████ | 3.14G/3.47G [02:24<00:15, 23.6MB/s]\rDownloading AlphaFold2-ptm weights to /root/.cache/colabfold:  91%|█████████ | 3.14G/3.47G [02:24<00:14, 24.1MB/s]\rDownloading AlphaFold2-ptm weights to /root/.cache/colabfold:  91%|█████████ | 3.14G/3.47G [02:25<00:14, 23.4MB/s]\rDownloading AlphaFold2-ptm weights to /root/.cache/colabfold:  91%|█████████ | 3.15G/3.47G [02:25<00:12, 26.7MB/s]\rDownloading AlphaFold2-ptm weights to /root/.cache/colabfold:  91%|█████████ | 3.15G/3.47G [02:25<00:14, 24.2MB/s]\rDownloading AlphaFold2-ptm weights to /root/.cache/colabfold:  91%|█████████ | 3.15G/3.47G [02:25<00:13, 24.4MB/s]\rDownloading AlphaFold2-ptm weights to /root/.cache/colabfold:  91%|█████████ | 3.15G/3.47G [02:25<00:14, 22.8MB/s]\rDownloading AlphaFold2-ptm weights to /root/.cache/colabfold:  91%|█████████ | 3.16G/3.47G [02:25<00:12, 26.3MB/s]\rDownloading AlphaFold2-ptm weights to /root/.cache/colabfold:  91%|█████████ | 3.16G/3.47G [02:25<00:13, 23.8MB/s]\rDownloading AlphaFold2-ptm weights to /root/.cache/colabfold:  91%|█████████ | 3.16G/3.47G [02:25<00:13, 24.0MB/s]\rDownloading AlphaFold2-ptm weights to /root/.cache/colabfold:  91%|█████████▏| 3.16G/3.47G [02:26<00:14, 22.5MB/s]\rDownloading AlphaFold2-ptm weights to /root/.cache/colabfold:  91%|█████████▏| 3.17G/3.47G [02:26<00:12, 26.1MB/s]\rDownloading AlphaFold2-ptm weights to /root/.cache/colabfold:  91%|█████████▏| 3.17G/3.47G [02:26<00:13, 23.6MB/s]\rDownloading AlphaFold2-ptm weights to /root/.cache/colabfold:  91%|█████████▏| 3.17G/3.47G [02:26<00:13, 23.9MB/s]\rDownloading AlphaFold2-ptm weights to /root/.cache/colabfold:  92%|█████████▏| 3.17G/3.47G [02:26<00:13, 22.6MB/s]\rDownloading AlphaFold2-ptm weights to /root/.cache/colabfold:  92%|█████████▏| 3.18G/3.47G [02:26<00:11, 26.2MB/s]\rDownloading AlphaFold2-ptm weights to /root/.cache/colabfold:  92%|█████████▏| 3.18G/3.47G [02:26<00:12, 23.7MB/s]\rDownloading AlphaFold2-ptm weights to /root/.cache/colabfold:  92%|█████████▏| 3.18G/3.47G [02:26<00:12, 23.9MB/s]\rDownloading AlphaFold2-ptm weights to /root/.cache/colabfold:  92%|█████████▏| 3.19G/3.47G [02:26<00:13, 22.6MB/s]\rDownloading AlphaFold2-ptm weights to /root/.cache/colabfold:  92%|█████████▏| 3.19G/3.47G [02:27<00:14, 21.1MB/s]\rDownloading AlphaFold2-ptm weights to /root/.cache/colabfold:  92%|█████████▏| 3.19G/3.47G [02:27<00:15, 18.7MB/s]\rDownloading AlphaFold2-ptm weights to /root/.cache/colabfold:  92%|█████████▏| 3.19G/3.47G [02:27<00:15, 19.2MB/s]\rDownloading AlphaFold2-ptm weights to /root/.cache/colabfold:  92%|█████████▏| 3.20G/3.47G [02:27<00:14, 20.6MB/s]\rDownloading AlphaFold2-ptm weights to /root/.cache/colabfold:  92%|█████████▏| 3.20G/3.47G [02:27<00:13, 21.6MB/s]\rDownloading AlphaFold2-ptm weights to /root/.cache/colabfold:  92%|█████████▏| 3.20G/3.47G [02:27<00:12, 22.3MB/s]\rDownloading AlphaFold2-ptm weights to /root/.cache/colabfold:  93%|█████████▎| 3.21G/3.47G [02:28<00:12, 22.1MB/s]\rDownloading AlphaFold2-ptm weights to /root/.cache/colabfold:  93%|█████████▎| 3.21G/3.47G [02:28<00:12, 22.7MB/s]\rDownloading AlphaFold2-ptm weights to /root/.cache/colabfold:  93%|█████████▎| 3.22G/3.47G [02:28<00:11, 23.1MB/s]\rDownloading AlphaFold2-ptm weights to /root/.cache/colabfold:  93%|█████████▎| 3.22G/3.47G [02:28<00:11, 23.4MB/s]\rDownloading AlphaFold2-ptm weights to /root/.cache/colabfold:  93%|█████████▎| 3.22G/3.47G [02:28<00:11, 23.6MB/s]\rDownloading AlphaFold2-ptm weights to /root/.cache/colabfold:  93%|█████████▎| 3.23G/3.47G [02:28<00:10, 23.7MB/s]\rDownloading AlphaFold2-ptm weights to /root/.cache/colabfold:  93%|█████████▎| 3.23G/3.47G [02:29<00:10, 23.8MB/s]\rDownloading AlphaFold2-ptm weights to /root/.cache/colabfold:  93%|█████████▎| 3.23G/3.47G [02:29<00:10, 23.9MB/s]\rDownloading AlphaFold2-ptm weights to /root/.cache/colabfold:  93%|█████████▎| 3.24G/3.47G [02:29<00:10, 24.0MB/s]\rDownloading AlphaFold2-ptm weights to /root/.cache/colabfold:  93%|█████████▎| 3.24G/3.47G [02:29<00:10, 24.0MB/s]\rDownloading AlphaFold2-ptm weights to /root/.cache/colabfold:  94%|█████████▎| 3.24G/3.47G [02:29<00:09, 24.0MB/s]\rDownloading AlphaFold2-ptm weights to /root/.cache/colabfold:  94%|█████████▎| 3.25G/3.47G [02:29<00:09, 24.0MB/s]\rDownloading AlphaFold2-ptm weights to /root/.cache/colabfold:  94%|█████████▍| 3.25G/3.47G [02:30<00:09, 24.0MB/s]\rDownloading AlphaFold2-ptm weights to /root/.cache/colabfold:  94%|█████████▍| 3.25G/3.47G [02:30<00:09, 24.0MB/s]\rDownloading AlphaFold2-ptm weights to /root/.cache/colabfold:  94%|█████████▍| 3.26G/3.47G [02:30<00:09, 24.1MB/s]\rDownloading AlphaFold2-ptm weights to /root/.cache/colabfold:  94%|█████████▍| 3.26G/3.47G [02:30<00:09, 24.0MB/s]\rDownloading AlphaFold2-ptm weights to /root/.cache/colabfold:  94%|█████████▍| 3.27G/3.47G [02:30<00:09, 24.0MB/s]\rDownloading AlphaFold2-ptm weights to /root/.cache/colabfold:  94%|█████████▍| 3.27G/3.47G [02:30<00:08, 24.0MB/s]\rDownloading AlphaFold2-ptm weights to /root/.cache/colabfold:  94%|█████████▍| 3.27G/3.47G [02:31<00:08, 24.0MB/s]\rDownloading AlphaFold2-ptm weights to /root/.cache/colabfold:  94%|█████████▍| 3.28G/3.47G [02:31<00:08, 24.0MB/s]\rDownloading AlphaFold2-ptm weights to /root/.cache/colabfold:  95%|█████████▍| 3.28G/3.47G [02:31<00:08, 24.0MB/s]\rDownloading AlphaFold2-ptm weights to /root/.cache/colabfold:  95%|█████████▍| 3.28G/3.47G [02:31<00:08, 24.0MB/s]\rDownloading AlphaFold2-ptm weights to /root/.cache/colabfold:  95%|█████████▍| 3.29G/3.47G [02:31<00:08, 24.1MB/s]\rDownloading AlphaFold2-ptm weights to /root/.cache/colabfold:  95%|█████████▍| 3.29G/3.47G [02:31<00:07, 24.0MB/s]\rDownloading AlphaFold2-ptm weights to /root/.cache/colabfold:  95%|█████████▍| 3.29G/3.47G [02:31<00:07, 24.0MB/s]\rDownloading AlphaFold2-ptm weights to /root/.cache/colabfold:  95%|█████████▌| 3.30G/3.47G [02:32<00:07, 24.0MB/s]\rDownloading AlphaFold2-ptm weights to /root/.cache/colabfold:  95%|█████████▌| 3.30G/3.47G [02:32<00:07, 24.0MB/s]\rDownloading AlphaFold2-ptm weights to /root/.cache/colabfold:  95%|█████████▌| 3.30G/3.47G [02:32<00:07, 24.0MB/s]\rDownloading AlphaFold2-ptm weights to /root/.cache/colabfold:  95%|█████████▌| 3.31G/3.47G [02:32<00:07, 24.0MB/s]\rDownloading AlphaFold2-ptm weights to /root/.cache/colabfold:  96%|█████████▌| 3.31G/3.47G [02:32<00:06, 24.1MB/s]\rDownloading AlphaFold2-ptm weights to /root/.cache/colabfold:  96%|█████████▌| 3.31G/3.47G [02:32<00:06, 24.1MB/s]\rDownloading AlphaFold2-ptm weights to /root/.cache/colabfold:  96%|█████████▌| 3.32G/3.47G [02:33<00:06, 24.0MB/s]\rDownloading AlphaFold2-ptm weights to /root/.cache/colabfold:  96%|█████████▌| 3.32G/3.47G [02:33<00:06, 24.1MB/s]\rDownloading AlphaFold2-ptm weights to /root/.cache/colabfold:  96%|█████████▌| 3.33G/3.47G [02:33<00:06, 24.0MB/s]\rDownloading AlphaFold2-ptm weights to /root/.cache/colabfold:  96%|█████████▌| 3.33G/3.47G [02:33<00:06, 24.0MB/s]\rDownloading AlphaFold2-ptm weights to /root/.cache/colabfold:  96%|█████████▌| 3.33G/3.47G [02:33<00:06, 24.0MB/s]\rDownloading AlphaFold2-ptm weights to /root/.cache/colabfold:  96%|█████████▌| 3.34G/3.47G [02:33<00:05, 24.1MB/s]\rDownloading AlphaFold2-ptm weights to /root/.cache/colabfold:  96%|█████████▋| 3.34G/3.47G [02:34<00:05, 24.0MB/s]\rDownloading AlphaFold2-ptm weights to /root/.cache/colabfold:  96%|█████████▋| 3.34G/3.47G [02:34<00:05, 24.0MB/s]\rDownloading AlphaFold2-ptm weights to /root/.cache/colabfold:  97%|█████████▋| 3.35G/3.47G [02:34<00:05, 24.1MB/s]\rDownloading AlphaFold2-ptm weights to /root/.cache/colabfold:  97%|█████████▋| 3.35G/3.47G [02:34<00:05, 24.0MB/s]\rDownloading AlphaFold2-ptm weights to /root/.cache/colabfold:  97%|█████████▋| 3.35G/3.47G [02:34<00:05, 24.0MB/s]\rDownloading AlphaFold2-ptm weights to /root/.cache/colabfold:  97%|█████████▋| 3.36G/3.47G [02:34<00:04, 24.1MB/s]\rDownloading AlphaFold2-ptm weights to /root/.cache/colabfold:  97%|█████████▋| 3.36G/3.47G [02:34<00:04, 24.1MB/s]\rDownloading AlphaFold2-ptm weights to /root/.cache/colabfold:  97%|█████████▋| 3.36G/3.47G [02:35<00:04, 24.0MB/s]\rDownloading AlphaFold2-ptm weights to /root/.cache/colabfold:  97%|█████████▋| 3.37G/3.47G [02:35<00:04, 24.1MB/s]\rDownloading AlphaFold2-ptm weights to /root/.cache/colabfold:  97%|█████████▋| 3.37G/3.47G [02:35<00:04, 24.1MB/s]\rDownloading AlphaFold2-ptm weights to /root/.cache/colabfold:  97%|█████████▋| 3.38G/3.47G [02:35<00:04, 24.1MB/s]\rDownloading AlphaFold2-ptm weights to /root/.cache/colabfold:  97%|█████████▋| 3.38G/3.47G [02:35<00:03, 24.1MB/s]\rDownloading AlphaFold2-ptm weights to /root/.cache/colabfold:  98%|█████████▊| 3.38G/3.47G [02:35<00:03, 24.1MB/s]\rDownloading AlphaFold2-ptm weights to /root/.cache/colabfold:  98%|█████████▊| 3.39G/3.47G [02:36<00:03, 24.1MB/s]\rDownloading AlphaFold2-ptm weights to /root/.cache/colabfold:  98%|█████████▊| 3.39G/3.47G [02:36<00:03, 24.0MB/s]\rDownloading AlphaFold2-ptm weights to /root/.cache/colabfold:  98%|█████████▊| 3.39G/3.47G [02:36<00:03, 21.6MB/s]\rDownloading AlphaFold2-ptm weights to /root/.cache/colabfold:  98%|█████████▊| 3.40G/3.47G [02:36<00:03, 19.5MB/s]\rDownloading AlphaFold2-ptm weights to /root/.cache/colabfold:  98%|█████████▊| 3.40G/3.47G [02:36<00:04, 17.7MB/s]\rDownloading AlphaFold2-ptm weights to /root/.cache/colabfold:  98%|█████████▊| 3.40G/3.47G [02:36<00:03, 19.5MB/s]\rDownloading AlphaFold2-ptm weights to /root/.cache/colabfold:  98%|█████████▊| 3.40G/3.47G [02:37<00:03, 20.8MB/s]\rDownloading AlphaFold2-ptm weights to /root/.cache/colabfold:  98%|█████████▊| 3.41G/3.47G [02:37<00:02, 21.8MB/s]\rDownloading AlphaFold2-ptm weights to /root/.cache/colabfold:  98%|█████████▊| 3.41G/3.47G [02:37<00:02, 22.5MB/s]\rDownloading AlphaFold2-ptm weights to /root/.cache/colabfold:  98%|█████████▊| 3.41G/3.47G [02:37<00:02, 23.0MB/s]\rDownloading AlphaFold2-ptm weights to /root/.cache/colabfold:  99%|█████████▊| 3.42G/3.47G [02:37<00:02, 23.3MB/s]\rDownloading AlphaFold2-ptm weights to /root/.cache/colabfold:  99%|█████████▊| 3.42G/3.47G [02:37<00:02, 23.5MB/s]\rDownloading AlphaFold2-ptm weights to /root/.cache/colabfold:  99%|█████████▉| 3.43G/3.47G [02:38<00:01, 23.5MB/s]\rDownloading AlphaFold2-ptm weights to /root/.cache/colabfold:  99%|█████████▉| 3.43G/3.47G [02:38<00:01, 23.7MB/s]\rDownloading AlphaFold2-ptm weights to /root/.cache/colabfold:  99%|█████████▉| 3.43G/3.47G [02:38<00:01, 23.8MB/s]\rDownloading AlphaFold2-ptm weights to /root/.cache/colabfold:  99%|█████████▉| 3.44G/3.47G [02:38<00:01, 23.9MB/s]\rDownloading AlphaFold2-ptm weights to /root/.cache/colabfold:  99%|█████████▉| 3.44G/3.47G [02:38<00:01, 24.0MB/s]\rDownloading AlphaFold2-ptm weights to /root/.cache/colabfold:  99%|█████████▉| 3.44G/3.47G [02:38<00:01, 24.0MB/s]\rDownloading AlphaFold2-ptm weights to /root/.cache/colabfold:  99%|█████████▉| 3.45G/3.47G [02:39<00:00, 24.0MB/s]\rDownloading AlphaFold2-ptm weights to /root/.cache/colabfold: 100%|█████████▉| 3.45G/3.47G [02:39<00:00, 24.0MB/s]\rDownloading AlphaFold2-ptm weights to /root/.cache/colabfold: 100%|█████████▉| 3.45G/3.47G [02:39<00:00, 24.1MB/s]\rDownloading AlphaFold2-ptm weights to /root/.cache/colabfold: 100%|█████████▉| 3.46G/3.47G [02:39<00:00, 24.1MB/s]\rDownloading AlphaFold2-ptm weights to /root/.cache/colabfold: 100%|█████████▉| 3.46G/3.47G [02:39<00:00, 24.0MB/s]\rDownloading AlphaFold2-ptm weights to /root/.cache/colabfold: 100%|█████████▉| 3.46G/3.47G [02:39<00:00, 24.0MB/s]\rDownloading AlphaFold2-ptm weights to /root/.cache/colabfold: 100%|█████████▉| 3.47G/3.47G [02:40<00:00, 18.5MB/s]\rDownloading AlphaFold2-ptm weights to /root/.cache/colabfold: 100%|██████████| 3.47G/3.47G [02:40<00:00, 23.3MB/s]\n"
          ]
        }
      ]
    },
    {
      "cell_type": "code",
      "metadata": {
        "id": "hUYApPElB30u",
        "cellView": "form",
        "outputId": "dbc78355-3f99-4839-d5fe-15fc10168152",
        "colab": {
          "base_uri": "https://localhost:8080/"
        }
      },
      "source": [
        "#@title Run Prediction\n",
        "\n",
        "import sys\n",
        "\n",
        "from colabfold.batch import get_queries, run\n",
        "from colabfold.download import default_data_dir\n",
        "from colabfold.utils import setup_logging\n",
        "from pathlib import Path\n",
        "\n",
        "# For some reason we need that to get pdbfixer to import\n",
        "if use_amber and f\"/usr/local/lib/python{python_version}/site-packages/\" not in sys.path:\n",
        "    sys.path.insert(0, f\"/usr/local/lib/python{python_version}/site-packages/\")\n",
        "\n",
        "setup_logging(Path(result_dir).joinpath(\"log.txt\"))\n",
        "\n",
        "queries, is_complex = get_queries(input_dir)\n",
        "run(\n",
        "    queries=queries,\n",
        "    result_dir=result_dir,\n",
        "    use_templates=use_templates,\n",
        "    num_relax=num_relax,\n",
        "    relax_max_iterations=relax_max_iterations,\n",
        "    msa_mode=msa_mode,\n",
        "    model_type=\"auto\",\n",
        "    num_models=num_models,\n",
        "    num_recycles=num_recycles,\n",
        "    model_order=[1, 2, 3, 4, 5],\n",
        "    is_complex=is_complex,\n",
        "    data_dir=default_data_dir,\n",
        "    keep_existing_results=do_not_overwrite_results,\n",
        "    rank_by=\"auto\",\n",
        "    pair_mode=\"unpaired+paired\",\n",
        "    stop_at_score=stop_at_score,\n",
        "    zip_results=zip_results,\n",
        "    user_agent=\"colabfold/google-colab-batch\",\n",
        ")"
      ],
      "execution_count": 4,
      "outputs": [
        {
          "metadata": {
            "tags": null
          },
          "name": "stdout",
          "output_type": "stream",
          "text": [
            "2025-08-09 15:45:39,667 Running on GPU\n",
            "2025-08-09 15:45:39,953 Found 5 citations for tools or databases\n",
            "2025-08-09 15:45:39,954 Query 1/8: seq_5 (length 317)\n"
          ]
        },
        {
          "metadata": {
            "tags": null
          },
          "name": "stderr",
          "output_type": "stream",
          "text": [
            "PENDING:   0%|          | 0/150 [elapsed: 00:00 remaining: ?]"
          ]
        },
        {
          "metadata": {
            "tags": null
          },
          "name": "stdout",
          "output_type": "stream",
          "text": [
            "2025-08-09 15:45:40,651 Sleeping for 10s. Reason: PENDING\n"
          ]
        },
        {
          "metadata": {
            "tags": null
          },
          "name": "stderr",
          "output_type": "stream",
          "text": [
            "RUNNING:   7%|▋         | 10/150 [elapsed: 00:11 remaining: 02:39]"
          ]
        },
        {
          "metadata": {
            "tags": null
          },
          "name": "stdout",
          "output_type": "stream",
          "text": [
            "2025-08-09 15:45:51,337 Sleeping for 7s. Reason: RUNNING\n"
          ]
        },
        {
          "metadata": {
            "tags": null
          },
          "name": "stderr",
          "output_type": "stream",
          "text": [
            "RUNNING:  11%|█▏        | 17/150 [elapsed: 00:19 remaining: 02:28]"
          ]
        },
        {
          "metadata": {
            "tags": null
          },
          "name": "stdout",
          "output_type": "stream",
          "text": [
            "2025-08-09 15:45:59,032 Sleeping for 6s. Reason: RUNNING\n"
          ]
        },
        {
          "metadata": {
            "tags": null
          },
          "name": "stderr",
          "output_type": "stream",
          "text": [
            "RUNNING:  15%|█▌        | 23/150 [elapsed: 00:25 remaining: 02:22]"
          ]
        },
        {
          "metadata": {
            "tags": null
          },
          "name": "stdout",
          "output_type": "stream",
          "text": [
            "2025-08-09 15:46:05,762 Sleeping for 5s. Reason: RUNNING\n"
          ]
        },
        {
          "metadata": {
            "tags": null
          },
          "name": "stderr",
          "output_type": "stream",
          "text": [
            "RUNNING:  19%|█▊        | 28/150 [elapsed: 00:31 remaining: 02:17]"
          ]
        },
        {
          "metadata": {
            "tags": null
          },
          "name": "stdout",
          "output_type": "stream",
          "text": [
            "2025-08-09 15:46:11,440 Sleeping for 6s. Reason: RUNNING\n"
          ]
        },
        {
          "metadata": {
            "tags": null
          },
          "name": "stderr",
          "output_type": "stream",
          "text": [
            "RUNNING:  23%|██▎       | 34/150 [elapsed: 00:38 remaining: 02:10]"
          ]
        },
        {
          "metadata": {
            "tags": null
          },
          "name": "stdout",
          "output_type": "stream",
          "text": [
            "2025-08-09 15:46:18,130 Sleeping for 6s. Reason: RUNNING\n"
          ]
        },
        {
          "metadata": {
            "tags": null
          },
          "name": "stderr",
          "output_type": "stream",
          "text": [
            "RUNNING:  27%|██▋       | 40/150 [elapsed: 00:44 remaining: 02:03]"
          ]
        },
        {
          "metadata": {
            "tags": null
          },
          "name": "stdout",
          "output_type": "stream",
          "text": [
            "2025-08-09 15:46:24,819 Sleeping for 7s. Reason: RUNNING\n"
          ]
        },
        {
          "metadata": {
            "tags": null
          },
          "name": "stderr",
          "output_type": "stream",
          "text": [
            "RUNNING:  31%|███▏      | 47/150 [elapsed: 00:52 remaining: 01:54]"
          ]
        },
        {
          "metadata": {
            "tags": null
          },
          "name": "stdout",
          "output_type": "stream",
          "text": [
            "2025-08-09 15:46:32,500 Sleeping for 8s. Reason: RUNNING\n"
          ]
        },
        {
          "metadata": {
            "tags": null
          },
          "name": "stderr",
          "output_type": "stream",
          "text": [
            "COMPLETE: 100%|██████████| 150/150 [elapsed: 01:01 remaining: 00:00]\n"
          ]
        },
        {
          "metadata": {
            "tags": null
          },
          "name": "stdout",
          "output_type": "stream",
          "text": [
            "2025-08-09 15:46:54,733 Padding length to 327\n",
            "2025-08-09 15:49:16,826 alphafold2_ptm_model_1_seed_000 recycle=0 pLDDT=30.4 pTM=0.214\n",
            "2025-08-09 15:50:14,997 alphafold2_ptm_model_1_seed_000 recycle=1 pLDDT=30.5 pTM=0.219 tol=7.09\n",
            "2025-08-09 15:50:18,263 alphafold2_ptm_model_1_seed_000 recycle=2 pLDDT=31.1 pTM=0.243 tol=7.44\n",
            "2025-08-09 15:50:21,543 alphafold2_ptm_model_1_seed_000 recycle=3 pLDDT=31.8 pTM=0.261 tol=1.87\n",
            "2025-08-09 15:50:21,543 alphafold2_ptm_model_1_seed_000 took 206.8s (3 recycles)\n",
            "2025-08-09 15:50:24,924 alphafold2_ptm_model_2_seed_000 recycle=0 pLDDT=35.9 pTM=0.271\n",
            "2025-08-09 15:50:28,203 alphafold2_ptm_model_2_seed_000 recycle=1 pLDDT=32.9 pTM=0.232 tol=9.46\n",
            "2025-08-09 15:50:31,468 alphafold2_ptm_model_2_seed_000 recycle=2 pLDDT=31.7 pTM=0.21 tol=5.99\n",
            "2025-08-09 15:50:34,747 alphafold2_ptm_model_2_seed_000 recycle=3 pLDDT=32.8 pTM=0.215 tol=6.48\n",
            "2025-08-09 15:50:34,748 alphafold2_ptm_model_2_seed_000 took 13.1s (3 recycles)\n",
            "2025-08-09 15:50:38,124 alphafold2_ptm_model_3_seed_000 recycle=0 pLDDT=30 pTM=0.196\n",
            "2025-08-09 15:50:41,403 alphafold2_ptm_model_3_seed_000 recycle=1 pLDDT=29.1 pTM=0.177 tol=6.75\n",
            "2025-08-09 15:50:44,672 alphafold2_ptm_model_3_seed_000 recycle=2 pLDDT=28 pTM=0.188 tol=8.75\n",
            "2025-08-09 15:50:47,953 alphafold2_ptm_model_3_seed_000 recycle=3 pLDDT=28.2 pTM=0.184 tol=3.16\n",
            "2025-08-09 15:50:47,953 alphafold2_ptm_model_3_seed_000 took 13.1s (3 recycles)\n",
            "2025-08-09 15:50:51,343 alphafold2_ptm_model_4_seed_000 recycle=0 pLDDT=29.5 pTM=0.159\n",
            "2025-08-09 15:50:54,629 alphafold2_ptm_model_4_seed_000 recycle=1 pLDDT=30.7 pTM=0.19 tol=11.8\n",
            "2025-08-09 15:50:57,899 alphafold2_ptm_model_4_seed_000 recycle=2 pLDDT=29.2 pTM=0.183 tol=3.69\n",
            "2025-08-09 15:51:01,185 alphafold2_ptm_model_4_seed_000 recycle=3 pLDDT=28.5 pTM=0.187 tol=6.19\n",
            "2025-08-09 15:51:01,185 alphafold2_ptm_model_4_seed_000 took 13.1s (3 recycles)\n",
            "2025-08-09 15:51:04,570 alphafold2_ptm_model_5_seed_000 recycle=0 pLDDT=30 pTM=0.185\n",
            "2025-08-09 15:51:07,858 alphafold2_ptm_model_5_seed_000 recycle=1 pLDDT=28.4 pTM=0.184 tol=3.69\n",
            "2025-08-09 15:51:11,134 alphafold2_ptm_model_5_seed_000 recycle=2 pLDDT=29.1 pTM=0.184 tol=6.45\n",
            "2025-08-09 15:51:14,421 alphafold2_ptm_model_5_seed_000 recycle=3 pLDDT=27.9 pTM=0.182 tol=3.96\n",
            "2025-08-09 15:51:14,422 alphafold2_ptm_model_5_seed_000 took 13.1s (3 recycles)\n",
            "2025-08-09 15:51:14,529 reranking models by 'plddt' metric\n",
            "2025-08-09 15:51:14,529 rank_001_alphafold2_ptm_model_2_seed_000 pLDDT=32.8 pTM=0.215\n",
            "2025-08-09 15:51:14,531 rank_002_alphafold2_ptm_model_1_seed_000 pLDDT=31.8 pTM=0.261\n",
            "2025-08-09 15:51:14,546 rank_003_alphafold2_ptm_model_4_seed_000 pLDDT=28.5 pTM=0.187\n",
            "2025-08-09 15:51:14,550 rank_004_alphafold2_ptm_model_3_seed_000 pLDDT=28.2 pTM=0.184\n",
            "2025-08-09 15:51:14,553 rank_005_alphafold2_ptm_model_5_seed_000 pLDDT=27.9 pTM=0.182\n",
            "2025-08-09 15:51:16,255 Query 2/8: seq_6 (length 365)\n"
          ]
        },
        {
          "metadata": {
            "tags": null
          },
          "name": "stderr",
          "output_type": "stream",
          "text": [
            "PENDING:   0%|          | 0/150 [elapsed: 00:00 remaining: ?]"
          ]
        },
        {
          "metadata": {
            "tags": null
          },
          "name": "stdout",
          "output_type": "stream",
          "text": [
            "2025-08-09 15:51:16,945 Sleeping for 9s. Reason: PENDING\n"
          ]
        },
        {
          "metadata": {
            "tags": null
          },
          "name": "stderr",
          "output_type": "stream",
          "text": [
            "RUNNING:   6%|▌         | 9/150 [elapsed: 00:10 remaining: 02:42]"
          ]
        },
        {
          "metadata": {
            "tags": null
          },
          "name": "stdout",
          "output_type": "stream",
          "text": [
            "2025-08-09 15:51:26,645 Sleeping for 9s. Reason: RUNNING\n"
          ]
        },
        {
          "metadata": {
            "tags": null
          },
          "name": "stderr",
          "output_type": "stream",
          "text": [
            "RUNNING:  12%|█▏        | 18/150 [elapsed: 00:20 remaining: 02:26]"
          ]
        },
        {
          "metadata": {
            "tags": null
          },
          "name": "stdout",
          "output_type": "stream",
          "text": [
            "2025-08-09 15:51:36,324 Sleeping for 9s. Reason: RUNNING\n"
          ]
        },
        {
          "metadata": {
            "tags": null
          },
          "name": "stderr",
          "output_type": "stream",
          "text": [
            "RUNNING:  18%|█▊        | 27/150 [elapsed: 00:29 remaining: 02:14]"
          ]
        },
        {
          "metadata": {
            "tags": null
          },
          "name": "stdout",
          "output_type": "stream",
          "text": [
            "2025-08-09 15:51:46,016 Sleeping for 9s. Reason: RUNNING\n"
          ]
        },
        {
          "metadata": {
            "tags": null
          },
          "name": "stderr",
          "output_type": "stream",
          "text": [
            "RUNNING:  24%|██▍       | 36/150 [elapsed: 00:39 remaining: 02:03]"
          ]
        },
        {
          "metadata": {
            "tags": null
          },
          "name": "stdout",
          "output_type": "stream",
          "text": [
            "2025-08-09 15:51:55,708 Sleeping for 5s. Reason: RUNNING\n"
          ]
        },
        {
          "metadata": {
            "tags": null
          },
          "name": "stderr",
          "output_type": "stream",
          "text": [
            "RUNNING:  27%|██▋       | 41/150 [elapsed: 00:45 remaining: 01:59]"
          ]
        },
        {
          "metadata": {
            "tags": null
          },
          "name": "stdout",
          "output_type": "stream",
          "text": [
            "2025-08-09 15:52:01,408 Sleeping for 10s. Reason: RUNNING\n"
          ]
        },
        {
          "metadata": {
            "tags": null
          },
          "name": "stderr",
          "output_type": "stream",
          "text": [
            "RUNNING:  34%|███▍      | 51/150 [elapsed: 00:55 remaining: 01:47]"
          ]
        },
        {
          "metadata": {
            "tags": null
          },
          "name": "stdout",
          "output_type": "stream",
          "text": [
            "2025-08-09 15:52:12,092 Sleeping for 6s. Reason: RUNNING\n"
          ]
        },
        {
          "metadata": {
            "tags": null
          },
          "name": "stderr",
          "output_type": "stream",
          "text": [
            "RUNNING:  38%|███▊      | 57/150 [elapsed: 01:02 remaining: 01:41]"
          ]
        },
        {
          "metadata": {
            "tags": null
          },
          "name": "stdout",
          "output_type": "stream",
          "text": [
            "2025-08-09 15:52:18,771 Sleeping for 7s. Reason: RUNNING\n"
          ]
        },
        {
          "metadata": {
            "tags": null
          },
          "name": "stderr",
          "output_type": "stream",
          "text": [
            "RUNNING:  43%|████▎     | 64/150 [elapsed: 01:10 remaining: 01:34]"
          ]
        },
        {
          "metadata": {
            "tags": null
          },
          "name": "stdout",
          "output_type": "stream",
          "text": [
            "2025-08-09 15:52:26,456 Sleeping for 8s. Reason: RUNNING\n"
          ]
        },
        {
          "metadata": {
            "tags": null
          },
          "name": "stderr",
          "output_type": "stream",
          "text": [
            "COMPLETE: 100%|██████████| 150/150 [elapsed: 01:20 remaining: 00:00]\n"
          ]
        },
        {
          "metadata": {
            "tags": null
          },
          "name": "stdout",
          "output_type": "stream",
          "text": [
            "2025-08-09 15:52:38,426 Padding length to 375\n",
            "2025-08-09 15:54:50,482 alphafold2_ptm_model_1_seed_000 recycle=0 pLDDT=49.9 pTM=0.583\n",
            "2025-08-09 15:55:49,747 alphafold2_ptm_model_1_seed_000 recycle=1 pLDDT=50 pTM=0.579 tol=7.35\n",
            "2025-08-09 15:55:53,492 alphafold2_ptm_model_1_seed_000 recycle=2 pLDDT=48.8 pTM=0.571 tol=4.93\n",
            "2025-08-09 15:55:57,238 alphafold2_ptm_model_1_seed_000 recycle=3 pLDDT=49.2 pTM=0.581 tol=7.98\n",
            "2025-08-09 15:55:57,239 alphafold2_ptm_model_1_seed_000 took 198.8s (3 recycles)\n",
            "2025-08-09 15:56:01,133 alphafold2_ptm_model_2_seed_000 recycle=0 pLDDT=51.2 pTM=0.57\n",
            "2025-08-09 15:56:04,881 alphafold2_ptm_model_2_seed_000 recycle=1 pLDDT=48.3 pTM=0.56 tol=9\n",
            "2025-08-09 15:56:08,627 alphafold2_ptm_model_2_seed_000 recycle=2 pLDDT=48.5 pTM=0.557 tol=3.11\n",
            "2025-08-09 15:56:12,381 alphafold2_ptm_model_2_seed_000 recycle=3 pLDDT=49.6 pTM=0.57 tol=9.14\n",
            "2025-08-09 15:56:12,382 alphafold2_ptm_model_2_seed_000 took 15.0s (3 recycles)\n",
            "2025-08-09 15:56:16,279 alphafold2_ptm_model_3_seed_000 recycle=0 pLDDT=52.4 pTM=0.589\n",
            "2025-08-09 15:56:20,034 alphafold2_ptm_model_3_seed_000 recycle=1 pLDDT=52.2 pTM=0.585 tol=8\n",
            "2025-08-09 15:56:23,783 alphafold2_ptm_model_3_seed_000 recycle=2 pLDDT=52.9 pTM=0.593 tol=8.16\n",
            "2025-08-09 15:56:27,537 alphafold2_ptm_model_3_seed_000 recycle=3 pLDDT=49.6 pTM=0.565 tol=1.95\n",
            "2025-08-09 15:56:27,538 alphafold2_ptm_model_3_seed_000 took 15.0s (3 recycles)\n",
            "2025-08-09 15:56:31,430 alphafold2_ptm_model_4_seed_000 recycle=0 pLDDT=50.9 pTM=0.575\n",
            "2025-08-09 15:56:35,191 alphafold2_ptm_model_4_seed_000 recycle=1 pLDDT=52.8 pTM=0.586 tol=6\n",
            "2025-08-09 15:56:38,946 alphafold2_ptm_model_4_seed_000 recycle=2 pLDDT=53.8 pTM=0.591 tol=5.66\n",
            "2025-08-09 15:56:42,702 alphafold2_ptm_model_4_seed_000 recycle=3 pLDDT=52.7 pTM=0.584 tol=6.59\n",
            "2025-08-09 15:56:42,703 alphafold2_ptm_model_4_seed_000 took 15.0s (3 recycles)\n",
            "2025-08-09 15:56:46,596 alphafold2_ptm_model_5_seed_000 recycle=0 pLDDT=50.7 pTM=0.588\n",
            "2025-08-09 15:56:50,352 alphafold2_ptm_model_5_seed_000 recycle=1 pLDDT=50.9 pTM=0.583 tol=8.83\n",
            "2025-08-09 15:56:54,104 alphafold2_ptm_model_5_seed_000 recycle=2 pLDDT=52.2 pTM=0.613 tol=6.14\n",
            "2025-08-09 15:56:57,860 alphafold2_ptm_model_5_seed_000 recycle=3 pLDDT=51.7 pTM=0.592 tol=7.7\n",
            "2025-08-09 15:56:57,861 alphafold2_ptm_model_5_seed_000 took 15.0s (3 recycles)\n",
            "2025-08-09 15:56:58,011 reranking models by 'plddt' metric\n",
            "2025-08-09 15:56:58,012 rank_001_alphafold2_ptm_model_4_seed_000 pLDDT=52.7 pTM=0.584\n",
            "2025-08-09 15:56:58,014 rank_002_alphafold2_ptm_model_5_seed_000 pLDDT=51.7 pTM=0.592\n",
            "2025-08-09 15:56:58,017 rank_003_alphafold2_ptm_model_3_seed_000 pLDDT=49.6 pTM=0.565\n",
            "2025-08-09 15:56:58,019 rank_004_alphafold2_ptm_model_2_seed_000 pLDDT=49.6 pTM=0.57\n",
            "2025-08-09 15:56:58,021 rank_005_alphafold2_ptm_model_1_seed_000 pLDDT=49.2 pTM=0.581\n",
            "2025-08-09 15:56:59,539 Query 3/8: seq_1 (length 392)\n"
          ]
        },
        {
          "metadata": {
            "tags": null
          },
          "name": "stderr",
          "output_type": "stream",
          "text": [
            "PENDING:   0%|          | 0/150 [elapsed: 00:00 remaining: ?]"
          ]
        },
        {
          "metadata": {
            "tags": null
          },
          "name": "stdout",
          "output_type": "stream",
          "text": [
            "2025-08-09 15:57:00,300 Sleeping for 10s. Reason: PENDING\n"
          ]
        },
        {
          "metadata": {
            "tags": null
          },
          "name": "stderr",
          "output_type": "stream",
          "text": [
            "PENDING:   0%|          | 0/150 [elapsed: 00:11 remaining: ?]"
          ]
        },
        {
          "metadata": {
            "tags": null
          },
          "name": "stdout",
          "output_type": "stream",
          "text": [
            "2025-08-09 15:57:10,985 Sleeping for 9s. Reason: PENDING\n"
          ]
        },
        {
          "metadata": {
            "tags": null
          },
          "name": "stderr",
          "output_type": "stream",
          "text": [
            "PENDING:   0%|          | 0/150 [elapsed: 00:21 remaining: ?]"
          ]
        },
        {
          "metadata": {
            "tags": null
          },
          "name": "stdout",
          "output_type": "stream",
          "text": [
            "2025-08-09 15:57:20,671 Sleeping for 8s. Reason: PENDING\n"
          ]
        },
        {
          "metadata": {
            "tags": null
          },
          "name": "stderr",
          "output_type": "stream",
          "text": [
            "PENDING:   0%|          | 0/150 [elapsed: 00:29 remaining: ?]"
          ]
        },
        {
          "metadata": {
            "tags": null
          },
          "name": "stdout",
          "output_type": "stream",
          "text": [
            "2025-08-09 15:57:29,365 Sleeping for 10s. Reason: PENDING\n"
          ]
        },
        {
          "metadata": {
            "tags": null
          },
          "name": "stderr",
          "output_type": "stream",
          "text": [
            "PENDING:   0%|          | 0/150 [elapsed: 00:40 remaining: ?]"
          ]
        },
        {
          "metadata": {
            "tags": null
          },
          "name": "stdout",
          "output_type": "stream",
          "text": [
            "2025-08-09 15:57:40,047 Sleeping for 5s. Reason: PENDING\n"
          ]
        },
        {
          "metadata": {
            "tags": null
          },
          "name": "stderr",
          "output_type": "stream",
          "text": [
            "PENDING:   0%|          | 0/150 [elapsed: 00:46 remaining: ?]"
          ]
        },
        {
          "metadata": {
            "tags": null
          },
          "name": "stdout",
          "output_type": "stream",
          "text": [
            "2025-08-09 15:57:45,747 Sleeping for 9s. Reason: PENDING\n"
          ]
        },
        {
          "metadata": {
            "tags": null
          },
          "name": "stderr",
          "output_type": "stream",
          "text": [
            "PENDING:   0%|          | 0/150 [elapsed: 00:55 remaining: ?]"
          ]
        },
        {
          "metadata": {
            "tags": null
          },
          "name": "stdout",
          "output_type": "stream",
          "text": [
            "2025-08-09 15:57:55,443 Sleeping for 7s. Reason: PENDING\n"
          ]
        },
        {
          "metadata": {
            "tags": null
          },
          "name": "stderr",
          "output_type": "stream",
          "text": [
            "PENDING:   0%|          | 0/150 [elapsed: 01:03 remaining: ?]"
          ]
        },
        {
          "metadata": {
            "tags": null
          },
          "name": "stdout",
          "output_type": "stream",
          "text": [
            "2025-08-09 15:58:03,130 Sleeping for 9s. Reason: PENDING\n"
          ]
        },
        {
          "metadata": {
            "tags": null
          },
          "name": "stderr",
          "output_type": "stream",
          "text": [
            "PENDING:   0%|          | 0/150 [elapsed: 01:13 remaining: ?]"
          ]
        },
        {
          "metadata": {
            "tags": null
          },
          "name": "stdout",
          "output_type": "stream",
          "text": [
            "2025-08-09 15:58:12,868 Sleeping for 5s. Reason: PENDING\n"
          ]
        },
        {
          "metadata": {
            "tags": null
          },
          "name": "stderr",
          "output_type": "stream",
          "text": [
            "PENDING:   0%|          | 0/150 [elapsed: 01:19 remaining: ?]"
          ]
        },
        {
          "metadata": {
            "tags": null
          },
          "name": "stdout",
          "output_type": "stream",
          "text": [
            "2025-08-09 15:58:18,547 Sleeping for 9s. Reason: PENDING\n"
          ]
        },
        {
          "metadata": {
            "tags": null
          },
          "name": "stderr",
          "output_type": "stream",
          "text": [
            "PENDING:   0%|          | 0/150 [elapsed: 01:28 remaining: ?]"
          ]
        },
        {
          "metadata": {
            "tags": null
          },
          "name": "stdout",
          "output_type": "stream",
          "text": [
            "2025-08-09 15:58:28,240 Sleeping for 5s. Reason: PENDING\n"
          ]
        },
        {
          "metadata": {
            "tags": null
          },
          "name": "stderr",
          "output_type": "stream",
          "text": [
            "PENDING:   0%|          | 0/150 [elapsed: 01:34 remaining: ?]"
          ]
        },
        {
          "metadata": {
            "tags": null
          },
          "name": "stdout",
          "output_type": "stream",
          "text": [
            "2025-08-09 15:58:33,926 Sleeping for 8s. Reason: PENDING\n"
          ]
        },
        {
          "metadata": {
            "tags": null
          },
          "name": "stderr",
          "output_type": "stream",
          "text": [
            "PENDING:   0%|          | 0/150 [elapsed: 01:43 remaining: ?]"
          ]
        },
        {
          "metadata": {
            "tags": null
          },
          "name": "stdout",
          "output_type": "stream",
          "text": [
            "2025-08-09 15:58:42,616 Sleeping for 9s. Reason: PENDING\n"
          ]
        },
        {
          "metadata": {
            "tags": null
          },
          "name": "stderr",
          "output_type": "stream",
          "text": [
            "PENDING:   0%|          | 0/150 [elapsed: 01:52 remaining: ?]"
          ]
        },
        {
          "metadata": {
            "tags": null
          },
          "name": "stdout",
          "output_type": "stream",
          "text": [
            "2025-08-09 15:58:52,303 Sleeping for 10s. Reason: PENDING\n"
          ]
        },
        {
          "metadata": {
            "tags": null
          },
          "name": "stderr",
          "output_type": "stream",
          "text": [
            "PENDING:   0%|          | 0/150 [elapsed: 02:03 remaining: ?]"
          ]
        },
        {
          "metadata": {
            "tags": null
          },
          "name": "stdout",
          "output_type": "stream",
          "text": [
            "2025-08-09 15:59:02,985 Sleeping for 8s. Reason: PENDING\n"
          ]
        },
        {
          "metadata": {
            "tags": null
          },
          "name": "stderr",
          "output_type": "stream",
          "text": [
            "RUNNING:   5%|▌         | 8/150 [elapsed: 02:12 remaining: 39:05]"
          ]
        },
        {
          "metadata": {
            "tags": null
          },
          "name": "stdout",
          "output_type": "stream",
          "text": [
            "2025-08-09 15:59:11,676 Sleeping for 8s. Reason: RUNNING\n"
          ]
        },
        {
          "metadata": {
            "tags": null
          },
          "name": "stderr",
          "output_type": "stream",
          "text": [
            "RUNNING:  11%|█         | 16/150 [elapsed: 02:20 remaining: 16:36]"
          ]
        },
        {
          "metadata": {
            "tags": null
          },
          "name": "stdout",
          "output_type": "stream",
          "text": [
            "2025-08-09 15:59:20,357 Sleeping for 6s. Reason: RUNNING\n"
          ]
        },
        {
          "metadata": {
            "tags": null
          },
          "name": "stderr",
          "output_type": "stream",
          "text": [
            "RUNNING:  15%|█▍        | 22/150 [elapsed: 02:27 remaining: 10:39]"
          ]
        },
        {
          "metadata": {
            "tags": null
          },
          "name": "stdout",
          "output_type": "stream",
          "text": [
            "2025-08-09 15:59:27,089 Sleeping for 10s. Reason: RUNNING\n"
          ]
        },
        {
          "metadata": {
            "tags": null
          },
          "name": "stderr",
          "output_type": "stream",
          "text": [
            "RUNNING:  21%|██▏       | 32/150 [elapsed: 02:38 remaining: 06:07]"
          ]
        },
        {
          "metadata": {
            "tags": null
          },
          "name": "stdout",
          "output_type": "stream",
          "text": [
            "2025-08-09 15:59:37,785 Sleeping for 5s. Reason: RUNNING\n"
          ]
        },
        {
          "metadata": {
            "tags": null
          },
          "name": "stderr",
          "output_type": "stream",
          "text": [
            "RUNNING:  25%|██▍       | 37/150 [elapsed: 02:43 remaining: 04:55]"
          ]
        },
        {
          "metadata": {
            "tags": null
          },
          "name": "stdout",
          "output_type": "stream",
          "text": [
            "2025-08-09 15:59:43,482 Sleeping for 5s. Reason: RUNNING\n"
          ]
        },
        {
          "metadata": {
            "tags": null
          },
          "name": "stderr",
          "output_type": "stream",
          "text": [
            "RUNNING:  28%|██▊       | 42/150 [elapsed: 02:49 remaining: 03:59]"
          ]
        },
        {
          "metadata": {
            "tags": null
          },
          "name": "stdout",
          "output_type": "stream",
          "text": [
            "2025-08-09 15:59:49,160 Sleeping for 5s. Reason: RUNNING\n"
          ]
        },
        {
          "metadata": {
            "tags": null
          },
          "name": "stderr",
          "output_type": "stream",
          "text": [
            "RUNNING:  31%|███▏      | 47/150 [elapsed: 02:55 remaining: 03:17]"
          ]
        },
        {
          "metadata": {
            "tags": null
          },
          "name": "stdout",
          "output_type": "stream",
          "text": [
            "2025-08-09 15:59:54,851 Sleeping for 7s. Reason: RUNNING\n"
          ]
        },
        {
          "metadata": {
            "tags": null
          },
          "name": "stderr",
          "output_type": "stream",
          "text": [
            "RUNNING:  36%|███▌      | 54/150 [elapsed: 03:03 remaining: 02:36]"
          ]
        },
        {
          "metadata": {
            "tags": null
          },
          "name": "stdout",
          "output_type": "stream",
          "text": [
            "2025-08-09 16:00:02,560 Sleeping for 9s. Reason: RUNNING\n"
          ]
        },
        {
          "metadata": {
            "tags": null
          },
          "name": "stderr",
          "output_type": "stream",
          "text": [
            "RUNNING:  42%|████▏     | 63/150 [elapsed: 03:12 remaining: 02:02]"
          ]
        },
        {
          "metadata": {
            "tags": null
          },
          "name": "stdout",
          "output_type": "stream",
          "text": [
            "2025-08-09 16:00:12,244 Sleeping for 6s. Reason: RUNNING\n"
          ]
        },
        {
          "metadata": {
            "tags": null
          },
          "name": "stderr",
          "output_type": "stream",
          "text": [
            "RUNNING:  46%|████▌     | 69/150 [elapsed: 03:19 remaining: 01:47]"
          ]
        },
        {
          "metadata": {
            "tags": null
          },
          "name": "stdout",
          "output_type": "stream",
          "text": [
            "2025-08-09 16:00:18,926 Sleeping for 10s. Reason: RUNNING\n"
          ]
        },
        {
          "metadata": {
            "tags": null
          },
          "name": "stderr",
          "output_type": "stream",
          "text": [
            "RUNNING:  53%|█████▎    | 79/150 [elapsed: 03:30 remaining: 01:27]"
          ]
        },
        {
          "metadata": {
            "tags": null
          },
          "name": "stdout",
          "output_type": "stream",
          "text": [
            "2025-08-09 16:00:29,612 Sleeping for 7s. Reason: RUNNING\n"
          ]
        },
        {
          "metadata": {
            "tags": null
          },
          "name": "stderr",
          "output_type": "stream",
          "text": [
            "COMPLETE: 100%|██████████| 150/150 [elapsed: 03:39 remaining: 00:00]\n"
          ]
        },
        {
          "metadata": {
            "tags": null
          },
          "name": "stdout",
          "output_type": "stream",
          "text": [
            "2025-08-09 16:00:45,863 Padding length to 402\n",
            "2025-08-09 16:02:57,377 alphafold2_ptm_model_1_seed_000 recycle=0 pLDDT=69.6 pTM=0.755\n",
            "2025-08-09 16:03:55,068 alphafold2_ptm_model_1_seed_000 recycle=1 pLDDT=72.3 pTM=0.774 tol=3.52\n",
            "2025-08-09 16:03:59,046 alphafold2_ptm_model_1_seed_000 recycle=2 pLDDT=71.9 pTM=0.774 tol=2.87\n",
            "2025-08-09 16:04:03,028 alphafold2_ptm_model_1_seed_000 recycle=3 pLDDT=71.8 pTM=0.774 tol=2.45\n",
            "2025-08-09 16:04:03,029 alphafold2_ptm_model_1_seed_000 took 197.2s (3 recycles)\n",
            "2025-08-09 16:04:07,163 alphafold2_ptm_model_2_seed_000 recycle=0 pLDDT=70.4 pTM=0.757\n",
            "2025-08-09 16:04:11,154 alphafold2_ptm_model_2_seed_000 recycle=1 pLDDT=73.9 pTM=0.786 tol=4.96\n",
            "2025-08-09 16:04:15,145 alphafold2_ptm_model_2_seed_000 recycle=2 pLDDT=73.1 pTM=0.78 tol=3.4\n",
            "2025-08-09 16:04:19,140 alphafold2_ptm_model_2_seed_000 recycle=3 pLDDT=73.8 pTM=0.79 tol=1.69\n",
            "2025-08-09 16:04:19,141 alphafold2_ptm_model_2_seed_000 took 16.0s (3 recycles)\n",
            "2025-08-09 16:04:23,301 alphafold2_ptm_model_3_seed_000 recycle=0 pLDDT=72.6 pTM=0.764\n",
            "2025-08-09 16:04:27,305 alphafold2_ptm_model_3_seed_000 recycle=1 pLDDT=73.7 pTM=0.776 tol=4.78\n",
            "2025-08-09 16:04:31,308 alphafold2_ptm_model_3_seed_000 recycle=2 pLDDT=73.6 pTM=0.775 tol=2.39\n",
            "2025-08-09 16:04:35,314 alphafold2_ptm_model_3_seed_000 recycle=3 pLDDT=73.9 pTM=0.78 tol=1.22\n",
            "2025-08-09 16:04:35,315 alphafold2_ptm_model_3_seed_000 took 16.0s (3 recycles)\n",
            "2025-08-09 16:04:39,470 alphafold2_ptm_model_4_seed_000 recycle=0 pLDDT=72.4 pTM=0.764\n",
            "2025-08-09 16:04:43,470 alphafold2_ptm_model_4_seed_000 recycle=1 pLDDT=71.8 pTM=0.759 tol=2.82\n",
            "2025-08-09 16:04:47,465 alphafold2_ptm_model_4_seed_000 recycle=2 pLDDT=72.2 pTM=0.761 tol=3.8\n",
            "2025-08-09 16:04:51,465 alphafold2_ptm_model_4_seed_000 recycle=3 pLDDT=72.9 pTM=0.771 tol=2\n",
            "2025-08-09 16:04:51,466 alphafold2_ptm_model_4_seed_000 took 16.0s (3 recycles)\n",
            "2025-08-09 16:04:55,621 alphafold2_ptm_model_5_seed_000 recycle=0 pLDDT=69.5 pTM=0.755\n",
            "2025-08-09 16:04:59,647 alphafold2_ptm_model_5_seed_000 recycle=1 pLDDT=73.4 pTM=0.778 tol=5.3\n",
            "2025-08-09 16:05:03,659 alphafold2_ptm_model_5_seed_000 recycle=2 pLDDT=72.9 pTM=0.773 tol=1.64\n",
            "2025-08-09 16:05:07,682 alphafold2_ptm_model_5_seed_000 recycle=3 pLDDT=73.4 pTM=0.777 tol=1.63\n",
            "2025-08-09 16:05:07,683 alphafold2_ptm_model_5_seed_000 took 16.1s (3 recycles)\n",
            "2025-08-09 16:05:07,848 reranking models by 'plddt' metric\n",
            "2025-08-09 16:05:07,848 rank_001_alphafold2_ptm_model_3_seed_000 pLDDT=73.9 pTM=0.78\n",
            "2025-08-09 16:05:07,851 rank_002_alphafold2_ptm_model_2_seed_000 pLDDT=73.8 pTM=0.79\n",
            "2025-08-09 16:05:07,854 rank_003_alphafold2_ptm_model_5_seed_000 pLDDT=73.4 pTM=0.777\n",
            "2025-08-09 16:05:07,856 rank_004_alphafold2_ptm_model_4_seed_000 pLDDT=72.9 pTM=0.771\n",
            "2025-08-09 16:05:07,865 rank_005_alphafold2_ptm_model_1_seed_000 pLDDT=71.8 pTM=0.774\n",
            "2025-08-09 16:05:09,398 Query 4/8: seq_2 (length 415)\n"
          ]
        },
        {
          "metadata": {
            "tags": null
          },
          "name": "stderr",
          "output_type": "stream",
          "text": [
            "PENDING:   0%|          | 0/150 [elapsed: 00:00 remaining: ?]"
          ]
        },
        {
          "metadata": {
            "tags": null
          },
          "name": "stdout",
          "output_type": "stream",
          "text": [
            "2025-08-09 16:05:10,127 Sleeping for 7s. Reason: PENDING\n"
          ]
        },
        {
          "metadata": {
            "tags": null
          },
          "name": "stderr",
          "output_type": "stream",
          "text": [
            "PENDING:   0%|          | 0/150 [elapsed: 00:08 remaining: ?]"
          ]
        },
        {
          "metadata": {
            "tags": null
          },
          "name": "stdout",
          "output_type": "stream",
          "text": [
            "2025-08-09 16:05:17,825 Sleeping for 5s. Reason: PENDING\n"
          ]
        },
        {
          "metadata": {
            "tags": null
          },
          "name": "stderr",
          "output_type": "stream",
          "text": [
            "PENDING:   0%|          | 0/150 [elapsed: 00:14 remaining: ?]"
          ]
        },
        {
          "metadata": {
            "tags": null
          },
          "name": "stdout",
          "output_type": "stream",
          "text": [
            "2025-08-09 16:05:23,506 Sleeping for 10s. Reason: PENDING\n"
          ]
        },
        {
          "metadata": {
            "tags": null
          },
          "name": "stderr",
          "output_type": "stream",
          "text": [
            "PENDING:   0%|          | 0/150 [elapsed: 00:24 remaining: ?]"
          ]
        },
        {
          "metadata": {
            "tags": null
          },
          "name": "stdout",
          "output_type": "stream",
          "text": [
            "2025-08-09 16:05:34,211 Sleeping for 5s. Reason: PENDING\n"
          ]
        },
        {
          "metadata": {
            "tags": null
          },
          "name": "stderr",
          "output_type": "stream",
          "text": [
            "PENDING:   0%|          | 0/150 [elapsed: 00:30 remaining: ?]"
          ]
        },
        {
          "metadata": {
            "tags": null
          },
          "name": "stdout",
          "output_type": "stream",
          "text": [
            "2025-08-09 16:05:39,899 Sleeping for 10s. Reason: PENDING\n"
          ]
        },
        {
          "metadata": {
            "tags": null
          },
          "name": "stderr",
          "output_type": "stream",
          "text": [
            "PENDING:   0%|          | 0/150 [elapsed: 00:41 remaining: ?]"
          ]
        },
        {
          "metadata": {
            "tags": null
          },
          "name": "stdout",
          "output_type": "stream",
          "text": [
            "2025-08-09 16:05:50,630 Sleeping for 7s. Reason: PENDING\n"
          ]
        },
        {
          "metadata": {
            "tags": null
          },
          "name": "stderr",
          "output_type": "stream",
          "text": [
            "PENDING:   0%|          | 0/150 [elapsed: 00:48 remaining: ?]"
          ]
        },
        {
          "metadata": {
            "tags": null
          },
          "name": "stdout",
          "output_type": "stream",
          "text": [
            "2025-08-09 16:05:58,311 Sleeping for 10s. Reason: PENDING\n"
          ]
        },
        {
          "metadata": {
            "tags": null
          },
          "name": "stderr",
          "output_type": "stream",
          "text": [
            "PENDING:   0%|          | 0/150 [elapsed: 00:59 remaining: ?]"
          ]
        },
        {
          "metadata": {
            "tags": null
          },
          "name": "stdout",
          "output_type": "stream",
          "text": [
            "2025-08-09 16:06:09,005 Sleeping for 5s. Reason: PENDING\n"
          ]
        },
        {
          "metadata": {
            "tags": null
          },
          "name": "stderr",
          "output_type": "stream",
          "text": [
            "PENDING:   0%|          | 0/150 [elapsed: 01:05 remaining: ?]"
          ]
        },
        {
          "metadata": {
            "tags": null
          },
          "name": "stdout",
          "output_type": "stream",
          "text": [
            "2025-08-09 16:06:14,687 Sleeping for 9s. Reason: PENDING\n"
          ]
        },
        {
          "metadata": {
            "tags": null
          },
          "name": "stderr",
          "output_type": "stream",
          "text": [
            "PENDING:   0%|          | 0/150 [elapsed: 01:14 remaining: ?]"
          ]
        },
        {
          "metadata": {
            "tags": null
          },
          "name": "stdout",
          "output_type": "stream",
          "text": [
            "2025-08-09 16:06:24,372 Sleeping for 7s. Reason: PENDING\n"
          ]
        },
        {
          "metadata": {
            "tags": null
          },
          "name": "stderr",
          "output_type": "stream",
          "text": [
            "PENDING:   0%|          | 0/150 [elapsed: 01:22 remaining: ?]"
          ]
        },
        {
          "metadata": {
            "tags": null
          },
          "name": "stdout",
          "output_type": "stream",
          "text": [
            "2025-08-09 16:06:32,053 Sleeping for 7s. Reason: PENDING\n"
          ]
        },
        {
          "metadata": {
            "tags": null
          },
          "name": "stderr",
          "output_type": "stream",
          "text": [
            "PENDING:   0%|          | 0/150 [elapsed: 01:30 remaining: ?]"
          ]
        },
        {
          "metadata": {
            "tags": null
          },
          "name": "stdout",
          "output_type": "stream",
          "text": [
            "2025-08-09 16:06:39,741 Sleeping for 8s. Reason: PENDING\n"
          ]
        },
        {
          "metadata": {
            "tags": null
          },
          "name": "stderr",
          "output_type": "stream",
          "text": [
            "PENDING:   0%|          | 0/150 [elapsed: 01:39 remaining: ?]"
          ]
        },
        {
          "metadata": {
            "tags": null
          },
          "name": "stdout",
          "output_type": "stream",
          "text": [
            "2025-08-09 16:06:48,467 Sleeping for 9s. Reason: PENDING\n"
          ]
        },
        {
          "metadata": {
            "tags": null
          },
          "name": "stderr",
          "output_type": "stream",
          "text": [
            "PENDING:   0%|          | 0/150 [elapsed: 01:48 remaining: ?]"
          ]
        },
        {
          "metadata": {
            "tags": null
          },
          "name": "stdout",
          "output_type": "stream",
          "text": [
            "2025-08-09 16:06:58,157 Sleeping for 7s. Reason: PENDING\n"
          ]
        },
        {
          "metadata": {
            "tags": null
          },
          "name": "stderr",
          "output_type": "stream",
          "text": [
            "PENDING:   0%|          | 0/150 [elapsed: 01:56 remaining: ?]"
          ]
        },
        {
          "metadata": {
            "tags": null
          },
          "name": "stdout",
          "output_type": "stream",
          "text": [
            "2025-08-09 16:07:05,846 Sleeping for 6s. Reason: PENDING\n"
          ]
        },
        {
          "metadata": {
            "tags": null
          },
          "name": "stderr",
          "output_type": "stream",
          "text": [
            "PENDING:   0%|          | 0/150 [elapsed: 02:03 remaining: ?]"
          ]
        },
        {
          "metadata": {
            "tags": null
          },
          "name": "stdout",
          "output_type": "stream",
          "text": [
            "2025-08-09 16:07:12,535 Sleeping for 5s. Reason: PENDING\n"
          ]
        },
        {
          "metadata": {
            "tags": null
          },
          "name": "stderr",
          "output_type": "stream",
          "text": [
            "PENDING:   0%|          | 0/150 [elapsed: 02:08 remaining: ?]"
          ]
        },
        {
          "metadata": {
            "tags": null
          },
          "name": "stdout",
          "output_type": "stream",
          "text": [
            "2025-08-09 16:07:18,222 Sleeping for 10s. Reason: PENDING\n"
          ]
        },
        {
          "metadata": {
            "tags": null
          },
          "name": "stderr",
          "output_type": "stream",
          "text": [
            "PENDING:   0%|          | 0/150 [elapsed: 02:19 remaining: ?]"
          ]
        },
        {
          "metadata": {
            "tags": null
          },
          "name": "stdout",
          "output_type": "stream",
          "text": [
            "2025-08-09 16:07:28,903 Sleeping for 10s. Reason: PENDING\n"
          ]
        },
        {
          "metadata": {
            "tags": null
          },
          "name": "stderr",
          "output_type": "stream",
          "text": [
            "PENDING:   0%|          | 0/150 [elapsed: 02:30 remaining: ?]"
          ]
        },
        {
          "metadata": {
            "tags": null
          },
          "name": "stdout",
          "output_type": "stream",
          "text": [
            "2025-08-09 16:07:39,603 Sleeping for 7s. Reason: PENDING\n"
          ]
        },
        {
          "metadata": {
            "tags": null
          },
          "name": "stderr",
          "output_type": "stream",
          "text": [
            "PENDING:   0%|          | 0/150 [elapsed: 02:37 remaining: ?]"
          ]
        },
        {
          "metadata": {
            "tags": null
          },
          "name": "stdout",
          "output_type": "stream",
          "text": [
            "2025-08-09 16:07:47,289 Sleeping for 5s. Reason: PENDING\n"
          ]
        },
        {
          "metadata": {
            "tags": null
          },
          "name": "stderr",
          "output_type": "stream",
          "text": [
            "PENDING:   0%|          | 0/150 [elapsed: 02:43 remaining: ?]"
          ]
        },
        {
          "metadata": {
            "tags": null
          },
          "name": "stdout",
          "output_type": "stream",
          "text": [
            "2025-08-09 16:07:52,978 Sleeping for 8s. Reason: PENDING\n"
          ]
        },
        {
          "metadata": {
            "tags": null
          },
          "name": "stderr",
          "output_type": "stream",
          "text": [
            "PENDING:   0%|          | 0/150 [elapsed: 02:52 remaining: ?]"
          ]
        },
        {
          "metadata": {
            "tags": null
          },
          "name": "stdout",
          "output_type": "stream",
          "text": [
            "2025-08-09 16:08:01,674 Sleeping for 7s. Reason: PENDING\n"
          ]
        },
        {
          "metadata": {
            "tags": null
          },
          "name": "stderr",
          "output_type": "stream",
          "text": [
            "PENDING:   0%|          | 0/150 [elapsed: 02:59 remaining: ?]"
          ]
        },
        {
          "metadata": {
            "tags": null
          },
          "name": "stdout",
          "output_type": "stream",
          "text": [
            "2025-08-09 16:08:09,365 Sleeping for 9s. Reason: PENDING\n"
          ]
        },
        {
          "metadata": {
            "tags": null
          },
          "name": "stderr",
          "output_type": "stream",
          "text": [
            "PENDING:   0%|          | 0/150 [elapsed: 03:09 remaining: ?]"
          ]
        },
        {
          "metadata": {
            "tags": null
          },
          "name": "stdout",
          "output_type": "stream",
          "text": [
            "2025-08-09 16:08:19,063 Sleeping for 5s. Reason: PENDING\n"
          ]
        },
        {
          "metadata": {
            "tags": null
          },
          "name": "stderr",
          "output_type": "stream",
          "text": [
            "PENDING:   0%|          | 0/150 [elapsed: 03:15 remaining: ?]"
          ]
        },
        {
          "metadata": {
            "tags": null
          },
          "name": "stdout",
          "output_type": "stream",
          "text": [
            "2025-08-09 16:08:24,753 Sleeping for 7s. Reason: PENDING\n"
          ]
        },
        {
          "metadata": {
            "tags": null
          },
          "name": "stderr",
          "output_type": "stream",
          "text": [
            "PENDING:   0%|          | 0/150 [elapsed: 03:23 remaining: ?]"
          ]
        },
        {
          "metadata": {
            "tags": null
          },
          "name": "stdout",
          "output_type": "stream",
          "text": [
            "2025-08-09 16:08:32,444 Sleeping for 5s. Reason: PENDING\n"
          ]
        },
        {
          "metadata": {
            "tags": null
          },
          "name": "stderr",
          "output_type": "stream",
          "text": [
            "PENDING:   0%|          | 0/150 [elapsed: 03:28 remaining: ?]"
          ]
        },
        {
          "metadata": {
            "tags": null
          },
          "name": "stdout",
          "output_type": "stream",
          "text": [
            "2025-08-09 16:08:38,137 Sleeping for 6s. Reason: PENDING\n"
          ]
        },
        {
          "metadata": {
            "tags": null
          },
          "name": "stderr",
          "output_type": "stream",
          "text": [
            "PENDING:   0%|          | 0/150 [elapsed: 03:35 remaining: ?]"
          ]
        },
        {
          "metadata": {
            "tags": null
          },
          "name": "stdout",
          "output_type": "stream",
          "text": [
            "2025-08-09 16:08:44,816 Sleeping for 6s. Reason: PENDING\n"
          ]
        },
        {
          "metadata": {
            "tags": null
          },
          "name": "stderr",
          "output_type": "stream",
          "text": [
            "PENDING:   0%|          | 0/150 [elapsed: 03:42 remaining: ?]"
          ]
        },
        {
          "metadata": {
            "tags": null
          },
          "name": "stdout",
          "output_type": "stream",
          "text": [
            "2025-08-09 16:08:51,512 Sleeping for 7s. Reason: PENDING\n"
          ]
        },
        {
          "metadata": {
            "tags": null
          },
          "name": "stderr",
          "output_type": "stream",
          "text": [
            "PENDING:   0%|          | 0/150 [elapsed: 03:49 remaining: ?]"
          ]
        },
        {
          "metadata": {
            "tags": null
          },
          "name": "stdout",
          "output_type": "stream",
          "text": [
            "2025-08-09 16:08:59,194 Sleeping for 7s. Reason: PENDING\n"
          ]
        },
        {
          "metadata": {
            "tags": null
          },
          "name": "stderr",
          "output_type": "stream",
          "text": [
            "PENDING:   0%|          | 0/150 [elapsed: 03:57 remaining: ?]"
          ]
        },
        {
          "metadata": {
            "tags": null
          },
          "name": "stdout",
          "output_type": "stream",
          "text": [
            "2025-08-09 16:09:06,907 Sleeping for 8s. Reason: PENDING\n"
          ]
        },
        {
          "metadata": {
            "tags": null
          },
          "name": "stderr",
          "output_type": "stream",
          "text": [
            "PENDING:   0%|          | 0/150 [elapsed: 04:06 remaining: ?]"
          ]
        },
        {
          "metadata": {
            "tags": null
          },
          "name": "stdout",
          "output_type": "stream",
          "text": [
            "2025-08-09 16:09:15,596 Sleeping for 8s. Reason: PENDING\n"
          ]
        },
        {
          "metadata": {
            "tags": null
          },
          "name": "stderr",
          "output_type": "stream",
          "text": [
            "PENDING:   0%|          | 0/150 [elapsed: 04:14 remaining: ?]"
          ]
        },
        {
          "metadata": {
            "tags": null
          },
          "name": "stdout",
          "output_type": "stream",
          "text": [
            "2025-08-09 16:09:24,284 Sleeping for 8s. Reason: PENDING\n"
          ]
        },
        {
          "metadata": {
            "tags": null
          },
          "name": "stderr",
          "output_type": "stream",
          "text": [
            "PENDING:   0%|          | 0/150 [elapsed: 04:23 remaining: ?]"
          ]
        },
        {
          "metadata": {
            "tags": null
          },
          "name": "stdout",
          "output_type": "stream",
          "text": [
            "2025-08-09 16:09:32,964 Sleeping for 9s. Reason: PENDING\n"
          ]
        },
        {
          "metadata": {
            "tags": null
          },
          "name": "stderr",
          "output_type": "stream",
          "text": [
            "PENDING:   0%|          | 0/150 [elapsed: 04:33 remaining: ?]"
          ]
        },
        {
          "metadata": {
            "tags": null
          },
          "name": "stdout",
          "output_type": "stream",
          "text": [
            "2025-08-09 16:09:42,672 Sleeping for 5s. Reason: PENDING\n"
          ]
        },
        {
          "metadata": {
            "tags": null
          },
          "name": "stderr",
          "output_type": "stream",
          "text": [
            "PENDING:   0%|          | 0/150 [elapsed: 04:38 remaining: ?]"
          ]
        },
        {
          "metadata": {
            "tags": null
          },
          "name": "stdout",
          "output_type": "stream",
          "text": [
            "2025-08-09 16:09:48,354 Sleeping for 8s. Reason: PENDING\n"
          ]
        },
        {
          "metadata": {
            "tags": null
          },
          "name": "stderr",
          "output_type": "stream",
          "text": [
            "PENDING:   0%|          | 0/150 [elapsed: 04:47 remaining: ?]"
          ]
        },
        {
          "metadata": {
            "tags": null
          },
          "name": "stdout",
          "output_type": "stream",
          "text": [
            "2025-08-09 16:09:57,040 Sleeping for 6s. Reason: PENDING\n"
          ]
        },
        {
          "metadata": {
            "tags": null
          },
          "name": "stderr",
          "output_type": "stream",
          "text": [
            "PENDING:   0%|          | 0/150 [elapsed: 04:54 remaining: ?]"
          ]
        },
        {
          "metadata": {
            "tags": null
          },
          "name": "stdout",
          "output_type": "stream",
          "text": [
            "2025-08-09 16:10:03,730 Sleeping for 7s. Reason: PENDING\n"
          ]
        },
        {
          "metadata": {
            "tags": null
          },
          "name": "stderr",
          "output_type": "stream",
          "text": [
            "PENDING:   0%|          | 0/150 [elapsed: 05:02 remaining: ?]"
          ]
        },
        {
          "metadata": {
            "tags": null
          },
          "name": "stdout",
          "output_type": "stream",
          "text": [
            "2025-08-09 16:10:11,425 Sleeping for 8s. Reason: PENDING\n"
          ]
        },
        {
          "metadata": {
            "tags": null
          },
          "name": "stderr",
          "output_type": "stream",
          "text": [
            "PENDING:   0%|          | 0/150 [elapsed: 05:10 remaining: ?]"
          ]
        },
        {
          "metadata": {
            "tags": null
          },
          "name": "stdout",
          "output_type": "stream",
          "text": [
            "2025-08-09 16:10:20,125 Sleeping for 7s. Reason: PENDING\n"
          ]
        },
        {
          "metadata": {
            "tags": null
          },
          "name": "stderr",
          "output_type": "stream",
          "text": [
            "PENDING:   0%|          | 0/150 [elapsed: 05:18 remaining: ?]"
          ]
        },
        {
          "metadata": {
            "tags": null
          },
          "name": "stdout",
          "output_type": "stream",
          "text": [
            "2025-08-09 16:10:27,819 Sleeping for 10s. Reason: PENDING\n"
          ]
        },
        {
          "metadata": {
            "tags": null
          },
          "name": "stderr",
          "output_type": "stream",
          "text": [
            "PENDING:   0%|          | 0/150 [elapsed: 05:29 remaining: ?]"
          ]
        },
        {
          "metadata": {
            "tags": null
          },
          "name": "stdout",
          "output_type": "stream",
          "text": [
            "2025-08-09 16:10:38,518 Sleeping for 5s. Reason: PENDING\n"
          ]
        },
        {
          "metadata": {
            "tags": null
          },
          "name": "stderr",
          "output_type": "stream",
          "text": [
            "PENDING:   0%|          | 0/150 [elapsed: 05:34 remaining: ?]"
          ]
        },
        {
          "metadata": {
            "tags": null
          },
          "name": "stdout",
          "output_type": "stream",
          "text": [
            "2025-08-09 16:10:44,205 Sleeping for 8s. Reason: PENDING\n"
          ]
        },
        {
          "metadata": {
            "tags": null
          },
          "name": "stderr",
          "output_type": "stream",
          "text": [
            "PENDING:   0%|          | 0/150 [elapsed: 05:43 remaining: ?]"
          ]
        },
        {
          "metadata": {
            "tags": null
          },
          "name": "stdout",
          "output_type": "stream",
          "text": [
            "2025-08-09 16:10:52,886 Sleeping for 5s. Reason: PENDING\n"
          ]
        },
        {
          "metadata": {
            "tags": null
          },
          "name": "stderr",
          "output_type": "stream",
          "text": [
            "PENDING:   0%|          | 0/150 [elapsed: 05:49 remaining: ?]"
          ]
        },
        {
          "metadata": {
            "tags": null
          },
          "name": "stdout",
          "output_type": "stream",
          "text": [
            "2025-08-09 16:10:58,578 Sleeping for 7s. Reason: PENDING\n"
          ]
        },
        {
          "metadata": {
            "tags": null
          },
          "name": "stderr",
          "output_type": "stream",
          "text": [
            "PENDING:   0%|          | 0/150 [elapsed: 05:56 remaining: ?]"
          ]
        },
        {
          "metadata": {
            "tags": null
          },
          "name": "stdout",
          "output_type": "stream",
          "text": [
            "2025-08-09 16:11:06,300 Sleeping for 8s. Reason: PENDING\n"
          ]
        },
        {
          "metadata": {
            "tags": null
          },
          "name": "stderr",
          "output_type": "stream",
          "text": [
            "PENDING:   0%|          | 0/150 [elapsed: 06:05 remaining: ?]"
          ]
        },
        {
          "metadata": {
            "tags": null
          },
          "name": "stdout",
          "output_type": "stream",
          "text": [
            "2025-08-09 16:11:15,003 Sleeping for 5s. Reason: PENDING\n"
          ]
        },
        {
          "metadata": {
            "tags": null
          },
          "name": "stderr",
          "output_type": "stream",
          "text": [
            "PENDING:   0%|          | 0/150 [elapsed: 06:11 remaining: ?]"
          ]
        },
        {
          "metadata": {
            "tags": null
          },
          "name": "stdout",
          "output_type": "stream",
          "text": [
            "2025-08-09 16:11:20,745 Sleeping for 6s. Reason: PENDING\n"
          ]
        },
        {
          "metadata": {
            "tags": null
          },
          "name": "stderr",
          "output_type": "stream",
          "text": [
            "PENDING:   0%|          | 0/150 [elapsed: 06:18 remaining: ?]"
          ]
        },
        {
          "metadata": {
            "tags": null
          },
          "name": "stdout",
          "output_type": "stream",
          "text": [
            "2025-08-09 16:11:27,431 Sleeping for 9s. Reason: PENDING\n"
          ]
        },
        {
          "metadata": {
            "tags": null
          },
          "name": "stderr",
          "output_type": "stream",
          "text": [
            "PENDING:   0%|          | 0/150 [elapsed: 06:27 remaining: ?]"
          ]
        },
        {
          "metadata": {
            "tags": null
          },
          "name": "stdout",
          "output_type": "stream",
          "text": [
            "2025-08-09 16:11:37,128 Sleeping for 10s. Reason: PENDING\n"
          ]
        },
        {
          "metadata": {
            "tags": null
          },
          "name": "stderr",
          "output_type": "stream",
          "text": [
            "PENDING:   0%|          | 0/150 [elapsed: 06:38 remaining: ?]"
          ]
        },
        {
          "metadata": {
            "tags": null
          },
          "name": "stdout",
          "output_type": "stream",
          "text": [
            "2025-08-09 16:11:47,827 Sleeping for 8s. Reason: PENDING\n"
          ]
        },
        {
          "metadata": {
            "tags": null
          },
          "name": "stderr",
          "output_type": "stream",
          "text": [
            "PENDING:   0%|          | 0/150 [elapsed: 06:47 remaining: ?]"
          ]
        },
        {
          "metadata": {
            "tags": null
          },
          "name": "stdout",
          "output_type": "stream",
          "text": [
            "2025-08-09 16:11:56,530 Sleeping for 6s. Reason: PENDING\n"
          ]
        },
        {
          "metadata": {
            "tags": null
          },
          "name": "stderr",
          "output_type": "stream",
          "text": [
            "PENDING:   0%|          | 0/150 [elapsed: 06:53 remaining: ?]"
          ]
        },
        {
          "metadata": {
            "tags": null
          },
          "name": "stdout",
          "output_type": "stream",
          "text": [
            "2025-08-09 16:12:03,224 Sleeping for 7s. Reason: PENDING\n"
          ]
        },
        {
          "metadata": {
            "tags": null
          },
          "name": "stderr",
          "output_type": "stream",
          "text": [
            "PENDING:   0%|          | 0/150 [elapsed: 07:01 remaining: ?]"
          ]
        },
        {
          "metadata": {
            "tags": null
          },
          "name": "stdout",
          "output_type": "stream",
          "text": [
            "2025-08-09 16:12:10,912 Sleeping for 5s. Reason: PENDING\n"
          ]
        },
        {
          "metadata": {
            "tags": null
          },
          "name": "stderr",
          "output_type": "stream",
          "text": [
            "PENDING:   0%|          | 0/150 [elapsed: 07:07 remaining: ?]"
          ]
        },
        {
          "metadata": {
            "tags": null
          },
          "name": "stdout",
          "output_type": "stream",
          "text": [
            "2025-08-09 16:12:16,625 Sleeping for 6s. Reason: PENDING\n"
          ]
        },
        {
          "metadata": {
            "tags": null
          },
          "name": "stderr",
          "output_type": "stream",
          "text": [
            "PENDING:   0%|          | 0/150 [elapsed: 07:13 remaining: ?]"
          ]
        },
        {
          "metadata": {
            "tags": null
          },
          "name": "stdout",
          "output_type": "stream",
          "text": [
            "2025-08-09 16:12:23,316 Sleeping for 7s. Reason: PENDING\n"
          ]
        },
        {
          "metadata": {
            "tags": null
          },
          "name": "stderr",
          "output_type": "stream",
          "text": [
            "PENDING:   0%|          | 0/150 [elapsed: 07:21 remaining: ?]"
          ]
        },
        {
          "metadata": {
            "tags": null
          },
          "name": "stdout",
          "output_type": "stream",
          "text": [
            "2025-08-09 16:12:31,003 Sleeping for 5s. Reason: PENDING\n"
          ]
        },
        {
          "metadata": {
            "tags": null
          },
          "name": "stderr",
          "output_type": "stream",
          "text": [
            "PENDING:   0%|          | 0/150 [elapsed: 07:27 remaining: ?]"
          ]
        },
        {
          "metadata": {
            "tags": null
          },
          "name": "stdout",
          "output_type": "stream",
          "text": [
            "2025-08-09 16:12:36,710 Sleeping for 10s. Reason: PENDING\n"
          ]
        },
        {
          "metadata": {
            "tags": null
          },
          "name": "stderr",
          "output_type": "stream",
          "text": [
            "PENDING:   0%|          | 0/150 [elapsed: 07:38 remaining: ?]"
          ]
        },
        {
          "metadata": {
            "tags": null
          },
          "name": "stdout",
          "output_type": "stream",
          "text": [
            "2025-08-09 16:12:47,473 Sleeping for 5s. Reason: PENDING\n"
          ]
        },
        {
          "metadata": {
            "tags": null
          },
          "name": "stderr",
          "output_type": "stream",
          "text": [
            "PENDING:   0%|          | 0/150 [elapsed: 07:43 remaining: ?]"
          ]
        },
        {
          "metadata": {
            "tags": null
          },
          "name": "stdout",
          "output_type": "stream",
          "text": [
            "2025-08-09 16:12:53,171 Sleeping for 9s. Reason: PENDING\n"
          ]
        },
        {
          "metadata": {
            "tags": null
          },
          "name": "stderr",
          "output_type": "stream",
          "text": [
            "PENDING:   0%|          | 0/150 [elapsed: 07:53 remaining: ?]"
          ]
        },
        {
          "metadata": {
            "tags": null
          },
          "name": "stdout",
          "output_type": "stream",
          "text": [
            "2025-08-09 16:13:02,856 Sleeping for 5s. Reason: PENDING\n"
          ]
        },
        {
          "metadata": {
            "tags": null
          },
          "name": "stderr",
          "output_type": "stream",
          "text": [
            "PENDING:   0%|          | 0/150 [elapsed: 07:59 remaining: ?]"
          ]
        },
        {
          "metadata": {
            "tags": null
          },
          "name": "stdout",
          "output_type": "stream",
          "text": [
            "2025-08-09 16:13:08,546 Sleeping for 5s. Reason: PENDING\n"
          ]
        },
        {
          "metadata": {
            "tags": null
          },
          "name": "stderr",
          "output_type": "stream",
          "text": [
            "PENDING:   0%|          | 0/150 [elapsed: 08:04 remaining: ?]"
          ]
        },
        {
          "metadata": {
            "tags": null
          },
          "name": "stdout",
          "output_type": "stream",
          "text": [
            "2025-08-09 16:13:14,229 Sleeping for 9s. Reason: PENDING\n"
          ]
        },
        {
          "metadata": {
            "tags": null
          },
          "name": "stderr",
          "output_type": "stream",
          "text": [
            "PENDING:   0%|          | 0/150 [elapsed: 08:14 remaining: ?]"
          ]
        },
        {
          "metadata": {
            "tags": null
          },
          "name": "stdout",
          "output_type": "stream",
          "text": [
            "2025-08-09 16:13:23,909 Sleeping for 10s. Reason: PENDING\n"
          ]
        },
        {
          "metadata": {
            "tags": null
          },
          "name": "stderr",
          "output_type": "stream",
          "text": [
            "PENDING:   0%|          | 0/150 [elapsed: 08:25 remaining: ?]"
          ]
        },
        {
          "metadata": {
            "tags": null
          },
          "name": "stdout",
          "output_type": "stream",
          "text": [
            "2025-08-09 16:13:34,608 Sleeping for 8s. Reason: PENDING\n"
          ]
        },
        {
          "metadata": {
            "tags": null
          },
          "name": "stderr",
          "output_type": "stream",
          "text": [
            "PENDING:   0%|          | 0/150 [elapsed: 08:33 remaining: ?]"
          ]
        },
        {
          "metadata": {
            "tags": null
          },
          "name": "stdout",
          "output_type": "stream",
          "text": [
            "2025-08-09 16:13:43,296 Sleeping for 8s. Reason: PENDING\n"
          ]
        },
        {
          "metadata": {
            "tags": null
          },
          "name": "stderr",
          "output_type": "stream",
          "text": [
            "PENDING:   0%|          | 0/150 [elapsed: 08:42 remaining: ?]"
          ]
        },
        {
          "metadata": {
            "tags": null
          },
          "name": "stdout",
          "output_type": "stream",
          "text": [
            "2025-08-09 16:13:52,000 Sleeping for 5s. Reason: PENDING\n"
          ]
        },
        {
          "metadata": {
            "tags": null
          },
          "name": "stderr",
          "output_type": "stream",
          "text": [
            "PENDING:   0%|          | 0/150 [elapsed: 08:48 remaining: ?]"
          ]
        },
        {
          "metadata": {
            "tags": null
          },
          "name": "stdout",
          "output_type": "stream",
          "text": [
            "2025-08-09 16:13:57,689 Sleeping for 10s. Reason: PENDING\n"
          ]
        },
        {
          "metadata": {
            "tags": null
          },
          "name": "stderr",
          "output_type": "stream",
          "text": [
            "PENDING:   0%|          | 0/150 [elapsed: 08:58 remaining: ?]"
          ]
        },
        {
          "metadata": {
            "tags": null
          },
          "name": "stdout",
          "output_type": "stream",
          "text": [
            "2025-08-09 16:14:08,367 Sleeping for 5s. Reason: PENDING\n"
          ]
        },
        {
          "metadata": {
            "tags": null
          },
          "name": "stderr",
          "output_type": "stream",
          "text": [
            "PENDING:   0%|          | 0/150 [elapsed: 09:04 remaining: ?]"
          ]
        },
        {
          "metadata": {
            "tags": null
          },
          "name": "stdout",
          "output_type": "stream",
          "text": [
            "2025-08-09 16:14:14,046 Sleeping for 9s. Reason: PENDING\n"
          ]
        },
        {
          "metadata": {
            "tags": null
          },
          "name": "stderr",
          "output_type": "stream",
          "text": [
            "PENDING:   0%|          | 0/150 [elapsed: 09:14 remaining: ?]"
          ]
        },
        {
          "metadata": {
            "tags": null
          },
          "name": "stdout",
          "output_type": "stream",
          "text": [
            "2025-08-09 16:14:23,727 Sleeping for 6s. Reason: PENDING\n"
          ]
        },
        {
          "metadata": {
            "tags": null
          },
          "name": "stderr",
          "output_type": "stream",
          "text": [
            "PENDING:   0%|          | 0/150 [elapsed: 09:21 remaining: ?]"
          ]
        },
        {
          "metadata": {
            "tags": null
          },
          "name": "stdout",
          "output_type": "stream",
          "text": [
            "2025-08-09 16:14:30,417 Sleeping for 9s. Reason: PENDING\n"
          ]
        },
        {
          "metadata": {
            "tags": null
          },
          "name": "stderr",
          "output_type": "stream",
          "text": [
            "PENDING:   0%|          | 0/150 [elapsed: 09:30 remaining: ?]"
          ]
        },
        {
          "metadata": {
            "tags": null
          },
          "name": "stdout",
          "output_type": "stream",
          "text": [
            "2025-08-09 16:14:40,118 Sleeping for 10s. Reason: PENDING\n"
          ]
        },
        {
          "metadata": {
            "tags": null
          },
          "name": "stderr",
          "output_type": "stream",
          "text": [
            "PENDING:   0%|          | 0/150 [elapsed: 09:41 remaining: ?]"
          ]
        },
        {
          "metadata": {
            "tags": null
          },
          "name": "stdout",
          "output_type": "stream",
          "text": [
            "2025-08-09 16:14:50,809 Sleeping for 10s. Reason: PENDING\n"
          ]
        },
        {
          "metadata": {
            "tags": null
          },
          "name": "stderr",
          "output_type": "stream",
          "text": [
            "PENDING:   0%|          | 0/150 [elapsed: 09:52 remaining: ?]"
          ]
        },
        {
          "metadata": {
            "tags": null
          },
          "name": "stdout",
          "output_type": "stream",
          "text": [
            "2025-08-09 16:15:01,492 Sleeping for 6s. Reason: PENDING\n"
          ]
        },
        {
          "metadata": {
            "tags": null
          },
          "name": "stderr",
          "output_type": "stream",
          "text": [
            "PENDING:   0%|          | 0/150 [elapsed: 09:58 remaining: ?]"
          ]
        },
        {
          "metadata": {
            "tags": null
          },
          "name": "stdout",
          "output_type": "stream",
          "text": [
            "2025-08-09 16:15:08,181 Sleeping for 10s. Reason: PENDING\n"
          ]
        },
        {
          "metadata": {
            "tags": null
          },
          "name": "stderr",
          "output_type": "stream",
          "text": [
            "PENDING:   0%|          | 0/150 [elapsed: 10:09 remaining: ?]"
          ]
        },
        {
          "metadata": {
            "tags": null
          },
          "name": "stdout",
          "output_type": "stream",
          "text": [
            "2025-08-09 16:15:18,871 Sleeping for 7s. Reason: PENDING\n"
          ]
        },
        {
          "metadata": {
            "tags": null
          },
          "name": "stderr",
          "output_type": "stream",
          "text": [
            "PENDING:   0%|          | 0/150 [elapsed: 10:17 remaining: ?]"
          ]
        },
        {
          "metadata": {
            "tags": null
          },
          "name": "stdout",
          "output_type": "stream",
          "text": [
            "2025-08-09 16:15:26,552 Sleeping for 8s. Reason: PENDING\n"
          ]
        },
        {
          "metadata": {
            "tags": null
          },
          "name": "stderr",
          "output_type": "stream",
          "text": [
            "PENDING:   0%|          | 0/150 [elapsed: 10:25 remaining: ?]"
          ]
        },
        {
          "metadata": {
            "tags": null
          },
          "name": "stdout",
          "output_type": "stream",
          "text": [
            "2025-08-09 16:15:35,230 Sleeping for 5s. Reason: PENDING\n"
          ]
        },
        {
          "metadata": {
            "tags": null
          },
          "name": "stderr",
          "output_type": "stream",
          "text": [
            "PENDING:   0%|          | 0/150 [elapsed: 10:31 remaining: ?]"
          ]
        },
        {
          "metadata": {
            "tags": null
          },
          "name": "stdout",
          "output_type": "stream",
          "text": [
            "2025-08-09 16:15:40,910 Sleeping for 6s. Reason: PENDING\n"
          ]
        },
        {
          "metadata": {
            "tags": null
          },
          "name": "stderr",
          "output_type": "stream",
          "text": [
            "PENDING:   0%|          | 0/150 [elapsed: 10:38 remaining: ?]"
          ]
        },
        {
          "metadata": {
            "tags": null
          },
          "name": "stdout",
          "output_type": "stream",
          "text": [
            "2025-08-09 16:15:47,597 Sleeping for 10s. Reason: PENDING\n"
          ]
        },
        {
          "metadata": {
            "tags": null
          },
          "name": "stderr",
          "output_type": "stream",
          "text": [
            "PENDING:   0%|          | 0/150 [elapsed: 10:48 remaining: ?]"
          ]
        },
        {
          "metadata": {
            "tags": null
          },
          "name": "stdout",
          "output_type": "stream",
          "text": [
            "2025-08-09 16:15:58,288 Sleeping for 6s. Reason: PENDING\n"
          ]
        },
        {
          "metadata": {
            "tags": null
          },
          "name": "stderr",
          "output_type": "stream",
          "text": [
            "PENDING:   0%|          | 0/150 [elapsed: 10:55 remaining: ?]"
          ]
        },
        {
          "metadata": {
            "tags": null
          },
          "name": "stdout",
          "output_type": "stream",
          "text": [
            "2025-08-09 16:16:05,004 Sleeping for 5s. Reason: PENDING\n"
          ]
        },
        {
          "metadata": {
            "tags": null
          },
          "name": "stderr",
          "output_type": "stream",
          "text": [
            "PENDING:   0%|          | 0/150 [elapsed: 11:01 remaining: ?]"
          ]
        },
        {
          "metadata": {
            "tags": null
          },
          "name": "stdout",
          "output_type": "stream",
          "text": [
            "2025-08-09 16:16:10,693 Sleeping for 5s. Reason: PENDING\n"
          ]
        },
        {
          "metadata": {
            "tags": null
          },
          "name": "stderr",
          "output_type": "stream",
          "text": [
            "PENDING:   0%|          | 0/150 [elapsed: 11:06 remaining: ?]"
          ]
        },
        {
          "metadata": {
            "tags": null
          },
          "name": "stdout",
          "output_type": "stream",
          "text": [
            "2025-08-09 16:16:16,367 Sleeping for 10s. Reason: PENDING\n"
          ]
        },
        {
          "metadata": {
            "tags": null
          },
          "name": "stderr",
          "output_type": "stream",
          "text": [
            "PENDING:   0%|          | 0/150 [elapsed: 11:17 remaining: ?]"
          ]
        },
        {
          "metadata": {
            "tags": null
          },
          "name": "stdout",
          "output_type": "stream",
          "text": [
            "2025-08-09 16:16:27,056 Sleeping for 9s. Reason: PENDING\n"
          ]
        },
        {
          "metadata": {
            "tags": null
          },
          "name": "stderr",
          "output_type": "stream",
          "text": [
            "PENDING:   0%|          | 0/150 [elapsed: 11:27 remaining: ?]"
          ]
        },
        {
          "metadata": {
            "tags": null
          },
          "name": "stdout",
          "output_type": "stream",
          "text": [
            "2025-08-09 16:16:36,735 Sleeping for 6s. Reason: PENDING\n"
          ]
        },
        {
          "metadata": {
            "tags": null
          },
          "name": "stderr",
          "output_type": "stream",
          "text": [
            "PENDING:   0%|          | 0/150 [elapsed: 11:34 remaining: ?]"
          ]
        },
        {
          "metadata": {
            "tags": null
          },
          "name": "stdout",
          "output_type": "stream",
          "text": [
            "2025-08-09 16:16:43,415 Sleeping for 10s. Reason: PENDING\n"
          ]
        },
        {
          "metadata": {
            "tags": null
          },
          "name": "stderr",
          "output_type": "stream",
          "text": [
            "PENDING:   0%|          | 0/150 [elapsed: 11:44 remaining: ?]"
          ]
        },
        {
          "metadata": {
            "tags": null
          },
          "name": "stdout",
          "output_type": "stream",
          "text": [
            "2025-08-09 16:16:54,097 Sleeping for 5s. Reason: PENDING\n"
          ]
        },
        {
          "metadata": {
            "tags": null
          },
          "name": "stderr",
          "output_type": "stream",
          "text": [
            "PENDING:   0%|          | 0/150 [elapsed: 11:50 remaining: ?]"
          ]
        },
        {
          "metadata": {
            "tags": null
          },
          "name": "stdout",
          "output_type": "stream",
          "text": [
            "2025-08-09 16:16:59,781 Sleeping for 6s. Reason: PENDING\n"
          ]
        },
        {
          "metadata": {
            "tags": null
          },
          "name": "stderr",
          "output_type": "stream",
          "text": [
            "PENDING:   0%|          | 0/150 [elapsed: 11:57 remaining: ?]"
          ]
        },
        {
          "metadata": {
            "tags": null
          },
          "name": "stdout",
          "output_type": "stream",
          "text": [
            "2025-08-09 16:17:06,495 Sleeping for 7s. Reason: PENDING\n"
          ]
        },
        {
          "metadata": {
            "tags": null
          },
          "name": "stderr",
          "output_type": "stream",
          "text": [
            "PENDING:   0%|          | 0/150 [elapsed: 12:04 remaining: ?]"
          ]
        },
        {
          "metadata": {
            "tags": null
          },
          "name": "stdout",
          "output_type": "stream",
          "text": [
            "2025-08-09 16:17:14,179 Sleeping for 9s. Reason: PENDING\n"
          ]
        },
        {
          "metadata": {
            "tags": null
          },
          "name": "stderr",
          "output_type": "stream",
          "text": [
            "PENDING:   0%|          | 0/150 [elapsed: 12:14 remaining: ?]"
          ]
        },
        {
          "metadata": {
            "tags": null
          },
          "name": "stdout",
          "output_type": "stream",
          "text": [
            "2025-08-09 16:17:23,876 Sleeping for 7s. Reason: PENDING\n"
          ]
        },
        {
          "metadata": {
            "tags": null
          },
          "name": "stderr",
          "output_type": "stream",
          "text": [
            "PENDING:   0%|          | 0/150 [elapsed: 12:22 remaining: ?]"
          ]
        },
        {
          "metadata": {
            "tags": null
          },
          "name": "stdout",
          "output_type": "stream",
          "text": [
            "2025-08-09 16:17:31,571 Sleeping for 9s. Reason: PENDING\n"
          ]
        },
        {
          "metadata": {
            "tags": null
          },
          "name": "stderr",
          "output_type": "stream",
          "text": [
            "PENDING:   0%|          | 0/150 [elapsed: 12:31 remaining: ?]"
          ]
        },
        {
          "metadata": {
            "tags": null
          },
          "name": "stdout",
          "output_type": "stream",
          "text": [
            "2025-08-09 16:17:41,261 Sleeping for 8s. Reason: PENDING\n"
          ]
        },
        {
          "metadata": {
            "tags": null
          },
          "name": "stderr",
          "output_type": "stream",
          "text": [
            "PENDING:   0%|          | 0/150 [elapsed: 12:40 remaining: ?]"
          ]
        },
        {
          "metadata": {
            "tags": null
          },
          "name": "stdout",
          "output_type": "stream",
          "text": [
            "2025-08-09 16:17:49,971 Sleeping for 10s. Reason: PENDING\n"
          ]
        },
        {
          "metadata": {
            "tags": null
          },
          "name": "stderr",
          "output_type": "stream",
          "text": [
            "PENDING:   0%|          | 0/150 [elapsed: 12:51 remaining: ?]"
          ]
        },
        {
          "metadata": {
            "tags": null
          },
          "name": "stdout",
          "output_type": "stream",
          "text": [
            "2025-08-09 16:18:00,731 Sleeping for 8s. Reason: PENDING\n"
          ]
        },
        {
          "metadata": {
            "tags": null
          },
          "name": "stderr",
          "output_type": "stream",
          "text": [
            "PENDING:   0%|          | 0/150 [elapsed: 13:00 remaining: ?]"
          ]
        },
        {
          "metadata": {
            "tags": null
          },
          "name": "stdout",
          "output_type": "stream",
          "text": [
            "2025-08-09 16:18:09,421 Sleeping for 6s. Reason: PENDING\n"
          ]
        },
        {
          "metadata": {
            "tags": null
          },
          "name": "stderr",
          "output_type": "stream",
          "text": [
            "PENDING:   0%|          | 0/150 [elapsed: 13:06 remaining: ?]"
          ]
        },
        {
          "metadata": {
            "tags": null
          },
          "name": "stdout",
          "output_type": "stream",
          "text": [
            "2025-08-09 16:18:16,114 Sleeping for 7s. Reason: PENDING\n"
          ]
        },
        {
          "metadata": {
            "tags": null
          },
          "name": "stderr",
          "output_type": "stream",
          "text": [
            "PENDING:   0%|          | 0/150 [elapsed: 13:14 remaining: ?]"
          ]
        },
        {
          "metadata": {
            "tags": null
          },
          "name": "stdout",
          "output_type": "stream",
          "text": [
            "2025-08-09 16:18:23,810 Sleeping for 7s. Reason: PENDING\n"
          ]
        },
        {
          "metadata": {
            "tags": null
          },
          "name": "stderr",
          "output_type": "stream",
          "text": [
            "PENDING:   0%|          | 0/150 [elapsed: 13:22 remaining: ?]"
          ]
        },
        {
          "metadata": {
            "tags": null
          },
          "name": "stdout",
          "output_type": "stream",
          "text": [
            "2025-08-09 16:18:31,497 Sleeping for 5s. Reason: PENDING\n"
          ]
        },
        {
          "metadata": {
            "tags": null
          },
          "name": "stderr",
          "output_type": "stream",
          "text": [
            "PENDING:   0%|          | 0/150 [elapsed: 13:27 remaining: ?]"
          ]
        },
        {
          "metadata": {
            "tags": null
          },
          "name": "stdout",
          "output_type": "stream",
          "text": [
            "2025-08-09 16:18:37,185 Sleeping for 10s. Reason: PENDING\n"
          ]
        },
        {
          "metadata": {
            "tags": null
          },
          "name": "stderr",
          "output_type": "stream",
          "text": [
            "PENDING:   0%|          | 0/150 [elapsed: 13:38 remaining: ?]"
          ]
        },
        {
          "metadata": {
            "tags": null
          },
          "name": "stdout",
          "output_type": "stream",
          "text": [
            "2025-08-09 16:18:47,869 Sleeping for 8s. Reason: PENDING\n"
          ]
        },
        {
          "metadata": {
            "tags": null
          },
          "name": "stderr",
          "output_type": "stream",
          "text": [
            "PENDING:   0%|          | 0/150 [elapsed: 13:47 remaining: ?]"
          ]
        },
        {
          "metadata": {
            "tags": null
          },
          "name": "stdout",
          "output_type": "stream",
          "text": [
            "2025-08-09 16:18:56,559 Sleeping for 9s. Reason: PENDING\n"
          ]
        },
        {
          "metadata": {
            "tags": null
          },
          "name": "stderr",
          "output_type": "stream",
          "text": [
            "PENDING:   0%|          | 0/150 [elapsed: 13:56 remaining: ?]"
          ]
        },
        {
          "metadata": {
            "tags": null
          },
          "name": "stdout",
          "output_type": "stream",
          "text": [
            "2025-08-09 16:19:06,253 Sleeping for 10s. Reason: PENDING\n"
          ]
        },
        {
          "metadata": {
            "tags": null
          },
          "name": "stderr",
          "output_type": "stream",
          "text": [
            "PENDING:   0%|          | 0/150 [elapsed: 14:07 remaining: ?]"
          ]
        },
        {
          "metadata": {
            "tags": null
          },
          "name": "stdout",
          "output_type": "stream",
          "text": [
            "2025-08-09 16:19:16,934 Sleeping for 8s. Reason: PENDING\n"
          ]
        },
        {
          "metadata": {
            "tags": null
          },
          "name": "stderr",
          "output_type": "stream",
          "text": [
            "PENDING:   0%|          | 0/150 [elapsed: 14:16 remaining: ?]"
          ]
        },
        {
          "metadata": {
            "tags": null
          },
          "name": "stdout",
          "output_type": "stream",
          "text": [
            "2025-08-09 16:19:25,613 Sleeping for 5s. Reason: PENDING\n"
          ]
        },
        {
          "metadata": {
            "tags": null
          },
          "name": "stderr",
          "output_type": "stream",
          "text": [
            "PENDING:   0%|          | 0/150 [elapsed: 14:21 remaining: ?]"
          ]
        },
        {
          "metadata": {
            "tags": null
          },
          "name": "stdout",
          "output_type": "stream",
          "text": [
            "2025-08-09 16:19:31,301 Sleeping for 10s. Reason: PENDING\n"
          ]
        },
        {
          "metadata": {
            "tags": null
          },
          "name": "stderr",
          "output_type": "stream",
          "text": [
            "PENDING:   0%|          | 0/150 [elapsed: 14:32 remaining: ?]"
          ]
        },
        {
          "metadata": {
            "tags": null
          },
          "name": "stdout",
          "output_type": "stream",
          "text": [
            "2025-08-09 16:19:42,000 Sleeping for 7s. Reason: PENDING\n"
          ]
        },
        {
          "metadata": {
            "tags": null
          },
          "name": "stderr",
          "output_type": "stream",
          "text": [
            "PENDING:   0%|          | 0/150 [elapsed: 14:40 remaining: ?]"
          ]
        },
        {
          "metadata": {
            "tags": null
          },
          "name": "stdout",
          "output_type": "stream",
          "text": [
            "2025-08-09 16:19:49,681 Sleeping for 6s. Reason: PENDING\n"
          ]
        },
        {
          "metadata": {
            "tags": null
          },
          "name": "stderr",
          "output_type": "stream",
          "text": [
            "PENDING:   0%|          | 0/150 [elapsed: 14:46 remaining: ?]"
          ]
        },
        {
          "metadata": {
            "tags": null
          },
          "name": "stdout",
          "output_type": "stream",
          "text": [
            "2025-08-09 16:19:56,363 Sleeping for 10s. Reason: PENDING\n"
          ]
        },
        {
          "metadata": {
            "tags": null
          },
          "name": "stderr",
          "output_type": "stream",
          "text": [
            "PENDING:   0%|          | 0/150 [elapsed: 14:57 remaining: ?]"
          ]
        },
        {
          "metadata": {
            "tags": null
          },
          "name": "stdout",
          "output_type": "stream",
          "text": [
            "2025-08-09 16:20:07,050 Sleeping for 7s. Reason: PENDING\n"
          ]
        },
        {
          "metadata": {
            "tags": null
          },
          "name": "stderr",
          "output_type": "stream",
          "text": [
            "PENDING:   0%|          | 0/150 [elapsed: 15:05 remaining: ?]"
          ]
        },
        {
          "metadata": {
            "tags": null
          },
          "name": "stdout",
          "output_type": "stream",
          "text": [
            "2025-08-09 16:20:14,737 Sleeping for 5s. Reason: PENDING\n"
          ]
        },
        {
          "metadata": {
            "tags": null
          },
          "name": "stderr",
          "output_type": "stream",
          "text": [
            "PENDING:   0%|          | 0/150 [elapsed: 15:11 remaining: ?]"
          ]
        },
        {
          "metadata": {
            "tags": null
          },
          "name": "stdout",
          "output_type": "stream",
          "text": [
            "2025-08-09 16:20:20,434 Sleeping for 8s. Reason: PENDING\n"
          ]
        },
        {
          "metadata": {
            "tags": null
          },
          "name": "stderr",
          "output_type": "stream",
          "text": [
            "PENDING:   0%|          | 0/150 [elapsed: 15:19 remaining: ?]"
          ]
        },
        {
          "metadata": {
            "tags": null
          },
          "name": "stdout",
          "output_type": "stream",
          "text": [
            "2025-08-09 16:20:29,112 Sleeping for 7s. Reason: PENDING\n"
          ]
        },
        {
          "metadata": {
            "tags": null
          },
          "name": "stderr",
          "output_type": "stream",
          "text": [
            "PENDING:   0%|          | 0/150 [elapsed: 15:27 remaining: ?]"
          ]
        },
        {
          "metadata": {
            "tags": null
          },
          "name": "stdout",
          "output_type": "stream",
          "text": [
            "2025-08-09 16:20:36,797 Sleeping for 5s. Reason: PENDING\n"
          ]
        },
        {
          "metadata": {
            "tags": null
          },
          "name": "stderr",
          "output_type": "stream",
          "text": [
            "PENDING:   0%|          | 0/150 [elapsed: 15:33 remaining: ?]"
          ]
        },
        {
          "metadata": {
            "tags": null
          },
          "name": "stdout",
          "output_type": "stream",
          "text": [
            "2025-08-09 16:20:42,479 Sleeping for 10s. Reason: PENDING\n"
          ]
        },
        {
          "metadata": {
            "tags": null
          },
          "name": "stderr",
          "output_type": "stream",
          "text": [
            "PENDING:   0%|          | 0/150 [elapsed: 15:43 remaining: ?]"
          ]
        },
        {
          "metadata": {
            "tags": null
          },
          "name": "stdout",
          "output_type": "stream",
          "text": [
            "2025-08-09 16:20:53,162 Sleeping for 9s. Reason: PENDING\n"
          ]
        },
        {
          "metadata": {
            "tags": null
          },
          "name": "stderr",
          "output_type": "stream",
          "text": [
            "PENDING:   0%|          | 0/150 [elapsed: 15:53 remaining: ?]"
          ]
        },
        {
          "metadata": {
            "tags": null
          },
          "name": "stdout",
          "output_type": "stream",
          "text": [
            "2025-08-09 16:21:02,847 Sleeping for 9s. Reason: PENDING\n"
          ]
        },
        {
          "metadata": {
            "tags": null
          },
          "name": "stderr",
          "output_type": "stream",
          "text": [
            "PENDING:   0%|          | 0/150 [elapsed: 16:03 remaining: ?]"
          ]
        },
        {
          "metadata": {
            "tags": null
          },
          "name": "stdout",
          "output_type": "stream",
          "text": [
            "2025-08-09 16:21:12,612 Sleeping for 8s. Reason: PENDING\n"
          ]
        },
        {
          "metadata": {
            "tags": null
          },
          "name": "stderr",
          "output_type": "stream",
          "text": [
            "PENDING:   0%|          | 0/150 [elapsed: 16:11 remaining: ?]"
          ]
        },
        {
          "metadata": {
            "tags": null
          },
          "name": "stdout",
          "output_type": "stream",
          "text": [
            "2025-08-09 16:21:21,301 Sleeping for 5s. Reason: PENDING\n"
          ]
        },
        {
          "metadata": {
            "tags": null
          },
          "name": "stderr",
          "output_type": "stream",
          "text": [
            "PENDING:   0%|          | 0/150 [elapsed: 16:17 remaining: ?]"
          ]
        },
        {
          "metadata": {
            "tags": null
          },
          "name": "stdout",
          "output_type": "stream",
          "text": [
            "2025-08-09 16:21:26,984 Sleeping for 5s. Reason: PENDING\n"
          ]
        },
        {
          "metadata": {
            "tags": null
          },
          "name": "stderr",
          "output_type": "stream",
          "text": [
            "PENDING:   0%|          | 0/150 [elapsed: 16:23 remaining: ?]"
          ]
        },
        {
          "metadata": {
            "tags": null
          },
          "name": "stdout",
          "output_type": "stream",
          "text": [
            "2025-08-09 16:21:32,665 Sleeping for 6s. Reason: PENDING\n"
          ]
        },
        {
          "metadata": {
            "tags": null
          },
          "name": "stderr",
          "output_type": "stream",
          "text": [
            "PENDING:   0%|          | 0/150 [elapsed: 16:29 remaining: ?]"
          ]
        },
        {
          "metadata": {
            "tags": null
          },
          "name": "stdout",
          "output_type": "stream",
          "text": [
            "2025-08-09 16:21:39,350 Sleeping for 9s. Reason: PENDING\n"
          ]
        },
        {
          "metadata": {
            "tags": null
          },
          "name": "stderr",
          "output_type": "stream",
          "text": [
            "PENDING:   0%|          | 0/150 [elapsed: 16:39 remaining: ?]"
          ]
        },
        {
          "metadata": {
            "tags": null
          },
          "name": "stdout",
          "output_type": "stream",
          "text": [
            "2025-08-09 16:21:49,031 Sleeping for 8s. Reason: PENDING\n"
          ]
        },
        {
          "metadata": {
            "tags": null
          },
          "name": "stderr",
          "output_type": "stream",
          "text": [
            "PENDING:   0%|          | 0/150 [elapsed: 16:48 remaining: ?]"
          ]
        },
        {
          "metadata": {
            "tags": null
          },
          "name": "stdout",
          "output_type": "stream",
          "text": [
            "2025-08-09 16:21:57,748 Sleeping for 6s. Reason: PENDING\n"
          ]
        },
        {
          "metadata": {
            "tags": null
          },
          "name": "stderr",
          "output_type": "stream",
          "text": [
            "PENDING:   0%|          | 0/150 [elapsed: 16:55 remaining: ?]"
          ]
        },
        {
          "metadata": {
            "tags": null
          },
          "name": "stdout",
          "output_type": "stream",
          "text": [
            "2025-08-09 16:22:04,435 Sleeping for 6s. Reason: PENDING\n"
          ]
        },
        {
          "metadata": {
            "tags": null
          },
          "name": "stderr",
          "output_type": "stream",
          "text": [
            "PENDING:   0%|          | 0/150 [elapsed: 17:01 remaining: ?]"
          ]
        },
        {
          "metadata": {
            "tags": null
          },
          "name": "stdout",
          "output_type": "stream",
          "text": [
            "2025-08-09 16:22:11,120 Sleeping for 6s. Reason: PENDING\n"
          ]
        },
        {
          "metadata": {
            "tags": null
          },
          "name": "stderr",
          "output_type": "stream",
          "text": [
            "PENDING:   0%|          | 0/150 [elapsed: 17:08 remaining: ?]"
          ]
        },
        {
          "metadata": {
            "tags": null
          },
          "name": "stdout",
          "output_type": "stream",
          "text": [
            "2025-08-09 16:22:17,801 Sleeping for 7s. Reason: PENDING\n"
          ]
        },
        {
          "metadata": {
            "tags": null
          },
          "name": "stderr",
          "output_type": "stream",
          "text": [
            "PENDING:   0%|          | 0/150 [elapsed: 17:16 remaining: ?]"
          ]
        },
        {
          "metadata": {
            "tags": null
          },
          "name": "stdout",
          "output_type": "stream",
          "text": [
            "2025-08-09 16:22:25,489 Sleeping for 6s. Reason: PENDING\n"
          ]
        },
        {
          "metadata": {
            "tags": null
          },
          "name": "stderr",
          "output_type": "stream",
          "text": [
            "PENDING:   0%|          | 0/150 [elapsed: 17:22 remaining: ?]"
          ]
        },
        {
          "metadata": {
            "tags": null
          },
          "name": "stdout",
          "output_type": "stream",
          "text": [
            "2025-08-09 16:22:32,181 Sleeping for 9s. Reason: PENDING\n"
          ]
        },
        {
          "metadata": {
            "tags": null
          },
          "name": "stderr",
          "output_type": "stream",
          "text": [
            "PENDING:   0%|          | 0/150 [elapsed: 17:32 remaining: ?]"
          ]
        },
        {
          "metadata": {
            "tags": null
          },
          "name": "stdout",
          "output_type": "stream",
          "text": [
            "2025-08-09 16:22:41,874 Sleeping for 7s. Reason: PENDING\n"
          ]
        },
        {
          "metadata": {
            "tags": null
          },
          "name": "stderr",
          "output_type": "stream",
          "text": [
            "PENDING:   0%|          | 0/150 [elapsed: 17:40 remaining: ?]"
          ]
        },
        {
          "metadata": {
            "tags": null
          },
          "name": "stdout",
          "output_type": "stream",
          "text": [
            "2025-08-09 16:22:49,559 Sleeping for 5s. Reason: PENDING\n"
          ]
        },
        {
          "metadata": {
            "tags": null
          },
          "name": "stderr",
          "output_type": "stream",
          "text": [
            "PENDING:   0%|          | 0/150 [elapsed: 17:45 remaining: ?]"
          ]
        },
        {
          "metadata": {
            "tags": null
          },
          "name": "stdout",
          "output_type": "stream",
          "text": [
            "2025-08-09 16:22:55,240 Sleeping for 9s. Reason: PENDING\n"
          ]
        },
        {
          "metadata": {
            "tags": null
          },
          "name": "stderr",
          "output_type": "stream",
          "text": [
            "PENDING:   0%|          | 0/150 [elapsed: 17:55 remaining: ?]"
          ]
        },
        {
          "metadata": {
            "tags": null
          },
          "name": "stdout",
          "output_type": "stream",
          "text": [
            "2025-08-09 16:23:04,924 Sleeping for 7s. Reason: PENDING\n"
          ]
        },
        {
          "metadata": {
            "tags": null
          },
          "name": "stderr",
          "output_type": "stream",
          "text": [
            "PENDING:   0%|          | 0/150 [elapsed: 18:03 remaining: ?]"
          ]
        },
        {
          "metadata": {
            "tags": null
          },
          "name": "stdout",
          "output_type": "stream",
          "text": [
            "2025-08-09 16:23:12,614 Sleeping for 8s. Reason: PENDING\n"
          ]
        },
        {
          "metadata": {
            "tags": null
          },
          "name": "stderr",
          "output_type": "stream",
          "text": [
            "PENDING:   0%|          | 0/150 [elapsed: 18:11 remaining: ?]"
          ]
        },
        {
          "metadata": {
            "tags": null
          },
          "name": "stdout",
          "output_type": "stream",
          "text": [
            "2025-08-09 16:23:21,298 Sleeping for 6s. Reason: PENDING\n"
          ]
        },
        {
          "metadata": {
            "tags": null
          },
          "name": "stderr",
          "output_type": "stream",
          "text": [
            "PENDING:   0%|          | 0/150 [elapsed: 18:18 remaining: ?]"
          ]
        },
        {
          "metadata": {
            "tags": null
          },
          "name": "stdout",
          "output_type": "stream",
          "text": [
            "2025-08-09 16:23:27,985 Sleeping for 9s. Reason: PENDING\n"
          ]
        },
        {
          "metadata": {
            "tags": null
          },
          "name": "stderr",
          "output_type": "stream",
          "text": [
            "PENDING:   0%|          | 0/150 [elapsed: 18:28 remaining: ?]"
          ]
        },
        {
          "metadata": {
            "tags": null
          },
          "name": "stdout",
          "output_type": "stream",
          "text": [
            "2025-08-09 16:23:37,698 Sleeping for 8s. Reason: PENDING\n"
          ]
        },
        {
          "metadata": {
            "tags": null
          },
          "name": "stderr",
          "output_type": "stream",
          "text": [
            "PENDING:   0%|          | 0/150 [elapsed: 18:36 remaining: ?]"
          ]
        },
        {
          "metadata": {
            "tags": null
          },
          "name": "stdout",
          "output_type": "stream",
          "text": [
            "2025-08-09 16:23:46,385 Sleeping for 10s. Reason: PENDING\n"
          ]
        },
        {
          "metadata": {
            "tags": null
          },
          "name": "stderr",
          "output_type": "stream",
          "text": [
            "PENDING:   0%|          | 0/150 [elapsed: 18:47 remaining: ?]"
          ]
        },
        {
          "metadata": {
            "tags": null
          },
          "name": "stdout",
          "output_type": "stream",
          "text": [
            "2025-08-09 16:23:57,073 Sleeping for 5s. Reason: PENDING\n"
          ]
        },
        {
          "metadata": {
            "tags": null
          },
          "name": "stderr",
          "output_type": "stream",
          "text": [
            "PENDING:   0%|          | 0/150 [elapsed: 18:53 remaining: ?]"
          ]
        },
        {
          "metadata": {
            "tags": null
          },
          "name": "stdout",
          "output_type": "stream",
          "text": [
            "2025-08-09 16:24:02,826 Sleeping for 7s. Reason: PENDING\n"
          ]
        },
        {
          "metadata": {
            "tags": null
          },
          "name": "stderr",
          "output_type": "stream",
          "text": [
            "PENDING:   0%|          | 0/150 [elapsed: 19:01 remaining: ?]"
          ]
        },
        {
          "metadata": {
            "tags": null
          },
          "name": "stdout",
          "output_type": "stream",
          "text": [
            "2025-08-09 16:24:10,511 Sleeping for 9s. Reason: PENDING\n"
          ]
        },
        {
          "metadata": {
            "tags": null
          },
          "name": "stderr",
          "output_type": "stream",
          "text": [
            "PENDING:   0%|          | 0/150 [elapsed: 19:10 remaining: ?]"
          ]
        },
        {
          "metadata": {
            "tags": null
          },
          "name": "stdout",
          "output_type": "stream",
          "text": [
            "2025-08-09 16:24:20,198 Sleeping for 7s. Reason: PENDING\n"
          ]
        },
        {
          "metadata": {
            "tags": null
          },
          "name": "stderr",
          "output_type": "stream",
          "text": [
            "PENDING:   0%|          | 0/150 [elapsed: 19:18 remaining: ?]"
          ]
        },
        {
          "metadata": {
            "tags": null
          },
          "name": "stdout",
          "output_type": "stream",
          "text": [
            "2025-08-09 16:24:27,893 Sleeping for 8s. Reason: PENDING\n"
          ]
        },
        {
          "metadata": {
            "tags": null
          },
          "name": "stderr",
          "output_type": "stream",
          "text": [
            "PENDING:   0%|          | 0/150 [elapsed: 19:27 remaining: ?]"
          ]
        },
        {
          "metadata": {
            "tags": null
          },
          "name": "stdout",
          "output_type": "stream",
          "text": [
            "2025-08-09 16:24:36,587 Sleeping for 5s. Reason: PENDING\n"
          ]
        },
        {
          "metadata": {
            "tags": null
          },
          "name": "stderr",
          "output_type": "stream",
          "text": [
            "PENDING:   0%|          | 0/150 [elapsed: 19:32 remaining: ?]"
          ]
        },
        {
          "metadata": {
            "tags": null
          },
          "name": "stdout",
          "output_type": "stream",
          "text": [
            "2025-08-09 16:24:42,279 Sleeping for 5s. Reason: PENDING\n"
          ]
        },
        {
          "metadata": {
            "tags": null
          },
          "name": "stderr",
          "output_type": "stream",
          "text": [
            "PENDING:   0%|          | 0/150 [elapsed: 19:38 remaining: ?]"
          ]
        },
        {
          "metadata": {
            "tags": null
          },
          "name": "stdout",
          "output_type": "stream",
          "text": [
            "2025-08-09 16:24:47,974 Sleeping for 6s. Reason: PENDING\n"
          ]
        },
        {
          "metadata": {
            "tags": null
          },
          "name": "stderr",
          "output_type": "stream",
          "text": [
            "PENDING:   0%|          | 0/150 [elapsed: 19:45 remaining: ?]"
          ]
        },
        {
          "metadata": {
            "tags": null
          },
          "name": "stdout",
          "output_type": "stream",
          "text": [
            "2025-08-09 16:24:54,668 Sleeping for 6s. Reason: PENDING\n"
          ]
        },
        {
          "metadata": {
            "tags": null
          },
          "name": "stderr",
          "output_type": "stream",
          "text": [
            "PENDING:   0%|          | 0/150 [elapsed: 19:51 remaining: ?]"
          ]
        },
        {
          "metadata": {
            "tags": null
          },
          "name": "stdout",
          "output_type": "stream",
          "text": [
            "2025-08-09 16:25:01,346 Sleeping for 7s. Reason: PENDING\n"
          ]
        },
        {
          "metadata": {
            "tags": null
          },
          "name": "stderr",
          "output_type": "stream",
          "text": [
            "PENDING:   0%|          | 0/150 [elapsed: 19:59 remaining: ?]"
          ]
        },
        {
          "metadata": {
            "tags": null
          },
          "name": "stdout",
          "output_type": "stream",
          "text": [
            "2025-08-09 16:25:09,032 Sleeping for 10s. Reason: PENDING\n"
          ]
        },
        {
          "metadata": {
            "tags": null
          },
          "name": "stderr",
          "output_type": "stream",
          "text": [
            "PENDING:   0%|          | 0/150 [elapsed: 20:10 remaining: ?]"
          ]
        },
        {
          "metadata": {
            "tags": null
          },
          "name": "stdout",
          "output_type": "stream",
          "text": [
            "2025-08-09 16:25:19,718 Sleeping for 10s. Reason: PENDING\n"
          ]
        },
        {
          "metadata": {
            "tags": null
          },
          "name": "stderr",
          "output_type": "stream",
          "text": [
            "PENDING:   0%|          | 0/150 [elapsed: 20:21 remaining: ?]"
          ]
        },
        {
          "metadata": {
            "tags": null
          },
          "name": "stdout",
          "output_type": "stream",
          "text": [
            "2025-08-09 16:25:30,402 Sleeping for 9s. Reason: PENDING\n"
          ]
        },
        {
          "metadata": {
            "tags": null
          },
          "name": "stderr",
          "output_type": "stream",
          "text": [
            "PENDING:   0%|          | 0/150 [elapsed: 20:30 remaining: ?]"
          ]
        },
        {
          "metadata": {
            "tags": null
          },
          "name": "stdout",
          "output_type": "stream",
          "text": [
            "2025-08-09 16:25:40,111 Sleeping for 10s. Reason: PENDING\n"
          ]
        },
        {
          "metadata": {
            "tags": null
          },
          "name": "stderr",
          "output_type": "stream",
          "text": [
            "PENDING:   0%|          | 0/150 [elapsed: 20:41 remaining: ?]"
          ]
        },
        {
          "metadata": {
            "tags": null
          },
          "name": "stdout",
          "output_type": "stream",
          "text": [
            "2025-08-09 16:25:50,807 Sleeping for 7s. Reason: PENDING\n"
          ]
        },
        {
          "metadata": {
            "tags": null
          },
          "name": "stderr",
          "output_type": "stream",
          "text": [
            "PENDING:   0%|          | 0/150 [elapsed: 20:49 remaining: ?]"
          ]
        },
        {
          "metadata": {
            "tags": null
          },
          "name": "stdout",
          "output_type": "stream",
          "text": [
            "2025-08-09 16:25:58,505 Sleeping for 10s. Reason: PENDING\n"
          ]
        },
        {
          "metadata": {
            "tags": null
          },
          "name": "stderr",
          "output_type": "stream",
          "text": [
            "PENDING:   0%|          | 0/150 [elapsed: 20:59 remaining: ?]"
          ]
        },
        {
          "metadata": {
            "tags": null
          },
          "name": "stdout",
          "output_type": "stream",
          "text": [
            "2025-08-09 16:26:09,192 Sleeping for 6s. Reason: PENDING\n"
          ]
        },
        {
          "metadata": {
            "tags": null
          },
          "name": "stderr",
          "output_type": "stream",
          "text": [
            "PENDING:   0%|          | 0/150 [elapsed: 21:06 remaining: ?]"
          ]
        },
        {
          "metadata": {
            "tags": null
          },
          "name": "stdout",
          "output_type": "stream",
          "text": [
            "2025-08-09 16:26:15,871 Sleeping for 7s. Reason: PENDING\n"
          ]
        },
        {
          "metadata": {
            "tags": null
          },
          "name": "stderr",
          "output_type": "stream",
          "text": [
            "PENDING:   0%|          | 0/150 [elapsed: 21:14 remaining: ?]"
          ]
        },
        {
          "metadata": {
            "tags": null
          },
          "name": "stdout",
          "output_type": "stream",
          "text": [
            "2025-08-09 16:26:23,558 Sleeping for 6s. Reason: PENDING\n"
          ]
        },
        {
          "metadata": {
            "tags": null
          },
          "name": "stderr",
          "output_type": "stream",
          "text": [
            "PENDING:   0%|          | 0/150 [elapsed: 21:20 remaining: ?]"
          ]
        },
        {
          "metadata": {
            "tags": null
          },
          "name": "stdout",
          "output_type": "stream",
          "text": [
            "2025-08-09 16:26:30,239 Sleeping for 5s. Reason: PENDING\n"
          ]
        },
        {
          "metadata": {
            "tags": null
          },
          "name": "stderr",
          "output_type": "stream",
          "text": [
            "PENDING:   0%|          | 0/150 [elapsed: 21:26 remaining: ?]"
          ]
        },
        {
          "metadata": {
            "tags": null
          },
          "name": "stdout",
          "output_type": "stream",
          "text": [
            "2025-08-09 16:26:35,928 Sleeping for 10s. Reason: PENDING\n"
          ]
        },
        {
          "metadata": {
            "tags": null
          },
          "name": "stderr",
          "output_type": "stream",
          "text": [
            "PENDING:   0%|          | 0/150 [elapsed: 21:37 remaining: ?]"
          ]
        },
        {
          "metadata": {
            "tags": null
          },
          "name": "stdout",
          "output_type": "stream",
          "text": [
            "2025-08-09 16:26:46,610 Sleeping for 8s. Reason: PENDING\n"
          ]
        },
        {
          "metadata": {
            "tags": null
          },
          "name": "stderr",
          "output_type": "stream",
          "text": [
            "PENDING:   0%|          | 0/150 [elapsed: 21:45 remaining: ?]"
          ]
        },
        {
          "metadata": {
            "tags": null
          },
          "name": "stdout",
          "output_type": "stream",
          "text": [
            "2025-08-09 16:26:55,296 Sleeping for 8s. Reason: PENDING\n"
          ]
        },
        {
          "metadata": {
            "tags": null
          },
          "name": "stderr",
          "output_type": "stream",
          "text": [
            "PENDING:   0%|          | 0/150 [elapsed: 21:54 remaining: ?]"
          ]
        },
        {
          "metadata": {
            "tags": null
          },
          "name": "stdout",
          "output_type": "stream",
          "text": [
            "2025-08-09 16:27:03,984 Sleeping for 6s. Reason: PENDING\n"
          ]
        },
        {
          "metadata": {
            "tags": null
          },
          "name": "stderr",
          "output_type": "stream",
          "text": [
            "PENDING:   0%|          | 0/150 [elapsed: 22:01 remaining: ?]"
          ]
        },
        {
          "metadata": {
            "tags": null
          },
          "name": "stdout",
          "output_type": "stream",
          "text": [
            "2025-08-09 16:27:10,680 Sleeping for 10s. Reason: PENDING\n"
          ]
        },
        {
          "metadata": {
            "tags": null
          },
          "name": "stderr",
          "output_type": "stream",
          "text": [
            "PENDING:   0%|          | 0/150 [elapsed: 22:11 remaining: ?]"
          ]
        },
        {
          "metadata": {
            "tags": null
          },
          "name": "stdout",
          "output_type": "stream",
          "text": [
            "2025-08-09 16:27:21,366 Sleeping for 9s. Reason: PENDING\n"
          ]
        },
        {
          "metadata": {
            "tags": null
          },
          "name": "stderr",
          "output_type": "stream",
          "text": [
            "PENDING:   0%|          | 0/150 [elapsed: 22:21 remaining: ?]"
          ]
        },
        {
          "metadata": {
            "tags": null
          },
          "name": "stdout",
          "output_type": "stream",
          "text": [
            "2025-08-09 16:27:31,062 Sleeping for 7s. Reason: PENDING\n"
          ]
        },
        {
          "metadata": {
            "tags": null
          },
          "name": "stderr",
          "output_type": "stream",
          "text": [
            "PENDING:   0%|          | 0/150 [elapsed: 22:29 remaining: ?]"
          ]
        },
        {
          "metadata": {
            "tags": null
          },
          "name": "stdout",
          "output_type": "stream",
          "text": [
            "2025-08-09 16:27:38,764 Sleeping for 9s. Reason: PENDING\n"
          ]
        },
        {
          "metadata": {
            "tags": null
          },
          "name": "stderr",
          "output_type": "stream",
          "text": [
            "PENDING:   0%|          | 0/150 [elapsed: 22:39 remaining: ?]"
          ]
        },
        {
          "metadata": {
            "tags": null
          },
          "name": "stdout",
          "output_type": "stream",
          "text": [
            "2025-08-09 16:27:48,467 Sleeping for 8s. Reason: PENDING\n"
          ]
        },
        {
          "metadata": {
            "tags": null
          },
          "name": "stderr",
          "output_type": "stream",
          "text": [
            "PENDING:   0%|          | 0/150 [elapsed: 22:47 remaining: ?]"
          ]
        },
        {
          "metadata": {
            "tags": null
          },
          "name": "stdout",
          "output_type": "stream",
          "text": [
            "2025-08-09 16:27:57,142 Sleeping for 9s. Reason: PENDING\n"
          ]
        },
        {
          "metadata": {
            "tags": null
          },
          "name": "stderr",
          "output_type": "stream",
          "text": [
            "PENDING:   0%|          | 0/150 [elapsed: 22:57 remaining: ?]"
          ]
        },
        {
          "metadata": {
            "tags": null
          },
          "name": "stdout",
          "output_type": "stream",
          "text": [
            "2025-08-09 16:28:06,836 Sleeping for 8s. Reason: PENDING\n"
          ]
        },
        {
          "metadata": {
            "tags": null
          },
          "name": "stderr",
          "output_type": "stream",
          "text": [
            "PENDING:   0%|          | 0/150 [elapsed: 23:06 remaining: ?]"
          ]
        },
        {
          "metadata": {
            "tags": null
          },
          "name": "stdout",
          "output_type": "stream",
          "text": [
            "2025-08-09 16:28:15,541 Sleeping for 7s. Reason: PENDING\n"
          ]
        },
        {
          "metadata": {
            "tags": null
          },
          "name": "stderr",
          "output_type": "stream",
          "text": [
            "PENDING:   0%|          | 0/150 [elapsed: 23:13 remaining: ?]"
          ]
        },
        {
          "metadata": {
            "tags": null
          },
          "name": "stdout",
          "output_type": "stream",
          "text": [
            "2025-08-09 16:28:23,233 Sleeping for 5s. Reason: PENDING\n"
          ]
        },
        {
          "metadata": {
            "tags": null
          },
          "name": "stderr",
          "output_type": "stream",
          "text": [
            "PENDING:   0%|          | 0/150 [elapsed: 23:19 remaining: ?]"
          ]
        },
        {
          "metadata": {
            "tags": null
          },
          "name": "stdout",
          "output_type": "stream",
          "text": [
            "2025-08-09 16:28:28,915 Sleeping for 10s. Reason: PENDING\n"
          ]
        },
        {
          "metadata": {
            "tags": null
          },
          "name": "stderr",
          "output_type": "stream",
          "text": [
            "PENDING:   0%|          | 0/150 [elapsed: 23:30 remaining: ?]"
          ]
        },
        {
          "metadata": {
            "tags": null
          },
          "name": "stdout",
          "output_type": "stream",
          "text": [
            "2025-08-09 16:28:39,604 Sleeping for 7s. Reason: PENDING\n"
          ]
        },
        {
          "metadata": {
            "tags": null
          },
          "name": "stderr",
          "output_type": "stream",
          "text": [
            "PENDING:   0%|          | 0/150 [elapsed: 23:37 remaining: ?]"
          ]
        },
        {
          "metadata": {
            "tags": null
          },
          "name": "stdout",
          "output_type": "stream",
          "text": [
            "2025-08-09 16:28:47,287 Sleeping for 9s. Reason: PENDING\n"
          ]
        },
        {
          "metadata": {
            "tags": null
          },
          "name": "stderr",
          "output_type": "stream",
          "text": [
            "PENDING:   0%|          | 0/150 [elapsed: 23:47 remaining: ?]"
          ]
        },
        {
          "metadata": {
            "tags": null
          },
          "name": "stdout",
          "output_type": "stream",
          "text": [
            "2025-08-09 16:28:56,989 Sleeping for 9s. Reason: PENDING\n"
          ]
        },
        {
          "metadata": {
            "tags": null
          },
          "name": "stderr",
          "output_type": "stream",
          "text": [
            "PENDING:   0%|          | 0/150 [elapsed: 23:57 remaining: ?]"
          ]
        },
        {
          "metadata": {
            "tags": null
          },
          "name": "stdout",
          "output_type": "stream",
          "text": [
            "2025-08-09 16:29:06,672 Sleeping for 8s. Reason: PENDING\n"
          ]
        },
        {
          "metadata": {
            "tags": null
          },
          "name": "stderr",
          "output_type": "stream",
          "text": [
            "PENDING:   0%|          | 0/150 [elapsed: 24:05 remaining: ?]"
          ]
        },
        {
          "metadata": {
            "tags": null
          },
          "name": "stdout",
          "output_type": "stream",
          "text": [
            "2025-08-09 16:29:15,379 Sleeping for 10s. Reason: PENDING\n"
          ]
        },
        {
          "metadata": {
            "tags": null
          },
          "name": "stderr",
          "output_type": "stream",
          "text": [
            "PENDING:   0%|          | 0/150 [elapsed: 24:16 remaining: ?]"
          ]
        },
        {
          "metadata": {
            "tags": null
          },
          "name": "stdout",
          "output_type": "stream",
          "text": [
            "2025-08-09 16:29:26,087 Sleeping for 10s. Reason: PENDING\n"
          ]
        },
        {
          "metadata": {
            "tags": null
          },
          "name": "stderr",
          "output_type": "stream",
          "text": [
            "PENDING:   0%|          | 0/150 [elapsed: 24:27 remaining: ?]"
          ]
        },
        {
          "metadata": {
            "tags": null
          },
          "name": "stdout",
          "output_type": "stream",
          "text": [
            "2025-08-09 16:29:36,774 Sleeping for 5s. Reason: PENDING\n"
          ]
        },
        {
          "metadata": {
            "tags": null
          },
          "name": "stderr",
          "output_type": "stream",
          "text": [
            "PENDING:   0%|          | 0/150 [elapsed: 24:33 remaining: ?]"
          ]
        },
        {
          "metadata": {
            "tags": null
          },
          "name": "stdout",
          "output_type": "stream",
          "text": [
            "2025-08-09 16:29:42,462 Sleeping for 8s. Reason: PENDING\n"
          ]
        },
        {
          "metadata": {
            "tags": null
          },
          "name": "stderr",
          "output_type": "stream",
          "text": [
            "PENDING:   0%|          | 0/150 [elapsed: 24:41 remaining: ?]"
          ]
        },
        {
          "metadata": {
            "tags": null
          },
          "name": "stdout",
          "output_type": "stream",
          "text": [
            "2025-08-09 16:29:51,149 Sleeping for 7s. Reason: PENDING\n"
          ]
        },
        {
          "metadata": {
            "tags": null
          },
          "name": "stderr",
          "output_type": "stream",
          "text": [
            "PENDING:   0%|          | 0/150 [elapsed: 24:49 remaining: ?]"
          ]
        },
        {
          "metadata": {
            "tags": null
          },
          "name": "stdout",
          "output_type": "stream",
          "text": [
            "2025-08-09 16:29:58,830 Sleeping for 8s. Reason: PENDING\n"
          ]
        },
        {
          "metadata": {
            "tags": null
          },
          "name": "stderr",
          "output_type": "stream",
          "text": [
            "PENDING:   0%|          | 0/150 [elapsed: 24:58 remaining: ?]"
          ]
        },
        {
          "metadata": {
            "tags": null
          },
          "name": "stdout",
          "output_type": "stream",
          "text": [
            "2025-08-09 16:30:07,507 Sleeping for 8s. Reason: PENDING\n"
          ]
        },
        {
          "metadata": {
            "tags": null
          },
          "name": "stderr",
          "output_type": "stream",
          "text": [
            "PENDING:   0%|          | 0/150 [elapsed: 25:06 remaining: ?]"
          ]
        },
        {
          "metadata": {
            "tags": null
          },
          "name": "stdout",
          "output_type": "stream",
          "text": [
            "2025-08-09 16:30:16,191 Sleeping for 7s. Reason: PENDING\n"
          ]
        },
        {
          "metadata": {
            "tags": null
          },
          "name": "stderr",
          "output_type": "stream",
          "text": [
            "PENDING:   0%|          | 0/150 [elapsed: 25:14 remaining: ?]"
          ]
        },
        {
          "metadata": {
            "tags": null
          },
          "name": "stdout",
          "output_type": "stream",
          "text": [
            "2025-08-09 16:30:23,930 Sleeping for 7s. Reason: PENDING\n"
          ]
        },
        {
          "metadata": {
            "tags": null
          },
          "name": "stderr",
          "output_type": "stream",
          "text": [
            "PENDING:   0%|          | 0/150 [elapsed: 25:22 remaining: ?]"
          ]
        },
        {
          "metadata": {
            "tags": null
          },
          "name": "stdout",
          "output_type": "stream",
          "text": [
            "2025-08-09 16:30:31,657 Sleeping for 8s. Reason: PENDING\n"
          ]
        },
        {
          "metadata": {
            "tags": null
          },
          "name": "stderr",
          "output_type": "stream",
          "text": [
            "PENDING:   0%|          | 0/150 [elapsed: 25:30 remaining: ?]"
          ]
        },
        {
          "metadata": {
            "tags": null
          },
          "name": "stdout",
          "output_type": "stream",
          "text": [
            "2025-08-09 16:30:40,337 Sleeping for 7s. Reason: PENDING\n"
          ]
        },
        {
          "metadata": {
            "tags": null
          },
          "name": "stderr",
          "output_type": "stream",
          "text": [
            "PENDING:   0%|          | 0/150 [elapsed: 25:38 remaining: ?]"
          ]
        },
        {
          "metadata": {
            "tags": null
          },
          "name": "stdout",
          "output_type": "stream",
          "text": [
            "2025-08-09 16:30:48,050 Sleeping for 7s. Reason: PENDING\n"
          ]
        },
        {
          "metadata": {
            "tags": null
          },
          "name": "stderr",
          "output_type": "stream",
          "text": [
            "PENDING:   0%|          | 0/150 [elapsed: 25:46 remaining: ?]"
          ]
        },
        {
          "metadata": {
            "tags": null
          },
          "name": "stdout",
          "output_type": "stream",
          "text": [
            "2025-08-09 16:30:55,741 Sleeping for 7s. Reason: PENDING\n"
          ]
        },
        {
          "metadata": {
            "tags": null
          },
          "name": "stderr",
          "output_type": "stream",
          "text": [
            "PENDING:   0%|          | 0/150 [elapsed: 25:54 remaining: ?]"
          ]
        },
        {
          "metadata": {
            "tags": null
          },
          "name": "stdout",
          "output_type": "stream",
          "text": [
            "2025-08-09 16:31:03,430 Sleeping for 8s. Reason: PENDING\n"
          ]
        },
        {
          "metadata": {
            "tags": null
          },
          "name": "stderr",
          "output_type": "stream",
          "text": [
            "PENDING:   0%|          | 0/150 [elapsed: 26:02 remaining: ?]"
          ]
        },
        {
          "metadata": {
            "tags": null
          },
          "name": "stdout",
          "output_type": "stream",
          "text": [
            "2025-08-09 16:31:12,115 Sleeping for 7s. Reason: PENDING\n"
          ]
        },
        {
          "metadata": {
            "tags": null
          },
          "name": "stderr",
          "output_type": "stream",
          "text": [
            "PENDING:   0%|          | 0/150 [elapsed: 26:10 remaining: ?]"
          ]
        },
        {
          "metadata": {
            "tags": null
          },
          "name": "stdout",
          "output_type": "stream",
          "text": [
            "2025-08-09 16:31:19,805 Sleeping for 6s. Reason: PENDING\n"
          ]
        },
        {
          "metadata": {
            "tags": null
          },
          "name": "stderr",
          "output_type": "stream",
          "text": [
            "PENDING:   0%|          | 0/150 [elapsed: 26:17 remaining: ?]"
          ]
        },
        {
          "metadata": {
            "tags": null
          },
          "name": "stdout",
          "output_type": "stream",
          "text": [
            "2025-08-09 16:31:26,489 Sleeping for 8s. Reason: PENDING\n"
          ]
        },
        {
          "metadata": {
            "tags": null
          },
          "name": "stderr",
          "output_type": "stream",
          "text": [
            "PENDING:   0%|          | 0/150 [elapsed: 26:25 remaining: ?]"
          ]
        },
        {
          "metadata": {
            "tags": null
          },
          "name": "stdout",
          "output_type": "stream",
          "text": [
            "2025-08-09 16:31:35,178 Sleeping for 9s. Reason: PENDING\n"
          ]
        },
        {
          "metadata": {
            "tags": null
          },
          "name": "stderr",
          "output_type": "stream",
          "text": [
            "PENDING:   0%|          | 0/150 [elapsed: 26:35 remaining: ?]"
          ]
        },
        {
          "metadata": {
            "tags": null
          },
          "name": "stdout",
          "output_type": "stream",
          "text": [
            "2025-08-09 16:31:44,872 Sleeping for 10s. Reason: PENDING\n"
          ]
        },
        {
          "metadata": {
            "tags": null
          },
          "name": "stderr",
          "output_type": "stream",
          "text": [
            "PENDING:   0%|          | 0/150 [elapsed: 26:46 remaining: ?]"
          ]
        },
        {
          "metadata": {
            "tags": null
          },
          "name": "stdout",
          "output_type": "stream",
          "text": [
            "2025-08-09 16:31:55,569 Sleeping for 7s. Reason: PENDING\n"
          ]
        },
        {
          "metadata": {
            "tags": null
          },
          "name": "stderr",
          "output_type": "stream",
          "text": [
            "PENDING:   0%|          | 0/150 [elapsed: 26:53 remaining: ?]"
          ]
        },
        {
          "metadata": {
            "tags": null
          },
          "name": "stdout",
          "output_type": "stream",
          "text": [
            "2025-08-09 16:32:03,258 Sleeping for 9s. Reason: PENDING\n"
          ]
        },
        {
          "metadata": {
            "tags": null
          },
          "name": "stderr",
          "output_type": "stream",
          "text": [
            "PENDING:   0%|          | 0/150 [elapsed: 27:03 remaining: ?]"
          ]
        },
        {
          "metadata": {
            "tags": null
          },
          "name": "stdout",
          "output_type": "stream",
          "text": [
            "2025-08-09 16:32:12,998 Sleeping for 8s. Reason: PENDING\n"
          ]
        },
        {
          "metadata": {
            "tags": null
          },
          "name": "stderr",
          "output_type": "stream",
          "text": [
            "PENDING:   0%|          | 0/150 [elapsed: 27:12 remaining: ?]"
          ]
        },
        {
          "metadata": {
            "tags": null
          },
          "name": "stdout",
          "output_type": "stream",
          "text": [
            "2025-08-09 16:32:21,691 Sleeping for 9s. Reason: PENDING\n"
          ]
        },
        {
          "metadata": {
            "tags": null
          },
          "name": "stderr",
          "output_type": "stream",
          "text": [
            "PENDING:   0%|          | 0/150 [elapsed: 27:21 remaining: ?]"
          ]
        },
        {
          "metadata": {
            "tags": null
          },
          "name": "stdout",
          "output_type": "stream",
          "text": [
            "2025-08-09 16:32:31,377 Sleeping for 8s. Reason: PENDING\n"
          ]
        },
        {
          "metadata": {
            "tags": null
          },
          "name": "stderr",
          "output_type": "stream",
          "text": [
            "PENDING:   0%|          | 0/150 [elapsed: 27:30 remaining: ?]"
          ]
        },
        {
          "metadata": {
            "tags": null
          },
          "name": "stdout",
          "output_type": "stream",
          "text": [
            "2025-08-09 16:32:40,120 Sleeping for 6s. Reason: PENDING\n"
          ]
        },
        {
          "metadata": {
            "tags": null
          },
          "name": "stderr",
          "output_type": "stream",
          "text": [
            "PENDING:   0%|          | 0/150 [elapsed: 27:37 remaining: ?]"
          ]
        },
        {
          "metadata": {
            "tags": null
          },
          "name": "stdout",
          "output_type": "stream",
          "text": [
            "2025-08-09 16:32:46,819 Sleeping for 10s. Reason: PENDING\n"
          ]
        },
        {
          "metadata": {
            "tags": null
          },
          "name": "stderr",
          "output_type": "stream",
          "text": [
            "PENDING:   0%|          | 0/150 [elapsed: 27:48 remaining: ?]"
          ]
        },
        {
          "metadata": {
            "tags": null
          },
          "name": "stdout",
          "output_type": "stream",
          "text": [
            "2025-08-09 16:32:57,510 Sleeping for 8s. Reason: PENDING\n"
          ]
        },
        {
          "metadata": {
            "tags": null
          },
          "name": "stderr",
          "output_type": "stream",
          "text": [
            "PENDING:   0%|          | 0/150 [elapsed: 27:56 remaining: ?]"
          ]
        },
        {
          "metadata": {
            "tags": null
          },
          "name": "stdout",
          "output_type": "stream",
          "text": [
            "2025-08-09 16:33:06,197 Sleeping for 9s. Reason: PENDING\n"
          ]
        },
        {
          "metadata": {
            "tags": null
          },
          "name": "stderr",
          "output_type": "stream",
          "text": [
            "PENDING:   0%|          | 0/150 [elapsed: 28:06 remaining: ?]"
          ]
        },
        {
          "metadata": {
            "tags": null
          },
          "name": "stdout",
          "output_type": "stream",
          "text": [
            "2025-08-09 16:33:15,890 Sleeping for 9s. Reason: PENDING\n"
          ]
        },
        {
          "metadata": {
            "tags": null
          },
          "name": "stderr",
          "output_type": "stream",
          "text": [
            "PENDING:   0%|          | 0/150 [elapsed: 28:16 remaining: ?]"
          ]
        },
        {
          "metadata": {
            "tags": null
          },
          "name": "stdout",
          "output_type": "stream",
          "text": [
            "2025-08-09 16:33:25,592 Sleeping for 9s. Reason: PENDING\n"
          ]
        },
        {
          "metadata": {
            "tags": null
          },
          "name": "stderr",
          "output_type": "stream",
          "text": [
            "PENDING:   0%|          | 0/150 [elapsed: 28:25 remaining: ?]"
          ]
        },
        {
          "metadata": {
            "tags": null
          },
          "name": "stdout",
          "output_type": "stream",
          "text": [
            "2025-08-09 16:33:35,277 Sleeping for 6s. Reason: PENDING\n"
          ]
        },
        {
          "metadata": {
            "tags": null
          },
          "name": "stderr",
          "output_type": "stream",
          "text": [
            "PENDING:   0%|          | 0/150 [elapsed: 28:32 remaining: ?]"
          ]
        },
        {
          "metadata": {
            "tags": null
          },
          "name": "stdout",
          "output_type": "stream",
          "text": [
            "2025-08-09 16:33:41,966 Sleeping for 6s. Reason: PENDING\n"
          ]
        },
        {
          "metadata": {
            "tags": null
          },
          "name": "stderr",
          "output_type": "stream",
          "text": [
            "PENDING:   0%|          | 0/150 [elapsed: 28:39 remaining: ?]"
          ]
        },
        {
          "metadata": {
            "tags": null
          },
          "name": "stdout",
          "output_type": "stream",
          "text": [
            "2025-08-09 16:33:48,647 Sleeping for 7s. Reason: PENDING\n"
          ]
        },
        {
          "metadata": {
            "tags": null
          },
          "name": "stderr",
          "output_type": "stream",
          "text": [
            "PENDING:   0%|          | 0/150 [elapsed: 28:46 remaining: ?]"
          ]
        },
        {
          "metadata": {
            "tags": null
          },
          "name": "stdout",
          "output_type": "stream",
          "text": [
            "2025-08-09 16:33:56,347 Sleeping for 6s. Reason: PENDING\n"
          ]
        },
        {
          "metadata": {
            "tags": null
          },
          "name": "stderr",
          "output_type": "stream",
          "text": [
            "PENDING:   0%|          | 0/150 [elapsed: 28:53 remaining: ?]"
          ]
        },
        {
          "metadata": {
            "tags": null
          },
          "name": "stdout",
          "output_type": "stream",
          "text": [
            "2025-08-09 16:34:03,036 Sleeping for 6s. Reason: PENDING\n"
          ]
        },
        {
          "metadata": {
            "tags": null
          },
          "name": "stderr",
          "output_type": "stream",
          "text": [
            "PENDING:   0%|          | 0/150 [elapsed: 29:00 remaining: ?]"
          ]
        },
        {
          "metadata": {
            "tags": null
          },
          "name": "stdout",
          "output_type": "stream",
          "text": [
            "2025-08-09 16:34:09,718 Sleeping for 10s. Reason: PENDING\n"
          ]
        },
        {
          "metadata": {
            "tags": null
          },
          "name": "stderr",
          "output_type": "stream",
          "text": [
            "PENDING:   0%|          | 0/150 [elapsed: 29:11 remaining: ?]"
          ]
        },
        {
          "metadata": {
            "tags": null
          },
          "name": "stdout",
          "output_type": "stream",
          "text": [
            "2025-08-09 16:34:20,423 Sleeping for 6s. Reason: PENDING\n"
          ]
        },
        {
          "metadata": {
            "tags": null
          },
          "name": "stderr",
          "output_type": "stream",
          "text": [
            "PENDING:   0%|          | 0/150 [elapsed: 29:17 remaining: ?]"
          ]
        },
        {
          "metadata": {
            "tags": null
          },
          "name": "stdout",
          "output_type": "stream",
          "text": [
            "2025-08-09 16:34:27,123 Sleeping for 6s. Reason: PENDING\n"
          ]
        },
        {
          "metadata": {
            "tags": null
          },
          "name": "stderr",
          "output_type": "stream",
          "text": [
            "PENDING:   0%|          | 0/150 [elapsed: 29:24 remaining: ?]"
          ]
        },
        {
          "metadata": {
            "tags": null
          },
          "name": "stdout",
          "output_type": "stream",
          "text": [
            "2025-08-09 16:34:33,807 Sleeping for 8s. Reason: PENDING\n"
          ]
        },
        {
          "metadata": {
            "tags": null
          },
          "name": "stderr",
          "output_type": "stream",
          "text": [
            "PENDING:   0%|          | 0/150 [elapsed: 29:33 remaining: ?]"
          ]
        },
        {
          "metadata": {
            "tags": null
          },
          "name": "stdout",
          "output_type": "stream",
          "text": [
            "2025-08-09 16:34:42,502 Sleeping for 7s. Reason: PENDING\n"
          ]
        },
        {
          "metadata": {
            "tags": null
          },
          "name": "stderr",
          "output_type": "stream",
          "text": [
            "PENDING:   0%|          | 0/150 [elapsed: 29:40 remaining: ?]"
          ]
        },
        {
          "metadata": {
            "tags": null
          },
          "name": "stdout",
          "output_type": "stream",
          "text": [
            "2025-08-09 16:34:50,204 Sleeping for 10s. Reason: PENDING\n"
          ]
        },
        {
          "metadata": {
            "tags": null
          },
          "name": "stderr",
          "output_type": "stream",
          "text": [
            "PENDING:   0%|          | 0/150 [elapsed: 29:51 remaining: ?]"
          ]
        },
        {
          "metadata": {
            "tags": null
          },
          "name": "stdout",
          "output_type": "stream",
          "text": [
            "2025-08-09 16:35:00,885 Sleeping for 8s. Reason: PENDING\n"
          ]
        },
        {
          "metadata": {
            "tags": null
          },
          "name": "stderr",
          "output_type": "stream",
          "text": [
            "PENDING:   0%|          | 0/150 [elapsed: 30:00 remaining: ?]"
          ]
        },
        {
          "metadata": {
            "tags": null
          },
          "name": "stdout",
          "output_type": "stream",
          "text": [
            "2025-08-09 16:35:09,578 Sleeping for 6s. Reason: PENDING\n"
          ]
        },
        {
          "metadata": {
            "tags": null
          },
          "name": "stderr",
          "output_type": "stream",
          "text": [
            "PENDING:   0%|          | 0/150 [elapsed: 30:06 remaining: ?]"
          ]
        },
        {
          "metadata": {
            "tags": null
          },
          "name": "stdout",
          "output_type": "stream",
          "text": [
            "2025-08-09 16:35:16,252 Sleeping for 9s. Reason: PENDING\n"
          ]
        },
        {
          "metadata": {
            "tags": null
          },
          "name": "stderr",
          "output_type": "stream",
          "text": [
            "PENDING:   0%|          | 0/150 [elapsed: 30:16 remaining: ?]"
          ]
        },
        {
          "metadata": {
            "tags": null
          },
          "name": "stdout",
          "output_type": "stream",
          "text": [
            "2025-08-09 16:35:25,947 Sleeping for 10s. Reason: PENDING\n"
          ]
        },
        {
          "metadata": {
            "tags": null
          },
          "name": "stderr",
          "output_type": "stream",
          "text": [
            "PENDING:   0%|          | 0/150 [elapsed: 30:27 remaining: ?]"
          ]
        },
        {
          "metadata": {
            "tags": null
          },
          "name": "stdout",
          "output_type": "stream",
          "text": [
            "2025-08-09 16:35:36,638 Sleeping for 5s. Reason: PENDING\n"
          ]
        },
        {
          "metadata": {
            "tags": null
          },
          "name": "stderr",
          "output_type": "stream",
          "text": [
            "PENDING:   0%|          | 0/150 [elapsed: 30:32 remaining: ?]"
          ]
        },
        {
          "metadata": {
            "tags": null
          },
          "name": "stdout",
          "output_type": "stream",
          "text": [
            "2025-08-09 16:35:42,336 Sleeping for 6s. Reason: PENDING\n"
          ]
        },
        {
          "metadata": {
            "tags": null
          },
          "name": "stderr",
          "output_type": "stream",
          "text": [
            "PENDING:   0%|          | 0/150 [elapsed: 30:39 remaining: ?]"
          ]
        },
        {
          "metadata": {
            "tags": null
          },
          "name": "stdout",
          "output_type": "stream",
          "text": [
            "2025-08-09 16:35:49,025 Sleeping for 5s. Reason: PENDING\n"
          ]
        },
        {
          "metadata": {
            "tags": null
          },
          "name": "stderr",
          "output_type": "stream",
          "text": [
            "PENDING:   0%|          | 0/150 [elapsed: 30:45 remaining: ?]"
          ]
        },
        {
          "metadata": {
            "tags": null
          },
          "name": "stdout",
          "output_type": "stream",
          "text": [
            "2025-08-09 16:35:54,710 Sleeping for 5s. Reason: PENDING\n"
          ]
        },
        {
          "metadata": {
            "tags": null
          },
          "name": "stderr",
          "output_type": "stream",
          "text": [
            "PENDING:   0%|          | 0/150 [elapsed: 30:51 remaining: ?]"
          ]
        },
        {
          "metadata": {
            "tags": null
          },
          "name": "stdout",
          "output_type": "stream",
          "text": [
            "2025-08-09 16:36:00,415 Sleeping for 7s. Reason: PENDING\n"
          ]
        },
        {
          "metadata": {
            "tags": null
          },
          "name": "stderr",
          "output_type": "stream",
          "text": [
            "PENDING:   0%|          | 0/150 [elapsed: 30:58 remaining: ?]"
          ]
        },
        {
          "metadata": {
            "tags": null
          },
          "name": "stdout",
          "output_type": "stream",
          "text": [
            "2025-08-09 16:36:08,104 Sleeping for 10s. Reason: PENDING\n"
          ]
        },
        {
          "metadata": {
            "tags": null
          },
          "name": "stderr",
          "output_type": "stream",
          "text": [
            "PENDING:   0%|          | 0/150 [elapsed: 31:09 remaining: ?]"
          ]
        },
        {
          "metadata": {
            "tags": null
          },
          "name": "stdout",
          "output_type": "stream",
          "text": [
            "2025-08-09 16:36:18,794 Sleeping for 10s. Reason: PENDING\n"
          ]
        },
        {
          "metadata": {
            "tags": null
          },
          "name": "stderr",
          "output_type": "stream",
          "text": [
            "PENDING:   0%|          | 0/150 [elapsed: 31:20 remaining: ?]"
          ]
        },
        {
          "metadata": {
            "tags": null
          },
          "name": "stdout",
          "output_type": "stream",
          "text": [
            "2025-08-09 16:36:29,485 Sleeping for 9s. Reason: PENDING\n"
          ]
        },
        {
          "metadata": {
            "tags": null
          },
          "name": "stderr",
          "output_type": "stream",
          "text": [
            "PENDING:   0%|          | 0/150 [elapsed: 31:29 remaining: ?]"
          ]
        },
        {
          "metadata": {
            "tags": null
          },
          "name": "stdout",
          "output_type": "stream",
          "text": [
            "2025-08-09 16:36:39,175 Sleeping for 6s. Reason: PENDING\n"
          ]
        },
        {
          "metadata": {
            "tags": null
          },
          "name": "stderr",
          "output_type": "stream",
          "text": [
            "PENDING:   0%|          | 0/150 [elapsed: 31:36 remaining: ?]"
          ]
        },
        {
          "metadata": {
            "tags": null
          },
          "name": "stdout",
          "output_type": "stream",
          "text": [
            "2025-08-09 16:36:45,887 Sleeping for 10s. Reason: PENDING\n"
          ]
        },
        {
          "metadata": {
            "tags": null
          },
          "name": "stderr",
          "output_type": "stream",
          "text": [
            "PENDING:   0%|          | 0/150 [elapsed: 31:47 remaining: ?]"
          ]
        },
        {
          "metadata": {
            "tags": null
          },
          "name": "stdout",
          "output_type": "stream",
          "text": [
            "2025-08-09 16:36:56,567 Sleeping for 6s. Reason: PENDING\n"
          ]
        },
        {
          "metadata": {
            "tags": null
          },
          "name": "stderr",
          "output_type": "stream",
          "text": [
            "PENDING:   0%|          | 0/150 [elapsed: 31:53 remaining: ?]"
          ]
        },
        {
          "metadata": {
            "tags": null
          },
          "name": "stdout",
          "output_type": "stream",
          "text": [
            "2025-08-09 16:37:03,244 Sleeping for 9s. Reason: PENDING\n"
          ]
        },
        {
          "metadata": {
            "tags": null
          },
          "name": "stderr",
          "output_type": "stream",
          "text": [
            "PENDING:   0%|          | 0/150 [elapsed: 32:03 remaining: ?]"
          ]
        },
        {
          "metadata": {
            "tags": null
          },
          "name": "stdout",
          "output_type": "stream",
          "text": [
            "2025-08-09 16:37:12,921 Sleeping for 9s. Reason: PENDING\n"
          ]
        },
        {
          "metadata": {
            "tags": null
          },
          "name": "stderr",
          "output_type": "stream",
          "text": [
            "PENDING:   0%|          | 0/150 [elapsed: 32:13 remaining: ?]"
          ]
        },
        {
          "metadata": {
            "tags": null
          },
          "name": "stdout",
          "output_type": "stream",
          "text": [
            "2025-08-09 16:37:22,611 Sleeping for 7s. Reason: PENDING\n"
          ]
        },
        {
          "metadata": {
            "tags": null
          },
          "name": "stderr",
          "output_type": "stream",
          "text": [
            "PENDING:   0%|          | 0/150 [elapsed: 32:20 remaining: ?]"
          ]
        },
        {
          "metadata": {
            "tags": null
          },
          "name": "stdout",
          "output_type": "stream",
          "text": [
            "2025-08-09 16:37:30,294 Sleeping for 8s. Reason: PENDING\n"
          ]
        },
        {
          "metadata": {
            "tags": null
          },
          "name": "stderr",
          "output_type": "stream",
          "text": [
            "PENDING:   0%|          | 0/150 [elapsed: 32:29 remaining: ?]"
          ]
        },
        {
          "metadata": {
            "tags": null
          },
          "name": "stdout",
          "output_type": "stream",
          "text": [
            "2025-08-09 16:37:38,982 Sleeping for 9s. Reason: PENDING\n"
          ]
        },
        {
          "metadata": {
            "tags": null
          },
          "name": "stderr",
          "output_type": "stream",
          "text": [
            "PENDING:   0%|          | 0/150 [elapsed: 32:39 remaining: ?]"
          ]
        },
        {
          "metadata": {
            "tags": null
          },
          "name": "stdout",
          "output_type": "stream",
          "text": [
            "2025-08-09 16:37:48,667 Sleeping for 9s. Reason: PENDING\n"
          ]
        },
        {
          "metadata": {
            "tags": null
          },
          "name": "stderr",
          "output_type": "stream",
          "text": [
            "PENDING:   0%|          | 0/150 [elapsed: 32:48 remaining: ?]"
          ]
        },
        {
          "metadata": {
            "tags": null
          },
          "name": "stdout",
          "output_type": "stream",
          "text": [
            "2025-08-09 16:37:58,361 Sleeping for 5s. Reason: PENDING\n"
          ]
        },
        {
          "metadata": {
            "tags": null
          },
          "name": "stderr",
          "output_type": "stream",
          "text": [
            "PENDING:   0%|          | 0/150 [elapsed: 32:54 remaining: ?]"
          ]
        },
        {
          "metadata": {
            "tags": null
          },
          "name": "stdout",
          "output_type": "stream",
          "text": [
            "2025-08-09 16:38:04,051 Sleeping for 10s. Reason: PENDING\n"
          ]
        },
        {
          "metadata": {
            "tags": null
          },
          "name": "stderr",
          "output_type": "stream",
          "text": [
            "PENDING:   0%|          | 0/150 [elapsed: 33:05 remaining: ?]"
          ]
        },
        {
          "metadata": {
            "tags": null
          },
          "name": "stdout",
          "output_type": "stream",
          "text": [
            "2025-08-09 16:38:14,740 Sleeping for 10s. Reason: PENDING\n"
          ]
        },
        {
          "metadata": {
            "tags": null
          },
          "name": "stderr",
          "output_type": "stream",
          "text": [
            "PENDING:   0%|          | 0/150 [elapsed: 33:16 remaining: ?]"
          ]
        },
        {
          "metadata": {
            "tags": null
          },
          "name": "stdout",
          "output_type": "stream",
          "text": [
            "2025-08-09 16:38:25,426 Sleeping for 10s. Reason: PENDING\n"
          ]
        },
        {
          "metadata": {
            "tags": null
          },
          "name": "stderr",
          "output_type": "stream",
          "text": [
            "PENDING:   0%|          | 0/150 [elapsed: 33:26 remaining: ?]"
          ]
        },
        {
          "metadata": {
            "tags": null
          },
          "name": "stdout",
          "output_type": "stream",
          "text": [
            "2025-08-09 16:38:36,111 Sleeping for 9s. Reason: PENDING\n"
          ]
        },
        {
          "metadata": {
            "tags": null
          },
          "name": "stderr",
          "output_type": "stream",
          "text": [
            "PENDING:   0%|          | 0/150 [elapsed: 33:36 remaining: ?]"
          ]
        },
        {
          "metadata": {
            "tags": null
          },
          "name": "stdout",
          "output_type": "stream",
          "text": [
            "2025-08-09 16:38:45,807 Sleeping for 5s. Reason: PENDING\n"
          ]
        },
        {
          "metadata": {
            "tags": null
          },
          "name": "stderr",
          "output_type": "stream",
          "text": [
            "PENDING:   0%|          | 0/150 [elapsed: 33:42 remaining: ?]"
          ]
        },
        {
          "metadata": {
            "tags": null
          },
          "name": "stdout",
          "output_type": "stream",
          "text": [
            "2025-08-09 16:38:51,527 Sleeping for 8s. Reason: PENDING\n"
          ]
        },
        {
          "metadata": {
            "tags": null
          },
          "name": "stderr",
          "output_type": "stream",
          "text": [
            "PENDING:   0%|          | 0/150 [elapsed: 33:50 remaining: ?]"
          ]
        },
        {
          "metadata": {
            "tags": null
          },
          "name": "stdout",
          "output_type": "stream",
          "text": [
            "2025-08-09 16:39:00,208 Sleeping for 10s. Reason: PENDING\n"
          ]
        },
        {
          "metadata": {
            "tags": null
          },
          "name": "stderr",
          "output_type": "stream",
          "text": [
            "PENDING:   0%|          | 0/150 [elapsed: 34:01 remaining: ?]"
          ]
        },
        {
          "metadata": {
            "tags": null
          },
          "name": "stdout",
          "output_type": "stream",
          "text": [
            "2025-08-09 16:39:10,902 Sleeping for 8s. Reason: PENDING\n"
          ]
        },
        {
          "metadata": {
            "tags": null
          },
          "name": "stderr",
          "output_type": "stream",
          "text": [
            "PENDING:   0%|          | 0/150 [elapsed: 34:10 remaining: ?]"
          ]
        },
        {
          "metadata": {
            "tags": null
          },
          "name": "stdout",
          "output_type": "stream",
          "text": [
            "2025-08-09 16:39:19,610 Sleeping for 5s. Reason: PENDING\n"
          ]
        },
        {
          "metadata": {
            "tags": null
          },
          "name": "stderr",
          "output_type": "stream",
          "text": [
            "PENDING:   0%|          | 0/150 [elapsed: 34:15 remaining: ?]"
          ]
        },
        {
          "metadata": {
            "tags": null
          },
          "name": "stdout",
          "output_type": "stream",
          "text": [
            "2025-08-09 16:39:25,292 Sleeping for 9s. Reason: PENDING\n"
          ]
        },
        {
          "metadata": {
            "tags": null
          },
          "name": "stderr",
          "output_type": "stream",
          "text": [
            "PENDING:   0%|          | 0/150 [elapsed: 34:25 remaining: ?]"
          ]
        },
        {
          "metadata": {
            "tags": null
          },
          "name": "stdout",
          "output_type": "stream",
          "text": [
            "2025-08-09 16:39:34,986 Sleeping for 7s. Reason: PENDING\n"
          ]
        },
        {
          "metadata": {
            "tags": null
          },
          "name": "stderr",
          "output_type": "stream",
          "text": [
            "PENDING:   0%|          | 0/150 [elapsed: 34:33 remaining: ?]"
          ]
        },
        {
          "metadata": {
            "tags": null
          },
          "name": "stdout",
          "output_type": "stream",
          "text": [
            "2025-08-09 16:39:42,665 Sleeping for 7s. Reason: PENDING\n"
          ]
        },
        {
          "metadata": {
            "tags": null
          },
          "name": "stderr",
          "output_type": "stream",
          "text": [
            "PENDING:   0%|          | 0/150 [elapsed: 34:40 remaining: ?]"
          ]
        },
        {
          "metadata": {
            "tags": null
          },
          "name": "stdout",
          "output_type": "stream",
          "text": [
            "2025-08-09 16:39:50,343 Sleeping for 10s. Reason: PENDING\n"
          ]
        },
        {
          "metadata": {
            "tags": null
          },
          "name": "stderr",
          "output_type": "stream",
          "text": [
            "PENDING:   0%|          | 0/150 [elapsed: 34:51 remaining: ?]"
          ]
        },
        {
          "metadata": {
            "tags": null
          },
          "name": "stdout",
          "output_type": "stream",
          "text": [
            "2025-08-09 16:40:01,043 Sleeping for 7s. Reason: PENDING\n"
          ]
        },
        {
          "metadata": {
            "tags": null
          },
          "name": "stderr",
          "output_type": "stream",
          "text": [
            "PENDING:   0%|          | 0/150 [elapsed: 34:59 remaining: ?]"
          ]
        },
        {
          "metadata": {
            "tags": null
          },
          "name": "stdout",
          "output_type": "stream",
          "text": [
            "2025-08-09 16:40:08,728 Sleeping for 7s. Reason: PENDING\n"
          ]
        },
        {
          "metadata": {
            "tags": null
          },
          "name": "stderr",
          "output_type": "stream",
          "text": [
            "PENDING:   0%|          | 0/150 [elapsed: 35:07 remaining: ?]"
          ]
        },
        {
          "metadata": {
            "tags": null
          },
          "name": "stdout",
          "output_type": "stream",
          "text": [
            "2025-08-09 16:40:16,419 Sleeping for 5s. Reason: PENDING\n"
          ]
        },
        {
          "metadata": {
            "tags": null
          },
          "name": "stderr",
          "output_type": "stream",
          "text": [
            "PENDING:   0%|          | 0/150 [elapsed: 35:12 remaining: ?]"
          ]
        },
        {
          "metadata": {
            "tags": null
          },
          "name": "stdout",
          "output_type": "stream",
          "text": [
            "2025-08-09 16:40:22,105 Sleeping for 7s. Reason: PENDING\n"
          ]
        },
        {
          "metadata": {
            "tags": null
          },
          "name": "stderr",
          "output_type": "stream",
          "text": [
            "PENDING:   0%|          | 0/150 [elapsed: 35:20 remaining: ?]"
          ]
        },
        {
          "metadata": {
            "tags": null
          },
          "name": "stdout",
          "output_type": "stream",
          "text": [
            "2025-08-09 16:40:29,812 Sleeping for 8s. Reason: PENDING\n"
          ]
        },
        {
          "metadata": {
            "tags": null
          },
          "name": "stderr",
          "output_type": "stream",
          "text": [
            "PENDING:   0%|          | 0/150 [elapsed: 35:29 remaining: ?]"
          ]
        },
        {
          "metadata": {
            "tags": null
          },
          "name": "stdout",
          "output_type": "stream",
          "text": [
            "2025-08-09 16:40:38,494 Sleeping for 6s. Reason: PENDING\n"
          ]
        },
        {
          "metadata": {
            "tags": null
          },
          "name": "stderr",
          "output_type": "stream",
          "text": [
            "PENDING:   0%|          | 0/150 [elapsed: 35:35 remaining: ?]"
          ]
        },
        {
          "metadata": {
            "tags": null
          },
          "name": "stdout",
          "output_type": "stream",
          "text": [
            "2025-08-09 16:40:45,243 Sleeping for 7s. Reason: PENDING\n"
          ]
        },
        {
          "metadata": {
            "tags": null
          },
          "name": "stderr",
          "output_type": "stream",
          "text": [
            "PENDING:   0%|          | 0/150 [elapsed: 35:43 remaining: ?]"
          ]
        },
        {
          "metadata": {
            "tags": null
          },
          "name": "stdout",
          "output_type": "stream",
          "text": [
            "2025-08-09 16:40:52,932 Sleeping for 7s. Reason: PENDING\n"
          ]
        },
        {
          "metadata": {
            "tags": null
          },
          "name": "stderr",
          "output_type": "stream",
          "text": [
            "PENDING:   0%|          | 0/150 [elapsed: 35:51 remaining: ?]"
          ]
        },
        {
          "metadata": {
            "tags": null
          },
          "name": "stdout",
          "output_type": "stream",
          "text": [
            "2025-08-09 16:41:00,628 Sleeping for 10s. Reason: PENDING\n"
          ]
        },
        {
          "metadata": {
            "tags": null
          },
          "name": "stderr",
          "output_type": "stream",
          "text": [
            "PENDING:   0%|          | 0/150 [elapsed: 36:01 remaining: ?]"
          ]
        },
        {
          "metadata": {
            "tags": null
          },
          "name": "stdout",
          "output_type": "stream",
          "text": [
            "2025-08-09 16:41:11,315 Sleeping for 8s. Reason: PENDING\n"
          ]
        },
        {
          "metadata": {
            "tags": null
          },
          "name": "stderr",
          "output_type": "stream",
          "text": [
            "PENDING:   0%|          | 0/150 [elapsed: 36:11 remaining: ?]"
          ]
        },
        {
          "metadata": {
            "tags": null
          },
          "name": "stdout",
          "output_type": "stream",
          "text": [
            "2025-08-09 16:41:20,534 Sleeping for 8s. Reason: PENDING\n"
          ]
        },
        {
          "metadata": {
            "tags": null
          },
          "name": "stderr",
          "output_type": "stream",
          "text": [
            "PENDING:   0%|          | 0/150 [elapsed: 36:19 remaining: ?]"
          ]
        },
        {
          "metadata": {
            "tags": null
          },
          "name": "stdout",
          "output_type": "stream",
          "text": [
            "2025-08-09 16:41:29,216 Sleeping for 6s. Reason: PENDING\n"
          ]
        },
        {
          "metadata": {
            "tags": null
          },
          "name": "stderr",
          "output_type": "stream",
          "text": [
            "PENDING:   0%|          | 0/150 [elapsed: 36:26 remaining: ?]"
          ]
        },
        {
          "metadata": {
            "tags": null
          },
          "name": "stdout",
          "output_type": "stream",
          "text": [
            "2025-08-09 16:41:35,894 Sleeping for 10s. Reason: PENDING\n"
          ]
        },
        {
          "metadata": {
            "tags": null
          },
          "name": "stderr",
          "output_type": "stream",
          "text": [
            "RUNNING:   7%|▋         | 10/150 [elapsed: 36:37 remaining: 8:32:40]"
          ]
        },
        {
          "metadata": {
            "tags": null
          },
          "name": "stdout",
          "output_type": "stream",
          "text": [
            "2025-08-09 16:41:46,577 Sleeping for 8s. Reason: RUNNING\n"
          ]
        },
        {
          "metadata": {
            "tags": null
          },
          "name": "stderr",
          "output_type": "stream",
          "text": [
            "RUNNING:  12%|█▏        | 18/150 [elapsed: 36:45 remaining: 3:46:51]"
          ]
        },
        {
          "metadata": {
            "tags": null
          },
          "name": "stdout",
          "output_type": "stream",
          "text": [
            "2025-08-09 16:41:55,268 Sleeping for 5s. Reason: RUNNING\n"
          ]
        },
        {
          "metadata": {
            "tags": null
          },
          "name": "stderr",
          "output_type": "stream",
          "text": [
            "RUNNING:  15%|█▌        | 23/150 [elapsed: 36:51 remaining: 2:28:38]"
          ]
        },
        {
          "metadata": {
            "tags": null
          },
          "name": "stdout",
          "output_type": "stream",
          "text": [
            "2025-08-09 16:42:01,002 Sleeping for 5s. Reason: RUNNING\n"
          ]
        },
        {
          "metadata": {
            "tags": null
          },
          "name": "stderr",
          "output_type": "stream",
          "text": [
            "RUNNING:  19%|█▊        | 28/150 [elapsed: 36:57 remaining: 1:38:28]"
          ]
        },
        {
          "metadata": {
            "tags": null
          },
          "name": "stdout",
          "output_type": "stream",
          "text": [
            "2025-08-09 16:42:06,688 Sleeping for 10s. Reason: RUNNING\n"
          ]
        },
        {
          "metadata": {
            "tags": null
          },
          "name": "stderr",
          "output_type": "stream",
          "text": [
            "RUNNING:  25%|██▌       | 38/150 [elapsed: 37:08 remaining: 48:30]"
          ]
        },
        {
          "metadata": {
            "tags": null
          },
          "name": "stdout",
          "output_type": "stream",
          "text": [
            "2025-08-09 16:42:17,491 Sleeping for 7s. Reason: RUNNING\n"
          ]
        },
        {
          "metadata": {
            "tags": null
          },
          "name": "stderr",
          "output_type": "stream",
          "text": [
            "RUNNING:  30%|███       | 45/150 [elapsed: 37:15 remaining: 31:27]"
          ]
        },
        {
          "metadata": {
            "tags": null
          },
          "name": "stdout",
          "output_type": "stream",
          "text": [
            "2025-08-09 16:42:25,177 Sleeping for 5s. Reason: RUNNING\n"
          ]
        },
        {
          "metadata": {
            "tags": null
          },
          "name": "stderr",
          "output_type": "stream",
          "text": [
            "RUNNING:  33%|███▎      | 50/150 [elapsed: 37:21 remaining: 23:01]"
          ]
        },
        {
          "metadata": {
            "tags": null
          },
          "name": "stdout",
          "output_type": "stream",
          "text": [
            "2025-08-09 16:42:30,875 Sleeping for 8s. Reason: RUNNING\n"
          ]
        },
        {
          "metadata": {
            "tags": null
          },
          "name": "stderr",
          "output_type": "stream",
          "text": [
            "RUNNING:  39%|███▊      | 58/150 [elapsed: 37:30 remaining: 14:08]"
          ]
        },
        {
          "metadata": {
            "tags": null
          },
          "name": "stdout",
          "output_type": "stream",
          "text": [
            "2025-08-09 16:42:39,575 Sleeping for 8s. Reason: RUNNING\n"
          ]
        },
        {
          "metadata": {
            "tags": null
          },
          "name": "stderr",
          "output_type": "stream",
          "text": [
            "RUNNING:  44%|████▍     | 66/150 [elapsed: 37:38 remaining: 09:02]"
          ]
        },
        {
          "metadata": {
            "tags": null
          },
          "name": "stdout",
          "output_type": "stream",
          "text": [
            "2025-08-09 16:42:48,262 Sleeping for 6s. Reason: RUNNING\n"
          ]
        },
        {
          "metadata": {
            "tags": null
          },
          "name": "stderr",
          "output_type": "stream",
          "text": [
            "RUNNING:  48%|████▊     | 72/150 [elapsed: 37:45 remaining: 06:32]"
          ]
        },
        {
          "metadata": {
            "tags": null
          },
          "name": "stdout",
          "output_type": "stream",
          "text": [
            "2025-08-09 16:42:54,946 Sleeping for 5s. Reason: RUNNING\n"
          ]
        },
        {
          "metadata": {
            "tags": null
          },
          "name": "stderr",
          "output_type": "stream",
          "text": [
            "RUNNING:  51%|█████▏    | 77/150 [elapsed: 37:51 remaining: 04:58]"
          ]
        },
        {
          "metadata": {
            "tags": null
          },
          "name": "stdout",
          "output_type": "stream",
          "text": [
            "2025-08-09 16:43:00,624 Sleeping for 6s. Reason: RUNNING\n"
          ]
        },
        {
          "metadata": {
            "tags": null
          },
          "name": "stderr",
          "output_type": "stream",
          "text": [
            "COMPLETE: 100%|██████████| 150/150 [elapsed: 38:03 remaining: 00:00]\n"
          ]
        },
        {
          "output_type": "stream",
          "name": "stdout",
          "text": [
            "2025-08-09 16:43:16,395 Padding length to 425\n",
            "2025-08-09 16:45:32,466 alphafold2_ptm_model_1_seed_000 recycle=0 pLDDT=64.2 pTM=0.721\n",
            "2025-08-09 16:46:30,230 alphafold2_ptm_model_1_seed_000 recycle=1 pLDDT=65.6 pTM=0.744 tol=3.03\n",
            "2025-08-09 16:46:34,832 alphafold2_ptm_model_1_seed_000 recycle=2 pLDDT=65.9 pTM=0.747 tol=1.78\n",
            "2025-08-09 16:46:39,431 alphafold2_ptm_model_1_seed_000 recycle=3 pLDDT=65.7 pTM=0.738 tol=1.33\n",
            "2025-08-09 16:46:39,432 alphafold2_ptm_model_1_seed_000 took 203.0s (3 recycles)\n",
            "2025-08-09 16:46:44,215 alphafold2_ptm_model_2_seed_000 recycle=0 pLDDT=65.9 pTM=0.742\n",
            "2025-08-09 16:46:48,813 alphafold2_ptm_model_2_seed_000 recycle=1 pLDDT=70.5 pTM=0.784 tol=4.97\n",
            "2025-08-09 16:46:53,399 alphafold2_ptm_model_2_seed_000 recycle=2 pLDDT=66.4 pTM=0.746 tol=1.68\n",
            "2025-08-09 16:46:57,998 alphafold2_ptm_model_2_seed_000 recycle=3 pLDDT=66.6 pTM=0.749 tol=4.63\n",
            "2025-08-09 16:46:57,999 alphafold2_ptm_model_2_seed_000 took 18.4s (3 recycles)\n",
            "2025-08-09 16:47:02,798 alphafold2_ptm_model_3_seed_000 recycle=0 pLDDT=65.3 pTM=0.731\n",
            "2025-08-09 16:47:07,408 alphafold2_ptm_model_3_seed_000 recycle=1 pLDDT=65 pTM=0.727 tol=2.75\n",
            "2025-08-09 16:47:12,011 alphafold2_ptm_model_3_seed_000 recycle=2 pLDDT=63.3 pTM=0.703 tol=2.87\n",
            "2025-08-09 16:47:16,617 alphafold2_ptm_model_3_seed_000 recycle=3 pLDDT=63.3 pTM=0.698 tol=1.5\n",
            "2025-08-09 16:47:16,618 alphafold2_ptm_model_3_seed_000 took 18.4s (3 recycles)\n",
            "2025-08-09 16:47:21,399 alphafold2_ptm_model_4_seed_000 recycle=0 pLDDT=66.4 pTM=0.735\n",
            "2025-08-09 16:47:26,000 alphafold2_ptm_model_4_seed_000 recycle=1 pLDDT=65.3 pTM=0.72 tol=3.68\n",
            "2025-08-09 16:47:30,594 alphafold2_ptm_model_4_seed_000 recycle=2 pLDDT=65.1 pTM=0.714 tol=1.39\n",
            "2025-08-09 16:47:35,195 alphafold2_ptm_model_4_seed_000 recycle=3 pLDDT=64.5 pTM=0.701 tol=1.7\n",
            "2025-08-09 16:47:35,196 alphafold2_ptm_model_4_seed_000 took 18.4s (3 recycles)\n",
            "2025-08-09 16:47:40,003 alphafold2_ptm_model_5_seed_000 recycle=0 pLDDT=65.9 pTM=0.749\n",
            "2025-08-09 16:47:44,611 alphafold2_ptm_model_5_seed_000 recycle=1 pLDDT=65.2 pTM=0.739 tol=1.84\n",
            "2025-08-09 16:47:49,213 alphafold2_ptm_model_5_seed_000 recycle=2 pLDDT=64.9 pTM=0.73 tol=1.3\n",
            "2025-08-09 16:47:53,818 alphafold2_ptm_model_5_seed_000 recycle=3 pLDDT=64.1 pTM=0.717 tol=1.07\n",
            "2025-08-09 16:47:53,819 alphafold2_ptm_model_5_seed_000 took 18.4s (3 recycles)\n",
            "2025-08-09 16:47:53,994 reranking models by 'plddt' metric\n",
            "2025-08-09 16:47:53,994 rank_001_alphafold2_ptm_model_2_seed_000 pLDDT=66.6 pTM=0.749\n",
            "2025-08-09 16:47:53,997 rank_002_alphafold2_ptm_model_1_seed_000 pLDDT=65.7 pTM=0.738\n",
            "2025-08-09 16:47:53,999 rank_003_alphafold2_ptm_model_4_seed_000 pLDDT=64.5 pTM=0.701\n",
            "2025-08-09 16:47:54,001 rank_004_alphafold2_ptm_model_5_seed_000 pLDDT=64.1 pTM=0.717\n",
            "2025-08-09 16:47:54,003 rank_005_alphafold2_ptm_model_3_seed_000 pLDDT=63.3 pTM=0.698\n",
            "2025-08-09 16:47:55,627 Query 5/8: seq_4 (length 449)\n"
          ]
        },
        {
          "output_type": "stream",
          "name": "stderr",
          "text": [
            "PENDING:   0%|          | 0/150 [elapsed: 00:00 remaining: ?]"
          ]
        },
        {
          "output_type": "stream",
          "name": "stdout",
          "text": [
            "2025-08-09 16:47:56,325 Sleeping for 6s. Reason: PENDING\n"
          ]
        },
        {
          "output_type": "stream",
          "name": "stderr",
          "text": [
            "RUNNING:   4%|▍         | 6/150 [elapsed: 00:07 remaining: 02:57]"
          ]
        },
        {
          "output_type": "stream",
          "name": "stdout",
          "text": [
            "2025-08-09 16:48:03,031 Sleeping for 8s. Reason: RUNNING\n"
          ]
        },
        {
          "output_type": "stream",
          "name": "stderr",
          "text": [
            "RUNNING:   9%|▉         | 14/150 [elapsed: 00:16 remaining: 02:34]"
          ]
        },
        {
          "output_type": "stream",
          "name": "stdout",
          "text": [
            "2025-08-09 16:48:11,734 Sleeping for 6s. Reason: RUNNING\n"
          ]
        },
        {
          "output_type": "stream",
          "name": "stderr",
          "text": [
            "RUNNING:  13%|█▎        | 20/150 [elapsed: 00:22 remaining: 02:27]"
          ]
        },
        {
          "output_type": "stream",
          "name": "stdout",
          "text": [
            "2025-08-09 16:48:18,470 Sleeping for 5s. Reason: RUNNING\n"
          ]
        },
        {
          "output_type": "stream",
          "name": "stderr",
          "text": [
            "RUNNING:  17%|█▋        | 25/150 [elapsed: 00:28 remaining: 02:21]"
          ]
        },
        {
          "output_type": "stream",
          "name": "stdout",
          "text": [
            "2025-08-09 16:48:24,150 Sleeping for 8s. Reason: RUNNING\n"
          ]
        },
        {
          "output_type": "stream",
          "name": "stderr",
          "text": [
            "RUNNING:  22%|██▏       | 33/150 [elapsed: 00:37 remaining: 02:10]"
          ]
        },
        {
          "output_type": "stream",
          "name": "stdout",
          "text": [
            "2025-08-09 16:48:32,835 Sleeping for 9s. Reason: RUNNING\n"
          ]
        },
        {
          "output_type": "stream",
          "name": "stderr",
          "text": [
            "RUNNING:  28%|██▊       | 42/150 [elapsed: 00:46 remaining: 01:58]"
          ]
        },
        {
          "output_type": "stream",
          "name": "stdout",
          "text": [
            "2025-08-09 16:48:42,523 Sleeping for 5s. Reason: RUNNING\n"
          ]
        },
        {
          "output_type": "stream",
          "name": "stderr",
          "text": [
            "RUNNING:  31%|███▏      | 47/150 [elapsed: 00:52 remaining: 01:54]"
          ]
        },
        {
          "output_type": "stream",
          "name": "stdout",
          "text": [
            "2025-08-09 16:48:48,211 Sleeping for 5s. Reason: RUNNING\n"
          ]
        },
        {
          "output_type": "stream",
          "name": "stderr",
          "text": [
            "RUNNING:  35%|███▍      | 52/150 [elapsed: 00:58 remaining: 01:49]"
          ]
        },
        {
          "output_type": "stream",
          "name": "stdout",
          "text": [
            "2025-08-09 16:48:53,903 Sleeping for 7s. Reason: RUNNING\n"
          ]
        },
        {
          "output_type": "stream",
          "name": "stderr",
          "text": [
            "RUNNING:  39%|███▉      | 59/150 [elapsed: 01:05 remaining: 01:40]"
          ]
        },
        {
          "output_type": "stream",
          "name": "stdout",
          "text": [
            "2025-08-09 16:49:01,589 Sleeping for 9s. Reason: RUNNING\n"
          ]
        },
        {
          "output_type": "stream",
          "name": "stderr",
          "text": [
            "RUNNING:  45%|████▌     | 68/150 [elapsed: 01:15 remaining: 01:29]"
          ]
        },
        {
          "output_type": "stream",
          "name": "stdout",
          "text": [
            "2025-08-09 16:49:11,277 Sleeping for 6s. Reason: RUNNING\n"
          ]
        },
        {
          "output_type": "stream",
          "name": "stderr",
          "text": [
            "RUNNING:  49%|████▉     | 74/150 [elapsed: 01:22 remaining: 01:23]"
          ]
        },
        {
          "output_type": "stream",
          "name": "stdout",
          "text": [
            "2025-08-09 16:49:18,027 Sleeping for 8s. Reason: RUNNING\n"
          ]
        },
        {
          "output_type": "stream",
          "name": "stderr",
          "text": [
            "RUNNING:  55%|█████▍    | 82/150 [elapsed: 01:31 remaining: 01:14]"
          ]
        },
        {
          "output_type": "stream",
          "name": "stdout",
          "text": [
            "2025-08-09 16:49:26,712 Sleeping for 6s. Reason: RUNNING\n"
          ]
        },
        {
          "output_type": "stream",
          "name": "stderr",
          "text": [
            "RUNNING:  59%|█████▊    | 88/150 [elapsed: 01:37 remaining: 01:08]"
          ]
        },
        {
          "output_type": "stream",
          "name": "stdout",
          "text": [
            "2025-08-09 16:49:33,396 Sleeping for 9s. Reason: RUNNING\n"
          ]
        },
        {
          "output_type": "stream",
          "name": "stderr",
          "text": [
            "COMPLETE: 100%|██████████| 150/150 [elapsed: 01:53 remaining: 00:00]\n"
          ]
        },
        {
          "output_type": "stream",
          "name": "stdout",
          "text": [
            "2025-08-09 16:49:58,372 Padding length to 459\n",
            "2025-08-09 16:52:13,268 alphafold2_ptm_model_1_seed_000 recycle=0 pLDDT=75.2 pTM=0.679\n",
            "2025-08-09 16:53:15,705 alphafold2_ptm_model_1_seed_000 recycle=1 pLDDT=76.2 pTM=0.69 tol=8.95\n",
            "2025-08-09 16:53:21,258 alphafold2_ptm_model_1_seed_000 recycle=2 pLDDT=76.5 pTM=0.691 tol=5.33\n",
            "2025-08-09 16:53:26,812 alphafold2_ptm_model_1_seed_000 recycle=3 pLDDT=76.3 pTM=0.693 tol=4.33\n",
            "2025-08-09 16:53:26,813 alphafold2_ptm_model_1_seed_000 took 208.4s (3 recycles)\n",
            "2025-08-09 16:53:32,561 alphafold2_ptm_model_2_seed_000 recycle=0 pLDDT=74.3 pTM=0.669\n",
            "2025-08-09 16:53:38,124 alphafold2_ptm_model_2_seed_000 recycle=1 pLDDT=75 pTM=0.675 tol=7.04\n",
            "2025-08-09 16:53:43,686 alphafold2_ptm_model_2_seed_000 recycle=2 pLDDT=74.9 pTM=0.678 tol=3.1\n",
            "2025-08-09 16:53:49,249 alphafold2_ptm_model_2_seed_000 recycle=3 pLDDT=74.8 pTM=0.678 tol=1.68\n",
            "2025-08-09 16:53:49,250 alphafold2_ptm_model_2_seed_000 took 22.2s (3 recycles)\n",
            "2025-08-09 16:53:55,010 alphafold2_ptm_model_3_seed_000 recycle=0 pLDDT=74.4 pTM=0.675\n",
            "2025-08-09 16:54:00,579 alphafold2_ptm_model_3_seed_000 recycle=1 pLDDT=75.1 pTM=0.682 tol=4.88\n",
            "2025-08-09 16:54:06,150 alphafold2_ptm_model_3_seed_000 recycle=2 pLDDT=75.5 pTM=0.684 tol=4.72\n",
            "2025-08-09 16:54:11,732 alphafold2_ptm_model_3_seed_000 recycle=3 pLDDT=75.3 pTM=0.686 tol=4.6\n",
            "2025-08-09 16:54:11,733 alphafold2_ptm_model_3_seed_000 took 22.3s (3 recycles)\n",
            "2025-08-09 16:54:17,506 alphafold2_ptm_model_4_seed_000 recycle=0 pLDDT=74.7 pTM=0.674\n",
            "2025-08-09 16:54:23,079 alphafold2_ptm_model_4_seed_000 recycle=1 pLDDT=75 pTM=0.678 tol=5.52\n",
            "2025-08-09 16:54:28,648 alphafold2_ptm_model_4_seed_000 recycle=2 pLDDT=74.9 pTM=0.68 tol=4.5\n",
            "2025-08-09 16:54:34,221 alphafold2_ptm_model_4_seed_000 recycle=3 pLDDT=74.8 pTM=0.679 tol=3.85\n",
            "2025-08-09 16:54:34,222 alphafold2_ptm_model_4_seed_000 took 22.3s (3 recycles)\n",
            "2025-08-09 16:54:39,983 alphafold2_ptm_model_5_seed_000 recycle=0 pLDDT=74.5 pTM=0.677\n",
            "2025-08-09 16:54:45,551 alphafold2_ptm_model_5_seed_000 recycle=1 pLDDT=74.9 pTM=0.681 tol=3.49\n",
            "2025-08-09 16:54:51,116 alphafold2_ptm_model_5_seed_000 recycle=2 pLDDT=75 pTM=0.682 tol=3\n",
            "2025-08-09 16:54:56,689 alphafold2_ptm_model_5_seed_000 recycle=3 pLDDT=74.8 pTM=0.682 tol=3.86\n",
            "2025-08-09 16:54:56,690 alphafold2_ptm_model_5_seed_000 took 22.3s (3 recycles)\n",
            "2025-08-09 16:54:56,885 reranking models by 'plddt' metric\n",
            "2025-08-09 16:54:56,885 rank_001_alphafold2_ptm_model_1_seed_000 pLDDT=76.3 pTM=0.693\n",
            "2025-08-09 16:54:56,888 rank_002_alphafold2_ptm_model_3_seed_000 pLDDT=75.3 pTM=0.686\n",
            "2025-08-09 16:54:56,890 rank_003_alphafold2_ptm_model_4_seed_000 pLDDT=74.8 pTM=0.679\n",
            "2025-08-09 16:54:56,893 rank_004_alphafold2_ptm_model_2_seed_000 pLDDT=74.8 pTM=0.678\n",
            "2025-08-09 16:54:56,896 rank_005_alphafold2_ptm_model_5_seed_000 pLDDT=74.8 pTM=0.682\n",
            "2025-08-09 16:54:58,518 Query 6/8: seq_7 (length 495)\n"
          ]
        },
        {
          "output_type": "stream",
          "name": "stderr",
          "text": [
            "PENDING:   0%|          | 0/150 [elapsed: 00:00 remaining: ?]"
          ]
        },
        {
          "output_type": "stream",
          "name": "stdout",
          "text": [
            "2025-08-09 16:54:59,227 Sleeping for 10s. Reason: PENDING\n"
          ]
        },
        {
          "output_type": "stream",
          "name": "stderr",
          "text": [
            "RUNNING:   7%|▋         | 10/150 [elapsed: 00:11 remaining: 02:39]"
          ]
        },
        {
          "output_type": "stream",
          "name": "stdout",
          "text": [
            "2025-08-09 16:55:09,918 Sleeping for 5s. Reason: RUNNING\n"
          ]
        },
        {
          "output_type": "stream",
          "name": "stderr",
          "text": [
            "RUNNING:  10%|█         | 15/150 [elapsed: 00:17 remaining: 02:33]"
          ]
        },
        {
          "output_type": "stream",
          "name": "stdout",
          "text": [
            "2025-08-09 16:55:15,613 Sleeping for 6s. Reason: RUNNING\n"
          ]
        },
        {
          "output_type": "stream",
          "name": "stderr",
          "text": [
            "RUNNING:  14%|█▍        | 21/150 [elapsed: 00:23 remaining: 02:25]"
          ]
        },
        {
          "output_type": "stream",
          "name": "stdout",
          "text": [
            "2025-08-09 16:55:22,305 Sleeping for 5s. Reason: RUNNING\n"
          ]
        },
        {
          "output_type": "stream",
          "name": "stderr",
          "text": [
            "RUNNING:  17%|█▋        | 26/150 [elapsed: 00:29 remaining: 02:20]"
          ]
        },
        {
          "output_type": "stream",
          "name": "stdout",
          "text": [
            "2025-08-09 16:55:28,016 Sleeping for 7s. Reason: RUNNING\n"
          ]
        },
        {
          "output_type": "stream",
          "name": "stderr",
          "text": [
            "RUNNING:  22%|██▏       | 33/150 [elapsed: 00:37 remaining: 02:11]"
          ]
        },
        {
          "output_type": "stream",
          "name": "stdout",
          "text": [
            "2025-08-09 16:55:35,710 Sleeping for 7s. Reason: RUNNING\n"
          ]
        },
        {
          "output_type": "stream",
          "name": "stderr",
          "text": [
            "COMPLETE: 100%|██████████| 150/150 [elapsed: 00:45 remaining: 00:00]\n"
          ]
        },
        {
          "output_type": "stream",
          "name": "stdout",
          "text": [
            "2025-08-09 16:55:46,045 Padding length to 505\n",
            "2025-08-09 16:58:01,290 alphafold2_ptm_model_1_seed_000 recycle=0 pLDDT=39 pTM=0.206\n",
            "2025-08-09 16:59:01,398 alphafold2_ptm_model_1_seed_000 recycle=1 pLDDT=37.3 pTM=0.193 tol=11\n",
            "2025-08-09 16:59:07,270 alphafold2_ptm_model_1_seed_000 recycle=2 pLDDT=36.6 pTM=0.191 tol=13.6\n",
            "2025-08-09 16:59:13,155 alphafold2_ptm_model_1_seed_000 recycle=3 pLDDT=36.8 pTM=0.196 tol=7.42\n",
            "2025-08-09 16:59:13,156 alphafold2_ptm_model_1_seed_000 took 207.1s (3 recycles)\n",
            "2025-08-09 16:59:19,293 alphafold2_ptm_model_2_seed_000 recycle=0 pLDDT=39.7 pTM=0.171\n",
            "2025-08-09 16:59:25,195 alphafold2_ptm_model_2_seed_000 recycle=1 pLDDT=38.9 pTM=0.169 tol=15.7\n",
            "2025-08-09 16:59:31,085 alphafold2_ptm_model_2_seed_000 recycle=2 pLDDT=38.1 pTM=0.175 tol=14.9\n",
            "2025-08-09 16:59:36,981 alphafold2_ptm_model_2_seed_000 recycle=3 pLDDT=38.2 pTM=0.174 tol=6.27\n",
            "2025-08-09 16:59:36,982 alphafold2_ptm_model_2_seed_000 took 23.6s (3 recycles)\n",
            "2025-08-09 16:59:43,112 alphafold2_ptm_model_3_seed_000 recycle=0 pLDDT=32.7 pTM=0.15\n",
            "2025-08-09 16:59:49,021 alphafold2_ptm_model_3_seed_000 recycle=1 pLDDT=32.3 pTM=0.148 tol=9.12\n",
            "2025-08-09 16:59:54,913 alphafold2_ptm_model_3_seed_000 recycle=2 pLDDT=33.1 pTM=0.149 tol=6.58\n",
            "2025-08-09 17:00:00,812 alphafold2_ptm_model_3_seed_000 recycle=3 pLDDT=33.3 pTM=0.148 tol=4.27\n",
            "2025-08-09 17:00:00,814 alphafold2_ptm_model_3_seed_000 took 23.6s (3 recycles)\n",
            "2025-08-09 17:00:06,960 alphafold2_ptm_model_4_seed_000 recycle=0 pLDDT=33.4 pTM=0.167\n",
            "2025-08-09 17:00:12,870 alphafold2_ptm_model_4_seed_000 recycle=1 pLDDT=31.6 pTM=0.156 tol=15.2\n",
            "2025-08-09 17:00:18,773 alphafold2_ptm_model_4_seed_000 recycle=2 pLDDT=31.7 pTM=0.151 tol=8.95\n",
            "2025-08-09 17:00:24,681 alphafold2_ptm_model_4_seed_000 recycle=3 pLDDT=31.9 pTM=0.151 tol=5.23\n",
            "2025-08-09 17:00:24,682 alphafold2_ptm_model_4_seed_000 took 23.6s (3 recycles)\n",
            "2025-08-09 17:00:30,817 alphafold2_ptm_model_5_seed_000 recycle=0 pLDDT=36 pTM=0.164\n",
            "2025-08-09 17:00:36,716 alphafold2_ptm_model_5_seed_000 recycle=1 pLDDT=33.8 pTM=0.161 tol=17.6\n",
            "2025-08-09 17:00:42,608 alphafold2_ptm_model_5_seed_000 recycle=2 pLDDT=32.7 pTM=0.16 tol=13.3\n",
            "2025-08-09 17:00:48,510 alphafold2_ptm_model_5_seed_000 recycle=3 pLDDT=33.4 pTM=0.161 tol=14.1\n",
            "2025-08-09 17:00:48,511 alphafold2_ptm_model_5_seed_000 took 23.6s (3 recycles)\n",
            "2025-08-09 17:00:48,763 reranking models by 'plddt' metric\n",
            "2025-08-09 17:00:48,764 rank_001_alphafold2_ptm_model_2_seed_000 pLDDT=38.2 pTM=0.174\n",
            "2025-08-09 17:00:48,767 rank_002_alphafold2_ptm_model_1_seed_000 pLDDT=36.8 pTM=0.196\n",
            "2025-08-09 17:00:48,770 rank_003_alphafold2_ptm_model_5_seed_000 pLDDT=33.4 pTM=0.161\n",
            "2025-08-09 17:00:48,772 rank_004_alphafold2_ptm_model_3_seed_000 pLDDT=33.3 pTM=0.148\n",
            "2025-08-09 17:00:48,774 rank_005_alphafold2_ptm_model_4_seed_000 pLDDT=31.9 pTM=0.151\n",
            "2025-08-09 17:00:50,603 Query 7/8: seq_0 (length 510)\n"
          ]
        },
        {
          "output_type": "stream",
          "name": "stderr",
          "text": [
            "PENDING:   0%|          | 0/150 [elapsed: 00:00 remaining: ?]"
          ]
        },
        {
          "output_type": "stream",
          "name": "stdout",
          "text": [
            "2025-08-09 17:00:51,299 Sleeping for 5s. Reason: PENDING\n"
          ]
        },
        {
          "output_type": "stream",
          "name": "stderr",
          "text": [
            "RUNNING:   3%|▎         | 5/150 [elapsed: 00:06 remaining: 03:05]"
          ]
        },
        {
          "output_type": "stream",
          "name": "stdout",
          "text": [
            "2025-08-09 17:00:56,989 Sleeping for 8s. Reason: RUNNING\n"
          ]
        },
        {
          "output_type": "stream",
          "name": "stderr",
          "text": [
            "RUNNING:   9%|▊         | 13/150 [elapsed: 00:15 remaining: 02:36]"
          ]
        },
        {
          "output_type": "stream",
          "name": "stdout",
          "text": [
            "2025-08-09 17:01:05,672 Sleeping for 8s. Reason: RUNNING\n"
          ]
        },
        {
          "output_type": "stream",
          "name": "stderr",
          "text": [
            "RUNNING:  14%|█▍        | 21/150 [elapsed: 00:23 remaining: 02:23]"
          ]
        },
        {
          "output_type": "stream",
          "name": "stdout",
          "text": [
            "2025-08-09 17:01:14,351 Sleeping for 7s. Reason: RUNNING\n"
          ]
        },
        {
          "output_type": "stream",
          "name": "stderr",
          "text": [
            "RUNNING:  19%|█▊        | 28/150 [elapsed: 00:31 remaining: 02:15]"
          ]
        },
        {
          "output_type": "stream",
          "name": "stdout",
          "text": [
            "2025-08-09 17:01:22,045 Sleeping for 6s. Reason: RUNNING\n"
          ]
        },
        {
          "output_type": "stream",
          "name": "stderr",
          "text": [
            "COMPLETE: 100%|██████████| 150/150 [elapsed: 00:38 remaining: 00:00]\n"
          ]
        },
        {
          "output_type": "stream",
          "name": "stdout",
          "text": [
            "2025-08-09 17:03:42,351 alphafold2_ptm_model_1_seed_000 recycle=0 pLDDT=44.6 pTM=0.214\n",
            "2025-08-09 17:04:45,228 alphafold2_ptm_model_1_seed_000 recycle=1 pLDDT=44.1 pTM=0.207 tol=24\n",
            "2025-08-09 17:04:50,831 alphafold2_ptm_model_1_seed_000 recycle=2 pLDDT=44.7 pTM=0.203 tol=24.1\n",
            "2025-08-09 17:04:56,442 alphafold2_ptm_model_1_seed_000 recycle=3 pLDDT=44.3 pTM=0.204 tol=19\n",
            "2025-08-09 17:04:56,443 alphafold2_ptm_model_1_seed_000 took 205.2s (3 recycles)\n",
            "2025-08-09 17:05:02,329 alphafold2_ptm_model_2_seed_000 recycle=0 pLDDT=42.4 pTM=0.17\n",
            "2025-08-09 17:05:07,975 alphafold2_ptm_model_2_seed_000 recycle=1 pLDDT=41.5 pTM=0.175 tol=17\n",
            "2025-08-09 17:05:13,604 alphafold2_ptm_model_2_seed_000 recycle=2 pLDDT=42.2 pTM=0.176 tol=7.57\n",
            "2025-08-09 17:05:19,246 alphafold2_ptm_model_2_seed_000 recycle=3 pLDDT=41.8 pTM=0.173 tol=4.99\n",
            "2025-08-09 17:05:19,247 alphafold2_ptm_model_2_seed_000 took 22.6s (3 recycles)\n",
            "2025-08-09 17:05:25,132 alphafold2_ptm_model_3_seed_000 recycle=0 pLDDT=40.7 pTM=0.159\n",
            "2025-08-09 17:05:30,770 alphafold2_ptm_model_3_seed_000 recycle=1 pLDDT=38.8 pTM=0.166 tol=18.2\n",
            "2025-08-09 17:05:36,392 alphafold2_ptm_model_3_seed_000 recycle=2 pLDDT=38 pTM=0.168 tol=6.71\n",
            "2025-08-09 17:05:42,021 alphafold2_ptm_model_3_seed_000 recycle=3 pLDDT=37.9 pTM=0.166 tol=4.77\n",
            "2025-08-09 17:05:42,022 alphafold2_ptm_model_3_seed_000 took 22.5s (3 recycles)\n",
            "2025-08-09 17:05:47,927 alphafold2_ptm_model_4_seed_000 recycle=0 pLDDT=37.4 pTM=0.16\n",
            "2025-08-09 17:05:53,585 alphafold2_ptm_model_4_seed_000 recycle=1 pLDDT=35.5 pTM=0.153 tol=16.2\n",
            "2025-08-09 17:05:59,228 alphafold2_ptm_model_4_seed_000 recycle=2 pLDDT=35.6 pTM=0.15 tol=3.75\n",
            "2025-08-09 17:06:04,879 alphafold2_ptm_model_4_seed_000 recycle=3 pLDDT=35.2 pTM=0.151 tol=2.27\n",
            "2025-08-09 17:06:04,880 alphafold2_ptm_model_4_seed_000 took 22.6s (3 recycles)\n",
            "2025-08-09 17:06:10,777 alphafold2_ptm_model_5_seed_000 recycle=0 pLDDT=38.4 pTM=0.161\n",
            "2025-08-09 17:06:16,425 alphafold2_ptm_model_5_seed_000 recycle=1 pLDDT=36.6 pTM=0.158 tol=18.9\n",
            "2025-08-09 17:06:22,062 alphafold2_ptm_model_5_seed_000 recycle=2 pLDDT=37.1 pTM=0.163 tol=6.2\n",
            "2025-08-09 17:06:27,700 alphafold2_ptm_model_5_seed_000 recycle=3 pLDDT=37.1 pTM=0.159 tol=4.32\n",
            "2025-08-09 17:06:27,701 alphafold2_ptm_model_5_seed_000 took 22.6s (3 recycles)\n",
            "2025-08-09 17:06:27,945 reranking models by 'plddt' metric\n",
            "2025-08-09 17:06:27,945 rank_001_alphafold2_ptm_model_1_seed_000 pLDDT=44.3 pTM=0.204\n",
            "2025-08-09 17:06:27,948 rank_002_alphafold2_ptm_model_2_seed_000 pLDDT=41.8 pTM=0.173\n",
            "2025-08-09 17:06:27,960 rank_003_alphafold2_ptm_model_3_seed_000 pLDDT=37.9 pTM=0.166\n",
            "2025-08-09 17:06:27,964 rank_004_alphafold2_ptm_model_5_seed_000 pLDDT=37.1 pTM=0.159\n",
            "2025-08-09 17:06:27,966 rank_005_alphafold2_ptm_model_4_seed_000 pLDDT=35.2 pTM=0.151\n",
            "2025-08-09 17:06:29,738 Query 8/8: seq_3 (length 510)\n"
          ]
        },
        {
          "output_type": "stream",
          "name": "stderr",
          "text": [
            "PENDING:   0%|          | 0/150 [elapsed: 00:00 remaining: ?]"
          ]
        },
        {
          "output_type": "stream",
          "name": "stdout",
          "text": [
            "2025-08-09 17:06:30,495 Sleeping for 8s. Reason: PENDING\n"
          ]
        },
        {
          "output_type": "stream",
          "name": "stderr",
          "text": [
            "PENDING:   0%|          | 0/150 [elapsed: 00:09 remaining: ?]"
          ]
        },
        {
          "output_type": "stream",
          "name": "stdout",
          "text": [
            "2025-08-09 17:06:39,191 Sleeping for 7s. Reason: PENDING\n"
          ]
        },
        {
          "output_type": "stream",
          "name": "stderr",
          "text": [
            "RUNNING:   5%|▍         | 7/150 [elapsed: 00:17 remaining: 05:50]"
          ]
        },
        {
          "output_type": "stream",
          "name": "stdout",
          "text": [
            "2025-08-09 17:06:46,896 Sleeping for 6s. Reason: RUNNING\n"
          ]
        },
        {
          "output_type": "stream",
          "name": "stderr",
          "text": [
            "RUNNING:   9%|▊         | 13/150 [elapsed: 00:23 remaining: 03:55]"
          ]
        },
        {
          "output_type": "stream",
          "name": "stdout",
          "text": [
            "2025-08-09 17:06:53,593 Sleeping for 6s. Reason: RUNNING\n"
          ]
        },
        {
          "output_type": "stream",
          "name": "stderr",
          "text": [
            "RUNNING:  13%|█▎        | 19/150 [elapsed: 00:30 remaining: 03:10]"
          ]
        },
        {
          "output_type": "stream",
          "name": "stdout",
          "text": [
            "2025-08-09 17:07:00,300 Sleeping for 9s. Reason: RUNNING\n"
          ]
        },
        {
          "output_type": "stream",
          "name": "stderr",
          "text": [
            "COMPLETE: 100%|██████████| 150/150 [elapsed: 00:40 remaining: 00:00]\n"
          ]
        },
        {
          "output_type": "stream",
          "name": "stdout",
          "text": [
            "2025-08-09 17:07:18,247 alphafold2_ptm_model_1_seed_000 recycle=0 pLDDT=32.6 pTM=0.226\n",
            "2025-08-09 17:07:23,859 alphafold2_ptm_model_1_seed_000 recycle=1 pLDDT=33.5 pTM=0.225 tol=15.3\n",
            "2025-08-09 17:07:29,458 alphafold2_ptm_model_1_seed_000 recycle=2 pLDDT=33.6 pTM=0.224 tol=8.75\n",
            "2025-08-09 17:07:35,063 alphafold2_ptm_model_1_seed_000 recycle=3 pLDDT=34.6 pTM=0.223 tol=7.35\n",
            "2025-08-09 17:07:35,064 alphafold2_ptm_model_1_seed_000 took 22.5s (3 recycles)\n",
            "2025-08-09 17:07:40,941 alphafold2_ptm_model_2_seed_000 recycle=0 pLDDT=35.1 pTM=0.211\n",
            "2025-08-09 17:07:46,571 alphafold2_ptm_model_2_seed_000 recycle=1 pLDDT=35 pTM=0.218 tol=10.2\n",
            "2025-08-09 17:07:52,188 alphafold2_ptm_model_2_seed_000 recycle=2 pLDDT=34.7 pTM=0.218 tol=8.48\n",
            "2025-08-09 17:07:57,811 alphafold2_ptm_model_2_seed_000 recycle=3 pLDDT=34.7 pTM=0.218 tol=3.53\n",
            "2025-08-09 17:07:57,812 alphafold2_ptm_model_2_seed_000 took 22.5s (3 recycles)\n",
            "2025-08-09 17:08:03,693 alphafold2_ptm_model_3_seed_000 recycle=0 pLDDT=30.3 pTM=0.192\n",
            "2025-08-09 17:08:09,322 alphafold2_ptm_model_3_seed_000 recycle=1 pLDDT=30.8 pTM=0.191 tol=9.8\n",
            "2025-08-09 17:08:14,945 alphafold2_ptm_model_3_seed_000 recycle=2 pLDDT=30.8 pTM=0.182 tol=6.04\n",
            "2025-08-09 17:08:20,570 alphafold2_ptm_model_3_seed_000 recycle=3 pLDDT=31 pTM=0.185 tol=2.98\n",
            "2025-08-09 17:08:20,570 alphafold2_ptm_model_3_seed_000 took 22.5s (3 recycles)\n",
            "2025-08-09 17:08:26,475 alphafold2_ptm_model_4_seed_000 recycle=0 pLDDT=33.8 pTM=0.193\n",
            "2025-08-09 17:08:32,130 alphafold2_ptm_model_4_seed_000 recycle=1 pLDDT=32.7 pTM=0.192 tol=12.6\n",
            "2025-08-09 17:08:37,766 alphafold2_ptm_model_4_seed_000 recycle=2 pLDDT=31.9 pTM=0.187 tol=4.91\n",
            "2025-08-09 17:08:43,409 alphafold2_ptm_model_4_seed_000 recycle=3 pLDDT=32 pTM=0.189 tol=3.96\n",
            "2025-08-09 17:08:43,410 alphafold2_ptm_model_4_seed_000 took 22.6s (3 recycles)\n",
            "2025-08-09 17:08:49,316 alphafold2_ptm_model_5_seed_000 recycle=0 pLDDT=31.6 pTM=0.187\n",
            "2025-08-09 17:08:54,963 alphafold2_ptm_model_5_seed_000 recycle=1 pLDDT=30.2 pTM=0.184 tol=12.2\n",
            "2025-08-09 17:09:00,590 alphafold2_ptm_model_5_seed_000 recycle=2 pLDDT=29.6 pTM=0.181 tol=6.91\n",
            "2025-08-09 17:09:06,225 alphafold2_ptm_model_5_seed_000 recycle=3 pLDDT=29.8 pTM=0.182 tol=5.16\n",
            "2025-08-09 17:09:06,226 alphafold2_ptm_model_5_seed_000 took 22.6s (3 recycles)\n",
            "2025-08-09 17:09:06,471 reranking models by 'plddt' metric\n",
            "2025-08-09 17:09:06,472 rank_001_alphafold2_ptm_model_2_seed_000 pLDDT=34.7 pTM=0.218\n",
            "2025-08-09 17:09:06,485 rank_002_alphafold2_ptm_model_1_seed_000 pLDDT=34.6 pTM=0.223\n",
            "2025-08-09 17:09:06,488 rank_003_alphafold2_ptm_model_4_seed_000 pLDDT=32 pTM=0.189\n",
            "2025-08-09 17:09:06,490 rank_004_alphafold2_ptm_model_3_seed_000 pLDDT=31 pTM=0.185\n",
            "2025-08-09 17:09:06,493 rank_005_alphafold2_ptm_model_5_seed_000 pLDDT=29.8 pTM=0.182\n",
            "2025-08-09 17:09:08,262 Done\n"
          ]
        },
        {
          "output_type": "execute_result",
          "data": {
            "text/plain": [
              "{'rank': [['rank_001_alphafold2_ptm_model_2_seed_000',\n",
              "   'rank_002_alphafold2_ptm_model_1_seed_000',\n",
              "   'rank_003_alphafold2_ptm_model_4_seed_000',\n",
              "   'rank_004_alphafold2_ptm_model_3_seed_000',\n",
              "   'rank_005_alphafold2_ptm_model_5_seed_000'],\n",
              "  ['rank_001_alphafold2_ptm_model_4_seed_000',\n",
              "   'rank_002_alphafold2_ptm_model_5_seed_000',\n",
              "   'rank_003_alphafold2_ptm_model_3_seed_000',\n",
              "   'rank_004_alphafold2_ptm_model_2_seed_000',\n",
              "   'rank_005_alphafold2_ptm_model_1_seed_000'],\n",
              "  ['rank_001_alphafold2_ptm_model_3_seed_000',\n",
              "   'rank_002_alphafold2_ptm_model_2_seed_000',\n",
              "   'rank_003_alphafold2_ptm_model_5_seed_000',\n",
              "   'rank_004_alphafold2_ptm_model_4_seed_000',\n",
              "   'rank_005_alphafold2_ptm_model_1_seed_000'],\n",
              "  ['rank_001_alphafold2_ptm_model_2_seed_000',\n",
              "   'rank_002_alphafold2_ptm_model_1_seed_000',\n",
              "   'rank_003_alphafold2_ptm_model_4_seed_000',\n",
              "   'rank_004_alphafold2_ptm_model_5_seed_000',\n",
              "   'rank_005_alphafold2_ptm_model_3_seed_000'],\n",
              "  ['rank_001_alphafold2_ptm_model_1_seed_000',\n",
              "   'rank_002_alphafold2_ptm_model_3_seed_000',\n",
              "   'rank_003_alphafold2_ptm_model_4_seed_000',\n",
              "   'rank_004_alphafold2_ptm_model_2_seed_000',\n",
              "   'rank_005_alphafold2_ptm_model_5_seed_000'],\n",
              "  ['rank_001_alphafold2_ptm_model_2_seed_000',\n",
              "   'rank_002_alphafold2_ptm_model_1_seed_000',\n",
              "   'rank_003_alphafold2_ptm_model_5_seed_000',\n",
              "   'rank_004_alphafold2_ptm_model_3_seed_000',\n",
              "   'rank_005_alphafold2_ptm_model_4_seed_000'],\n",
              "  ['rank_001_alphafold2_ptm_model_1_seed_000',\n",
              "   'rank_002_alphafold2_ptm_model_2_seed_000',\n",
              "   'rank_003_alphafold2_ptm_model_3_seed_000',\n",
              "   'rank_004_alphafold2_ptm_model_5_seed_000',\n",
              "   'rank_005_alphafold2_ptm_model_4_seed_000'],\n",
              "  ['rank_001_alphafold2_ptm_model_2_seed_000',\n",
              "   'rank_002_alphafold2_ptm_model_1_seed_000',\n",
              "   'rank_003_alphafold2_ptm_model_4_seed_000',\n",
              "   'rank_004_alphafold2_ptm_model_3_seed_000',\n",
              "   'rank_005_alphafold2_ptm_model_5_seed_000']],\n",
              " 'metric': [[{'mean_plddt': 32.78125,\n",
              "    'ptm': 0.21484375,\n",
              "    'print_line': ' pLDDT=32.8 pTM=0.215'},\n",
              "   {'mean_plddt': 31.84375,\n",
              "    'ptm': 0.260986328125,\n",
              "    'print_line': ' pLDDT=31.8 pTM=0.261'},\n",
              "   {'mean_plddt': 28.5,\n",
              "    'ptm': 0.1865234375,\n",
              "    'print_line': ' pLDDT=28.5 pTM=0.187'},\n",
              "   {'mean_plddt': 28.234375,\n",
              "    'ptm': 0.1844482421875,\n",
              "    'print_line': ' pLDDT=28.2 pTM=0.184'},\n",
              "   {'mean_plddt': 27.9375,\n",
              "    'ptm': 0.18212890625,\n",
              "    'print_line': ' pLDDT=27.9 pTM=0.182'}],\n",
              "  [{'mean_plddt': 52.6875,\n",
              "    'ptm': 0.583984375,\n",
              "    'print_line': ' pLDDT=52.7 pTM=0.584'},\n",
              "   {'mean_plddt': 51.71875,\n",
              "    'ptm': 0.59228515625,\n",
              "    'print_line': ' pLDDT=51.7 pTM=0.592'},\n",
              "   {'mean_plddt': 49.625,\n",
              "    'ptm': 0.5654296875,\n",
              "    'print_line': ' pLDDT=49.6 pTM=0.565'},\n",
              "   {'mean_plddt': 49.625,\n",
              "    'ptm': 0.5703125,\n",
              "    'print_line': ' pLDDT=49.6 pTM=0.57'},\n",
              "   {'mean_plddt': 49.1875,\n",
              "    'ptm': 0.5810546875,\n",
              "    'print_line': ' pLDDT=49.2 pTM=0.581'}],\n",
              "  [{'mean_plddt': 73.875,\n",
              "    'ptm': 0.77978515625,\n",
              "    'print_line': ' pLDDT=73.9 pTM=0.78'},\n",
              "   {'mean_plddt': 73.75,\n",
              "    'ptm': 0.7900390625,\n",
              "    'print_line': ' pLDDT=73.8 pTM=0.79'},\n",
              "   {'mean_plddt': 73.4375,\n",
              "    'ptm': 0.77734375,\n",
              "    'print_line': ' pLDDT=73.4 pTM=0.777'},\n",
              "   {'mean_plddt': 72.9375,\n",
              "    'ptm': 0.77099609375,\n",
              "    'print_line': ' pLDDT=72.9 pTM=0.771'},\n",
              "   {'mean_plddt': 71.75,\n",
              "    'ptm': 0.77392578125,\n",
              "    'print_line': ' pLDDT=71.8 pTM=0.774'}],\n",
              "  [{'mean_plddt': 66.625,\n",
              "    'ptm': 0.7490234375,\n",
              "    'print_line': ' pLDDT=66.6 pTM=0.749'},\n",
              "   {'mean_plddt': 65.6875,\n",
              "    'ptm': 0.73828125,\n",
              "    'print_line': ' pLDDT=65.7 pTM=0.738'},\n",
              "   {'mean_plddt': 64.5,\n",
              "    'ptm': 0.701171875,\n",
              "    'print_line': ' pLDDT=64.5 pTM=0.701'},\n",
              "   {'mean_plddt': 64.125,\n",
              "    'ptm': 0.71728515625,\n",
              "    'print_line': ' pLDDT=64.1 pTM=0.717'},\n",
              "   {'mean_plddt': 63.3125,\n",
              "    'ptm': 0.6982421875,\n",
              "    'print_line': ' pLDDT=63.3 pTM=0.698'}],\n",
              "  [{'mean_plddt': 76.3125,\n",
              "    'ptm': 0.693359375,\n",
              "    'print_line': ' pLDDT=76.3 pTM=0.693'},\n",
              "   {'mean_plddt': 75.3125,\n",
              "    'ptm': 0.685546875,\n",
              "    'print_line': ' pLDDT=75.3 pTM=0.686'},\n",
              "   {'mean_plddt': 74.8125,\n",
              "    'ptm': 0.6787109375,\n",
              "    'print_line': ' pLDDT=74.8 pTM=0.679'},\n",
              "   {'mean_plddt': 74.8125,\n",
              "    'ptm': 0.677734375,\n",
              "    'print_line': ' pLDDT=74.8 pTM=0.678'},\n",
              "   {'mean_plddt': 74.75,\n",
              "    'ptm': 0.681640625,\n",
              "    'print_line': ' pLDDT=74.8 pTM=0.682'}],\n",
              "  [{'mean_plddt': 38.21875,\n",
              "    'ptm': 0.1739501953125,\n",
              "    'print_line': ' pLDDT=38.2 pTM=0.174'},\n",
              "   {'mean_plddt': 36.84375,\n",
              "    'ptm': 0.1956787109375,\n",
              "    'print_line': ' pLDDT=36.8 pTM=0.196'},\n",
              "   {'mean_plddt': 33.40625,\n",
              "    'ptm': 0.161376953125,\n",
              "    'print_line': ' pLDDT=33.4 pTM=0.161'},\n",
              "   {'mean_plddt': 33.34375,\n",
              "    'ptm': 0.1483154296875,\n",
              "    'print_line': ' pLDDT=33.3 pTM=0.148'},\n",
              "   {'mean_plddt': 31.921875,\n",
              "    'ptm': 0.1514892578125,\n",
              "    'print_line': ' pLDDT=31.9 pTM=0.151'}],\n",
              "  [{'mean_plddt': 44.28125,\n",
              "    'ptm': 0.2042236328125,\n",
              "    'print_line': ' pLDDT=44.3 pTM=0.204'},\n",
              "   {'mean_plddt': 41.78125,\n",
              "    'ptm': 0.1729736328125,\n",
              "    'print_line': ' pLDDT=41.8 pTM=0.173'},\n",
              "   {'mean_plddt': 37.90625,\n",
              "    'ptm': 0.16552734375,\n",
              "    'print_line': ' pLDDT=37.9 pTM=0.166'},\n",
              "   {'mean_plddt': 37.125,\n",
              "    'ptm': 0.1593017578125,\n",
              "    'print_line': ' pLDDT=37.1 pTM=0.159'},\n",
              "   {'mean_plddt': 35.15625,\n",
              "    'ptm': 0.1510009765625,\n",
              "    'print_line': ' pLDDT=35.2 pTM=0.151'}],\n",
              "  [{'mean_plddt': 34.65625,\n",
              "    'ptm': 0.2181396484375,\n",
              "    'print_line': ' pLDDT=34.7 pTM=0.218'},\n",
              "   {'mean_plddt': 34.5625,\n",
              "    'ptm': 0.22265625,\n",
              "    'print_line': ' pLDDT=34.6 pTM=0.223'},\n",
              "   {'mean_plddt': 31.984375,\n",
              "    'ptm': 0.1885986328125,\n",
              "    'print_line': ' pLDDT=32 pTM=0.189'},\n",
              "   {'mean_plddt': 31.015625,\n",
              "    'ptm': 0.1854248046875,\n",
              "    'print_line': ' pLDDT=31 pTM=0.185'},\n",
              "   {'mean_plddt': 29.828125,\n",
              "    'ptm': 0.181884765625,\n",
              "    'print_line': ' pLDDT=29.8 pTM=0.182'}]]}"
            ]
          },
          "metadata": {},
          "execution_count": 4
        }
      ]
    },
    {
      "cell_type": "markdown",
      "metadata": {
        "id": "UGUBLzB3C6WN"
      },
      "source": [
        "# Instructions <a name=\"Instructions\"></a>\n",
        "**Quick start**\n",
        "1. Upload your single fasta files to a folder in your Google Drive\n",
        "2. Define path to the fold containing the fasta files (`input_dir`) define an outdir (`output_dir`)\n",
        "3. Press \"Runtime\" -> \"Run all\".\n",
        "\n",
        "**Result zip file contents**\n",
        "\n",
        "At the end of the job a all results `jobname.result.zip` will be uploaded to your (`output_dir`) Google Drive. Each zip contains one protein.\n",
        "\n",
        "1. PDB formatted structures sorted by avg. pIDDT. (unrelaxed and relaxed if `use_amber` is enabled).\n",
        "2. Plots of the model quality.\n",
        "3. Plots of the MSA coverage.\n",
        "4. Parameter log file.\n",
        "5. A3M formatted input MSA.\n",
        "6. BibTeX file with citations for all used tools and databases.\n",
        "\n",
        "\n",
        "**Troubleshooting**\n",
        "* Check that the runtime type is set to GPU at \"Runtime\" -> \"Change runtime type\".\n",
        "* Try to restart the session \"Runtime\" -> \"Factory reset runtime\".\n",
        "* Check your input sequence.\n",
        "\n",
        "**Known issues**\n",
        "* Google Colab assigns different types of GPUs with varying amount of memory. Some might not have enough memory to predict the structure for a long sequence.\n",
        "* Google Colab assigns different types of GPUs with varying amount of memory. Some might not have enough memory to predict the structure for a long sequence.\n",
        "* Your browser can block the pop-up for downloading the result file. You can choose the `save_to_google_drive` option to upload to Google Drive instead or manually download the result file: Click on the little folder icon to the left, navigate to file: `jobname.result.zip`, right-click and select \\\"Download\\\" (see [screenshot](https://pbs.twimg.com/media/E6wRW2lWUAEOuoe?format=jpg&name=small)).\n",
        "\n",
        "**Limitations**\n",
        "* Computing resources: Our MMseqs2 API can handle ~20-50k requests per day.\n",
        "* MSAs: MMseqs2 is very precise and sensitive but might find less hits compared to HHblits/HMMer searched against BFD or Mgnify.\n",
        "* We recommend to additionally use the full [AlphaFold2 pipeline](https://github.com/deepmind/alphafold).\n",
        "\n",
        "**Description of the plots**\n",
        "*   **Number of sequences per position** - We want to see at least 30 sequences per position, for best performance, ideally 100 sequences.\n",
        "*   **Predicted lDDT per position** - model confidence (out of 100) at each position. The higher the better.\n",
        "*   **Predicted Alignment Error** - For homooligomers, this could be a useful metric to assess how confident the model is about the interface. The lower the better.\n",
        "\n",
        "**Bugs**\n",
        "- If you encounter any bugs, please report the issue to https://github.com/sokrypton/ColabFold/issues\n",
        "\n",
        "**License**\n",
        "\n",
        "The source code of ColabFold is licensed under [MIT](https://raw.githubusercontent.com/sokrypton/ColabFold/main/LICENSE). Additionally, this notebook uses AlphaFold2 source code and its parameters licensed under [Apache 2.0](https://raw.githubusercontent.com/deepmind/alphafold/main/LICENSE) and  [CC BY 4.0](https://creativecommons.org/licenses/by-sa/4.0/) respectively. Read more about the AlphaFold license [here](https://github.com/deepmind/alphafold).\n",
        "\n",
        "**Acknowledgments**\n",
        "- We thank the AlphaFold team for developing an excellent model and open sourcing the software.\n",
        "\n",
        "- Do-Yoon Kim for creating the ColabFold logo.\n",
        "\n",
        "- A colab by Sergey Ovchinnikov ([@sokrypton](https://twitter.com/sokrypton)), Milot Mirdita ([@milot_mirdita](https://twitter.com/milot_mirdita)) and Martin Steinegger ([@thesteinegger](https://twitter.com/thesteinegger)).\n"
      ]
    }
  ]
}